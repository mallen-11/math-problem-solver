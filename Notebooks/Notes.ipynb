{
 "cells": [
  {
   "cell_type": "markdown",
   "metadata": {},
   "source": [
    "# Notes \n",
    "\n",
    "**The purpose of this notebook is to write down the things that have been completed so far as of 1/24/2021. Also, this notebook contains information on some of bugs that need to be fixed and the goals for the semester**"
   ]
  },
  {
   "cell_type": "markdown",
   "metadata": {},
   "source": [
    "### Completed Things\n",
    "\n",
    "- Developed deep understanding of image classification and what makes up images (MNIST Dataset)\n",
    "- Worked a lot on neural networks \n",
    "    - math-problem-solver/Notebooks/Learning Neural Nets/\n",
    "    - Learned about different structures and the benefits of each\n",
    "    - Did a by hand walkthrough of the forward and backward pass\n",
    "    - Built a neural network with numpy\n",
    "- Spent a lot of time learning (like a lot) about Convolutional Neural Networks\n",
    "    - math-problem-solver/Notebooks/Learning CNNs/\n",
    "    - Read material on what convolutional and pooling layers do to help learning especially with images\n",
    "    - Looked into different structures and sizes of CNNs and their affects on memory, time, overall accuracy\n",
    "    - Messed around with confusion matrices to see where the models struggled\n",
    "    - Also, used matplotlib to visualize each step of the convolution, pooling process (one of my favorites)\n",
    "    - Tried to using transfer learning (Was overkill on MNIST)\n",
    "    - Also, tried data augmentation and other techniques to increase accuracy\n",
    "- Used CNN's on Letters, Digits, and Operators (Accuracy good, not great)\n",
    "- Next, developed novel yet somewhat inaffective way to split images\n",
    "    - Idea was to split based on where we knew \"active\" pixels were\n",
    "    - Similar to histogram approach\n",
    "    - Issue is not able to be scaled for bad images or non horizontal images\n",
    "- Moved on to Learning about Reccurent Neural Networks\n",
    "    - math-problem-solver/Notebooks/Learning RNNs/\n",
    "    - Read lots of literature on this and Seq2Seq models\n",
    "    - Developed a LSTM with numpy\n",
    "    - Made multiple LSTM models to write poetry, Shakespeare, Dr. Suess, etc.\n",
    "- Dr. Savala made a unique dataset for our problem using LaTeX\n",
    "- Finally, started making an Image Captioning Model (Seq2Seq)\n",
    "    - math-problem-solver/Notebooks/Image Captioning/\n",
    "    - Read literature on Image Captioning Models (Attention, Coarse-to-Fine)\n",
    "    - Used TensorFlows tutorial to develop my own model using Dr. Savala's Dataset"
   ]
  },
  {
   "cell_type": "markdown",
   "metadata": {},
   "source": [
    "### Bugs\n",
    "\n",
    "- Need to make train/test split for attention model \n",
    "- Change attention plots to be in range 0 to 1 instead of -1 to 1 (it's like that because of preprocessing with ImageNet)"
   ]
  },
  {
   "cell_type": "markdown",
   "metadata": {},
   "source": [
    "### Goals for the semester\n",
    "\n",
    "- Turn Seq2Seq model into python module for reproducibility\n",
    "- Increase dataset size and options (subtraction)\n",
    "- Fix and finalize the attention model that is there right now\n",
    "- Develop Coarse to Fine attention model or some form of it\n",
    "- Create our own types of attention or ideas to improve the exisiting model"
   ]
  }
 ],
 "metadata": {
  "kernelspec": {
   "display_name": "Python 3",
   "language": "python",
   "name": "python3"
  },
  "language_info": {
   "codemirror_mode": {
    "name": "ipython",
    "version": 3
   },
   "file_extension": ".py",
   "mimetype": "text/x-python",
   "name": "python",
   "nbconvert_exporter": "python",
   "pygments_lexer": "ipython3",
   "version": "3.7.6"
  }
 },
 "nbformat": 4,
 "nbformat_minor": 4
}
