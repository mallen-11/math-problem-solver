{
 "cells": [
  {
   "cell_type": "markdown",
   "metadata": {},
   "source": [
    "# Simple Neural Network Practice\n",
    "\n",
    "In this notebook, I will be creating multiple very simple neural networks. Each one will have different amounts of hidden layers and hidden units to test the accuracy and training time for each one."
   ]
  },
  {
   "cell_type": "code",
   "execution_count": 59,
   "metadata": {},
   "outputs": [],
   "source": [
    "import tensorflow as tf\n",
    "import numpy as np\n",
    "from matplotlib import pyplot as plt\n",
    "\n",
    "from sklearn.linear_model import LogisticRegression\n",
    "from sklearn.metrics import plot_confusion_matrix\n",
    "\n",
    "from tensorflow.keras.layers import Dense, Flatten, Conv2D\n",
    "from tensorflow.keras import Model\n",
    "from tensorflow.keras.models import Sequential"
   ]
  },
  {
   "cell_type": "markdown",
   "metadata": {},
   "source": [
    "Load the data"
   ]
  },
  {
   "cell_type": "code",
   "execution_count": 60,
   "metadata": {},
   "outputs": [],
   "source": [
    "mnist = tf.keras.datasets.mnist\n",
    "\n",
    "(X_train, y_train), (X_test, y_test) = mnist.load_data()"
   ]
  },
  {
   "cell_type": "code",
   "execution_count": 61,
   "metadata": {},
   "outputs": [
    {
     "data": {
      "text/plain": [
       "(60000, 28, 28)"
      ]
     },
     "execution_count": 61,
     "metadata": {},
     "output_type": "execute_result"
    }
   ],
   "source": [
    "X_train.shape"
   ]
  },
  {
   "cell_type": "code",
   "execution_count": 62,
   "metadata": {},
   "outputs": [
    {
     "data": {
      "text/plain": [
       "<matplotlib.image.AxesImage at 0x7ff2c404f0d0>"
      ]
     },
     "execution_count": 62,
     "metadata": {},
     "output_type": "execute_result"
    },
    {
     "data": {
      "image/png": "[encoded data removed]",
      "text/plain": [
       "<Figure size 432x288 with 1 Axes>"
      ]
     },
     "metadata": {
      "needs_background": "light"
     },
     "output_type": "display_data"
    }
   ],
   "source": [
    "plt.imshow(X_train[0], cmap='Greys')"
   ]
  },
  {
   "cell_type": "code",
   "execution_count": 63,
   "metadata": {},
   "outputs": [
    {
     "data": {
      "text/plain": [
       "5"
      ]
     },
     "execution_count": 63,
     "metadata": {},
     "output_type": "execute_result"
    }
   ],
   "source": [
    "y_train[0]"
   ]
  },
  {
   "cell_type": "code",
   "execution_count": 64,
   "metadata": {},
   "outputs": [],
   "source": [
    "X_train = X_train.reshape(60000, 28*28)"
   ]
  },
  {
   "cell_type": "markdown",
   "metadata": {},
   "source": [
    "Everything looks good with the data now we can start making our neural networks."
   ]
  },
  {
   "cell_type": "code",
   "execution_count": 48,
   "metadata": {},
   "outputs": [],
   "source": [
    "model = Sequential([Dense(10, activation='softmax')])"
   ]
  },
  {
   "cell_type": "code",
   "execution_count": 49,
   "metadata": {},
   "outputs": [],
   "source": [
    "# Define a loss function\n",
    "loss_fn = tf.keras.losses.SparseCategoricalCrossentropy()\n",
    "\n",
    "# Compile the model\n",
    "model.compile(optimizer='adam', loss=loss_fn, metrics=['accuracy'])"
   ]
  },
  {
   "cell_type": "code",
   "execution_count": 50,
   "metadata": {},
   "outputs": [
    {
     "name": "stdout",
     "output_type": "stream",
     "text": [
      "1875/1875 [==============================] - 2s 833us/step - loss: 9.8941 - accuracy: 0.8380\n"
     ]
    },
    {
     "data": {
      "text/plain": [
       "<tensorflow.python.keras.callbacks.History at 0x7ff2b8a01710>"
      ]
     },
     "execution_count": 50,
     "metadata": {},
     "output_type": "execute_result"
    }
   ],
   "source": [
    "model.fit(X_train, y_train)"
   ]
  },
  {
   "cell_type": "markdown",
   "metadata": {},
   "source": [
    "This is the simplest form of the neural network with one hidden layer and 10 hidden units. We see an accuracy of 84% and time of 2s for one epoch."
   ]
  },
  {
   "cell_type": "markdown",
   "metadata": {},
   "source": [
    "Real quick let's add 10 epochs and a validation split of 0.3. This will let the model train multiple times and give us a validation accuracy metric to make sure our model isn't memorizing data."
   ]
  },
  {
   "cell_type": "code",
   "execution_count": 51,
   "metadata": {},
   "outputs": [
    {
     "name": "stdout",
     "output_type": "stream",
     "text": [
      "Epoch 1/10\n",
      "1313/1313 [==============================] - 2s 2ms/step - loss: 6.2091 - accuracy: 0.8767 - val_loss: 5.2571 - val_accuracy: 0.9003\n",
      "Epoch 2/10\n",
      "1313/1313 [==============================] - 2s 1ms/step - loss: 5.7549 - accuracy: 0.8832 - val_loss: 5.7264 - val_accuracy: 0.8939\n",
      "Epoch 3/10\n",
      "1313/1313 [==============================] - 2s 2ms/step - loss: 5.5416 - accuracy: 0.8851 - val_loss: 5.8896 - val_accuracy: 0.8889\n",
      "Epoch 4/10\n",
      "1313/1313 [==============================] - 2s 1ms/step - loss: 5.2338 - accuracy: 0.8879 - val_loss: 5.2352 - val_accuracy: 0.8985\n",
      "Epoch 5/10\n",
      "1313/1313 [==============================] - 2s 1ms/step - loss: 5.2243 - accuracy: 0.8889 - val_loss: 7.0197 - val_accuracy: 0.8693\n",
      "Epoch 6/10\n",
      "1313/1313 [==============================] - 2s 1ms/step - loss: 5.1510 - accuracy: 0.8918 - val_loss: 5.5408 - val_accuracy: 0.8946\n",
      "Epoch 7/10\n",
      "1313/1313 [==============================] - 2s 2ms/step - loss: 4.9188 - accuracy: 0.8928 - val_loss: 5.6435 - val_accuracy: 0.8981\n",
      "Epoch 8/10\n",
      "1313/1313 [==============================] - 2s 2ms/step - loss: 5.0730 - accuracy: 0.8924 - val_loss: 5.7318 - val_accuracy: 0.8902\n",
      "Epoch 9/10\n",
      "1313/1313 [==============================] - 2s 1ms/step - loss: 5.1327 - accuracy: 0.8928 - val_loss: 7.5857 - val_accuracy: 0.8723\n",
      "Epoch 10/10\n",
      "1313/1313 [==============================] - 2s 2ms/step - loss: 5.0603 - accuracy: 0.8932 - val_loss: 6.3091 - val_accuracy: 0.8885\n"
     ]
    },
    {
     "data": {
      "text/plain": [
       "<tensorflow.python.keras.callbacks.History at 0x7ff2ba405510>"
      ]
     },
     "execution_count": 51,
     "metadata": {},
     "output_type": "execute_result"
    }
   ],
   "source": [
    "model.fit(X_train, y_train, epochs=10, validation_split=0.3)"
   ]
  },
  {
   "cell_type": "markdown",
   "metadata": {},
   "source": [
    "This gives us a better representation. So the first model gives us an accuracy of 89.5% and it took 2 s an epoch to compute. "
   ]
  },
  {
   "cell_type": "code",
   "execution_count": 52,
   "metadata": {},
   "outputs": [
    {
     "name": "stdout",
     "output_type": "stream",
     "text": [
      "Epoch 1/10\n",
      "1313/1313 [==============================] - 2s 2ms/step - loss: 10.4737 - accuracy: 0.8305 - val_loss: 6.5661 - val_accuracy: 0.8759\n",
      "Epoch 2/10\n",
      "1313/1313 [==============================] - 2s 2ms/step - loss: 6.1644 - accuracy: 0.8764 - val_loss: 6.2269 - val_accuracy: 0.8772\n",
      "Epoch 3/10\n",
      "1313/1313 [==============================] - 2s 2ms/step - loss: 5.6708 - accuracy: 0.8818 - val_loss: 6.9043 - val_accuracy: 0.8722\n",
      "Epoch 4/10\n",
      "1313/1313 [==============================] - 2s 2ms/step - loss: 5.3853 - accuracy: 0.8847 - val_loss: 6.1449 - val_accuracy: 0.8807\n",
      "Epoch 5/10\n",
      "1313/1313 [==============================] - 2s 2ms/step - loss: 5.3554 - accuracy: 0.8896 - val_loss: 5.9430 - val_accuracy: 0.8847\n",
      "Epoch 6/10\n",
      "1313/1313 [==============================] - 2s 2ms/step - loss: 5.3108 - accuracy: 0.8885 - val_loss: 7.7293 - val_accuracy: 0.8617\n",
      "Epoch 7/10\n",
      "1313/1313 [==============================] - 2s 2ms/step - loss: 5.2397 - accuracy: 0.8899 - val_loss: 5.7144 - val_accuracy: 0.8909\n",
      "Epoch 8/10\n",
      "1313/1313 [==============================] - 2s 2ms/step - loss: 5.1336 - accuracy: 0.8911 - val_loss: 5.7215 - val_accuracy: 0.8881\n",
      "Epoch 9/10\n",
      "1313/1313 [==============================] - 2s 2ms/step - loss: 5.0581 - accuracy: 0.8917 - val_loss: 6.5705 - val_accuracy: 0.8728\n",
      "Epoch 10/10\n",
      "1313/1313 [==============================] - 2s 2ms/step - loss: 5.0534 - accuracy: 0.8918 - val_loss: 6.7166 - val_accuracy: 0.8721\n"
     ]
    },
    {
     "data": {
      "text/plain": [
       "<tensorflow.python.keras.callbacks.History at 0x7ff2ba829e50>"
      ]
     },
     "execution_count": 52,
     "metadata": {},
     "output_type": "execute_result"
    }
   ],
   "source": [
    "second_model = Sequential([Dense(100, activation='softmax')])\n",
    "\n",
    "# Define a loss function\n",
    "loss_fn = tf.keras.losses.SparseCategoricalCrossentropy()\n",
    "\n",
    "# Compile the model\n",
    "second_model.compile(optimizer='adam', loss=loss_fn, metrics=['accuracy'])\n",
    "\n",
    "second_model.fit(X_train, y_train, epochs=10, validation_split=0.3)"
   ]
  },
  {
   "cell_type": "markdown",
   "metadata": {},
   "source": [
    "So the second model contained 1 hidden layer with 100 hidden units. As you can see this hurt the accuracy of the model in which it was 86.2% accurate. Also the training time was the same as model one."
   ]
  },
  {
   "cell_type": "code",
   "execution_count": 53,
   "metadata": {},
   "outputs": [
    {
     "name": "stdout",
     "output_type": "stream",
     "text": [
      "Epoch 1/10\n",
      "1313/1313 [==============================] - 2s 2ms/step - loss: 2.4799 - accuracy: 0.6920 - val_loss: 0.6004 - val_accuracy: 0.8202\n",
      "Epoch 2/10\n",
      "1313/1313 [==============================] - 2s 2ms/step - loss: 0.5123 - accuracy: 0.8501 - val_loss: 0.5011 - val_accuracy: 0.8554\n",
      "Epoch 3/10\n",
      "1313/1313 [==============================] - 2s 2ms/step - loss: 0.4284 - accuracy: 0.8778 - val_loss: 0.4044 - val_accuracy: 0.8828\n",
      "Epoch 4/10\n",
      "1313/1313 [==============================] - 2s 2ms/step - loss: 0.3870 - accuracy: 0.8875 - val_loss: 0.3951 - val_accuracy: 0.8869\n",
      "Epoch 5/10\n",
      "1313/1313 [==============================] - 2s 2ms/step - loss: 0.3658 - accuracy: 0.8954 - val_loss: 0.3778 - val_accuracy: 0.8937\n",
      "Epoch 6/10\n",
      "1313/1313 [==============================] - 2s 2ms/step - loss: 0.3534 - accuracy: 0.9003 - val_loss: 0.3709 - val_accuracy: 0.8956\n",
      "Epoch 7/10\n",
      "1313/1313 [==============================] - 2s 2ms/step - loss: 0.3440 - accuracy: 0.9025 - val_loss: 0.3951 - val_accuracy: 0.8862\n",
      "Epoch 8/10\n",
      "1313/1313 [==============================] - 2s 2ms/step - loss: 0.3350 - accuracy: 0.9035 - val_loss: 0.3631 - val_accuracy: 0.8951\n",
      "Epoch 9/10\n",
      "1313/1313 [==============================] - 2s 2ms/step - loss: 0.3305 - accuracy: 0.9046 - val_loss: 0.3360 - val_accuracy: 0.9052\n",
      "Epoch 10/10\n",
      "1313/1313 [==============================] - 2s 2ms/step - loss: 0.3216 - accuracy: 0.9096 - val_loss: 0.3956 - val_accuracy: 0.8921\n"
     ]
    },
    {
     "data": {
      "text/plain": [
       "<tensorflow.python.keras.callbacks.History at 0x7ff2bdc7c250>"
      ]
     },
     "execution_count": 53,
     "metadata": {},
     "output_type": "execute_result"
    }
   ],
   "source": [
    "third_model = Sequential([Dense(10), \n",
    "                          Dense(10), \n",
    "                          Dense(10), \n",
    "                          Dense(10), \n",
    "                          Dense(10), \n",
    "                          Dense(10), \n",
    "                          Dense(10), \n",
    "                          Dense(10), \n",
    "                          Dense(10), \n",
    "                          Dense(10, activation='softmax')])\n",
    "\n",
    "# Define a loss function\n",
    "loss_fn = tf.keras.losses.SparseCategoricalCrossentropy()\n",
    "\n",
    "# Compile the model\n",
    "third_model.compile(optimizer='adam', loss=loss_fn, metrics=['accuracy'])\n",
    "\n",
    "third_model.fit(X_train, y_train, epochs=10, validation_split=0.3)"
   ]
  },
  {
   "cell_type": "markdown",
   "metadata": {},
   "source": [
    "The third model contained 10 hidden layers with 10 hidden units each. This actually performed well compared to the previous two. It ended with an accuracy of 89.8% but reached into the 90s during training. The training time was also still the same."
   ]
  },
  {
   "cell_type": "code",
   "execution_count": 54,
   "metadata": {},
   "outputs": [
    {
     "name": "stdout",
     "output_type": "stream",
     "text": [
      "Epoch 1/10\n",
      "1313/1313 [==============================] - 2s 1ms/step - loss: 5.2713 - accuracy: 0.7856 - val_loss: 0.6674 - val_accuracy: 0.8511\n",
      "Epoch 2/10\n",
      "1313/1313 [==============================] - 2s 1ms/step - loss: 0.5173 - accuracy: 0.8667 - val_loss: 0.4367 - val_accuracy: 0.8815\n",
      "Epoch 3/10\n",
      "1313/1313 [==============================] - 2s 1ms/step - loss: 0.4352 - accuracy: 0.8799 - val_loss: 0.4245 - val_accuracy: 0.8824\n",
      "Epoch 4/10\n",
      "1313/1313 [==============================] - 2s 1ms/step - loss: 0.4123 - accuracy: 0.8865 - val_loss: 0.4230 - val_accuracy: 0.8832\n",
      "Epoch 5/10\n",
      "1313/1313 [==============================] - 2s 1ms/step - loss: 0.4041 - accuracy: 0.8882 - val_loss: 0.4179 - val_accuracy: 0.8891\n",
      "Epoch 6/10\n",
      "1313/1313 [==============================] - 2s 1ms/step - loss: 0.4019 - accuracy: 0.8891 - val_loss: 0.3833 - val_accuracy: 0.8905\n",
      "Epoch 7/10\n",
      "1313/1313 [==============================] - 2s 1ms/step - loss: 0.3876 - accuracy: 0.8936 - val_loss: 0.3746 - val_accuracy: 0.9004\n",
      "Epoch 8/10\n",
      "1313/1313 [==============================] - 2s 1ms/step - loss: 0.3716 - accuracy: 0.8965 - val_loss: 0.4231 - val_accuracy: 0.8876\n",
      "Epoch 9/10\n",
      "1313/1313 [==============================] - 2s 1ms/step - loss: 0.3583 - accuracy: 0.8994 - val_loss: 0.3726 - val_accuracy: 0.8996\n",
      "Epoch 10/10\n",
      "1313/1313 [==============================] - 2s 2ms/step - loss: 0.3453 - accuracy: 0.9046 - val_loss: 0.4097 - val_accuracy: 0.8918\n"
     ]
    },
    {
     "data": {
      "text/plain": [
       "<tensorflow.python.keras.callbacks.History at 0x7ff2c0a6a0d0>"
      ]
     },
     "execution_count": 54,
     "metadata": {},
     "output_type": "execute_result"
    }
   ],
   "source": [
    "fourth_model = Sequential([Dense(10), \n",
    "                          Dense(10), \n",
    "                          Dense(10),  \n",
    "                          Dense(10, activation='softmax')])\n",
    "\n",
    "# Define a loss function\n",
    "loss_fn = tf.keras.losses.SparseCategoricalCrossentropy()\n",
    "\n",
    "# Compile the model\n",
    "fourth_model.compile(optimizer='adam', loss=loss_fn, metrics=['accuracy'])\n",
    "\n",
    "fourth_model.fit(X_train, y_train, epochs=10, validation_split=0.3)"
   ]
  },
  {
   "cell_type": "markdown",
   "metadata": {},
   "source": [
    "The fourth model contains 4 hidden layers with 10 hidden units each. Again not much difference in the last few this is meant to compare to the next couple."
   ]
  },
  {
   "cell_type": "code",
   "execution_count": 55,
   "metadata": {},
   "outputs": [
    {
     "name": "stdout",
     "output_type": "stream",
     "text": [
      "Epoch 1/10\n",
      "1313/1313 [==============================] - 2s 1ms/step - loss: 3.1485 - accuracy: 0.7582 - val_loss: 0.6079 - val_accuracy: 0.8529\n",
      "Epoch 2/10\n",
      "1313/1313 [==============================] - 2s 1ms/step - loss: 0.6205 - accuracy: 0.8457 - val_loss: 0.5854 - val_accuracy: 0.8525\n",
      "Epoch 3/10\n",
      "1313/1313 [==============================] - 2s 1ms/step - loss: 0.5821 - accuracy: 0.8568 - val_loss: 0.4982 - val_accuracy: 0.8716\n",
      "Epoch 4/10\n",
      "1313/1313 [==============================] - 2s 1ms/step - loss: 0.5356 - accuracy: 0.8650 - val_loss: 0.5722 - val_accuracy: 0.8669\n",
      "Epoch 5/10\n",
      "1313/1313 [==============================] - 2s 1ms/step - loss: 0.4985 - accuracy: 0.8731 - val_loss: 0.5507 - val_accuracy: 0.8528\n",
      "Epoch 6/10\n",
      "1313/1313 [==============================] - 2s 1ms/step - loss: 0.4646 - accuracy: 0.8778 - val_loss: 0.4402 - val_accuracy: 0.8851\n",
      "Epoch 7/10\n",
      "1313/1313 [==============================] - 2s 1ms/step - loss: 0.4504 - accuracy: 0.8809 - val_loss: 0.4147 - val_accuracy: 0.8908\n",
      "Epoch 8/10\n",
      "1313/1313 [==============================] - 2s 1ms/step - loss: 0.4018 - accuracy: 0.8913 - val_loss: 0.4090 - val_accuracy: 0.8945\n",
      "Epoch 9/10\n",
      "1313/1313 [==============================] - 2s 1ms/step - loss: 0.3805 - accuracy: 0.8948 - val_loss: 0.4178 - val_accuracy: 0.8893\n",
      "Epoch 10/10\n",
      "1313/1313 [==============================] - 2s 1ms/step - loss: 0.3691 - accuracy: 0.8989 - val_loss: 0.3837 - val_accuracy: 0.8972\n"
     ]
    },
    {
     "data": {
      "text/plain": [
       "<tensorflow.python.keras.callbacks.History at 0x7ff2c210c450>"
      ]
     },
     "execution_count": 55,
     "metadata": {},
     "output_type": "execute_result"
    }
   ],
   "source": [
    "fifth_model = Sequential([Dense(10), \n",
    "                          Dense(20), \n",
    "                          Dense(30),  \n",
    "                          Dense(40, activation='softmax')])\n",
    "\n",
    "# Define a loss function\n",
    "loss_fn = tf.keras.losses.SparseCategoricalCrossentropy()\n",
    "\n",
    "# Compile the model\n",
    "fifth_model.compile(optimizer='adam', loss=loss_fn, metrics=['accuracy'])\n",
    "\n",
    "fifth_model.fit(X_train, y_train, epochs=10, validation_split=0.3)"
   ]
  },
  {
   "cell_type": "markdown",
   "metadata": {},
   "source": [
    "The fifth model has increasing more hidden units in the 4 hidden layers. This performs better than the previous giving an val_accuracy of 90.7%."
   ]
  },
  {
   "cell_type": "code",
   "execution_count": 56,
   "metadata": {},
   "outputs": [
    {
     "name": "stdout",
     "output_type": "stream",
     "text": [
      "Epoch 1/10\n",
      "1313/1313 [==============================] - 2s 2ms/step - loss: 7.7328 - accuracy: 0.8367 - val_loss: 1.7239 - val_accuracy: 0.8656\n",
      "Epoch 2/10\n",
      "1313/1313 [==============================] - 2s 1ms/step - loss: 1.0883 - accuracy: 0.8640 - val_loss: 0.8356 - val_accuracy: 0.8684\n",
      "Epoch 3/10\n",
      "1313/1313 [==============================] - 2s 1ms/step - loss: 0.6904 - accuracy: 0.8647 - val_loss: 0.6663 - val_accuracy: 0.8579\n",
      "Epoch 4/10\n",
      "1313/1313 [==============================] - 2s 1ms/step - loss: 0.5980 - accuracy: 0.8674 - val_loss: 0.5269 - val_accuracy: 0.8839\n",
      "Epoch 5/10\n",
      "1313/1313 [==============================] - 2s 1ms/step - loss: 0.5516 - accuracy: 0.8713 - val_loss: 0.4893 - val_accuracy: 0.8764\n",
      "Epoch 6/10\n",
      "1313/1313 [==============================] - 2s 1ms/step - loss: 0.4891 - accuracy: 0.8771 - val_loss: 0.4535 - val_accuracy: 0.8895\n",
      "Epoch 7/10\n",
      "1313/1313 [==============================] - 2s 2ms/step - loss: 0.4775 - accuracy: 0.8797 - val_loss: 0.5808 - val_accuracy: 0.8530\n",
      "Epoch 8/10\n",
      "1313/1313 [==============================] - 2s 1ms/step - loss: 0.4467 - accuracy: 0.8842 - val_loss: 0.5084 - val_accuracy: 0.8690\n",
      "Epoch 9/10\n",
      "1313/1313 [==============================] - 2s 1ms/step - loss: 0.4241 - accuracy: 0.8853 - val_loss: 0.4711 - val_accuracy: 0.8762\n",
      "Epoch 10/10\n",
      "1313/1313 [==============================] - 2s 1ms/step - loss: 0.4163 - accuracy: 0.8879 - val_loss: 0.4434 - val_accuracy: 0.8870\n"
     ]
    },
    {
     "data": {
      "text/plain": [
       "<tensorflow.python.keras.callbacks.History at 0x7ff2c271cb50>"
      ]
     },
     "execution_count": 56,
     "metadata": {},
     "output_type": "execute_result"
    }
   ],
   "source": [
    "sixth_model = Sequential([Dense(40), \n",
    "                          Dense(30), \n",
    "                          Dense(20), \n",
    "                          Dense(10, activation='softmax')])\n",
    "\n",
    "# Define a loss function\n",
    "loss_fn = tf.keras.losses.SparseCategoricalCrossentropy()\n",
    "\n",
    "# Compile the model\n",
    "sixth_model.compile(optimizer='adam', loss=loss_fn, metrics=['accuracy'])\n",
    "\n",
    "sixth_model.fit(X_train, y_train, epochs=10, validation_split=0.3)"
   ]
  },
  {
   "cell_type": "markdown",
   "metadata": {},
   "source": [
    "This model with the decreasing amount of hidden units per layer performed worst then the previos few which is interesting. I would assume it is because you are starting with a big scope."
   ]
  },
  {
   "cell_type": "code",
   "execution_count": 57,
   "metadata": {},
   "outputs": [
    {
     "name": "stdout",
     "output_type": "stream",
     "text": [
      "Epoch 1/10\n",
      "1313/1313 [==============================] - 2s 1ms/step - loss: 3.6237 - accuracy: 0.7788 - val_loss: 0.6631 - val_accuracy: 0.8359\n",
      "Epoch 2/10\n",
      "1313/1313 [==============================] - 2s 1ms/step - loss: 0.6545 - accuracy: 0.8383 - val_loss: 0.6840 - val_accuracy: 0.8399\n",
      "Epoch 3/10\n",
      "1313/1313 [==============================] - 2s 1ms/step - loss: 0.5849 - accuracy: 0.8530 - val_loss: 0.5921 - val_accuracy: 0.8534\n",
      "Epoch 4/10\n",
      "1313/1313 [==============================] - 2s 1ms/step - loss: 0.5737 - accuracy: 0.8585 - val_loss: 0.6129 - val_accuracy: 0.8548\n",
      "Epoch 5/10\n",
      "1313/1313 [==============================] - 2s 1ms/step - loss: 0.5431 - accuracy: 0.8642 - val_loss: 0.5504 - val_accuracy: 0.8661\n",
      "Epoch 6/10\n",
      "1313/1313 [==============================] - 2s 1ms/step - loss: 0.5087 - accuracy: 0.8692 - val_loss: 0.5221 - val_accuracy: 0.8647\n",
      "Epoch 7/10\n",
      "1313/1313 [==============================] - 2s 1ms/step - loss: 0.4940 - accuracy: 0.8724 - val_loss: 0.5353 - val_accuracy: 0.8674\n",
      "Epoch 8/10\n",
      "1313/1313 [==============================] - 2s 1ms/step - loss: 0.4581 - accuracy: 0.8792 - val_loss: 0.5174 - val_accuracy: 0.8720\n",
      "Epoch 9/10\n",
      "1313/1313 [==============================] - 2s 1ms/step - loss: 0.4577 - accuracy: 0.8797 - val_loss: 0.4428 - val_accuracy: 0.8869\n",
      "Epoch 10/10\n",
      "1313/1313 [==============================] - 2s 1ms/step - loss: 0.4349 - accuracy: 0.8845 - val_loss: 0.5748 - val_accuracy: 0.8493\n"
     ]
    },
    {
     "data": {
      "text/plain": [
       "<tensorflow.python.keras.callbacks.History at 0x7ff2c2ef3110>"
      ]
     },
     "execution_count": 57,
     "metadata": {},
     "output_type": "execute_result"
    }
   ],
   "source": [
    "seventh_model = Sequential([Dense(10), \n",
    "                          Dense(20), \n",
    "                          Dense(20), \n",
    "                          Dense(10, activation='softmax')])\n",
    "\n",
    "# Define a loss function\n",
    "loss_fn = tf.keras.losses.SparseCategoricalCrossentropy()\n",
    "\n",
    "# Compile the model\n",
    "seventh_model.compile(optimizer='adam', loss=loss_fn, metrics=['accuracy'])\n",
    "\n",
    "seventh_model.fit(X_train, y_train, epochs=10, validation_split=0.3)"
   ]
  },
  {
   "cell_type": "markdown",
   "metadata": {},
   "source": [
    "This model again is average is not better than the original simple model of one hidden layer."
   ]
  },
  {
   "cell_type": "code",
   "execution_count": 65,
   "metadata": {},
   "outputs": [
    {
     "name": "stdout",
     "output_type": "stream",
     "text": [
      "Epoch 1/10\n",
      "1313/1313 [==============================] - 2s 1ms/step - loss: 2.8617 - accuracy: 0.7360 - val_loss: 1.0033 - val_accuracy: 0.7669\n",
      "Epoch 2/10\n",
      "1313/1313 [==============================] - 2s 1ms/step - loss: 0.7642 - accuracy: 0.8241 - val_loss: 0.7484 - val_accuracy: 0.8223\n",
      "Epoch 3/10\n",
      "1313/1313 [==============================] - 2s 1ms/step - loss: 0.6307 - accuracy: 0.8464 - val_loss: 0.5972 - val_accuracy: 0.8424\n",
      "Epoch 4/10\n",
      "1313/1313 [==============================] - 2s 1ms/step - loss: 0.5456 - accuracy: 0.8595 - val_loss: 0.5112 - val_accuracy: 0.8708\n",
      "Epoch 5/10\n",
      "1313/1313 [==============================] - 2s 1ms/step - loss: 0.4787 - accuracy: 0.8754 - val_loss: 0.4820 - val_accuracy: 0.8686\n",
      "Epoch 6/10\n",
      "1313/1313 [==============================] - 2s 1ms/step - loss: 0.4217 - accuracy: 0.8842 - val_loss: 0.3867 - val_accuracy: 0.8986\n",
      "Epoch 7/10\n",
      "1313/1313 [==============================] - 2s 1ms/step - loss: 0.3881 - accuracy: 0.8926 - val_loss: 0.4288 - val_accuracy: 0.8819\n",
      "Epoch 8/10\n",
      "1313/1313 [==============================] - 2s 1ms/step - loss: 0.3618 - accuracy: 0.8981 - val_loss: 0.3897 - val_accuracy: 0.8951\n",
      "Epoch 9/10\n",
      "1313/1313 [==============================] - 2s 1ms/step - loss: 0.3489 - accuracy: 0.9004 - val_loss: 0.3444 - val_accuracy: 0.9014\n",
      "Epoch 10/10\n",
      "1313/1313 [==============================] - 2s 1ms/step - loss: 0.3377 - accuracy: 0.9049 - val_loss: 0.3511 - val_accuracy: 0.9029\n"
     ]
    },
    {
     "data": {
      "text/plain": [
       "<tensorflow.python.keras.callbacks.History at 0x7ff2b76abd90>"
      ]
     },
     "execution_count": 65,
     "metadata": {},
     "output_type": "execute_result"
    }
   ],
   "source": [
    "eigth_model = Sequential([Dense(10), \n",
    "                          Dense(20), \n",
    "                          Dense(50),\n",
    "                          Dense(20), \n",
    "                          Dense(10, activation='softmax')])\n",
    "\n",
    "# Define a loss function\n",
    "loss_fn = tf.keras.losses.SparseCategoricalCrossentropy()\n",
    "\n",
    "# Compile the model\n",
    "eigth_model.compile(optimizer='adam', loss=loss_fn, metrics=['accuracy'])\n",
    "\n",
    "eigth_model.fit(X_train, y_train, epochs=10, validation_split=0.3)"
   ]
  },
  {
   "cell_type": "markdown",
   "metadata": {},
   "source": [
    "Average again compared to others"
   ]
  },
  {
   "cell_type": "code",
   "execution_count": 66,
   "metadata": {},
   "outputs": [
    {
     "name": "stdout",
     "output_type": "stream",
     "text": [
      "Epoch 1/10\n",
      "1313/1313 [==============================] - 2s 1ms/step - loss: 2.5789 - accuracy: 0.7469 - val_loss: 1.3119 - val_accuracy: 0.7947\n",
      "Epoch 2/10\n",
      "1313/1313 [==============================] - 2s 1ms/step - loss: 0.8802 - accuracy: 0.8236 - val_loss: 0.6789 - val_accuracy: 0.8356\n",
      "Epoch 3/10\n",
      "1313/1313 [==============================] - 2s 1ms/step - loss: 0.6260 - accuracy: 0.8489 - val_loss: 0.5364 - val_accuracy: 0.8629\n",
      "Epoch 4/10\n",
      "1313/1313 [==============================] - 2s 1ms/step - loss: 0.4813 - accuracy: 0.8709 - val_loss: 0.5081 - val_accuracy: 0.8628\n",
      "Epoch 5/10\n",
      "1313/1313 [==============================] - 2s 1ms/step - loss: 0.4105 - accuracy: 0.8840 - val_loss: 0.4188 - val_accuracy: 0.8838\n",
      "Epoch 6/10\n",
      "1313/1313 [==============================] - 2s 1ms/step - loss: 0.3755 - accuracy: 0.8930 - val_loss: 0.4420 - val_accuracy: 0.8701\n",
      "Epoch 7/10\n",
      "1313/1313 [==============================] - 2s 1ms/step - loss: 0.3679 - accuracy: 0.8952 - val_loss: 0.4386 - val_accuracy: 0.8749\n",
      "Epoch 8/10\n",
      "1313/1313 [==============================] - 2s 1ms/step - loss: 0.3624 - accuracy: 0.8956 - val_loss: 0.3808 - val_accuracy: 0.8936\n",
      "Epoch 9/10\n",
      "1313/1313 [==============================] - 2s 1ms/step - loss: 0.3540 - accuracy: 0.8989 - val_loss: 0.3596 - val_accuracy: 0.8943\n",
      "Epoch 10/10\n",
      "1313/1313 [==============================] - 2s 2ms/step - loss: 0.3420 - accuracy: 0.9019 - val_loss: 0.3698 - val_accuracy: 0.8949\n"
     ]
    },
    {
     "data": {
      "text/plain": [
       "<tensorflow.python.keras.callbacks.History at 0x7ff2c3854250>"
      ]
     },
     "execution_count": 66,
     "metadata": {},
     "output_type": "execute_result"
    }
   ],
   "source": [
    "ninth_model = Sequential([Dense(10), \n",
    "                          Dense(40), \n",
    "                          Dense(60),\n",
    "                          Dense(40), \n",
    "                          Dense(10, activation='softmax')])\n",
    "\n",
    "# Define a loss function\n",
    "loss_fn = tf.keras.losses.SparseCategoricalCrossentropy()\n",
    "\n",
    "# Compile the model\n",
    "ninth_model.compile(optimizer='adam', loss=loss_fn, metrics=['accuracy'])\n",
    "\n",
    "ninth_model.fit(X_train, y_train, epochs=10, validation_split=0.3)"
   ]
  },
  {
   "cell_type": "markdown",
   "metadata": {},
   "source": [
    "Maybe another idea"
   ]
  },
  {
   "cell_type": "code",
   "execution_count": 68,
   "metadata": {},
   "outputs": [
    {
     "name": "stdout",
     "output_type": "stream",
     "text": [
      "Epoch 1/10\n",
      "1313/1313 [==============================] - 2s 2ms/step - loss: 2.1240 - accuracy: 0.7373 - val_loss: 0.5888 - val_accuracy: 0.8347\n",
      "Epoch 2/10\n",
      "1313/1313 [==============================] - 2s 2ms/step - loss: 0.5295 - accuracy: 0.8559 - val_loss: 0.4578 - val_accuracy: 0.8688\n",
      "Epoch 3/10\n",
      "1313/1313 [==============================] - 2s 2ms/step - loss: 0.4183 - accuracy: 0.8808 - val_loss: 0.3923 - val_accuracy: 0.8897\n",
      "Epoch 4/10\n",
      "1313/1313 [==============================] - 2s 2ms/step - loss: 0.3790 - accuracy: 0.8920 - val_loss: 0.3713 - val_accuracy: 0.8973\n",
      "Epoch 5/10\n",
      "1313/1313 [==============================] - 2s 1ms/step - loss: 0.3609 - accuracy: 0.8969 - val_loss: 0.3655 - val_accuracy: 0.8965\n",
      "Epoch 6/10\n",
      "1313/1313 [==============================] - 2s 2ms/step - loss: 0.3536 - accuracy: 0.8990 - val_loss: 0.3542 - val_accuracy: 0.9027\n",
      "Epoch 7/10\n",
      "1313/1313 [==============================] - 2s 2ms/step - loss: 0.3515 - accuracy: 0.8980 - val_loss: 0.3420 - val_accuracy: 0.9046\n",
      "Epoch 8/10\n",
      "1313/1313 [==============================] - 2s 2ms/step - loss: 0.3419 - accuracy: 0.9034 - val_loss: 0.3756 - val_accuracy: 0.8948\n",
      "Epoch 9/10\n",
      "1313/1313 [==============================] - 2s 2ms/step - loss: 0.3393 - accuracy: 0.9027 - val_loss: 0.3741 - val_accuracy: 0.8929\n",
      "Epoch 10/10\n",
      "1313/1313 [==============================] - 2s 2ms/step - loss: 0.3298 - accuracy: 0.9036 - val_loss: 0.3671 - val_accuracy: 0.8980\n"
     ]
    },
    {
     "data": {
      "text/plain": [
       "<tensorflow.python.keras.callbacks.History at 0x7ff2a8928b90>"
      ]
     },
     "execution_count": 68,
     "metadata": {},
     "output_type": "execute_result"
    }
   ],
   "source": [
    "tenth_model = Sequential([Dense(10), \n",
    "                          Dense(20), \n",
    "                          Dense(25),\n",
    "                          Dense(40), \n",
    "                          Dense(40), \n",
    "                          Dense(25),\n",
    "                          Dense(20),\n",
    "                          Dense(10, activation='softmax')])\n",
    "\n",
    "# Define a loss function\n",
    "loss_fn = tf.keras.losses.SparseCategoricalCrossentropy()\n",
    "\n",
    "# Compile the model\n",
    "tenth_model.compile(optimizer='adam', loss=loss_fn, metrics=['accuracy'])\n",
    "\n",
    "tenth_model.fit(X_train, y_train, epochs=10, validation_split=0.3)"
   ]
  },
  {
   "cell_type": "markdown",
   "metadata": {},
   "source": [
    "Hmmmm"
   ]
  },
  {
   "cell_type": "code",
   "execution_count": 75,
   "metadata": {},
   "outputs": [
    {
     "name": "stdout",
     "output_type": "stream",
     "text": [
      "Epoch 1/10\n",
      "1313/1313 [==============================] - 2s 1ms/step - loss: 2.0746 - accuracy: 0.7643 - val_loss: 0.8915 - val_accuracy: 0.8390\n",
      "Epoch 2/10\n",
      "1313/1313 [==============================] - 2s 1ms/step - loss: 0.8986 - accuracy: 0.8210 - val_loss: 1.1885 - val_accuracy: 0.8081\n",
      "Epoch 3/10\n",
      "1313/1313 [==============================] - 2s 1ms/step - loss: 0.9074 - accuracy: 0.8266 - val_loss: 0.7357 - val_accuracy: 0.8565\n",
      "Epoch 4/10\n",
      "1313/1313 [==============================] - 2s 1ms/step - loss: 0.8213 - accuracy: 0.8340 - val_loss: 0.6945 - val_accuracy: 0.8597\n",
      "Epoch 5/10\n",
      "1313/1313 [==============================] - 2s 1ms/step - loss: 0.8135 - accuracy: 0.8377 - val_loss: 0.8010 - val_accuracy: 0.8522\n",
      "Epoch 6/10\n",
      "1313/1313 [==============================] - 2s 1ms/step - loss: 0.7687 - accuracy: 0.8414 - val_loss: 1.3328 - val_accuracy: 0.7716\n",
      "Epoch 7/10\n",
      "1313/1313 [==============================] - 2s 1ms/step - loss: 0.7248 - accuracy: 0.8487 - val_loss: 0.6776 - val_accuracy: 0.8575\n",
      "Epoch 8/10\n",
      "1313/1313 [==============================] - 2s 1ms/step - loss: 0.6897 - accuracy: 0.8488 - val_loss: 0.7787 - val_accuracy: 0.8384\n",
      "Epoch 9/10\n",
      "1313/1313 [==============================] - 2s 1ms/step - loss: 0.6590 - accuracy: 0.8533 - val_loss: 0.7277 - val_accuracy: 0.8444\n",
      "Epoch 10/10\n",
      "1313/1313 [==============================] - 2s 1ms/step - loss: 0.6137 - accuracy: 0.8550 - val_loss: 0.8265 - val_accuracy: 0.8424\n"
     ]
    },
    {
     "data": {
      "text/plain": [
       "<tensorflow.python.keras.callbacks.History at 0x7ff2ad413190>"
      ]
     },
     "execution_count": 75,
     "metadata": {},
     "output_type": "execute_result"
    }
   ],
   "source": [
    "eleven_model = Sequential([Dense(10),\n",
    "                          Dense(100),\n",
    "                          Dense(10, activation='softmax')])\n",
    "\n",
    "# Define a loss function\n",
    "loss_fn = tf.keras.losses.SparseCategoricalCrossentropy()\n",
    "\n",
    "# Compile the model\n",
    "eleven_model.compile(optimizer='adam', loss=loss_fn, metrics=['accuracy'])\n",
    "\n",
    "eleven_model.fit(X_train, y_train, epochs=10, validation_split=0.3)"
   ]
  },
  {
   "cell_type": "markdown",
   "metadata": {},
   "source": [
    "I think we have maxed out our model accuracy."
   ]
  },
  {
   "cell_type": "code",
   "execution_count": null,
   "metadata": {},
   "outputs": [],
   "source": []
  }
 ],
 "metadata": {
  "kernelspec": {
   "display_name": "Python 3",
   "language": "python",
   "name": "python3"
  },
  "language_info": {
   "codemirror_mode": {
    "name": "ipython",
    "version": 3
   },
   "file_extension": ".py",
   "mimetype": "text/x-python",
   "name": "python",
   "nbconvert_exporter": "python",
   "pygments_lexer": "ipython3",
   "version": "3.7.6"
  }
 },
 "nbformat": 4,
 "nbformat_minor": 4
}
