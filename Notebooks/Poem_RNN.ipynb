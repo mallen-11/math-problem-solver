{
 "cells": [
  {
   "cell_type": "markdown",
   "metadata": {},
   "source": [
    "# Poem RNN\n",
    "\n",
    "Generating a poem based on Maya Angelou's Still I Rise."
   ]
  },
  {
   "cell_type": "code",
   "execution_count": 81,
   "metadata": {},
   "outputs": [],
   "source": [
    "import tensorflow as tf\n",
    "import numpy as np\n",
    "import pandas as pd\n",
    "from matplotlib import pyplot as plt\n",
    "\n",
    "from sklearn.linear_model import LogisticRegression\n",
    "from sklearn.metrics import plot_confusion_matrix, confusion_matrix\n",
    "\n",
    "from tensorflow.keras.layers import Dense, Flatten, LSTM, Dropout, Embedding\n",
    "from tensorflow.keras import Model\n",
    "from tensorflow.keras.models import Sequential\n",
    "from keras.utils import np_utils\n",
    "\n",
    "import sys\n",
    "\n",
    "tf.random.set_seed(1)"
   ]
  },
  {
   "cell_type": "markdown",
   "metadata": {},
   "source": [
    "Load Data"
   ]
  },
  {
   "cell_type": "code",
   "execution_count": 82,
   "metadata": {},
   "outputs": [],
   "source": [
    "poem_text = open('../Data/still_i_rise.txt', 'r', encoding='utf-8').read()\n",
    "poem_text = poem_text.lower()"
   ]
  },
  {
   "cell_type": "markdown",
   "metadata": {},
   "source": [
    "Creates a dictionary with all the possible letters/values"
   ]
  },
  {
   "cell_type": "code",
   "execution_count": 83,
   "metadata": {},
   "outputs": [],
   "source": [
    "chars = sorted(list(set(poem_text)))\n",
    "char_to_int = dict((c, i) for i, c in enumerate(chars))"
   ]
  },
  {
   "cell_type": "code",
   "execution_count": 84,
   "metadata": {},
   "outputs": [
    {
     "name": "stdout",
     "output_type": "stream",
     "text": [
      "Total Characters:  1252\n",
      "Total Vocab:  31\n"
     ]
    }
   ],
   "source": [
    "n_chars = len(poem_text)\n",
    "n_vocab = len(chars)\n",
    "print(f\"Total Characters: \", n_chars)\n",
    "print(f\"Total Vocab: \", n_vocab)"
   ]
  },
  {
   "cell_type": "code",
   "execution_count": 85,
   "metadata": {},
   "outputs": [
    {
     "name": "stdout",
     "output_type": "stream",
     "text": [
      "{'\\n': 0, ' ': 1, \"'\": 2, ',': 3, '.': 4, '?': 5, 'a': 6, 'b': 7, 'c': 8, 'd': 9, 'e': 10, 'f': 11, 'g': 12, 'h': 13, 'i': 14, 'j': 15, 'k': 16, 'l': 17, 'm': 18, 'n': 19, 'o': 20, 'p': 21, 'r': 22, 's': 23, 't': 24, 'u': 25, 'v': 26, 'w': 27, 'x': 28, 'y': 29, '’': 30}\n"
     ]
    }
   ],
   "source": [
    "print(char_to_int)"
   ]
  },
  {
   "cell_type": "markdown",
   "metadata": {},
   "source": [
    "### This looks at a sequence of the data of length 100. It then records the character and the number corresponding to that character"
   ]
  },
  {
   "cell_type": "code",
   "execution_count": 86,
   "metadata": {},
   "outputs": [],
   "source": [
    "seq_length = 100\n",
    "dataX = []\n",
    "dataY = []\n",
    "for i in range(0, n_chars - seq_length, 1):\n",
    "    seq_in = poem_text[i:i + seq_length]\n",
    "    seq_out = poem_text[i + seq_length]\n",
    "    dataX.append([char_to_int[char] for char in seq_in])\n",
    "    dataY.append(char_to_int[seq_out])\n",
    "n_patterns = len(dataX)"
   ]
  },
  {
   "cell_type": "markdown",
   "metadata": {},
   "source": [
    "Reshaping for Keras"
   ]
  },
  {
   "cell_type": "code",
   "execution_count": 87,
   "metadata": {},
   "outputs": [],
   "source": [
    "# reshape X to be [samples, time steps, features]\n",
    "X = np.reshape(dataX, (n_patterns, seq_length, 1))\n",
    "# normalize\n",
    "X = X / float(n_vocab)\n",
    "# one hot encode the output variable\n",
    "y = np_utils.to_categorical(dataY)"
   ]
  },
  {
   "cell_type": "markdown",
   "metadata": {},
   "source": [
    "# The Model"
   ]
  },
  {
   "cell_type": "code",
   "execution_count": 88,
   "metadata": {},
   "outputs": [],
   "source": [
    "model = Sequential()\n",
    "model.add(Embedding(n_vocab, 10, input_length=seq_length))\n",
    "model.add(LSTM(256, input_shape=(100, 1)))\n",
    "model.add(Dropout(0.2))\n",
    "model.add(Dense(31, activation='softmax'))"
   ]
  },
  {
   "cell_type": "code",
   "execution_count": 89,
   "metadata": {},
   "outputs": [
    {
     "name": "stdout",
     "output_type": "stream",
     "text": [
      "Model: \"sequential_7\"\n",
      "_________________________________________________________________\n",
      "Layer (type)                 Output Shape              Param #   \n",
      "=================================================================\n",
      "embedding_5 (Embedding)      (None, 100, 10)           310       \n",
      "_________________________________________________________________\n",
      "lstm_10 (LSTM)               (None, 256)               273408    \n",
      "_________________________________________________________________\n",
      "dropout_7 (Dropout)          (None, 256)               0         \n",
      "_________________________________________________________________\n",
      "dense_4 (Dense)              (None, 31)                7967      \n",
      "=================================================================\n",
      "Total params: 281,685\n",
      "Trainable params: 281,685\n",
      "Non-trainable params: 0\n",
      "_________________________________________________________________\n"
     ]
    }
   ],
   "source": [
    "model.summary()"
   ]
  },
  {
   "cell_type": "code",
   "execution_count": 90,
   "metadata": {},
   "outputs": [],
   "source": [
    "model.compile(loss='categorical_crossentropy', optimizer='adam')"
   ]
  },
  {
   "cell_type": "code",
   "execution_count": 47,
   "metadata": {},
   "outputs": [
    {
     "name": "stdout",
     "output_type": "stream",
     "text": [
      "Epoch 1/30\n",
      "36/36 [==============================] - 4s 118ms/step - loss: 3.1741\n",
      "Epoch 2/30\n",
      "36/36 [==============================] - 4s 114ms/step - loss: 3.0855\n",
      "Epoch 3/30\n",
      "36/36 [==============================] - 4s 114ms/step - loss: 3.0647\n",
      "Epoch 4/30\n",
      "36/36 [==============================] - 4s 115ms/step - loss: 3.0649\n",
      "Epoch 5/30\n",
      "36/36 [==============================] - 4s 114ms/step - loss: 3.0550\n",
      "Epoch 6/30\n",
      "36/36 [==============================] - 4s 115ms/step - loss: 3.0670\n",
      "Epoch 7/30\n",
      "36/36 [==============================] - 4s 118ms/step - loss: 3.0588\n",
      "Epoch 8/30\n",
      "36/36 [==============================] - 4s 115ms/step - loss: 3.0596\n",
      "Epoch 9/30\n",
      "36/36 [==============================] - 4s 119ms/step - loss: 3.0573\n",
      "Epoch 10/30\n",
      "36/36 [==============================] - 7s 194ms/step - loss: 3.0593\n",
      "Epoch 11/30\n",
      "36/36 [==============================] - 5s 135ms/step - loss: 3.0533\n",
      "Epoch 12/30\n",
      "36/36 [==============================] - 4s 118ms/step - loss: 3.0513\n",
      "Epoch 13/30\n",
      "36/36 [==============================] - 4s 119ms/step - loss: 3.0463\n",
      "Epoch 14/30\n",
      "36/36 [==============================] - 5s 151ms/step - loss: 3.0526\n",
      "Epoch 15/30\n",
      "36/36 [==============================] - 5s 130ms/step - loss: 3.0500\n",
      "Epoch 16/30\n",
      "36/36 [==============================] - 4s 120ms/step - loss: 3.0554\n",
      "Epoch 17/30\n",
      "36/36 [==============================] - 5s 129ms/step - loss: 3.0451\n",
      "Epoch 18/30\n",
      "36/36 [==============================] - 4s 115ms/step - loss: 3.0465\n",
      "Epoch 19/30\n",
      "36/36 [==============================] - 4s 113ms/step - loss: 3.0464\n",
      "Epoch 20/30\n",
      "36/36 [==============================] - 5s 130ms/step - loss: 3.0460\n",
      "Epoch 21/30\n",
      "36/36 [==============================] - 5s 142ms/step - loss: 3.0465\n",
      "Epoch 22/30\n",
      "36/36 [==============================] - 5s 138ms/step - loss: 3.0459\n",
      "Epoch 23/30\n",
      "36/36 [==============================] - 4s 115ms/step - loss: 3.0463\n",
      "Epoch 24/30\n",
      "36/36 [==============================] - 5s 128ms/step - loss: 3.0514\n",
      "Epoch 25/30\n",
      "36/36 [==============================] - 4s 118ms/step - loss: 3.0503\n",
      "Epoch 26/30\n",
      "36/36 [==============================] - 4s 118ms/step - loss: 3.0502\n",
      "Epoch 27/30\n",
      "36/36 [==============================] - 4s 117ms/step - loss: 3.0519\n",
      "Epoch 28/30\n",
      "36/36 [==============================] - 4s 115ms/step - loss: 3.0402\n",
      "Epoch 29/30\n",
      "36/36 [==============================] - 4s 117ms/step - loss: 3.0453\n",
      "Epoch 30/30\n",
      "36/36 [==============================] - 4s 118ms/step - loss: 3.0546\n"
     ]
    }
   ],
   "source": [
    "history = model.fit(X,y, epochs=30)"
   ]
  },
  {
   "cell_type": "code",
   "execution_count": 103,
   "metadata": {},
   "outputs": [
    {
     "name": "stdout",
     "output_type": "stream",
     "text": [
      "948\n",
      "Seed:\n",
      "\"  rooted in pain\n",
      "i rise\n",
      "i'm a black ocean, leaping and wide,\n",
      "welling and swelling i bear in the tide. \"\n"
     ]
    }
   ],
   "source": [
    "num_to_char = dict((i, c) for i, c in enumerate(chars))\n",
    "start = np.random.randint(0, len(dataX)-1)\n",
    "print(start)\n",
    "pattern = dataX[start]\n",
    "print(f\"Seed:\")\n",
    "print(f\"\\\"\", ''.join([num_to_char[value] for value in pattern]), \"\\\"\")"
   ]
  },
  {
   "cell_type": "code",
   "execution_count": 113,
   "metadata": {},
   "outputs": [
    {
     "name": "stdout",
     "output_type": "stream",
     "text": [
      "isni'\n",
      "\n",
      "\n",
      "ttsvaccwsagg\n",
      "ttsgvvva\n",
      "\n",
      "ttsg\n",
      "vva\n",
      "\n",
      "ttsgvvacwsnisni'\n",
      "\n",
      "\n",
      "ttsvaccwsagg\n",
      "ttsgvvva\n",
      "\n",
      "ttsg\n",
      "vva\n",
      "\n",
      "ttsgvva"
     ]
    }
   ],
   "source": [
    "for i in range(100):\n",
    "    x = np.reshape(pattern, (1, len(pattern), 1))\n",
    "    prediction = model.predict(x, verbose=0)\n",
    "    index = np.argmax(prediction)\n",
    "    result = num_to_char[index]\n",
    "    seq_in = [num_to_char[value] for value in pattern]\n",
    "    sys.stdout.write(result)\n",
    "    pattern.append(index)\n",
    "    pattern = pattern[1:len(pattern)]"
   ]
  },
  {
   "cell_type": "code",
   "execution_count": null,
   "metadata": {},
   "outputs": [],
   "source": []
  }
 ],
 "metadata": {
  "kernelspec": {
   "display_name": "Python 3",
   "language": "python",
   "name": "python3"
  },
  "language_info": {
   "codemirror_mode": {
    "name": "ipython",
    "version": 3
   },
   "file_extension": ".py",
   "mimetype": "text/x-python",
   "name": "python",
   "nbconvert_exporter": "python",
   "pygments_lexer": "ipython3",
   "version": "3.7.6"
  }
 },
 "nbformat": 4,
 "nbformat_minor": 4
}
