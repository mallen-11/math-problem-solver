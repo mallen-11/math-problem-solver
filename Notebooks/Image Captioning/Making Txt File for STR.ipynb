{
 "cells": [
  {
   "cell_type": "code",
   "execution_count": 1,
   "metadata": {},
   "outputs": [],
   "source": [
    "import tensorflow as tf\n",
    "import numpy as np\n",
    "import pandas as pd\n",
    "from matplotlib import pyplot as plt\n",
    "from PIL import Image\n",
    "\n",
    "from sklearn.model_selection import train_test_split\n",
    "\n",
    "from tensorflow.keras import Model\n",
    "from tensorflow.keras.models import Sequential\n",
    "from tensorflow.keras import layers\n",
    "from tensorflow import image\n",
    "\n",
    "import itertools\n",
    "import random\n",
    "\n",
    "tf.random.set_seed(1)\n",
    "\n",
    "#use try, except for loss function to see if it will run"
   ]
  },
  {
   "cell_type": "code",
   "execution_count": 37,
   "metadata": {},
   "outputs": [],
   "source": [
    "f = open(\"data.txt\",\"w+\")"
   ]
  },
  {
   "cell_type": "code",
   "execution_count": 38,
   "metadata": {},
   "outputs": [],
   "source": [
    "for i in range(0,18720):\n",
    "     f.write(labels.iloc[i][2] + '\\n')"
   ]
  },
  {
   "cell_type": "code",
   "execution_count": 36,
   "metadata": {},
   "outputs": [
    {
     "data": {
      "text/plain": [
       "'linear_fcns/images/1.png 0b+1=2\\tlinear_fcns/images/0.png 0a+1=2'"
      ]
     },
     "execution_count": 36,
     "metadata": {},
     "output_type": "execute_result"
    }
   ],
   "source": [
    "labels.iloc[1][2] + '\\t' + labels.iloc[0][2]"
   ]
  },
  {
   "cell_type": "code",
   "execution_count": 39,
   "metadata": {},
   "outputs": [],
   "source": [
    "f.close() "
   ]
  },
  {
   "cell_type": "code",
   "execution_count": 4,
   "metadata": {},
   "outputs": [],
   "source": [
    "labels = pd.read_csv('../../../Math Equations/linear_fcns/data.csv')\n",
    "#labels['img_number'] = labels['filename'].apply(lambda x: x.split('/')[-1].strip('.png'))"
   ]
  },
  {
   "cell_type": "code",
   "execution_count": 12,
   "metadata": {},
   "outputs": [
    {
     "data": {
      "text/plain": [
       "'linear_fcns/images/0.png 0a+1=2'"
      ]
     },
     "execution_count": 12,
     "metadata": {},
     "output_type": "execute_result"
    }
   ],
   "source": [
    "f'{labels.iloc[0][1]} {labels.iloc[0][0]}'"
   ]
  },
  {
   "cell_type": "code",
   "execution_count": 27,
   "metadata": {},
   "outputs": [],
   "source": [
    "join_list = []\n",
    "for i in range(0,18720):\n",
    "    join_list.append(labels.iloc[i][1] + ' ' + labels.iloc[i][0])"
   ]
  },
  {
   "cell_type": "code",
   "execution_count": 28,
   "metadata": {},
   "outputs": [],
   "source": [
    "labels['join'] = join_list"
   ]
  },
  {
   "cell_type": "code",
   "execution_count": 29,
   "metadata": {},
   "outputs": [
    {
     "data": {
      "text/html": [
       "<div>\n",
       "<style scoped>\n",
       "    .dataframe tbody tr th:only-of-type {\n",
       "        vertical-align: middle;\n",
       "    }\n",
       "\n",
       "    .dataframe tbody tr th {\n",
       "        vertical-align: top;\n",
       "    }\n",
       "\n",
       "    .dataframe thead th {\n",
       "        text-align: right;\n",
       "    }\n",
       "</style>\n",
       "<table border=\"1\" class=\"dataframe\">\n",
       "  <thead>\n",
       "    <tr style=\"text-align: right;\">\n",
       "      <th></th>\n",
       "      <th>latex</th>\n",
       "      <th>filename</th>\n",
       "      <th>join</th>\n",
       "    </tr>\n",
       "  </thead>\n",
       "  <tbody>\n",
       "    <tr>\n",
       "      <th>0</th>\n",
       "      <td>0a+1=2</td>\n",
       "      <td>linear_fcns/images/0.png</td>\n",
       "      <td>linear_fcns/images/0.png 0a+1=2</td>\n",
       "    </tr>\n",
       "    <tr>\n",
       "      <th>1</th>\n",
       "      <td>0b+1=2</td>\n",
       "      <td>linear_fcns/images/1.png</td>\n",
       "      <td>linear_fcns/images/1.png 0b+1=2</td>\n",
       "    </tr>\n",
       "    <tr>\n",
       "      <th>2</th>\n",
       "      <td>0c+1=2</td>\n",
       "      <td>linear_fcns/images/2.png</td>\n",
       "      <td>linear_fcns/images/2.png 0c+1=2</td>\n",
       "    </tr>\n",
       "    <tr>\n",
       "      <th>3</th>\n",
       "      <td>0d+1=2</td>\n",
       "      <td>linear_fcns/images/3.png</td>\n",
       "      <td>linear_fcns/images/3.png 0d+1=2</td>\n",
       "    </tr>\n",
       "    <tr>\n",
       "      <th>4</th>\n",
       "      <td>0e+1=2</td>\n",
       "      <td>linear_fcns/images/4.png</td>\n",
       "      <td>linear_fcns/images/4.png 0e+1=2</td>\n",
       "    </tr>\n",
       "    <tr>\n",
       "      <th>...</th>\n",
       "      <td>...</td>\n",
       "      <td>...</td>\n",
       "      <td>...</td>\n",
       "    </tr>\n",
       "    <tr>\n",
       "      <th>18715</th>\n",
       "      <td>9v+8=7</td>\n",
       "      <td>linear_fcns/images/18715.png</td>\n",
       "      <td>linear_fcns/images/18715.png 9v+8=7</td>\n",
       "    </tr>\n",
       "    <tr>\n",
       "      <th>18716</th>\n",
       "      <td>9w+8=7</td>\n",
       "      <td>linear_fcns/images/18716.png</td>\n",
       "      <td>linear_fcns/images/18716.png 9w+8=7</td>\n",
       "    </tr>\n",
       "    <tr>\n",
       "      <th>18717</th>\n",
       "      <td>9x+8=7</td>\n",
       "      <td>linear_fcns/images/18717.png</td>\n",
       "      <td>linear_fcns/images/18717.png 9x+8=7</td>\n",
       "    </tr>\n",
       "    <tr>\n",
       "      <th>18718</th>\n",
       "      <td>9y+8=7</td>\n",
       "      <td>linear_fcns/images/18718.png</td>\n",
       "      <td>linear_fcns/images/18718.png 9y+8=7</td>\n",
       "    </tr>\n",
       "    <tr>\n",
       "      <th>18719</th>\n",
       "      <td>9z+8=7</td>\n",
       "      <td>linear_fcns/images/18719.png</td>\n",
       "      <td>linear_fcns/images/18719.png 9z+8=7</td>\n",
       "    </tr>\n",
       "  </tbody>\n",
       "</table>\n",
       "<p>18720 rows × 3 columns</p>\n",
       "</div>"
      ],
      "text/plain": [
       "        latex                      filename  \\\n",
       "0      0a+1=2      linear_fcns/images/0.png   \n",
       "1      0b+1=2      linear_fcns/images/1.png   \n",
       "2      0c+1=2      linear_fcns/images/2.png   \n",
       "3      0d+1=2      linear_fcns/images/3.png   \n",
       "4      0e+1=2      linear_fcns/images/4.png   \n",
       "...       ...                           ...   \n",
       "18715  9v+8=7  linear_fcns/images/18715.png   \n",
       "18716  9w+8=7  linear_fcns/images/18716.png   \n",
       "18717  9x+8=7  linear_fcns/images/18717.png   \n",
       "18718  9y+8=7  linear_fcns/images/18718.png   \n",
       "18719  9z+8=7  linear_fcns/images/18719.png   \n",
       "\n",
       "                                      join  \n",
       "0          linear_fcns/images/0.png 0a+1=2  \n",
       "1          linear_fcns/images/1.png 0b+1=2  \n",
       "2          linear_fcns/images/2.png 0c+1=2  \n",
       "3          linear_fcns/images/3.png 0d+1=2  \n",
       "4          linear_fcns/images/4.png 0e+1=2  \n",
       "...                                    ...  \n",
       "18715  linear_fcns/images/18715.png 9v+8=7  \n",
       "18716  linear_fcns/images/18716.png 9w+8=7  \n",
       "18717  linear_fcns/images/18717.png 9x+8=7  \n",
       "18718  linear_fcns/images/18718.png 9y+8=7  \n",
       "18719  linear_fcns/images/18719.png 9z+8=7  \n",
       "\n",
       "[18720 rows x 3 columns]"
      ]
     },
     "execution_count": 29,
     "metadata": {},
     "output_type": "execute_result"
    }
   ],
   "source": [
    "labels"
   ]
  },
  {
   "cell_type": "code",
   "execution_count": 40,
   "metadata": {},
   "outputs": [],
   "source": [
    "f = open(\"table1.txt\",\"w+\")"
   ]
  },
  {
   "cell_type": "code",
   "execution_count": 42,
   "metadata": {},
   "outputs": [
    {
     "data": {
      "text/plain": [
       "75"
      ]
     },
     "execution_count": 42,
     "metadata": {},
     "output_type": "execute_result"
    }
   ],
   "source": [
    "f.write('0\\n1\\n2\\n3\\n4\\n5\\n6\\n7\\n8\\n9\\na\\nb\\nc\\nd\\ne\\nf\\ng\\nh\\ni\\nj\\nk\\nl\\nm\\nn\\no\\np\\nq\\nr\\ns\\nt\\nu\\nv\\nw\\nx\\ny\\nz\\n+\\n=')"
   ]
  },
  {
   "cell_type": "code",
   "execution_count": 43,
   "metadata": {},
   "outputs": [],
   "source": [
    "f.close()"
   ]
  },
  {
   "cell_type": "code",
   "execution_count": null,
   "metadata": {},
   "outputs": [],
   "source": []
  }
 ],
 "metadata": {
  "kernelspec": {
   "display_name": "Python 3",
   "language": "python",
   "name": "python3"
  },
  "language_info": {
   "codemirror_mode": {
    "name": "ipython",
    "version": 3
   },
   "file_extension": ".py",
   "mimetype": "text/x-python",
   "name": "python",
   "nbconvert_exporter": "python",
   "pygments_lexer": "ipython3",
   "version": "3.7.6"
  }
 },
 "nbformat": 4,
 "nbformat_minor": 4
}
