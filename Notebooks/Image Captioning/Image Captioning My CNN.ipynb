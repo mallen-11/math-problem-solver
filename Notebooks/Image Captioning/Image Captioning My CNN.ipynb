{
 "cells": [
  {
   "cell_type": "markdown",
   "metadata": {
    "id": "8xUzM901Sjpe"
   },
   "source": [
    "# Image Captioning with Attention"
   ]
  },
  {
   "cell_type": "code",
   "execution_count": 1,
   "metadata": {
    "colab": {
     "base_uri": "https://localhost:8080/"
    },
    "executionInfo": {
     "elapsed": 23950,
     "status": "ok",
     "timestamp": 1605553608791,
     "user": {
      "displayName": "Morgan Allen",
      "photoUrl": "https://lh3.googleusercontent.com/a-/AOh14GjaNMWmr2TlLrY_MBSDquiSqhgTuK8vCNzY4tLH=s64",
      "userId": "12026828979516915336"
     },
     "user_tz": 360
    },
    "id": "rMgFop76Sjpf",
    "outputId": "b2cf6200-462f-466c-c514-b99318169097"
   },
   "outputs": [],
   "source": [
    "import tensorflow as tf\n",
    "import numpy as np\n",
    "import pandas as pd\n",
    "from matplotlib import pyplot as plt\n",
    "from PIL import Image\n",
    "\n",
    "from sklearn.linear_model import LogisticRegression\n",
    "from sklearn.metrics import plot_confusion_matrix, confusion_matrix\n",
    "from sklearn.model_selection import train_test_split\n",
    "\n",
    "from tensorflow.keras.layers import Dense, Flatten, Conv2D, MaxPooling2D, Dropout, BatchNormalization\n",
    "from tensorflow.keras import Model\n",
    "from tensorflow.keras.models import Sequential\n",
    "from tensorflow.keras import layers\n",
    "from tensorflow import image\n",
    "\n",
    "import itertools\n",
    "import random\n",
    "\n",
    "tf.random.set_seed(1)"
   ]
  },
  {
   "cell_type": "markdown",
   "metadata": {
    "id": "CqP6UkWTSjpj"
   },
   "source": [
    "Loading the Data. The data consist of pictures and labels of linear functions"
   ]
  },
  {
   "cell_type": "code",
   "execution_count": 31,
   "metadata": {
    "executionInfo": {
     "elapsed": 976,
     "status": "ok",
     "timestamp": 1605553609779,
     "user": {
      "displayName": "Morgan Allen",
      "photoUrl": "https://lh3.googleusercontent.com/a-/AOh14GjaNMWmr2TlLrY_MBSDquiSqhgTuK8vCNzY4tLH=s64",
      "userId": "12026828979516915336"
     },
     "user_tz": 360
    },
    "id": "08AiJm9zSjpk"
   },
   "outputs": [],
   "source": [
    "import cv2\n",
    "import os\n",
    "\n",
    "def load_images_from_folder(folder, n_imgs=-1):\n",
    "    images = []\n",
    "    image_nums = []\n",
    "    for filename in os.listdir(folder)[:n_imgs]:\n",
    "        img = cv2.imread(os.path.join(folder,filename))\n",
    "        if img is not None:\n",
    "            images.append(img)\n",
    "            image_nums.append(filename.strip('.png'))\n",
    "    return images, image_nums\n",
    "\n",
    "folder=\"../../../Math Equations/linear_fcns/images\""
   ]
  },
  {
   "cell_type": "code",
   "execution_count": 32,
   "metadata": {
    "executionInfo": {
     "elapsed": 45955,
     "status": "ok",
     "timestamp": 1605554061902,
     "user": {
      "displayName": "Morgan Allen",
      "photoUrl": "https://lh3.googleusercontent.com/a-/AOh14GjaNMWmr2TlLrY_MBSDquiSqhgTuK8vCNzY4tLH=s64",
      "userId": "12026828979516915336"
     },
     "user_tz": 360
    },
    "id": "vBBKDvA8Sjpm"
   },
   "outputs": [],
   "source": [
    "images, fnames = load_images_from_folder(folder,10000)"
   ]
  },
  {
   "cell_type": "code",
   "execution_count": 33,
   "metadata": {
    "id": "WYkOrKFFSjpp"
   },
   "outputs": [],
   "source": [
    "labels = pd.read_csv('../../../Math Equations/linear_fcns/data.csv')"
   ]
  },
  {
   "cell_type": "code",
   "execution_count": 34,
   "metadata": {
    "id": "JoZjytqMWTiR"
   },
   "outputs": [],
   "source": [
    "labels['img_number'] = labels['filename'].apply(lambda x: x.split('/')[-1].strip('.png'))"
   ]
  },
  {
   "cell_type": "code",
   "execution_count": 35,
   "metadata": {
    "colab": {
     "base_uri": "https://localhost:8080/",
     "height": 204
    },
    "executionInfo": {
     "elapsed": 217,
     "status": "ok",
     "timestamp": 1605395495815,
     "user": {
      "displayName": "Morgan Allen",
      "photoUrl": "https://lh3.googleusercontent.com/a-/AOh14GjaNMWmr2TlLrY_MBSDquiSqhgTuK8vCNzY4tLH=s64",
      "userId": "12026828979516915336"
     },
     "user_tz": 360
    },
    "id": "vC3wCKPxWQaC",
    "outputId": "902efffe-60ca-411b-f507-a329adf0f01a"
   },
   "outputs": [
    {
     "data": {
      "text/html": [
       "<div>\n",
       "<style scoped>\n",
       "    .dataframe tbody tr th:only-of-type {\n",
       "        vertical-align: middle;\n",
       "    }\n",
       "\n",
       "    .dataframe tbody tr th {\n",
       "        vertical-align: top;\n",
       "    }\n",
       "\n",
       "    .dataframe thead th {\n",
       "        text-align: right;\n",
       "    }\n",
       "</style>\n",
       "<table border=\"1\" class=\"dataframe\">\n",
       "  <thead>\n",
       "    <tr style=\"text-align: right;\">\n",
       "      <th></th>\n",
       "      <th>latex</th>\n",
       "      <th>filename</th>\n",
       "      <th>img_number</th>\n",
       "    </tr>\n",
       "  </thead>\n",
       "  <tbody>\n",
       "    <tr>\n",
       "      <th>0</th>\n",
       "      <td>0a+1=2</td>\n",
       "      <td>linear_fcns/images/0.png</td>\n",
       "      <td>0</td>\n",
       "    </tr>\n",
       "    <tr>\n",
       "      <th>1</th>\n",
       "      <td>0b+1=2</td>\n",
       "      <td>linear_fcns/images/1.png</td>\n",
       "      <td>1</td>\n",
       "    </tr>\n",
       "    <tr>\n",
       "      <th>2</th>\n",
       "      <td>0c+1=2</td>\n",
       "      <td>linear_fcns/images/2.png</td>\n",
       "      <td>2</td>\n",
       "    </tr>\n",
       "    <tr>\n",
       "      <th>3</th>\n",
       "      <td>0d+1=2</td>\n",
       "      <td>linear_fcns/images/3.png</td>\n",
       "      <td>3</td>\n",
       "    </tr>\n",
       "    <tr>\n",
       "      <th>4</th>\n",
       "      <td>0e+1=2</td>\n",
       "      <td>linear_fcns/images/4.png</td>\n",
       "      <td>4</td>\n",
       "    </tr>\n",
       "  </tbody>\n",
       "</table>\n",
       "</div>"
      ],
      "text/plain": [
       "    latex                  filename img_number\n",
       "0  0a+1=2  linear_fcns/images/0.png          0\n",
       "1  0b+1=2  linear_fcns/images/1.png          1\n",
       "2  0c+1=2  linear_fcns/images/2.png          2\n",
       "3  0d+1=2  linear_fcns/images/3.png          3\n",
       "4  0e+1=2  linear_fcns/images/4.png          4"
      ]
     },
     "execution_count": 35,
     "metadata": {},
     "output_type": "execute_result"
    }
   ],
   "source": [
    "labels.head()"
   ]
  },
  {
   "cell_type": "code",
   "execution_count": 36,
   "metadata": {
    "id": "DC-tLPESWAy5"
   },
   "outputs": [],
   "source": [
    "label_array = labels[labels['img_number'].isin(fnames)]['latex'].values"
   ]
  },
  {
   "cell_type": "markdown",
   "metadata": {
    "id": "zXR3M4QBSjpv"
   },
   "source": [
    "For the labels we need to add start and end tokens so the model can recognize what to write."
   ]
  },
  {
   "cell_type": "code",
   "execution_count": 37,
   "metadata": {
    "id": "NEzxzBX8Sjpv"
   },
   "outputs": [],
   "source": [
    "label_array = [f'\\t{la}\\n' for la in label_array]"
   ]
  },
  {
   "cell_type": "markdown",
   "metadata": {
    "id": "HHztSmQ_Sjpy"
   },
   "source": [
    "Let's reshape the images so we can plot them."
   ]
  },
  {
   "cell_type": "code",
   "execution_count": 38,
   "metadata": {
    "colab": {
     "base_uri": "https://localhost:8080/"
    },
    "executionInfo": {
     "elapsed": 244,
     "status": "ok",
     "timestamp": 1605395503599,
     "user": {
      "displayName": "Morgan Allen",
      "photoUrl": "https://lh3.googleusercontent.com/a-/AOh14GjaNMWmr2TlLrY_MBSDquiSqhgTuK8vCNzY4tLH=s64",
      "userId": "12026828979516915336"
     },
     "user_tz": 360
    },
    "id": "9XdF3xaGSjpy",
    "outputId": "9b633ce9-2750-4b1c-e926-9f2b75a9d58f"
   },
   "outputs": [
    {
     "data": {
      "text/plain": [
       "(10000, 72, 360, 1)"
      ]
     },
     "execution_count": 38,
     "metadata": {},
     "output_type": "execute_result"
    }
   ],
   "source": [
    "images_for_split = images\n",
    "images = np.array(images)\n",
    "images = 255 - images\n",
    "images = tf.image.rgb_to_grayscale(images)\n",
    "images = images.numpy()\n",
    "images.shape"
   ]
  },
  {
   "cell_type": "code",
   "execution_count": 39,
   "metadata": {},
   "outputs": [
    {
     "data": {
      "text/plain": [
       "<matplotlib.image.AxesImage at 0x7fd06ca89fd0>"
      ]
     },
     "execution_count": 39,
     "metadata": {},
     "output_type": "execute_result"
    },
    {
     "data": {
      "image/png": "[encoded data removed]",
      "text/plain": [
       "<Figure size 432x288 with 1 Axes>"
      ]
     },
     "metadata": {
      "needs_background": "light"
     },
     "output_type": "display_data"
    }
   ],
   "source": [
    "plt.imshow(images[0].squeeze())"
   ]
  },
  {
   "cell_type": "markdown",
   "metadata": {
    "id": "fQYvxF90Sjp3"
   },
   "source": [
    "Now we can process them and prepare them for inceptionv3 which is transfer learning"
   ]
  },
  {
   "cell_type": "code",
   "execution_count": 40,
   "metadata": {},
   "outputs": [],
   "source": [
    "img_train, img_test, img_train_name, img_test_name = train_test_split(images, label_array, test_size=.3)"
   ]
  },
  {
   "cell_type": "code",
   "execution_count": 51,
   "metadata": {},
   "outputs": [],
   "source": [
    "img_mini = tf.image.resize_with_pad(img_train, 125, 125)\n",
    "img_test= tf.image.resize_with_pad(img_test, 125, 125)"
   ]
  },
  {
   "cell_type": "code",
   "execution_count": 52,
   "metadata": {},
   "outputs": [],
   "source": [
    "#img_mini = tf.image.resize(img_train, (150, 150))\n",
    "#img_test= tf.image.resize(img_test, (150, 150))"
   ]
  },
  {
   "cell_type": "markdown",
   "metadata": {
    "id": "s-8n1FtqSjp8"
   },
   "source": [
    "Now we can load the features of the inceptionv3 model as seen below."
   ]
  },
  {
   "cell_type": "code",
   "execution_count": 53,
   "metadata": {
    "colab": {
     "base_uri": "https://localhost:8080/",
     "height": 303
    },
    "executionInfo": {
     "elapsed": 305,
     "status": "ok",
     "timestamp": 1605395508912,
     "user": {
      "displayName": "Morgan Allen",
      "photoUrl": "https://lh3.googleusercontent.com/a-/AOh14GjaNMWmr2TlLrY_MBSDquiSqhgTuK8vCNzY4tLH=s64",
      "userId": "12026828979516915336"
     },
     "user_tz": 360
    },
    "id": "8uSNNnvdSjp6",
    "outputId": "c123a164-46bf-4b86-9368-f105029f9f0e"
   },
   "outputs": [
    {
     "data": {
      "text/plain": [
       "<matplotlib.image.AxesImage at 0x7fce905536d0>"
      ]
     },
     "execution_count": 53,
     "metadata": {},
     "output_type": "execute_result"
    },
    {
     "data": {
      "image/png": "[encoded data removed]",
      "text/plain": [
       "<Figure size 432x288 with 1 Axes>"
      ]
     },
     "metadata": {
      "needs_background": "light"
     },
     "output_type": "display_data"
    }
   ],
   "source": [
    "plt.imshow(img_mini[0])"
   ]
  },
  {
   "cell_type": "code",
   "execution_count": 54,
   "metadata": {
    "id": "hgB8p8KZSjp8"
   },
   "outputs": [],
   "source": [
    "image_model = tf.keras.models.load_model('../Learning CNNs/saved_model/my_model2')\n",
    "\n",
    "new_input = image_model.input\n",
    "hidden_layer = image_model.layers[-7].output\n",
    "\n",
    "image_features_extract_model = tf.keras.Model(new_input, hidden_layer)"
   ]
  },
  {
   "cell_type": "code",
   "execution_count": 55,
   "metadata": {
    "id": "llWCIcu3Sjp_"
   },
   "outputs": [],
   "source": [
    "# Feel free to change batch_size according to your system configuration\n",
    "image_dataset = tf.data.Dataset.from_tensor_slices((img_mini, img_train_name)).batch(500)#(img_mini, label_array)).batch(1)\n",
    "c = 1\n",
    "\n",
    "for img, label in image_dataset:\n",
    "    batch_features = image_features_extract_model(img)\n",
    "    batch_features = tf.reshape(batch_features,\n",
    "                              (batch_features.shape[0], -1, batch_features.shape[3]))\n",
    "  \n",
    "    p = f'../Batch Features My CNN/batch_features{c}'\n",
    "    c = c+1 \n",
    "     #path_of_feature = p.numpy().decode(\"utf-8\")\n",
    "    np.save(p, batch_features)"
   ]
  },
  {
   "cell_type": "code",
   "execution_count": 56,
   "metadata": {
    "id": "iKq5_-oTP22q"
   },
   "outputs": [
    {
     "ename": "FileNotFoundError",
     "evalue": "[Errno 2] No such file or directory: '../Batch Features My CNN/batch_features15.npy'",
     "output_type": "error",
     "traceback": [
      "\u001b[0;31m---------------------------------------------------------------------------\u001b[0m",
      "\u001b[0;31mFileNotFoundError\u001b[0m                         Traceback (most recent call last)",
      "\u001b[0;32m<ipython-input-56-45be2e427b9f>\u001b[0m in \u001b[0;36m<module>\u001b[0;34m\u001b[0m\n\u001b[1;32m      1\u001b[0m \u001b[0mimg_load\u001b[0m \u001b[0;34m=\u001b[0m \u001b[0mnp\u001b[0m\u001b[0;34m.\u001b[0m\u001b[0mload\u001b[0m\u001b[0;34m(\u001b[0m\u001b[0;34m'../Batch Features My CNN/batch_features1.npy'\u001b[0m\u001b[0;34m)\u001b[0m\u001b[0;34m\u001b[0m\u001b[0;34m\u001b[0m\u001b[0m\n\u001b[1;32m      2\u001b[0m \u001b[0;32mfor\u001b[0m \u001b[0mi\u001b[0m \u001b[0;32min\u001b[0m \u001b[0mrange\u001b[0m\u001b[0;34m(\u001b[0m\u001b[0;36m2\u001b[0m\u001b[0;34m,\u001b[0m\u001b[0;36m61\u001b[0m\u001b[0;34m)\u001b[0m\u001b[0;34m:\u001b[0m\u001b[0;34m\u001b[0m\u001b[0;34m\u001b[0m\u001b[0m\n\u001b[0;32m----> 3\u001b[0;31m     \u001b[0mimg_add\u001b[0m \u001b[0;34m=\u001b[0m \u001b[0mnp\u001b[0m\u001b[0;34m.\u001b[0m\u001b[0mload\u001b[0m\u001b[0;34m(\u001b[0m\u001b[0;34mf'../Batch Features My CNN/batch_features{i}.npy'\u001b[0m\u001b[0;34m)\u001b[0m\u001b[0;34m\u001b[0m\u001b[0;34m\u001b[0m\u001b[0m\n\u001b[0m\u001b[1;32m      4\u001b[0m     \u001b[0mimg_load\u001b[0m \u001b[0;34m=\u001b[0m \u001b[0mnp\u001b[0m\u001b[0;34m.\u001b[0m\u001b[0mconcatenate\u001b[0m\u001b[0;34m(\u001b[0m\u001b[0;34m(\u001b[0m\u001b[0mimg_load\u001b[0m\u001b[0;34m,\u001b[0m \u001b[0mimg_add\u001b[0m\u001b[0;34m)\u001b[0m\u001b[0;34m)\u001b[0m\u001b[0;34m\u001b[0m\u001b[0;34m\u001b[0m\u001b[0m\n",
      "\u001b[0;32m/opt/miniconda3/lib/python3.7/site-packages/numpy/lib/npyio.py\u001b[0m in \u001b[0;36mload\u001b[0;34m(file, mmap_mode, allow_pickle, fix_imports, encoding)\u001b[0m\n\u001b[1;32m    414\u001b[0m             \u001b[0mown_fid\u001b[0m \u001b[0;34m=\u001b[0m \u001b[0;32mFalse\u001b[0m\u001b[0;34m\u001b[0m\u001b[0;34m\u001b[0m\u001b[0m\n\u001b[1;32m    415\u001b[0m         \u001b[0;32melse\u001b[0m\u001b[0;34m:\u001b[0m\u001b[0;34m\u001b[0m\u001b[0;34m\u001b[0m\u001b[0m\n\u001b[0;32m--> 416\u001b[0;31m             \u001b[0mfid\u001b[0m \u001b[0;34m=\u001b[0m \u001b[0mstack\u001b[0m\u001b[0;34m.\u001b[0m\u001b[0menter_context\u001b[0m\u001b[0;34m(\u001b[0m\u001b[0mopen\u001b[0m\u001b[0;34m(\u001b[0m\u001b[0mos_fspath\u001b[0m\u001b[0;34m(\u001b[0m\u001b[0mfile\u001b[0m\u001b[0;34m)\u001b[0m\u001b[0;34m,\u001b[0m \u001b[0;34m\"rb\"\u001b[0m\u001b[0;34m)\u001b[0m\u001b[0;34m)\u001b[0m\u001b[0;34m\u001b[0m\u001b[0;34m\u001b[0m\u001b[0m\n\u001b[0m\u001b[1;32m    417\u001b[0m             \u001b[0mown_fid\u001b[0m \u001b[0;34m=\u001b[0m \u001b[0;32mTrue\u001b[0m\u001b[0;34m\u001b[0m\u001b[0;34m\u001b[0m\u001b[0m\n\u001b[1;32m    418\u001b[0m \u001b[0;34m\u001b[0m\u001b[0m\n",
      "\u001b[0;31mFileNotFoundError\u001b[0m: [Errno 2] No such file or directory: '../Batch Features My CNN/batch_features15.npy'"
     ]
    }
   ],
   "source": [
    "img_load = np.load('../Batch Features My CNN/batch_features1.npy')\n",
    "for i in range(2,61):\n",
    "    img_add = np.load(f'../Batch Features My CNN/batch_features{i}.npy')\n",
    "    img_load = np.concatenate((img_load, img_add))"
   ]
  },
  {
   "cell_type": "code",
   "execution_count": 57,
   "metadata": {
    "colab": {
     "base_uri": "https://localhost:8080/"
    },
    "executionInfo": {
     "elapsed": 273,
     "status": "ok",
     "timestamp": 1605396800358,
     "user": {
      "displayName": "Morgan Allen",
      "photoUrl": "https://lh3.googleusercontent.com/a-/AOh14GjaNMWmr2TlLrY_MBSDquiSqhgTuK8vCNzY4tLH=s64",
      "userId": "12026828979516915336"
     },
     "user_tz": 360
    },
    "id": "js8_OsgYQLM3",
    "outputId": "cda0393f-c083-4bfd-96f5-e5e67e122071"
   },
   "outputs": [
    {
     "data": {
      "text/plain": [
       "(7000, 1024, 15)"
      ]
     },
     "execution_count": 57,
     "metadata": {},
     "output_type": "execute_result"
    }
   ],
   "source": [
    "img_load.shape"
   ]
  },
  {
   "cell_type": "markdown",
   "metadata": {
    "id": "dywlI7LUSjqC"
   },
   "source": [
    "### Tokenizing the labels\n",
    "\n",
    "Now we can pad the labels to make sure they are all the same length."
   ]
  },
  {
   "cell_type": "code",
   "execution_count": 58,
   "metadata": {
    "id": "xPgRuUgBbnPJ"
   },
   "outputs": [],
   "source": [
    "# Find the maximum length of any caption in our dataset\n",
    "def calc_max_length(tensor):\n",
    "    return max(len(t) for t in tensor)"
   ]
  },
  {
   "cell_type": "code",
   "execution_count": 59,
   "metadata": {
    "id": "Gipm5btLaNTb"
   },
   "outputs": [],
   "source": [
    "# Choose the top 5000 words from the vocabulary\n",
    "top_k = 41\n",
    "tokenizer = tf.keras.preprocessing.text.Tokenizer(num_words=top_k,\n",
    "                                                  oov_token=\"<unk>\",\n",
    "                                                  filters=' ',\n",
    "                                                  char_level=True)\n",
    "tokenizer.fit_on_texts(img_train_name)#label_array)\n",
    "train_seqs = tokenizer.texts_to_sequences(img_train_name)\n",
    "\n",
    "# Padding\n",
    "tokenizer.word_index['<pad>'] = 0\n",
    "tokenizer.index_word[0] = '<pad>'\n",
    "\n",
    "# Create the tokenized vectors\n",
    "train_seqs = tokenizer.texts_to_sequences(img_train_name)\n",
    "\n",
    "# Pad each vector to the max_length of the captions\n",
    "# If you do not provide a max_length value, pad_sequences calculates it automatically\n",
    "cap_vector = tf.keras.preprocessing.sequence.pad_sequences(train_seqs, padding='post')\n",
    "\n",
    "# Calculates the max_length, which is used to store the attention weights\n",
    "max_length = calc_max_length(train_seqs)"
   ]
  },
  {
   "cell_type": "code",
   "execution_count": 60,
   "metadata": {
    "colab": {
     "base_uri": "https://localhost:8080/"
    },
    "executionInfo": {
     "elapsed": 203,
     "status": "ok",
     "timestamp": 1605396804461,
     "user": {
      "displayName": "Morgan Allen",
      "photoUrl": "https://lh3.googleusercontent.com/a-/AOh14GjaNMWmr2TlLrY_MBSDquiSqhgTuK8vCNzY4tLH=s64",
      "userId": "12026828979516915336"
     },
     "user_tz": 360
    },
    "id": "YfFg62gAcaL9",
    "outputId": "2f57f655-d469-4ca3-c192-68bd3b2e5087"
   },
   "outputs": [
    {
     "data": {
      "text/plain": [
       "{'num_words': 41,\n",
       " 'filters': ' ',\n",
       " 'lower': True,\n",
       " 'split': ' ',\n",
       " 'char_level': True,\n",
       " 'oov_token': '<unk>',\n",
       " 'document_count': 7000,\n",
       " 'word_counts': '{\"\\\\t\": 7000, \"5\": 2114, \"m\": 281, \"+\": 7000, \"7\": 2196, \"=\": 7000, \"1\": 2055, \"\\\\n\": 7000, \"z\": 270, \"3\": 2092, \"i\": 278, \"2\": 1956, \"9\": 2157, \"s\": 282, \"4\": 2091, \"8\": 2142, \"0\": 2057, \"u\": 258, \"q\": 282, \"p\": 276, \"v\": 275, \"t\": 274, \"6\": 2140, \"r\": 249, \"c\": 257, \"g\": 273, \"d\": 260, \"l\": 254, \"y\": 268, \"a\": 274, \"e\": 262, \"x\": 274, \"k\": 285, \"n\": 289, \"b\": 276, \"j\": 265, \"h\": 266, \"f\": 261, \"o\": 251, \"w\": 260}',\n",
       " 'word_docs': '{\"1\": 2055, \"\\\\n\": 7000, \"+\": 7000, \"=\": 7000, \"5\": 2114, \"7\": 2196, \"\\\\t\": 7000, \"m\": 281, \"z\": 270, \"3\": 2092, \"2\": 1956, \"9\": 2157, \"i\": 278, \"s\": 282, \"4\": 2091, \"8\": 2142, \"u\": 258, \"0\": 2057, \"q\": 282, \"p\": 276, \"v\": 275, \"t\": 274, \"6\": 2140, \"r\": 249, \"c\": 257, \"g\": 273, \"d\": 260, \"l\": 254, \"y\": 268, \"a\": 274, \"e\": 262, \"x\": 274, \"k\": 285, \"n\": 289, \"b\": 276, \"j\": 265, \"h\": 266, \"f\": 261, \"o\": 251, \"w\": 260}',\n",
       " 'index_docs': '{\"14\": 2055, \"5\": 7000, \"3\": 7000, \"4\": 7000, \"10\": 2114, \"6\": 2196, \"2\": 7000, \"20\": 281, \"29\": 270, \"11\": 2092, \"15\": 1956, \"7\": 2157, \"21\": 278, \"18\": 282, \"12\": 2091, \"8\": 2142, \"37\": 258, \"13\": 2057, \"19\": 282, \"22\": 276, \"24\": 275, \"25\": 274, \"9\": 2140, \"41\": 249, \"38\": 257, \"28\": 273, \"35\": 260, \"39\": 254, \"30\": 268, \"26\": 274, \"33\": 262, \"27\": 274, \"17\": 285, \"16\": 289, \"23\": 276, \"32\": 265, \"31\": 266, \"34\": 261, \"40\": 251, \"36\": 260}',\n",
       " 'index_word': '{\"1\": \"<unk>\", \"2\": \"\\\\t\", \"3\": \"+\", \"4\": \"=\", \"5\": \"\\\\n\", \"6\": \"7\", \"7\": \"9\", \"8\": \"8\", \"9\": \"6\", \"10\": \"5\", \"11\": \"3\", \"12\": \"4\", \"13\": \"0\", \"14\": \"1\", \"15\": \"2\", \"16\": \"n\", \"17\": \"k\", \"18\": \"s\", \"19\": \"q\", \"20\": \"m\", \"21\": \"i\", \"22\": \"p\", \"23\": \"b\", \"24\": \"v\", \"25\": \"t\", \"26\": \"a\", \"27\": \"x\", \"28\": \"g\", \"29\": \"z\", \"30\": \"y\", \"31\": \"h\", \"32\": \"j\", \"33\": \"e\", \"34\": \"f\", \"35\": \"d\", \"36\": \"w\", \"37\": \"u\", \"38\": \"c\", \"39\": \"l\", \"40\": \"o\", \"41\": \"r\", \"0\": \"<pad>\"}',\n",
       " 'word_index': '{\"<unk>\": 1, \"\\\\t\": 2, \"+\": 3, \"=\": 4, \"\\\\n\": 5, \"7\": 6, \"9\": 7, \"8\": 8, \"6\": 9, \"5\": 10, \"3\": 11, \"4\": 12, \"0\": 13, \"1\": 14, \"2\": 15, \"n\": 16, \"k\": 17, \"s\": 18, \"q\": 19, \"m\": 20, \"i\": 21, \"p\": 22, \"b\": 23, \"v\": 24, \"t\": 25, \"a\": 26, \"x\": 27, \"g\": 28, \"z\": 29, \"y\": 30, \"h\": 31, \"j\": 32, \"e\": 33, \"f\": 34, \"d\": 35, \"w\": 36, \"u\": 37, \"c\": 38, \"l\": 39, \"o\": 40, \"r\": 41, \"<pad>\": 0}'}"
      ]
     },
     "execution_count": 60,
     "metadata": {},
     "output_type": "execute_result"
    }
   ],
   "source": [
    "tokenizer.get_config()"
   ]
  },
  {
   "cell_type": "code",
   "execution_count": 61,
   "metadata": {
    "colab": {
     "base_uri": "https://localhost:8080/"
    },
    "executionInfo": {
     "elapsed": 261,
     "status": "ok",
     "timestamp": 1605396805750,
     "user": {
      "displayName": "Morgan Allen",
      "photoUrl": "https://lh3.googleusercontent.com/a-/AOh14GjaNMWmr2TlLrY_MBSDquiSqhgTuK8vCNzY4tLH=s64",
      "userId": "12026828979516915336"
     },
     "user_tz": 360
    },
    "id": "GhqB3K30dMEo",
    "outputId": "aa4eee8d-77a9-4033-c9e3-2fea59b698fa"
   },
   "outputs": [
    {
     "data": {
      "text/plain": [
       "8"
      ]
     },
     "execution_count": 61,
     "metadata": {},
     "output_type": "execute_result"
    }
   ],
   "source": [
    "max_length"
   ]
  },
  {
   "cell_type": "code",
   "execution_count": 62,
   "metadata": {
    "colab": {
     "base_uri": "https://localhost:8080/"
    },
    "executionInfo": {
     "elapsed": 417,
     "status": "ok",
     "timestamp": 1605396806687,
     "user": {
      "displayName": "Morgan Allen",
      "photoUrl": "https://lh3.googleusercontent.com/a-/AOh14GjaNMWmr2TlLrY_MBSDquiSqhgTuK8vCNzY4tLH=s64",
      "userId": "12026828979516915336"
     },
     "user_tz": 360
    },
    "id": "QKIAGkIIb5ty",
    "outputId": "ddfd8187-4314-40ca-f60f-abd639d21457"
   },
   "outputs": [
    {
     "name": "stdout",
     "output_type": "stream",
     "text": [
      "\t0i+1=2\n",
      " -> [2, 10, 20, 3, 6, 4, 14, 5]\n"
     ]
    }
   ],
   "source": [
    "print(f'{label_array[0]} -> {train_seqs[0]}')"
   ]
  },
  {
   "cell_type": "code",
   "execution_count": 63,
   "metadata": {
    "colab": {
     "base_uri": "https://localhost:8080/"
    },
    "executionInfo": {
     "elapsed": 177,
     "status": "ok",
     "timestamp": 1605396807076,
     "user": {
      "displayName": "Morgan Allen",
      "photoUrl": "https://lh3.googleusercontent.com/a-/AOh14GjaNMWmr2TlLrY_MBSDquiSqhgTuK8vCNzY4tLH=s64",
      "userId": "12026828979516915336"
     },
     "user_tz": 360
    },
    "id": "wWBs6Njidhy4",
    "outputId": "c72990bc-4ddb-4444-ecfe-89622e4d5e17"
   },
   "outputs": [
    {
     "data": {
      "text/plain": [
       "[2, 10, 20, 3, 6, 4, 14, 5]"
      ]
     },
     "execution_count": 63,
     "metadata": {},
     "output_type": "execute_result"
    }
   ],
   "source": [
    "import json\n",
    "\n",
    "char_to_int_map = tokenizer.get_config()['word_index']\n",
    "char_to_int_map = json.loads(char_to_int_map)\n",
    "[char_to_int_map[c] for c in img_train_name[0]]"
   ]
  },
  {
   "cell_type": "code",
   "execution_count": 169,
   "metadata": {
    "id": "dmak8HTlSjqT"
   },
   "outputs": [],
   "source": [
    "# Feel free to change these parameters according to your system's configuration\n",
    "embedding_dim = 45\n",
    "units = 32\n",
    "vocab_size = top_k + 1\n",
    "num_steps = len(img_train) // 1\n",
    "# Shape of the vector extracted from InceptionV3 is (64, 2048)\n",
    "# These two variables represent that vector shape\n",
    "features_shape = 2048\n",
    "attention_features_shape = 64"
   ]
  },
  {
   "cell_type": "markdown",
   "metadata": {
    "id": "G8xkSSS7Sjqb"
   },
   "source": [
    "## Model\n",
    "\n",
    "Below we are defining the attention, the encoder and the decoder. The encoder is just a fully connected layer from the features already extracted."
   ]
  },
  {
   "cell_type": "code",
   "execution_count": 170,
   "metadata": {
    "id": "f7L_cEJzSjqc"
   },
   "outputs": [],
   "source": [
    "class BahdanauAttention(tf.keras.Model):\n",
    "    def __init__(self, units):\n",
    "        super(BahdanauAttention, self).__init__()\n",
    "        self.W1 = tf.keras.layers.Dense(units)\n",
    "        self.W2 = tf.keras.layers.Dense(units)\n",
    "        self.V = tf.keras.layers.Dense(1)\n",
    "\n",
    "    def call(self, features, hidden):\n",
    "        # features(CNN_encoder output) shape == (batch_size, 64, embedding_dim)\n",
    "\n",
    "        # hidden shape == (batch_size, hidden_size)\n",
    "        # hidden_with_time_axis shape == (batch_size, 1, hidden_size)\n",
    "        hidden_with_time_axis = tf.expand_dims(hidden, 1)\n",
    "\n",
    "        # attention_hidden_layer shape == (batch_size, 64, units)\n",
    "        attention_hidden_layer = (tf.nn.tanh(self.W1(features) +\n",
    "                                             self.W2(hidden_with_time_axis)))\n",
    "\n",
    "        # score shape == (batch_size, 64, 1)\n",
    "        # This gives you an unnormalized score for each image feature.\n",
    "        score = self.V(attention_hidden_layer)\n",
    "\n",
    "        # attention_weights shape == (batch_size, 64, 1)\n",
    "        attention_weights = tf.nn.softmax(score, axis=1)\n",
    "\n",
    "        # context_vector shape after sum == (batch_size, hidden_size)\n",
    "        context_vector = attention_weights * features\n",
    "        context_vector = tf.reduce_sum(context_vector, axis=1)\n",
    "\n",
    "        return context_vector, attention_weights"
   ]
  },
  {
   "cell_type": "code",
   "execution_count": 171,
   "metadata": {
    "id": "Eij3DZsYSjqe"
   },
   "outputs": [],
   "source": [
    "class CNN_Encoder(tf.keras.Model):\n",
    "    # Since you have already extracted the features and dumped it using pickle\n",
    "    # This encoder passes those features through a Fully connected layer\n",
    "    def __init__(self, embedding_dim):\n",
    "        super(CNN_Encoder, self).__init__()\n",
    "        # shape after fc == (batch_size, 64, embedding_dim)\n",
    "        self.fc = tf.keras.layers.Dense(embedding_dim)\n",
    "\n",
    "    def call(self, x):\n",
    "        x = self.fc(x)\n",
    "        #print(f'This is x: {x}')\n",
    "        x = tf.nn.relu(x)\n",
    "        #print(f'This is x: {x}')\n",
    "        return x"
   ]
  },
  {
   "cell_type": "code",
   "execution_count": 172,
   "metadata": {
    "id": "dLl75ZtPSjqh"
   },
   "outputs": [],
   "source": [
    "class RNN_Decoder(tf.keras.Model):\n",
    "    def __init__(self, embedding_dim, units, vocab_size):\n",
    "        super(RNN_Decoder, self).__init__()\n",
    "        self.units = units\n",
    "\n",
    "        self.embedding = tf.keras.layers.Embedding(vocab_size, embedding_dim)\n",
    "        self.gru = tf.keras.layers.GRU(self.units,\n",
    "                                       return_sequences=True,\n",
    "                                       return_state=True,\n",
    "                                       recurrent_initializer='glorot_uniform')\n",
    "        self.fc1 = tf.keras.layers.Dense(self.units)\n",
    "        self.fc2 = tf.keras.layers.Dense(vocab_size)\n",
    "\n",
    "        self.attention = BahdanauAttention(self.units)\n",
    "\n",
    "    def call(self, x, features, hidden):\n",
    "        # defining attention as a separate model\n",
    "        context_vector, attention_weights = self.attention(features, hidden)\n",
    "        #print('decoder attention complete')\n",
    "\n",
    "        # x shape after passing through embedding == (batch_size, 1, embedding_dim)\n",
    "        x = self.embedding(x)\n",
    "        #print('decoder embedding complete')\n",
    "        #print(f'x.shape = {x.shape}')\n",
    "        #print(f'context_vector.shape = {context_vector.shape}')\n",
    "\n",
    "        # x shape after concatenation == (batch_size, 1, embedding_dim + hidden_size)\n",
    "        x = tf.concat([tf.expand_dims(context_vector, 1), x], axis=-1)\n",
    "        #print('decoder embedding + context vector complete')\n",
    "\n",
    "        # passing the concatenated vector to the GRU\n",
    "        output, state = self.gru(x)\n",
    "        #print('decoder gru complete')\n",
    "\n",
    "        # shape == (batch_size, max_length, hidden_size)\n",
    "        x = self.fc1(output)\n",
    "        #print('decoder fc1 complete')\n",
    "\n",
    "        # x shape == (batch_size * max_length, hidden_size)\n",
    "        x = tf.reshape(x, (-1, x.shape[2]))\n",
    "        #print('decoder reshape complete')\n",
    "\n",
    "        # output shape == (batch_size * max_length, vocab)\n",
    "        x = self.fc2(x)\n",
    "        #print('decoder fc2 complete')\n",
    "\n",
    "        return x, state, attention_weights\n",
    "\n",
    "    def reset_state(self, batch_size):\n",
    "        return tf.zeros((batch_size, self.units))"
   ]
  },
  {
   "cell_type": "code",
   "execution_count": 173,
   "metadata": {
    "id": "quKzY4IeSjqj"
   },
   "outputs": [],
   "source": [
    "encoder = CNN_Encoder(embedding_dim)\n",
    "decoder = RNN_Decoder(embedding_dim, units, vocab_size)"
   ]
  },
  {
   "cell_type": "code",
   "execution_count": 174,
   "metadata": {
    "id": "kI5g_iYrSjql"
   },
   "outputs": [],
   "source": [
    "optimizer = tf.keras.optimizers.Adam()\n",
    "loss_object = tf.keras.losses.SparseCategoricalCrossentropy(\n",
    "    from_logits=True, reduction='none')\n",
    "\n",
    "def loss_function(real, pred):\n",
    "    mask = tf.math.logical_not(tf.math.equal(real, 0))\n",
    "    loss_ = loss_object(real, pred)\n",
    "\n",
    "    mask = tf.cast(mask, dtype=loss_.dtype)\n",
    "    loss_ *= mask\n",
    "\n",
    "    return tf.reduce_mean(loss_)"
   ]
  },
  {
   "cell_type": "code",
   "execution_count": 175,
   "metadata": {
    "id": "MASAvbV3Sjqn"
   },
   "outputs": [],
   "source": [
    "checkpoint_path = \"./checkpoints/train_my_cnn\"\n",
    "ckpt = tf.train.Checkpoint(encoder=encoder,\n",
    "                           decoder=decoder,\n",
    "                           optimizer = optimizer)\n",
    "ckpt_manager = tf.train.CheckpointManager(ckpt, checkpoint_path, max_to_keep=5)"
   ]
  },
  {
   "cell_type": "code",
   "execution_count": 176,
   "metadata": {
    "id": "8yQjrGWkSjqo"
   },
   "outputs": [],
   "source": [
    "start_epoch = 0\n",
    "if ckpt_manager.latest_checkpoint:\n",
    "      start_epoch = int(ckpt_manager.latest_checkpoint.split('-')[-1])\n",
    "      # restoring the latest checkpoint in checkpoint_path\n",
    "      ckpt.restore(ckpt_manager.latest_checkpoint)"
   ]
  },
  {
   "cell_type": "code",
   "execution_count": 177,
   "metadata": {
    "id": "IE7pUZDGSjqq"
   },
   "outputs": [],
   "source": [
    "# adding this in a separate cell because if you run the training cell\n",
    "# many times, the loss_plot array will be reset\n",
    "loss_plot = []"
   ]
  },
  {
   "cell_type": "code",
   "execution_count": 178,
   "metadata": {
    "id": "JHXjLxYuSjqs"
   },
   "outputs": [],
   "source": [
    "@tf.function\n",
    "def train_step(img_tensor, target):\n",
    "    loss = 0\n",
    "\n",
    "          # initializing the hidden state for each batch\n",
    "          # because the captions are not related from image to image\n",
    "    hidden = decoder.reset_state(batch_size=target.shape[0])\n",
    "    #print(f'hidden complete: {hidden}')\n",
    "\n",
    "    # Create a vector of all \\t indices to indicate the start of prediction\n",
    "    dec_input = tf.expand_dims([tokenizer.word_index['\\t']] * target.shape[0], 1)\n",
    "    #print(f'dec_input complete: {dec_input}')\n",
    "\n",
    "    with tf.GradientTape() as tape:\n",
    "        features = encoder(img_tensor)\n",
    "        #print('encoder complete')\n",
    "        #print(f'features.shape = {features.shape}')\n",
    "\n",
    "        # iterate through timesteps to predict the i'th character\n",
    "        for i in range(1, target.shape[1]):\n",
    "            # passing the features through the decoder\n",
    "            predictions, hidden, _ = decoder(dec_input, features, hidden)\n",
    "            #print('decoder complete')\n",
    "\n",
    "            loss += loss_function(target[:, i], predictions)\n",
    "\n",
    "            # using teacher forcing\n",
    "            dec_input = tf.expand_dims(target[:, i], 1)\n",
    "\n",
    "    total_loss = (loss / int(target.shape[1]))\n",
    "\n",
    "    trainable_variables = encoder.trainable_variables + decoder.trainable_variables\n",
    "\n",
    "    gradients = tape.gradient(loss, trainable_variables)\n",
    "\n",
    "    optimizer.apply_gradients(zip(gradients, trainable_variables))\n",
    "\n",
    "    return loss, total_loss"
   ]
  },
  {
   "cell_type": "code",
   "execution_count": 179,
   "metadata": {
    "id": "hKZ-gQg4hmoZ"
   },
   "outputs": [],
   "source": [
    "image_dataset_encoded = tf.data.Dataset.from_tensor_slices((img_load, cap_vector)).batch(500)"
   ]
  },
  {
   "cell_type": "code",
   "execution_count": 180,
   "metadata": {
    "colab": {
     "base_uri": "https://localhost:8080/"
    },
    "executionInfo": {
     "elapsed": 7322,
     "status": "ok",
     "timestamp": 1605397126121,
     "user": {
      "displayName": "Morgan Allen",
      "photoUrl": "https://lh3.googleusercontent.com/a-/AOh14GjaNMWmr2TlLrY_MBSDquiSqhgTuK8vCNzY4tLH=s64",
      "userId": "12026828979516915336"
     },
     "user_tz": 360
    },
    "id": "vZPAuWz8Sjqu",
    "outputId": "cacc9dc1-aae4-4391-dba4-b28245e0d454",
    "scrolled": true
   },
   "outputs": [
    {
     "name": "stdout",
     "output_type": "stream",
     "text": [
      "Epoch 5 Batch 0 Loss 1.2859\n",
      "Epoch 5 Batch 1 Loss 1.2853\n",
      "Epoch 5 Batch 2 Loss 1.2841\n",
      "Epoch 5 Batch 3 Loss 1.2837\n",
      "Epoch 5 Batch 4 Loss 1.2844\n",
      "Epoch 5 Batch 5 Loss 1.2851\n",
      "Epoch 5 Batch 6 Loss 1.2849\n",
      "Epoch 5 Batch 7 Loss 1.2838\n",
      "Epoch 5 Batch 8 Loss 1.2850\n",
      "Epoch 5 Batch 9 Loss 1.2829\n",
      "Epoch 5 Batch 10 Loss 1.2833\n",
      "Epoch 5 Batch 11 Loss 1.2837\n",
      "Epoch 5 Batch 12 Loss 1.2843\n",
      "Epoch 5 Batch 13 Loss 1.2827\n",
      "7000\n",
      "Epoch 5 Loss 0.002568\n",
      "Time taken for 1 epoch 34.33939814567566 sec\n",
      "\n",
      "Epoch 6 Batch 0 Loss 1.2828\n",
      "Epoch 6 Batch 1 Loss 1.2825\n",
      "Epoch 6 Batch 2 Loss 1.2817\n",
      "Epoch 6 Batch 3 Loss 1.2810\n",
      "Epoch 6 Batch 4 Loss 1.2816\n",
      "Epoch 6 Batch 5 Loss 1.2825\n",
      "Epoch 6 Batch 6 Loss 1.2820\n",
      "Epoch 6 Batch 7 Loss 1.2811\n",
      "Epoch 6 Batch 8 Loss 1.2823\n",
      "Epoch 6 Batch 9 Loss 1.2805\n",
      "Epoch 6 Batch 10 Loss 1.2810\n",
      "Epoch 6 Batch 11 Loss 1.2813\n",
      "Epoch 6 Batch 12 Loss 1.2820\n",
      "Epoch 6 Batch 13 Loss 1.2805\n",
      "7000\n",
      "Epoch 6 Loss 0.002563\n",
      "Time taken for 1 epoch 23.755903005599976 sec\n",
      "\n",
      "Epoch 7 Batch 0 Loss 1.2807\n",
      "Epoch 7 Batch 1 Loss 1.2805\n",
      "Epoch 7 Batch 2 Loss 1.2799\n",
      "Epoch 7 Batch 3 Loss 1.2790\n",
      "Epoch 7 Batch 4 Loss 1.2797\n",
      "Epoch 7 Batch 5 Loss 1.2807\n",
      "Epoch 7 Batch 6 Loss 1.2799\n",
      "Epoch 7 Batch 7 Loss 1.2793\n",
      "Epoch 7 Batch 8 Loss 1.2804\n",
      "Epoch 7 Batch 9 Loss 1.2787\n",
      "Epoch 7 Batch 10 Loss 1.2793\n",
      "Epoch 7 Batch 11 Loss 1.2795\n",
      "Epoch 7 Batch 12 Loss 1.2804\n",
      "Epoch 7 Batch 13 Loss 1.2789\n",
      "7000\n",
      "Epoch 7 Loss 0.002560\n",
      "Time taken for 1 epoch 23.85973811149597 sec\n",
      "\n",
      "Epoch 8 Batch 0 Loss 1.2791\n",
      "Epoch 8 Batch 1 Loss 1.2790\n",
      "Epoch 8 Batch 2 Loss 1.2786\n",
      "Epoch 8 Batch 3 Loss 1.2776\n",
      "Epoch 8 Batch 4 Loss 1.2782\n",
      "Epoch 8 Batch 5 Loss 1.2793\n",
      "Epoch 8 Batch 6 Loss 1.2784\n",
      "Epoch 8 Batch 7 Loss 1.2779\n",
      "Epoch 8 Batch 8 Loss 1.2791\n",
      "Epoch 8 Batch 9 Loss 1.2774\n",
      "Epoch 8 Batch 10 Loss 1.2780\n",
      "Epoch 8 Batch 11 Loss 1.2782\n",
      "Epoch 8 Batch 12 Loss 1.2792\n",
      "Epoch 8 Batch 13 Loss 1.2777\n",
      "7000\n",
      "Epoch 8 Loss 0.002557\n",
      "Time taken for 1 epoch 23.92928194999695 sec\n",
      "\n",
      "Epoch 9 Batch 0 Loss 1.2779\n",
      "Epoch 9 Batch 1 Loss 1.2778\n",
      "Epoch 9 Batch 2 Loss 1.2775\n",
      "Epoch 9 Batch 3 Loss 1.2764\n",
      "Epoch 9 Batch 4 Loss 1.2771\n",
      "Epoch 9 Batch 5 Loss 1.2783\n",
      "Epoch 9 Batch 6 Loss 1.2773\n",
      "Epoch 9 Batch 7 Loss 1.2768\n",
      "Epoch 9 Batch 8 Loss 1.2780\n",
      "Epoch 9 Batch 9 Loss 1.2764\n",
      "Epoch 9 Batch 10 Loss 1.2770\n",
      "Epoch 9 Batch 11 Loss 1.2772\n",
      "Epoch 9 Batch 12 Loss 1.2783\n",
      "Epoch 9 Batch 13 Loss 1.2768\n",
      "7000\n",
      "Epoch 9 Loss 0.002555\n",
      "Time taken for 1 epoch 24.43739891052246 sec\n",
      "\n",
      "Epoch 10 Batch 0 Loss 1.2769\n",
      "Epoch 10 Batch 1 Loss 1.2769\n",
      "Epoch 10 Batch 2 Loss 1.2767\n",
      "Epoch 10 Batch 3 Loss 1.2755\n",
      "Epoch 10 Batch 4 Loss 1.2763\n",
      "Epoch 10 Batch 5 Loss 1.2774\n",
      "Epoch 10 Batch 6 Loss 1.2764\n",
      "Epoch 10 Batch 7 Loss 1.2759\n",
      "Epoch 10 Batch 8 Loss 1.2772\n",
      "Epoch 10 Batch 9 Loss 1.2757\n",
      "Epoch 10 Batch 10 Loss 1.2763\n",
      "Epoch 10 Batch 11 Loss 1.2764\n",
      "Epoch 10 Batch 12 Loss 1.2776\n",
      "Epoch 10 Batch 13 Loss 1.2761\n",
      "7000\n",
      "Epoch 10 Loss 0.002553\n",
      "Time taken for 1 epoch 23.917975187301636 sec\n",
      "\n"
     ]
    }
   ],
   "source": [
    "import time\n",
    "EPOCHS = 10\n",
    "\n",
    "for epoch in range(start_epoch, EPOCHS):\n",
    "    start = time.time()\n",
    "    total_loss = 0\n",
    "\n",
    "    for (batch, (img_tensor, target)) in enumerate(image_dataset_encoded):\n",
    "        batch_loss, t_loss = train_step(img_tensor, target)\n",
    "        total_loss += t_loss\n",
    "\n",
    "        if batch % 1 == 0:\n",
    "            print ('Epoch {} Batch {} Loss {:.4f}'.format(\n",
    "                epoch + 1, batch, batch_loss / int(target.shape[1])))\n",
    "    # storing the epoch end loss value to plot later\n",
    "    loss_plot.append(total_loss / num_steps)\n",
    "\n",
    "    if epoch % 5 == 0:\n",
    "        ckpt_manager.save() \n",
    "    print(num_steps)\n",
    "    print ('Epoch {} Loss {:.6f}'.format(epoch + 1,\n",
    "                                         total_loss/num_steps))\n",
    "    print ('Time taken for 1 epoch {} sec\\n'.format(time.time() - start))"
   ]
  },
  {
   "cell_type": "code",
   "execution_count": 181,
   "metadata": {
    "colab": {
     "base_uri": "https://localhost:8080/",
     "height": 295
    },
    "executionInfo": {
     "elapsed": 5485,
     "status": "ok",
     "timestamp": 1605397126122,
     "user": {
      "displayName": "Morgan Allen",
      "photoUrl": "https://lh3.googleusercontent.com/a-/AOh14GjaNMWmr2TlLrY_MBSDquiSqhgTuK8vCNzY4tLH=s64",
      "userId": "12026828979516915336"
     },
     "user_tz": 360
    },
    "id": "lsSx6FGZZh3q",
    "outputId": "94b1a0e7-25ef-4bb5-e1ed-cdd2b0c113eb"
   },
   "outputs": [
    {
     "data": {
      "image/png": "[encoded data removed]",
      "text/plain": [
       "<Figure size 432x288 with 1 Axes>"
      ]
     },
     "metadata": {
      "needs_background": "light"
     },
     "output_type": "display_data"
    }
   ],
   "source": [
    "plt.plot(loss_plot)\n",
    "plt.xlabel('Epochs')\n",
    "plt.ylabel('Loss')\n",
    "plt.title('Loss Plot')\n",
    "plt.show()"
   ]
  },
  {
   "cell_type": "markdown",
   "metadata": {
    "id": "S60WeHNwdPDG"
   },
   "source": [
    "# Evaluate"
   ]
  },
  {
   "cell_type": "code",
   "execution_count": 182,
   "metadata": {
    "id": "31N4XxAYcahR"
   },
   "outputs": [],
   "source": [
    "def evaluate(image):\n",
    "    attention_plot = np.zeros((max_length, attention_features_shape))\n",
    "\n",
    "    hidden = decoder.reset_state(batch_size=1)\n",
    "\n",
    "    temp_input = tf.expand_dims(image, 0)\n",
    "    #print(temp_input)\n",
    "    img_tensor_val = image_features_extract_model(temp_input)\n",
    "    #print(img_tensor_val)\n",
    "    img_tensor_val = tf.reshape(img_tensor_val, (img_tensor_val.shape[0], -1, img_tensor_val.shape[3]))\n",
    "    #print(img_tensor_val)\n",
    "    \n",
    "    features = encoder(img_tensor_val)\n",
    "\n",
    "    dec_input = tf.expand_dims([tokenizer.word_index['\\t']], 0)\n",
    "    result = []\n",
    "\n",
    "    for i in range(max_length):\n",
    "        predictions, hidden, attention_weights = decoder(dec_input, features, hidden)\n",
    "        #print(attention_weights.shape)\n",
    "        #attention_plot[i] = tf.reshape(attention_weights, (-1, ))\n",
    "\n",
    "        predicted_id = tf.random.categorical(predictions, 1)[0][0]\n",
    "        predicted_id = int(predicted_id)\n",
    "        result.append(tokenizer.index_word[predicted_id])\n",
    "        #print(tokenizer.index_word[predicted_id])\n",
    "        ind = np.argpartition(predictions, -4)[0][-4:]\n",
    "        #print(f'These are the top choices {\"\".join(tokenizer.index_word[c] for c in ind)}')\n",
    "        #print(f'This are the probabilities {predictions.numpy()[0,ind]}')\n",
    "\n",
    "        if tokenizer.index_word[predicted_id] == '\\n':\n",
    "            return result, attention_plot\n",
    "\n",
    "        dec_input = tf.expand_dims([predicted_id], 0)\n",
    "\n",
    "    attention_plot = attention_plot[:len(result), :]\n",
    "    return result, attention_plot"
   ]
  },
  {
   "cell_type": "code",
   "execution_count": 183,
   "metadata": {
    "id": "CEEvzEL8dmsV"
   },
   "outputs": [],
   "source": [
    "def plot_attention(image, result, attention_plot):\n",
    "    \n",
    "    #-1 goes to zero\n",
    "    temp_image = np.array(image)\n",
    "\n",
    "    fig = plt.figure(figsize=(10, 10))\n",
    "    len_result = len(result)\n",
    "    for l in range(len_result):\n",
    "        temp_att = np.resize(attention_plot[l], (8, 8))\n",
    "        ax = fig.add_subplot(len_result//2, len_result//2, l+1)\n",
    "        ax.set_title(result[l])\n",
    "        img = ax.imshow(temp_image)\n",
    "        ax.imshow(temp_att, cmap='gray', alpha=0.6, extent=img.get_extent())\n",
    "\n",
    "    plt.tight_layout()\n",
    "    plt.show();"
   ]
  },
  {
   "cell_type": "markdown",
   "metadata": {
    "id": "p-GvV9Q9eaJh"
   },
   "source": [
    "Run attention_plot to see what it looks like"
   ]
  },
  {
   "cell_type": "code",
   "execution_count": 165,
   "metadata": {},
   "outputs": [
    {
     "name": "stdout",
     "output_type": "stream",
     "text": [
      "(8, 32)\n",
      "(1, 1024, 1)\n"
     ]
    },
    {
     "ename": "ValueError",
     "evalue": "could not broadcast input array from shape (1024) into shape (32)",
     "output_type": "error",
     "traceback": [
      "\u001b[0;31m---------------------------------------------------------------------------\u001b[0m",
      "\u001b[0;31mValueError\u001b[0m                                Traceback (most recent call last)",
      "\u001b[0;32m<ipython-input-165-4afd492bc375>\u001b[0m in \u001b[0;36m<module>\u001b[0;34m\u001b[0m\n\u001b[0;32m----> 1\u001b[0;31m \u001b[0mresult\u001b[0m\u001b[0;34m,\u001b[0m \u001b[0mattention_plot\u001b[0m \u001b[0;34m=\u001b[0m \u001b[0mevaluate\u001b[0m\u001b[0;34m(\u001b[0m\u001b[0mimg_test\u001b[0m\u001b[0;34m[\u001b[0m\u001b[0;36m0\u001b[0m\u001b[0;34m]\u001b[0m\u001b[0;34m)\u001b[0m\u001b[0;34m\u001b[0m\u001b[0;34m\u001b[0m\u001b[0m\n\u001b[0m\u001b[1;32m      2\u001b[0m \u001b[0mprint\u001b[0m \u001b[0;34m(\u001b[0m\u001b[0;34m'Prediction Caption:'\u001b[0m\u001b[0;34m,\u001b[0m \u001b[0;34m' '\u001b[0m\u001b[0;34m.\u001b[0m\u001b[0mjoin\u001b[0m\u001b[0;34m(\u001b[0m\u001b[0mresult\u001b[0m\u001b[0;34m)\u001b[0m\u001b[0;34m)\u001b[0m\u001b[0;34m\u001b[0m\u001b[0;34m\u001b[0m\u001b[0m\n\u001b[1;32m      3\u001b[0m \u001b[0mplot_attention\u001b[0m\u001b[0;34m(\u001b[0m\u001b[0mimg_test\u001b[0m\u001b[0;34m[\u001b[0m\u001b[0;36m0\u001b[0m\u001b[0;34m]\u001b[0m\u001b[0;34m,\u001b[0m \u001b[0mresult\u001b[0m\u001b[0;34m,\u001b[0m \u001b[0mattention_plot\u001b[0m\u001b[0;34m)\u001b[0m\u001b[0;34m\u001b[0m\u001b[0;34m\u001b[0m\u001b[0m\n\u001b[1;32m      4\u001b[0m \u001b[0;31m# opening the image\u001b[0m\u001b[0;34m\u001b[0m\u001b[0;34m\u001b[0m\u001b[0;34m\u001b[0m\u001b[0m\n",
      "\u001b[0;32m<ipython-input-157-08db8381220a>\u001b[0m in \u001b[0;36mevaluate\u001b[0;34m(image)\u001b[0m\n\u001b[1;32m     20\u001b[0m         \u001b[0mpredictions\u001b[0m\u001b[0;34m,\u001b[0m \u001b[0mhidden\u001b[0m\u001b[0;34m,\u001b[0m \u001b[0mattention_weights\u001b[0m \u001b[0;34m=\u001b[0m \u001b[0mdecoder\u001b[0m\u001b[0;34m(\u001b[0m\u001b[0mdec_input\u001b[0m\u001b[0;34m,\u001b[0m \u001b[0mfeatures\u001b[0m\u001b[0;34m,\u001b[0m \u001b[0mhidden\u001b[0m\u001b[0;34m)\u001b[0m\u001b[0;34m\u001b[0m\u001b[0;34m\u001b[0m\u001b[0m\n\u001b[1;32m     21\u001b[0m         \u001b[0mprint\u001b[0m\u001b[0;34m(\u001b[0m\u001b[0mattention_weights\u001b[0m\u001b[0;34m.\u001b[0m\u001b[0mshape\u001b[0m\u001b[0;34m)\u001b[0m\u001b[0;34m\u001b[0m\u001b[0;34m\u001b[0m\u001b[0m\n\u001b[0;32m---> 22\u001b[0;31m         \u001b[0mattention_plot\u001b[0m\u001b[0;34m[\u001b[0m\u001b[0mi\u001b[0m\u001b[0;34m]\u001b[0m \u001b[0;34m=\u001b[0m \u001b[0mtf\u001b[0m\u001b[0;34m.\u001b[0m\u001b[0mreshape\u001b[0m\u001b[0;34m(\u001b[0m\u001b[0mattention_weights\u001b[0m\u001b[0;34m,\u001b[0m \u001b[0;34m(\u001b[0m\u001b[0;34m-\u001b[0m\u001b[0;36m1\u001b[0m\u001b[0;34m,\u001b[0m \u001b[0;34m)\u001b[0m\u001b[0;34m)\u001b[0m\u001b[0;34m\u001b[0m\u001b[0;34m\u001b[0m\u001b[0m\n\u001b[0m\u001b[1;32m     23\u001b[0m \u001b[0;34m\u001b[0m\u001b[0m\n\u001b[1;32m     24\u001b[0m         \u001b[0mpredicted_id\u001b[0m \u001b[0;34m=\u001b[0m \u001b[0mtf\u001b[0m\u001b[0;34m.\u001b[0m\u001b[0mrandom\u001b[0m\u001b[0;34m.\u001b[0m\u001b[0mcategorical\u001b[0m\u001b[0;34m(\u001b[0m\u001b[0mpredictions\u001b[0m\u001b[0;34m,\u001b[0m \u001b[0;36m1\u001b[0m\u001b[0;34m)\u001b[0m\u001b[0;34m[\u001b[0m\u001b[0;36m0\u001b[0m\u001b[0;34m]\u001b[0m\u001b[0;34m[\u001b[0m\u001b[0;36m0\u001b[0m\u001b[0;34m]\u001b[0m\u001b[0;34m\u001b[0m\u001b[0;34m\u001b[0m\u001b[0m\n",
      "\u001b[0;31mValueError\u001b[0m: could not broadcast input array from shape (1024) into shape (32)"
     ]
    }
   ],
   "source": [
    "result, attention_plot = evaluate(img_test[0])\n",
    "print ('Prediction Caption:', ' '.join(result))\n",
    "plot_attention(img_test[0], result, attention_plot)\n",
    "# opening the image"
   ]
  },
  {
   "cell_type": "code",
   "execution_count": 90,
   "metadata": {},
   "outputs": [
    {
     "name": "stdout",
     "output_type": "stream",
     "text": [
      "Prediction Caption: 6 d + 7 = 1 \n",
      "\n"
     ]
    },
    {
     "data": {
      "image/png": "[encoded data removed]",
      "text/plain": [
       "<Figure size 720x720 with 7 Axes>"
      ]
     },
     "metadata": {
      "needs_background": "light"
     },
     "output_type": "display_data"
    }
   ],
   "source": [
    "result, attention_plot = evaluate(img_test[9])\n",
    "print ('Prediction Caption:', ' '.join(result))\n",
    "plot_attention(img_test[9], result, attention_plot)\n",
    "# opening the image"
   ]
  },
  {
   "cell_type": "code",
   "execution_count": 91,
   "metadata": {},
   "outputs": [
    {
     "name": "stdout",
     "output_type": "stream",
     "text": [
      "Prediction Caption: 2 m + 1 = 1 \n",
      "\n"
     ]
    },
    {
     "data": {
      "image/png": "[encoded data removed]",
      "text/plain": [
       "<Figure size 720x720 with 7 Axes>"
      ]
     },
     "metadata": {
      "needs_background": "light"
     },
     "output_type": "display_data"
    }
   ],
   "source": [
    "result, attention_plot = evaluate(img_test[5])\n",
    "print ('Prediction Caption:', ' '.join(result))\n",
    "plot_attention(img_test[5], result, attention_plot)\n",
    "# opening the image"
   ]
  },
  {
   "cell_type": "code",
   "execution_count": 128,
   "metadata": {},
   "outputs": [],
   "source": [
    "def check_results(images, labels, num_imgs=10):\n",
    "    for i in range(0, num_imgs):\n",
    "        result, attention_plot = evaluate(images[i])\n",
    "        print('Prediction Caption:', ' '.join(result))\n",
    "        print(f'Actual Caption: ', labels[i])\n",
    "        #plot_attention(images[i], result, attention_plot)"
   ]
  },
  {
   "cell_type": "code",
   "execution_count": 184,
   "metadata": {},
   "outputs": [
    {
     "name": "stdout",
     "output_type": "stream",
     "text": [
      "Prediction Caption: 4 n + 6 e + 5 =\n",
      "Actual Caption:  \t9g+7=1\n",
      "\n",
      "Prediction Caption: 3 k + 2 = 7 \n",
      "\n",
      "Actual Caption:  \t1n+4=8\n",
      "\n",
      "Prediction Caption: 9 f + 8 = 5 \n",
      "\n",
      "Actual Caption:  \t7o+5=3\n",
      "\n",
      "Prediction Caption: 8 a + 8 q + 7 =\n",
      "Actual Caption:  \t4g+2=0\n",
      "\n",
      "Prediction Caption: 1 f + 4 = 0 \n",
      "\n",
      "Actual Caption:  \t0h+5=8\n",
      "\n",
      "Prediction Caption: 7 i + 2 = 4 \n",
      "\n",
      "Actual Caption:  \t1g+4=2\n",
      "\n",
      "Prediction Caption: 2 a + 3 = 4 \n",
      "\n",
      "Actual Caption:  \t0k+9=4\n",
      "\n",
      "Prediction Caption: 0 t + 7 l + 8 k\n",
      "Actual Caption:  \t0f+4=1\n",
      "\n",
      "Prediction Caption: 8 j + 5 k 0 6 1\n",
      "Actual Caption:  \t0s+8=7\n",
      "\n",
      "Prediction Caption: 1 <unk> + 7 a + 0 l\n",
      "Actual Caption:  \t8l+0=4\n",
      "\n"
     ]
    }
   ],
   "source": [
    "check_results(img_test, img_test_name)"
   ]
  },
  {
   "cell_type": "code",
   "execution_count": null,
   "metadata": {},
   "outputs": [],
   "source": []
  }
 ],
 "metadata": {
  "accelerator": "GPU",
  "colab": {
   "collapsed_sections": [],
   "name": "Morgan Copy Image Captioning with Attention (Drive).ipynb",
   "provenance": []
  },
  "kernelspec": {
   "display_name": "Python 3",
   "language": "python",
   "name": "python3"
  },
  "language_info": {
   "codemirror_mode": {
    "name": "ipython",
    "version": 3
   },
   "file_extension": ".py",
   "mimetype": "text/x-python",
   "name": "python",
   "nbconvert_exporter": "python",
   "pygments_lexer": "ipython3",
   "version": "3.7.6"
  }
 },
 "nbformat": 4,
 "nbformat_minor": 1
}
