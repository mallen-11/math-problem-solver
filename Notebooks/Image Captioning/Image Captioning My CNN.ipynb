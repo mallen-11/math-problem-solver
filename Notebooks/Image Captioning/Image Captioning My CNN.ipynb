{
 "cells": [
  {
   "cell_type": "markdown",
   "metadata": {
    "id": "8xUzM901Sjpe"
   },
   "source": [
    "# Image Captioning with Attention"
   ]
  },
  {
   "cell_type": "code",
   "execution_count": 1,
   "metadata": {
    "colab": {
     "base_uri": "https://localhost:8080/"
    },
    "executionInfo": {
     "elapsed": 23950,
     "status": "ok",
     "timestamp": 1605553608791,
     "user": {
      "displayName": "Morgan Allen",
      "photoUrl": "https://lh3.googleusercontent.com/a-/AOh14GjaNMWmr2TlLrY_MBSDquiSqhgTuK8vCNzY4tLH=s64",
      "userId": "12026828979516915336"
     },
     "user_tz": 360
    },
    "id": "rMgFop76Sjpf",
    "outputId": "b2cf6200-462f-466c-c514-b99318169097"
   },
   "outputs": [],
   "source": [
    "import tensorflow as tf\n",
    "import numpy as np\n",
    "import pandas as pd\n",
    "from matplotlib import pyplot as plt\n",
    "from PIL import Image\n",
    "\n",
    "from sklearn.linear_model import LogisticRegression\n",
    "from sklearn.metrics import plot_confusion_matrix, confusion_matrix\n",
    "from sklearn.model_selection import train_test_split\n",
    "\n",
    "from tensorflow.keras.layers import Dense, Flatten, Conv2D, MaxPooling2D, Dropout, BatchNormalization\n",
    "from tensorflow.keras import Model\n",
    "from tensorflow.keras.models import Sequential\n",
    "from tensorflow.keras import layers\n",
    "from tensorflow import image\n",
    "\n",
    "import itertools\n",
    "import random\n",
    "\n",
    "tf.random.set_seed(1)"
   ]
  },
  {
   "cell_type": "markdown",
   "metadata": {
    "id": "CqP6UkWTSjpj"
   },
   "source": [
    "Loading the Data. The data consist of pictures and labels of linear functions"
   ]
  },
  {
   "cell_type": "code",
   "execution_count": 2,
   "metadata": {
    "executionInfo": {
     "elapsed": 976,
     "status": "ok",
     "timestamp": 1605553609779,
     "user": {
      "displayName": "Morgan Allen",
      "photoUrl": "https://lh3.googleusercontent.com/a-/AOh14GjaNMWmr2TlLrY_MBSDquiSqhgTuK8vCNzY4tLH=s64",
      "userId": "12026828979516915336"
     },
     "user_tz": 360
    },
    "id": "08AiJm9zSjpk"
   },
   "outputs": [],
   "source": [
    "import cv2\n",
    "import os\n",
    "\n",
    "def load_images_from_folder(folder, n_imgs=-1):\n",
    "    images = []\n",
    "    image_nums = []\n",
    "    for filename in os.listdir(folder)[:n_imgs]:\n",
    "        img = cv2.imread(os.path.join(folder,filename))\n",
    "        if img is not None:\n",
    "            images.append(img)\n",
    "            image_nums.append(filename.strip('.png'))\n",
    "    return images, image_nums\n",
    "\n",
    "folder=\"../../../Math Equations/linear_fcns/images\""
   ]
  },
  {
   "cell_type": "code",
   "execution_count": 3,
   "metadata": {
    "executionInfo": {
     "elapsed": 45955,
     "status": "ok",
     "timestamp": 1605554061902,
     "user": {
      "displayName": "Morgan Allen",
      "photoUrl": "https://lh3.googleusercontent.com/a-/AOh14GjaNMWmr2TlLrY_MBSDquiSqhgTuK8vCNzY4tLH=s64",
      "userId": "12026828979516915336"
     },
     "user_tz": 360
    },
    "id": "vBBKDvA8Sjpm"
   },
   "outputs": [],
   "source": [
    "images, fnames = load_images_from_folder(folder,18000)"
   ]
  },
  {
   "cell_type": "code",
   "execution_count": 4,
   "metadata": {
    "id": "WYkOrKFFSjpp"
   },
   "outputs": [],
   "source": [
    "labels = pd.read_csv('../../../Math Equations/linear_fcns/data.csv')"
   ]
  },
  {
   "cell_type": "code",
   "execution_count": 5,
   "metadata": {
    "id": "JoZjytqMWTiR"
   },
   "outputs": [],
   "source": [
    "labels['img_number'] = labels['filename'].apply(lambda x: x.split('/')[-1].strip('.png'))"
   ]
  },
  {
   "cell_type": "code",
   "execution_count": 6,
   "metadata": {
    "colab": {
     "base_uri": "https://localhost:8080/",
     "height": 204
    },
    "executionInfo": {
     "elapsed": 217,
     "status": "ok",
     "timestamp": 1605395495815,
     "user": {
      "displayName": "Morgan Allen",
      "photoUrl": "https://lh3.googleusercontent.com/a-/AOh14GjaNMWmr2TlLrY_MBSDquiSqhgTuK8vCNzY4tLH=s64",
      "userId": "12026828979516915336"
     },
     "user_tz": 360
    },
    "id": "vC3wCKPxWQaC",
    "outputId": "902efffe-60ca-411b-f507-a329adf0f01a"
   },
   "outputs": [
    {
     "data": {
      "text/html": [
       "<div>\n",
       "<style scoped>\n",
       "    .dataframe tbody tr th:only-of-type {\n",
       "        vertical-align: middle;\n",
       "    }\n",
       "\n",
       "    .dataframe tbody tr th {\n",
       "        vertical-align: top;\n",
       "    }\n",
       "\n",
       "    .dataframe thead th {\n",
       "        text-align: right;\n",
       "    }\n",
       "</style>\n",
       "<table border=\"1\" class=\"dataframe\">\n",
       "  <thead>\n",
       "    <tr style=\"text-align: right;\">\n",
       "      <th></th>\n",
       "      <th>latex</th>\n",
       "      <th>filename</th>\n",
       "      <th>img_number</th>\n",
       "    </tr>\n",
       "  </thead>\n",
       "  <tbody>\n",
       "    <tr>\n",
       "      <th>0</th>\n",
       "      <td>0a+1=2</td>\n",
       "      <td>linear_fcns/images/0.png</td>\n",
       "      <td>0</td>\n",
       "    </tr>\n",
       "    <tr>\n",
       "      <th>1</th>\n",
       "      <td>0b+1=2</td>\n",
       "      <td>linear_fcns/images/1.png</td>\n",
       "      <td>1</td>\n",
       "    </tr>\n",
       "    <tr>\n",
       "      <th>2</th>\n",
       "      <td>0c+1=2</td>\n",
       "      <td>linear_fcns/images/2.png</td>\n",
       "      <td>2</td>\n",
       "    </tr>\n",
       "    <tr>\n",
       "      <th>3</th>\n",
       "      <td>0d+1=2</td>\n",
       "      <td>linear_fcns/images/3.png</td>\n",
       "      <td>3</td>\n",
       "    </tr>\n",
       "    <tr>\n",
       "      <th>4</th>\n",
       "      <td>0e+1=2</td>\n",
       "      <td>linear_fcns/images/4.png</td>\n",
       "      <td>4</td>\n",
       "    </tr>\n",
       "  </tbody>\n",
       "</table>\n",
       "</div>"
      ],
      "text/plain": [
       "    latex                  filename img_number\n",
       "0  0a+1=2  linear_fcns/images/0.png          0\n",
       "1  0b+1=2  linear_fcns/images/1.png          1\n",
       "2  0c+1=2  linear_fcns/images/2.png          2\n",
       "3  0d+1=2  linear_fcns/images/3.png          3\n",
       "4  0e+1=2  linear_fcns/images/4.png          4"
      ]
     },
     "execution_count": 6,
     "metadata": {},
     "output_type": "execute_result"
    }
   ],
   "source": [
    "labels.head()"
   ]
  },
  {
   "cell_type": "code",
   "execution_count": 7,
   "metadata": {
    "id": "DC-tLPESWAy5"
   },
   "outputs": [],
   "source": [
    "label_array = labels[labels['img_number'].isin(fnames)]['latex'].values"
   ]
  },
  {
   "cell_type": "markdown",
   "metadata": {
    "id": "zXR3M4QBSjpv"
   },
   "source": [
    "For the labels we need to add start and end tokens so the model can recognize what to write."
   ]
  },
  {
   "cell_type": "code",
   "execution_count": 8,
   "metadata": {
    "id": "NEzxzBX8Sjpv"
   },
   "outputs": [],
   "source": [
    "label_array = [f'\\t{la}\\n' for la in label_array]"
   ]
  },
  {
   "cell_type": "markdown",
   "metadata": {
    "id": "HHztSmQ_Sjpy"
   },
   "source": [
    "Let's reshape the images so we can plot them."
   ]
  },
  {
   "cell_type": "code",
   "execution_count": 9,
   "metadata": {
    "colab": {
     "base_uri": "https://localhost:8080/"
    },
    "executionInfo": {
     "elapsed": 244,
     "status": "ok",
     "timestamp": 1605395503599,
     "user": {
      "displayName": "Morgan Allen",
      "photoUrl": "https://lh3.googleusercontent.com/a-/AOh14GjaNMWmr2TlLrY_MBSDquiSqhgTuK8vCNzY4tLH=s64",
      "userId": "12026828979516915336"
     },
     "user_tz": 360
    },
    "id": "9XdF3xaGSjpy",
    "outputId": "9b633ce9-2750-4b1c-e926-9f2b75a9d58f"
   },
   "outputs": [
    {
     "data": {
      "text/plain": [
       "(18000, 72, 360, 1)"
      ]
     },
     "execution_count": 9,
     "metadata": {},
     "output_type": "execute_result"
    }
   ],
   "source": [
    "images_for_split = images\n",
    "images = np.array(images)\n",
    "images = 255 - images\n",
    "images = tf.image.rgb_to_grayscale(images)\n",
    "images = images.numpy()\n",
    "images.shape"
   ]
  },
  {
   "cell_type": "code",
   "execution_count": 10,
   "metadata": {},
   "outputs": [
    {
     "data": {
      "text/plain": [
       "<matplotlib.image.AxesImage at 0x7fdf4910c510>"
      ]
     },
     "execution_count": 10,
     "metadata": {},
     "output_type": "execute_result"
    },
    {
     "data": {
      "image/png": "[encoded data removed]",
      "text/plain": [
       "<Figure size 432x288 with 1 Axes>"
      ]
     },
     "metadata": {
      "needs_background": "light"
     },
     "output_type": "display_data"
    }
   ],
   "source": [
    "plt.imshow(images[0])"
   ]
  },
  {
   "cell_type": "markdown",
   "metadata": {
    "id": "fQYvxF90Sjp3"
   },
   "source": [
    "Now we can process them and prepare them for inceptionv3 which is transfer learning"
   ]
  },
  {
   "cell_type": "code",
   "execution_count": 11,
   "metadata": {},
   "outputs": [],
   "source": [
    "img_train, img_test, img_train_name, img_test_name = train_test_split(images, label_array, test_size=.2)"
   ]
  },
  {
   "cell_type": "code",
   "execution_count": 12,
   "metadata": {},
   "outputs": [],
   "source": [
    "img_val = img_test"
   ]
  },
  {
   "cell_type": "code",
   "execution_count": 13,
   "metadata": {},
   "outputs": [],
   "source": [
    "img_mini = tf.image.resize_with_pad(img_train, 225, 225)\n",
    "img_test= tf.image.resize_with_pad(img_test, 125, 125)"
   ]
  },
  {
   "cell_type": "code",
   "execution_count": 25,
   "metadata": {},
   "outputs": [],
   "source": [
    "#img_mini = tf.image.resize(img_train, (150, 150))\n",
    "#img_test= tf.image.resize(img_test, (150, 150))"
   ]
  },
  {
   "cell_type": "markdown",
   "metadata": {
    "id": "s-8n1FtqSjp8"
   },
   "source": [
    "Now we can load the features of the inceptionv3 model as seen below."
   ]
  },
  {
   "cell_type": "code",
   "execution_count": 26,
   "metadata": {
    "colab": {
     "base_uri": "https://localhost:8080/",
     "height": 303
    },
    "executionInfo": {
     "elapsed": 305,
     "status": "ok",
     "timestamp": 1605395508912,
     "user": {
      "displayName": "Morgan Allen",
      "photoUrl": "https://lh3.googleusercontent.com/a-/AOh14GjaNMWmr2TlLrY_MBSDquiSqhgTuK8vCNzY4tLH=s64",
      "userId": "12026828979516915336"
     },
     "user_tz": 360
    },
    "id": "8uSNNnvdSjp6",
    "outputId": "c123a164-46bf-4b86-9368-f105029f9f0e"
   },
   "outputs": [
    {
     "data": {
      "text/plain": [
       "<matplotlib.image.AxesImage at 0x7fba3b474e90>"
      ]
     },
     "execution_count": 26,
     "metadata": {},
     "output_type": "execute_result"
    },
    {
     "data": {
      "image/png": "[encoded data removed]",
      "text/plain": [
       "<Figure size 432x288 with 1 Axes>"
      ]
     },
     "metadata": {
      "needs_background": "light"
     },
     "output_type": "display_data"
    }
   ],
   "source": [
    "plt.imshow(img_mini[0])"
   ]
  },
  {
   "cell_type": "code",
   "execution_count": 14,
   "metadata": {
    "id": "hgB8p8KZSjp8"
   },
   "outputs": [],
   "source": [
    "image_model = tf.keras.models.load_model('../Learning CNNs/saved_model/my_model2')\n",
    "\n",
    "new_input = image_model.input\n",
    "hidden_layer = image_model.layers[-7].output\n",
    "\n",
    "image_features_extract_model = tf.keras.Model(new_input, hidden_layer)"
   ]
  },
  {
   "cell_type": "code",
   "execution_count": 16,
   "metadata": {
    "id": "llWCIcu3Sjp_"
   },
   "outputs": [],
   "source": [
    "# Feel free to change batch_size according to your system configuration\n",
    "image_dataset = tf.data.Dataset.from_tensor_slices((img_mini, img_train_name)).batch(1000)#(img_mini, label_array)).batch(1)\n",
    "c = 1\n",
    "\n",
    "for img, label in image_dataset:\n",
    "    batch_features = image_features_extract_model(img)\n",
    "    batch_features = tf.reshape(batch_features,\n",
    "                              (batch_features.shape[0], -1, batch_features.shape[3]))\n",
    "  \n",
    "    p = f'../Batch Features My CNN/batch_features{c}'\n",
    "    c = c+1 \n",
    "     #path_of_feature = p.numpy().decode(\"utf-8\")\n",
    "    np.save(p, batch_features)"
   ]
  },
  {
   "cell_type": "code",
   "execution_count": 31,
   "metadata": {},
   "outputs": [],
   "source": [
    "# Feel free to change batch_size according to your system configuration\n",
    "image_dataset = tf.data.Dataset.from_tensor_slices((img_test, img_test_name)).batch(1000)#(img_mini, label_array)).batch(1)\n",
    "c = 1\n",
    "\n",
    "for img, label in image_dataset:\n",
    "    batch_features = image_features_extract_model(img)\n",
    "    batch_features = tf.reshape(batch_features,\n",
    "                              (batch_features.shape[0], -1, batch_features.shape[3]))\n",
    "  \n",
    "    p = f'../Batch Features My CNN Test/batch_features{c}'\n",
    "    c = c+1 \n",
    "     #path_of_feature = p.numpy().decode(\"utf-8\")\n",
    "    np.save(p, batch_features)"
   ]
  },
  {
   "cell_type": "code",
   "execution_count": 15,
   "metadata": {
    "id": "iKq5_-oTP22q"
   },
   "outputs": [
    {
     "ename": "FileNotFoundError",
     "evalue": "[Errno 2] No such file or directory: '../Batch Features My CNN/batch_features16.npy'",
     "output_type": "error",
     "traceback": [
      "\u001b[0;31m---------------------------------------------------------------------------\u001b[0m",
      "\u001b[0;31mFileNotFoundError\u001b[0m                         Traceback (most recent call last)",
      "\u001b[0;32m<ipython-input-15-45be2e427b9f>\u001b[0m in \u001b[0;36m<module>\u001b[0;34m\u001b[0m\n\u001b[1;32m      1\u001b[0m \u001b[0mimg_load\u001b[0m \u001b[0;34m=\u001b[0m \u001b[0mnp\u001b[0m\u001b[0;34m.\u001b[0m\u001b[0mload\u001b[0m\u001b[0;34m(\u001b[0m\u001b[0;34m'../Batch Features My CNN/batch_features1.npy'\u001b[0m\u001b[0;34m)\u001b[0m\u001b[0;34m\u001b[0m\u001b[0;34m\u001b[0m\u001b[0m\n\u001b[1;32m      2\u001b[0m \u001b[0;32mfor\u001b[0m \u001b[0mi\u001b[0m \u001b[0;32min\u001b[0m \u001b[0mrange\u001b[0m\u001b[0;34m(\u001b[0m\u001b[0;36m2\u001b[0m\u001b[0;34m,\u001b[0m\u001b[0;36m61\u001b[0m\u001b[0;34m)\u001b[0m\u001b[0;34m:\u001b[0m\u001b[0;34m\u001b[0m\u001b[0;34m\u001b[0m\u001b[0m\n\u001b[0;32m----> 3\u001b[0;31m     \u001b[0mimg_add\u001b[0m \u001b[0;34m=\u001b[0m \u001b[0mnp\u001b[0m\u001b[0;34m.\u001b[0m\u001b[0mload\u001b[0m\u001b[0;34m(\u001b[0m\u001b[0;34mf'../Batch Features My CNN/batch_features{i}.npy'\u001b[0m\u001b[0;34m)\u001b[0m\u001b[0;34m\u001b[0m\u001b[0;34m\u001b[0m\u001b[0m\n\u001b[0m\u001b[1;32m      4\u001b[0m     \u001b[0mimg_load\u001b[0m \u001b[0;34m=\u001b[0m \u001b[0mnp\u001b[0m\u001b[0;34m.\u001b[0m\u001b[0mconcatenate\u001b[0m\u001b[0;34m(\u001b[0m\u001b[0;34m(\u001b[0m\u001b[0mimg_load\u001b[0m\u001b[0;34m,\u001b[0m \u001b[0mimg_add\u001b[0m\u001b[0;34m)\u001b[0m\u001b[0;34m)\u001b[0m\u001b[0;34m\u001b[0m\u001b[0;34m\u001b[0m\u001b[0m\n",
      "\u001b[0;32m/opt/miniconda3/lib/python3.7/site-packages/numpy/lib/npyio.py\u001b[0m in \u001b[0;36mload\u001b[0;34m(file, mmap_mode, allow_pickle, fix_imports, encoding)\u001b[0m\n\u001b[1;32m    414\u001b[0m             \u001b[0mown_fid\u001b[0m \u001b[0;34m=\u001b[0m \u001b[0;32mFalse\u001b[0m\u001b[0;34m\u001b[0m\u001b[0;34m\u001b[0m\u001b[0m\n\u001b[1;32m    415\u001b[0m         \u001b[0;32melse\u001b[0m\u001b[0;34m:\u001b[0m\u001b[0;34m\u001b[0m\u001b[0;34m\u001b[0m\u001b[0m\n\u001b[0;32m--> 416\u001b[0;31m             \u001b[0mfid\u001b[0m \u001b[0;34m=\u001b[0m \u001b[0mstack\u001b[0m\u001b[0;34m.\u001b[0m\u001b[0menter_context\u001b[0m\u001b[0;34m(\u001b[0m\u001b[0mopen\u001b[0m\u001b[0;34m(\u001b[0m\u001b[0mos_fspath\u001b[0m\u001b[0;34m(\u001b[0m\u001b[0mfile\u001b[0m\u001b[0;34m)\u001b[0m\u001b[0;34m,\u001b[0m \u001b[0;34m\"rb\"\u001b[0m\u001b[0;34m)\u001b[0m\u001b[0;34m)\u001b[0m\u001b[0;34m\u001b[0m\u001b[0;34m\u001b[0m\u001b[0m\n\u001b[0m\u001b[1;32m    417\u001b[0m             \u001b[0mown_fid\u001b[0m \u001b[0;34m=\u001b[0m \u001b[0;32mTrue\u001b[0m\u001b[0;34m\u001b[0m\u001b[0;34m\u001b[0m\u001b[0m\n\u001b[1;32m    418\u001b[0m \u001b[0;34m\u001b[0m\u001b[0m\n",
      "\u001b[0;31mFileNotFoundError\u001b[0m: [Errno 2] No such file or directory: '../Batch Features My CNN/batch_features16.npy'"
     ]
    }
   ],
   "source": [
    "img_load = np.load('../Batch Features My CNN/batch_features1.npy')\n",
    "for i in range(2,61):\n",
    "    img_add = np.load(f'../Batch Features My CNN/batch_features{i}.npy')\n",
    "    img_load = np.concatenate((img_load, img_add))"
   ]
  },
  {
   "cell_type": "code",
   "execution_count": 16,
   "metadata": {},
   "outputs": [
    {
     "ename": "FileNotFoundError",
     "evalue": "[Errno 2] No such file or directory: '../Batch Features My CNN Test/batch_features5.npy'",
     "output_type": "error",
     "traceback": [
      "\u001b[0;31m---------------------------------------------------------------------------\u001b[0m",
      "\u001b[0;31mFileNotFoundError\u001b[0m                         Traceback (most recent call last)",
      "\u001b[0;32m<ipython-input-16-1e293acb2927>\u001b[0m in \u001b[0;36m<module>\u001b[0;34m\u001b[0m\n\u001b[1;32m      1\u001b[0m \u001b[0mimg_val_load\u001b[0m \u001b[0;34m=\u001b[0m \u001b[0mnp\u001b[0m\u001b[0;34m.\u001b[0m\u001b[0mload\u001b[0m\u001b[0;34m(\u001b[0m\u001b[0;34m'../Batch Features My CNN Test/batch_features1.npy'\u001b[0m\u001b[0;34m)\u001b[0m\u001b[0;34m\u001b[0m\u001b[0;34m\u001b[0m\u001b[0m\n\u001b[1;32m      2\u001b[0m \u001b[0;32mfor\u001b[0m \u001b[0mi\u001b[0m \u001b[0;32min\u001b[0m \u001b[0mrange\u001b[0m\u001b[0;34m(\u001b[0m\u001b[0;36m2\u001b[0m\u001b[0;34m,\u001b[0m\u001b[0;36m61\u001b[0m\u001b[0;34m)\u001b[0m\u001b[0;34m:\u001b[0m\u001b[0;34m\u001b[0m\u001b[0;34m\u001b[0m\u001b[0m\n\u001b[0;32m----> 3\u001b[0;31m     \u001b[0mimg_add\u001b[0m \u001b[0;34m=\u001b[0m \u001b[0mnp\u001b[0m\u001b[0;34m.\u001b[0m\u001b[0mload\u001b[0m\u001b[0;34m(\u001b[0m\u001b[0;34mf'../Batch Features My CNN Test/batch_features{i}.npy'\u001b[0m\u001b[0;34m)\u001b[0m\u001b[0;34m\u001b[0m\u001b[0;34m\u001b[0m\u001b[0m\n\u001b[0m\u001b[1;32m      4\u001b[0m     \u001b[0mimg_val_load\u001b[0m \u001b[0;34m=\u001b[0m \u001b[0mnp\u001b[0m\u001b[0;34m.\u001b[0m\u001b[0mconcatenate\u001b[0m\u001b[0;34m(\u001b[0m\u001b[0;34m(\u001b[0m\u001b[0mimg_val_load\u001b[0m\u001b[0;34m,\u001b[0m \u001b[0mimg_add\u001b[0m\u001b[0;34m)\u001b[0m\u001b[0;34m)\u001b[0m\u001b[0;34m\u001b[0m\u001b[0;34m\u001b[0m\u001b[0m\n",
      "\u001b[0;32m/opt/miniconda3/lib/python3.7/site-packages/numpy/lib/npyio.py\u001b[0m in \u001b[0;36mload\u001b[0;34m(file, mmap_mode, allow_pickle, fix_imports, encoding)\u001b[0m\n\u001b[1;32m    414\u001b[0m             \u001b[0mown_fid\u001b[0m \u001b[0;34m=\u001b[0m \u001b[0;32mFalse\u001b[0m\u001b[0;34m\u001b[0m\u001b[0;34m\u001b[0m\u001b[0m\n\u001b[1;32m    415\u001b[0m         \u001b[0;32melse\u001b[0m\u001b[0;34m:\u001b[0m\u001b[0;34m\u001b[0m\u001b[0;34m\u001b[0m\u001b[0m\n\u001b[0;32m--> 416\u001b[0;31m             \u001b[0mfid\u001b[0m \u001b[0;34m=\u001b[0m \u001b[0mstack\u001b[0m\u001b[0;34m.\u001b[0m\u001b[0menter_context\u001b[0m\u001b[0;34m(\u001b[0m\u001b[0mopen\u001b[0m\u001b[0;34m(\u001b[0m\u001b[0mos_fspath\u001b[0m\u001b[0;34m(\u001b[0m\u001b[0mfile\u001b[0m\u001b[0;34m)\u001b[0m\u001b[0;34m,\u001b[0m \u001b[0;34m\"rb\"\u001b[0m\u001b[0;34m)\u001b[0m\u001b[0;34m)\u001b[0m\u001b[0;34m\u001b[0m\u001b[0;34m\u001b[0m\u001b[0m\n\u001b[0m\u001b[1;32m    417\u001b[0m             \u001b[0mown_fid\u001b[0m \u001b[0;34m=\u001b[0m \u001b[0;32mTrue\u001b[0m\u001b[0;34m\u001b[0m\u001b[0;34m\u001b[0m\u001b[0m\n\u001b[1;32m    418\u001b[0m \u001b[0;34m\u001b[0m\u001b[0m\n",
      "\u001b[0;31mFileNotFoundError\u001b[0m: [Errno 2] No such file or directory: '../Batch Features My CNN Test/batch_features5.npy'"
     ]
    }
   ],
   "source": [
    "img_val_load = np.load('../Batch Features My CNN Test/batch_features1.npy')\n",
    "for i in range(2,61):\n",
    "    img_add = np.load(f'../Batch Features My CNN Test/batch_features{i}.npy')\n",
    "    img_val_load = np.concatenate((img_val_load, img_add))"
   ]
  },
  {
   "cell_type": "code",
   "execution_count": 27,
   "metadata": {
    "colab": {
     "base_uri": "https://localhost:8080/"
    },
    "executionInfo": {
     "elapsed": 273,
     "status": "ok",
     "timestamp": 1605396800358,
     "user": {
      "displayName": "Morgan Allen",
      "photoUrl": "https://lh3.googleusercontent.com/a-/AOh14GjaNMWmr2TlLrY_MBSDquiSqhgTuK8vCNzY4tLH=s64",
      "userId": "12026828979516915336"
     },
     "user_tz": 360
    },
    "id": "js8_OsgYQLM3",
    "outputId": "cda0393f-c083-4bfd-96f5-e5e67e122071"
   },
   "outputs": [
    {
     "data": {
      "text/plain": [
       "(14400, 1024, 15)"
      ]
     },
     "execution_count": 27,
     "metadata": {},
     "output_type": "execute_result"
    }
   ],
   "source": [
    "img_load.shape"
   ]
  },
  {
   "cell_type": "code",
   "execution_count": 35,
   "metadata": {},
   "outputs": [
    {
     "data": {
      "text/plain": [
       "(3600, 1024, 15)"
      ]
     },
     "execution_count": 35,
     "metadata": {},
     "output_type": "execute_result"
    }
   ],
   "source": [
    "img_val_load.shape"
   ]
  },
  {
   "cell_type": "markdown",
   "metadata": {
    "id": "dywlI7LUSjqC"
   },
   "source": [
    "### Tokenizing the labels\n",
    "\n",
    "Now we can pad the labels to make sure they are all the same length."
   ]
  },
  {
   "cell_type": "code",
   "execution_count": 17,
   "metadata": {
    "id": "xPgRuUgBbnPJ"
   },
   "outputs": [],
   "source": [
    "# Find the maximum length of any caption in our dataset\n",
    "def calc_max_length(tensor):\n",
    "    return max(len(t) for t in tensor)"
   ]
  },
  {
   "cell_type": "code",
   "execution_count": 18,
   "metadata": {
    "id": "Gipm5btLaNTb"
   },
   "outputs": [],
   "source": [
    "# Choose the top 5000 words from the vocabulary\n",
    "top_k = 41\n",
    "tokenizer = tf.keras.preprocessing.text.Tokenizer(num_words=top_k,\n",
    "                                                  oov_token=\"<unk>\",\n",
    "                                                  filters=' ',\n",
    "                                                  char_level=True)\n",
    "tokenizer.fit_on_texts(img_train_name)#label_array)\n",
    "train_seqs = tokenizer.texts_to_sequences(img_train_name)\n",
    "\n",
    "# Padding\n",
    "tokenizer.word_index['<pad>'] = 0\n",
    "tokenizer.index_word[0] = '<pad>'\n",
    "\n",
    "# Create the tokenized vectors\n",
    "train_seqs = tokenizer.texts_to_sequences(img_train_name)\n",
    "test_seqs = tokenizer.texts_to_sequences(img_test_name)\n",
    "\n",
    "# Pad each vector to the max_length of the captions\n",
    "# If you do not provide a max_length value, pad_sequences calculates it automatically\n",
    "cap_vector = tf.keras.preprocessing.sequence.pad_sequences(train_seqs, padding='post')\n",
    "cap_vector_val = tf.keras.preprocessing.sequence.pad_sequences(test_seqs, padding='post')\n",
    "\n",
    "# Calculates the max_length, which is used to store the attention weights\n",
    "max_length = calc_max_length(train_seqs)"
   ]
  },
  {
   "cell_type": "code",
   "execution_count": 19,
   "metadata": {
    "colab": {
     "base_uri": "https://localhost:8080/"
    },
    "executionInfo": {
     "elapsed": 203,
     "status": "ok",
     "timestamp": 1605396804461,
     "user": {
      "displayName": "Morgan Allen",
      "photoUrl": "https://lh3.googleusercontent.com/a-/AOh14GjaNMWmr2TlLrY_MBSDquiSqhgTuK8vCNzY4tLH=s64",
      "userId": "12026828979516915336"
     },
     "user_tz": 360
    },
    "id": "YfFg62gAcaL9",
    "outputId": "2f57f655-d469-4ca3-c192-68bd3b2e5087"
   },
   "outputs": [
    {
     "data": {
      "text/plain": [
       "{'num_words': 41,\n",
       " 'filters': ' ',\n",
       " 'lower': True,\n",
       " 'split': ' ',\n",
       " 'char_level': True,\n",
       " 'oov_token': '<unk>',\n",
       " 'document_count': 14400,\n",
       " 'word_counts': '{\"\\\\t\": 14400, \"4\": 4338, \"l\": 553, \"+\": 14400, \"0\": 4268, \"=\": 14400, \"7\": 4298, \"\\\\n\": 14400, \"9\": 4340, \"d\": 556, \"5\": 4323, \"v\": 551, \"3\": 4290, \"8\": 4350, \"w\": 554, \"j\": 571, \"1\": 4340, \"6\": 4344, \"b\": 560, \"2\": 4309, \"s\": 562, \"n\": 560, \"p\": 571, \"z\": 562, \"u\": 535, \"e\": 552, \"y\": 536, \"i\": 567, \"m\": 547, \"x\": 533, \"a\": 549, \"c\": 546, \"o\": 550, \"r\": 549, \"k\": 555, \"g\": 555, \"t\": 553, \"h\": 559, \"f\": 559, \"q\": 555}',\n",
       " 'word_docs': '{\"=\": 14400, \"\\\\n\": 14400, \"+\": 14400, \"\\\\t\": 14400, \"0\": 4268, \"l\": 553, \"7\": 4298, \"4\": 4338, \"9\": 4340, \"d\": 556, \"5\": 4323, \"v\": 551, \"3\": 4290, \"8\": 4350, \"w\": 554, \"1\": 4340, \"j\": 571, \"b\": 560, \"6\": 4344, \"2\": 4309, \"s\": 562, \"n\": 560, \"p\": 571, \"z\": 562, \"u\": 535, \"e\": 552, \"y\": 536, \"i\": 567, \"m\": 547, \"x\": 533, \"a\": 549, \"c\": 546, \"o\": 550, \"r\": 549, \"k\": 555, \"g\": 555, \"t\": 553, \"h\": 559, \"f\": 559, \"q\": 555}',\n",
       " 'index_docs': '{\"4\": 14400, \"5\": 14400, \"3\": 14400, \"2\": 14400, \"15\": 4268, \"30\": 553, \"13\": 4298, \"10\": 4338, \"8\": 4340, \"25\": 556, \"11\": 4323, \"33\": 551, \"14\": 4290, \"6\": 4350, \"29\": 554, \"9\": 4340, \"16\": 571, \"21\": 560, \"7\": 4344, \"12\": 4309, \"19\": 562, \"22\": 560, \"17\": 571, \"20\": 562, \"40\": 535, \"32\": 552, \"39\": 536, \"18\": 567, \"37\": 547, \"41\": 533, \"35\": 549, \"38\": 546, \"34\": 550, \"36\": 549, \"26\": 555, \"27\": 555, \"31\": 553, \"23\": 559, \"24\": 559, \"28\": 555}',\n",
       " 'index_word': '{\"1\": \"<unk>\", \"2\": \"\\\\t\", \"3\": \"+\", \"4\": \"=\", \"5\": \"\\\\n\", \"6\": \"8\", \"7\": \"6\", \"8\": \"9\", \"9\": \"1\", \"10\": \"4\", \"11\": \"5\", \"12\": \"2\", \"13\": \"7\", \"14\": \"3\", \"15\": \"0\", \"16\": \"j\", \"17\": \"p\", \"18\": \"i\", \"19\": \"s\", \"20\": \"z\", \"21\": \"b\", \"22\": \"n\", \"23\": \"h\", \"24\": \"f\", \"25\": \"d\", \"26\": \"k\", \"27\": \"g\", \"28\": \"q\", \"29\": \"w\", \"30\": \"l\", \"31\": \"t\", \"32\": \"e\", \"33\": \"v\", \"34\": \"o\", \"35\": \"a\", \"36\": \"r\", \"37\": \"m\", \"38\": \"c\", \"39\": \"y\", \"40\": \"u\", \"41\": \"x\", \"0\": \"<pad>\"}',\n",
       " 'word_index': '{\"<unk>\": 1, \"\\\\t\": 2, \"+\": 3, \"=\": 4, \"\\\\n\": 5, \"8\": 6, \"6\": 7, \"9\": 8, \"1\": 9, \"4\": 10, \"5\": 11, \"2\": 12, \"7\": 13, \"3\": 14, \"0\": 15, \"j\": 16, \"p\": 17, \"i\": 18, \"s\": 19, \"z\": 20, \"b\": 21, \"n\": 22, \"h\": 23, \"f\": 24, \"d\": 25, \"k\": 26, \"g\": 27, \"q\": 28, \"w\": 29, \"l\": 30, \"t\": 31, \"e\": 32, \"v\": 33, \"o\": 34, \"a\": 35, \"r\": 36, \"m\": 37, \"c\": 38, \"y\": 39, \"u\": 40, \"x\": 41, \"<pad>\": 0}'}"
      ]
     },
     "execution_count": 19,
     "metadata": {},
     "output_type": "execute_result"
    }
   ],
   "source": [
    "tokenizer.get_config()"
   ]
  },
  {
   "cell_type": "code",
   "execution_count": 20,
   "metadata": {
    "colab": {
     "base_uri": "https://localhost:8080/"
    },
    "executionInfo": {
     "elapsed": 261,
     "status": "ok",
     "timestamp": 1605396805750,
     "user": {
      "displayName": "Morgan Allen",
      "photoUrl": "https://lh3.googleusercontent.com/a-/AOh14GjaNMWmr2TlLrY_MBSDquiSqhgTuK8vCNzY4tLH=s64",
      "userId": "12026828979516915336"
     },
     "user_tz": 360
    },
    "id": "GhqB3K30dMEo",
    "outputId": "aa4eee8d-77a9-4033-c9e3-2fea59b698fa"
   },
   "outputs": [
    {
     "data": {
      "text/plain": [
       "8"
      ]
     },
     "execution_count": 20,
     "metadata": {},
     "output_type": "execute_result"
    }
   ],
   "source": [
    "max_length"
   ]
  },
  {
   "cell_type": "code",
   "execution_count": 21,
   "metadata": {
    "colab": {
     "base_uri": "https://localhost:8080/"
    },
    "executionInfo": {
     "elapsed": 417,
     "status": "ok",
     "timestamp": 1605396806687,
     "user": {
      "displayName": "Morgan Allen",
      "photoUrl": "https://lh3.googleusercontent.com/a-/AOh14GjaNMWmr2TlLrY_MBSDquiSqhgTuK8vCNzY4tLH=s64",
      "userId": "12026828979516915336"
     },
     "user_tz": 360
    },
    "id": "QKIAGkIIb5ty",
    "outputId": "ddfd8187-4314-40ca-f60f-abd639d21457"
   },
   "outputs": [
    {
     "name": "stdout",
     "output_type": "stream",
     "text": [
      "\t0b+1=2\n",
      " -> [2, 10, 30, 3, 15, 4, 13, 5]\n"
     ]
    }
   ],
   "source": [
    "print(f'{label_array[0]} -> {train_seqs[0]}')"
   ]
  },
  {
   "cell_type": "code",
   "execution_count": 22,
   "metadata": {
    "colab": {
     "base_uri": "https://localhost:8080/"
    },
    "executionInfo": {
     "elapsed": 177,
     "status": "ok",
     "timestamp": 1605396807076,
     "user": {
      "displayName": "Morgan Allen",
      "photoUrl": "https://lh3.googleusercontent.com/a-/AOh14GjaNMWmr2TlLrY_MBSDquiSqhgTuK8vCNzY4tLH=s64",
      "userId": "12026828979516915336"
     },
     "user_tz": 360
    },
    "id": "wWBs6Njidhy4",
    "outputId": "c72990bc-4ddb-4444-ecfe-89622e4d5e17"
   },
   "outputs": [
    {
     "data": {
      "text/plain": [
       "[2, 10, 30, 3, 15, 4, 13, 5]"
      ]
     },
     "execution_count": 22,
     "metadata": {},
     "output_type": "execute_result"
    }
   ],
   "source": [
    "import json\n",
    "\n",
    "char_to_int_map = tokenizer.get_config()['word_index']\n",
    "char_to_int_map = json.loads(char_to_int_map)\n",
    "[char_to_int_map[c] for c in img_train_name[0]]"
   ]
  },
  {
   "cell_type": "code",
   "execution_count": 23,
   "metadata": {
    "id": "dmak8HTlSjqT"
   },
   "outputs": [],
   "source": [
    "# Feel free to change these parameters according to your system's configuration\n",
    "embedding_dim = 45\n",
    "units = 32\n",
    "vocab_size = top_k + 1\n",
    "num_steps = len(img_train) // 1\n",
    "val_num_steps = len(img_test) // 1\n",
    "# Shape of the vector extracted from InceptionV3 is (64, 2048)\n",
    "# These two variables represent that vector shape\n",
    "features_shape = 2048\n",
    "attention_features_shape = 1024"
   ]
  },
  {
   "cell_type": "markdown",
   "metadata": {
    "id": "G8xkSSS7Sjqb"
   },
   "source": [
    "## Model\n",
    "\n",
    "Below we are defining the attention, the encoder and the decoder. The encoder is just a fully connected layer from the features already extracted."
   ]
  },
  {
   "cell_type": "code",
   "execution_count": 24,
   "metadata": {
    "id": "f7L_cEJzSjqc"
   },
   "outputs": [],
   "source": [
    "class BahdanauAttention(tf.keras.Model):\n",
    "    def __init__(self, units):\n",
    "        super(BahdanauAttention, self).__init__()\n",
    "        self.W1 = tf.keras.layers.Dense(units)\n",
    "        self.W2 = tf.keras.layers.Dense(units)\n",
    "        self.V = tf.keras.layers.Dense(1)\n",
    "\n",
    "    def call(self, features, hidden):\n",
    "        # features(CNN_encoder output) shape == (batch_size, 64, embedding_dim)\n",
    "\n",
    "        # hidden shape == (batch_size, hidden_size)\n",
    "        # hidden_with_time_axis shape == (batch_size, 1, hidden_size)\n",
    "        hidden_with_time_axis = tf.expand_dims(hidden, 1)\n",
    "\n",
    "        # attention_hidden_layer shape == (batch_size, 64, units)\n",
    "        attention_hidden_layer = (tf.nn.tanh(self.W1(features) +\n",
    "                                             self.W2(hidden_with_time_axis)))\n",
    "\n",
    "        # score shape == (batch_size, 64, 1)\n",
    "        # This gives you an unnormalized score for each image feature.\n",
    "        score = self.V(attention_hidden_layer)\n",
    "\n",
    "        # attention_weights shape == (batch_size, 64, 1)\n",
    "        attention_weights = tf.nn.softmax(score, axis=1)\n",
    "\n",
    "        # context_vector shape after sum == (batch_size, hidden_size)\n",
    "        context_vector = attention_weights * features\n",
    "        context_vector = tf.reduce_sum(context_vector, axis=1)\n",
    "\n",
    "        return context_vector, attention_weights"
   ]
  },
  {
   "cell_type": "code",
   "execution_count": 25,
   "metadata": {
    "id": "Eij3DZsYSjqe"
   },
   "outputs": [],
   "source": [
    "class CNN_Encoder(tf.keras.Model):\n",
    "    # Since you have already extracted the features and dumped it using pickle\n",
    "    # This encoder passes those features through a Fully connected layer\n",
    "    def __init__(self, embedding_dim):\n",
    "        super(CNN_Encoder, self).__init__()\n",
    "        # shape after fc == (batch_size, 64, embedding_dim)\n",
    "        self.fc = tf.keras.layers.Dense(embedding_dim)\n",
    "\n",
    "    def call(self, x):\n",
    "        x = self.fc(x)\n",
    "        #print(f'This is x: {x}')\n",
    "        x = tf.nn.relu(x)\n",
    "        #print(f'This is x: {x}')\n",
    "        return x"
   ]
  },
  {
   "cell_type": "code",
   "execution_count": 26,
   "metadata": {
    "id": "dLl75ZtPSjqh"
   },
   "outputs": [],
   "source": [
    "class RNN_Decoder(tf.keras.Model):\n",
    "    def __init__(self, embedding_dim, units, vocab_size):\n",
    "        super(RNN_Decoder, self).__init__()\n",
    "        self.units = units\n",
    "\n",
    "        self.embedding = tf.keras.layers.Embedding(vocab_size, embedding_dim)\n",
    "        self.gru = tf.keras.layers.GRU(self.units,\n",
    "                                       return_sequences=True,\n",
    "                                       return_state=True,\n",
    "                                       recurrent_initializer='glorot_uniform')\n",
    "        self.fc1 = tf.keras.layers.Dense(self.units)\n",
    "        self.fc2 = tf.keras.layers.Dense(vocab_size)\n",
    "\n",
    "        self.attention = BahdanauAttention(self.units)\n",
    "\n",
    "    def call(self, x, features, hidden):\n",
    "        # defining attention as a separate model\n",
    "        context_vector, attention_weights = self.attention(features, hidden)\n",
    "        #print('decoder attention complete')\n",
    "\n",
    "        # x shape after passing through embedding == (batch_size, 1, embedding_dim)\n",
    "        x = self.embedding(x)\n",
    "        #print('decoder embedding complete')\n",
    "        #print(f'x.shape = {x.shape}')\n",
    "        #print(f'context_vector.shape = {context_vector.shape}')\n",
    "\n",
    "        # x shape after concatenation == (batch_size, 1, embedding_dim + hidden_size)\n",
    "        x = tf.concat([tf.expand_dims(context_vector, 1), x], axis=-1)\n",
    "        #print('decoder embedding + context vector complete')\n",
    "\n",
    "        # passing the concatenated vector to the GRU\n",
    "        output, state = self.gru(x)\n",
    "        #print('decoder gru complete')\n",
    "\n",
    "        # shape == (batch_size, max_length, hidden_size)\n",
    "        x = self.fc1(output)\n",
    "        #print('decoder fc1 complete')\n",
    "\n",
    "        # x shape == (batch_size * max_length, hidden_size)\n",
    "        x = tf.reshape(x, (-1, x.shape[2]))\n",
    "        #print('decoder reshape complete')\n",
    "\n",
    "        # output shape == (batch_size * max_length, vocab)\n",
    "        x = self.fc2(x)\n",
    "        #print('decoder fc2 complete')\n",
    "\n",
    "        return x, state, attention_weights\n",
    "\n",
    "    def reset_state(self, batch_size):\n",
    "        return tf.zeros((batch_size, self.units))"
   ]
  },
  {
   "cell_type": "code",
   "execution_count": 27,
   "metadata": {
    "id": "quKzY4IeSjqj"
   },
   "outputs": [],
   "source": [
    "encoder = CNN_Encoder(embedding_dim)\n",
    "decoder = RNN_Decoder(embedding_dim, units, vocab_size)"
   ]
  },
  {
   "cell_type": "code",
   "execution_count": 28,
   "metadata": {
    "id": "kI5g_iYrSjql"
   },
   "outputs": [],
   "source": [
    "optimizer = tf.keras.optimizers.Adam()\n",
    "loss_object = tf.keras.losses.SparseCategoricalCrossentropy(\n",
    "    from_logits=True, reduction='none')\n",
    "\n",
    "def loss_function(real, pred):\n",
    "    mask = tf.math.logical_not(tf.math.equal(real, 0))\n",
    "    loss_ = loss_object(real, pred)\n",
    "\n",
    "    mask = tf.cast(mask, dtype=loss_.dtype)\n",
    "    loss_ *= mask\n",
    "\n",
    "    return tf.reduce_mean(loss_)"
   ]
  },
  {
   "cell_type": "code",
   "execution_count": 29,
   "metadata": {
    "id": "MASAvbV3Sjqn"
   },
   "outputs": [],
   "source": [
    "checkpoint_path = \"./checkpoints/train_my_cnn\"\n",
    "ckpt = tf.train.Checkpoint(encoder=encoder,\n",
    "                           decoder=decoder,\n",
    "                           optimizer = optimizer)\n",
    "ckpt_manager = tf.train.CheckpointManager(ckpt, checkpoint_path, max_to_keep=5)"
   ]
  },
  {
   "cell_type": "code",
   "execution_count": 30,
   "metadata": {
    "id": "8yQjrGWkSjqo"
   },
   "outputs": [],
   "source": [
    "start_epoch = 0\n",
    "if ckpt_manager.latest_checkpoint:\n",
    "      start_epoch = int(ckpt_manager.latest_checkpoint.split('-')[-1])\n",
    "      # restoring the latest checkpoint in checkpoint_path\n",
    "      ckpt.restore(ckpt_manager.latest_checkpoint)"
   ]
  },
  {
   "cell_type": "code",
   "execution_count": 31,
   "metadata": {
    "id": "IE7pUZDGSjqq"
   },
   "outputs": [],
   "source": [
    "# adding this in a separate cell because if you run the training cell\n",
    "# many times, the loss_plot array will be reset\n",
    "loss_plot = []\n",
    "val_loss_plot=[]"
   ]
  },
  {
   "cell_type": "code",
   "execution_count": 32,
   "metadata": {
    "id": "JHXjLxYuSjqs"
   },
   "outputs": [],
   "source": [
    "@tf.function\n",
    "def train_step(img_tensor, target):\n",
    "    loss = 0\n",
    "\n",
    "          # initializing the hidden state for each batch\n",
    "          # because the captions are not related from image to image\n",
    "    hidden = decoder.reset_state(batch_size=target.shape[0])\n",
    "    #print(f'hidden complete: {hidden}')\n",
    "\n",
    "    # Create a vector of all \\t indices to indicate the start of prediction\n",
    "    dec_input = tf.expand_dims([tokenizer.word_index['\\t']] * target.shape[0], 1)\n",
    "    #print(f'dec_input complete: {dec_input}')\n",
    "\n",
    "    with tf.GradientTape() as tape:\n",
    "        features = encoder(img_tensor)\n",
    "        #print('encoder complete')\n",
    "        #print(f'features.shape = {features.shape}')\n",
    "\n",
    "        # iterate through timesteps to predict the i'th character\n",
    "        for i in range(1, target.shape[1]):\n",
    "            # passing the features through the decoder\n",
    "            predictions, hidden, _ = decoder(dec_input, features, hidden)\n",
    "            #print('decoder complete')\n",
    "\n",
    "            loss += loss_function(target[:, i], predictions)\n",
    "\n",
    "            # using teacher forcing\n",
    "            dec_input = tf.expand_dims(target[:, i], 1)\n",
    "\n",
    "    total_loss = (loss / int(target.shape[1]))\n",
    "\n",
    "    trainable_variables = encoder.trainable_variables + decoder.trainable_variables\n",
    "\n",
    "    gradients = tape.gradient(loss, trainable_variables)\n",
    "\n",
    "    optimizer.apply_gradients(zip(gradients, trainable_variables))\n",
    "\n",
    "    return loss, total_loss"
   ]
  },
  {
   "cell_type": "code",
   "execution_count": 33,
   "metadata": {},
   "outputs": [],
   "source": [
    "@tf.function\n",
    "def val_step(img_tensor, target, teacher_forcing=True):\n",
    "    loss = 0\n",
    "    hidden = decoder.reset_state(batch_size=target.shape[0])\n",
    "\n",
    "    dec_input = tf.expand_dims([tokenizer.word_index['\\t']] * target.shape[0], 1)\n",
    "\n",
    "    features = encoder(img_tensor)\n",
    "    \n",
    "    for i in range(1, target.shape[1]):\n",
    "        predictions, hidden, _ = decoder(dec_input, features, hidden)\n",
    "        loss += loss_function(target[:, i], predictions)\n",
    "\n",
    "        dec_input = tf.expand_dims(target[:, i], 1)\n",
    "\n",
    "    avg_loss = (loss / int(target.shape[1]))\n",
    "    return loss, avg_loss\n",
    "\n",
    "def cal_val_loss(val_dataset):\n",
    "    total_loss = 0\n",
    "    for (batch, (img_tensor, target)) in enumerate(val_dataset):\n",
    "        batch_loss, t_loss = val_step(img_tensor, target)\n",
    "    \n",
    "        total_loss += t_loss\n",
    "    #print ('Valid Loss {:.6f}'.format(total_loss/val_num_steps))\n",
    "    return (total_loss/val_num_steps)"
   ]
  },
  {
   "cell_type": "code",
   "execution_count": 34,
   "metadata": {
    "id": "hKZ-gQg4hmoZ"
   },
   "outputs": [],
   "source": [
    "image_dataset_encoded = tf.data.Dataset.from_tensor_slices((img_load, cap_vector)).batch(1000)\n",
    "val_dataset = tf.data.Dataset.from_tensor_slices((img_val_load, cap_vector_val)).batch(1000)"
   ]
  },
  {
   "cell_type": "code",
   "execution_count": 105,
   "metadata": {
    "colab": {
     "base_uri": "https://localhost:8080/"
    },
    "executionInfo": {
     "elapsed": 7322,
     "status": "ok",
     "timestamp": 1605397126121,
     "user": {
      "displayName": "Morgan Allen",
      "photoUrl": "https://lh3.googleusercontent.com/a-/AOh14GjaNMWmr2TlLrY_MBSDquiSqhgTuK8vCNzY4tLH=s64",
      "userId": "12026828979516915336"
     },
     "user_tz": 360
    },
    "id": "vZPAuWz8Sjqu",
    "outputId": "cacc9dc1-aae4-4391-dba4-b28245e0d454",
    "scrolled": true
   },
   "outputs": [
    {
     "name": "stdout",
     "output_type": "stream",
     "text": [
      "Epoch 1 Batch 0 Loss 1.2763\n",
      "Epoch 1 Batch 1 Loss 1.2756\n",
      "Epoch 1 Batch 2 Loss 1.2760\n",
      "Epoch 1 Batch 3 Loss 1.2761\n",
      "Epoch 1 Batch 4 Loss 1.2758\n",
      "Epoch 1 Batch 5 Loss 1.2766\n",
      "Epoch 1 Batch 6 Loss 1.2771\n",
      "Epoch 1 Batch 7 Loss 1.2762\n",
      "Epoch 1 Batch 8 Loss 1.2762\n",
      "Epoch 1 Batch 9 Loss 1.2758\n",
      "Epoch 1 Batch 10 Loss 1.2758\n",
      "Epoch 1 Batch 11 Loss 1.2761\n",
      "Epoch 1 Batch 12 Loss 1.2760\n",
      "Epoch 1 Batch 13 Loss 1.2764\n",
      "Epoch 1 Batch 14 Loss 1.2755\n",
      "14400\n",
      "Epoch 1 Loss 0.001329 Val Loss 0.001418\n",
      "Time taken for 1 epoch 142.85155725479126 sec\n",
      "\n",
      "Epoch 2 Batch 0 Loss 1.2756\n",
      "Epoch 2 Batch 1 Loss 1.2750\n",
      "Epoch 2 Batch 2 Loss 1.2753\n",
      "Epoch 2 Batch 3 Loss 1.2754\n",
      "Epoch 2 Batch 4 Loss 1.2751\n",
      "Epoch 2 Batch 5 Loss 1.2760\n",
      "Epoch 2 Batch 6 Loss 1.2765\n",
      "Epoch 2 Batch 7 Loss 1.2756\n",
      "Epoch 2 Batch 8 Loss 1.2755\n",
      "Epoch 2 Batch 9 Loss 1.2752\n",
      "Epoch 2 Batch 10 Loss 1.2752\n",
      "Epoch 2 Batch 11 Loss 1.2755\n",
      "Epoch 2 Batch 12 Loss 1.2754\n",
      "Epoch 2 Batch 13 Loss 1.2761\n",
      "Epoch 2 Batch 14 Loss 1.2750\n",
      "14400\n",
      "Epoch 2 Loss 0.001329 Val Loss 0.001417\n",
      "Time taken for 1 epoch 141.7146701812744 sec\n",
      "\n",
      "Epoch 3 Batch 0 Loss 1.2751\n",
      "Epoch 3 Batch 1 Loss 1.2744\n",
      "Epoch 3 Batch 2 Loss 1.2748\n",
      "Epoch 3 Batch 3 Loss 1.2749\n",
      "Epoch 3 Batch 4 Loss 1.2746\n",
      "Epoch 3 Batch 5 Loss 1.2755\n",
      "Epoch 3 Batch 6 Loss 1.2760\n",
      "Epoch 3 Batch 7 Loss 1.2753\n",
      "Epoch 3 Batch 8 Loss 1.2750\n",
      "Epoch 3 Batch 9 Loss 1.2745\n",
      "Epoch 3 Batch 10 Loss 1.2746\n",
      "Epoch 3 Batch 11 Loss 1.2751\n",
      "Epoch 3 Batch 12 Loss 1.2749\n",
      "Epoch 3 Batch 13 Loss 1.2757\n",
      "Epoch 3 Batch 14 Loss 1.2746\n",
      "14400\n",
      "Epoch 3 Loss 0.001328 Val Loss 0.001416\n",
      "Time taken for 1 epoch 135.20797419548035 sec\n",
      "\n",
      "Epoch 4 Batch 0 Loss 1.2747\n",
      "Epoch 4 Batch 1 Loss 1.2740\n",
      "Epoch 4 Batch 2 Loss 1.2744\n",
      "Epoch 4 Batch 3 Loss 1.2744\n",
      "Epoch 4 Batch 4 Loss 1.2741\n",
      "Epoch 4 Batch 5 Loss 1.2751\n",
      "Epoch 4 Batch 6 Loss 1.2756\n",
      "Epoch 4 Batch 7 Loss 1.2750\n",
      "Epoch 4 Batch 8 Loss 1.2747\n",
      "Epoch 4 Batch 9 Loss 1.2741\n",
      "Epoch 4 Batch 10 Loss 1.2742\n",
      "Epoch 4 Batch 11 Loss 1.2746\n",
      "Epoch 4 Batch 12 Loss 1.2744\n",
      "Epoch 4 Batch 13 Loss 1.2754\n",
      "Epoch 4 Batch 14 Loss 1.2742\n",
      "14400\n",
      "Epoch 4 Loss 0.001328 Val Loss 0.001416\n",
      "Time taken for 1 epoch 151.61941576004028 sec\n",
      "\n",
      "Epoch 5 Batch 0 Loss 1.2744\n",
      "Epoch 5 Batch 1 Loss 1.2736\n",
      "Epoch 5 Batch 2 Loss 1.2741\n",
      "Epoch 5 Batch 3 Loss 1.2740\n",
      "Epoch 5 Batch 4 Loss 1.2737\n",
      "Epoch 5 Batch 5 Loss 1.2747\n",
      "Epoch 5 Batch 6 Loss 1.2752\n",
      "Epoch 5 Batch 7 Loss 1.2747\n",
      "Epoch 5 Batch 8 Loss 1.2744\n",
      "Epoch 5 Batch 9 Loss 1.2738\n",
      "Epoch 5 Batch 10 Loss 1.2738\n",
      "Epoch 5 Batch 11 Loss 1.2743\n",
      "Epoch 5 Batch 12 Loss 1.2741\n",
      "Epoch 5 Batch 13 Loss 1.2751\n",
      "Epoch 5 Batch 14 Loss 1.2739\n",
      "14400\n",
      "Epoch 5 Loss 0.001327 Val Loss 0.001416\n",
      "Time taken for 1 epoch 129.10092306137085 sec\n",
      "\n",
      "Epoch 6 Batch 0 Loss 1.2742\n",
      "Epoch 6 Batch 1 Loss 1.2733\n",
      "Epoch 6 Batch 2 Loss 1.2738\n",
      "Epoch 6 Batch 3 Loss 1.2738\n",
      "Epoch 6 Batch 4 Loss 1.2733\n",
      "Epoch 6 Batch 5 Loss 1.2744\n",
      "Epoch 6 Batch 6 Loss 1.2748\n",
      "Epoch 6 Batch 7 Loss 1.2745\n",
      "Epoch 6 Batch 8 Loss 1.2742\n",
      "Epoch 6 Batch 9 Loss 1.2736\n",
      "Epoch 6 Batch 10 Loss 1.2735\n",
      "Epoch 6 Batch 11 Loss 1.2740\n",
      "Epoch 6 Batch 12 Loss 1.2737\n",
      "Epoch 6 Batch 13 Loss 1.2749\n",
      "Epoch 6 Batch 14 Loss 1.2736\n",
      "14400\n",
      "Epoch 6 Loss 0.001327 Val Loss 0.001416\n",
      "Time taken for 1 epoch 150.57057785987854 sec\n",
      "\n",
      "Epoch 7 Batch 0 Loss 1.2740\n",
      "Epoch 7 Batch 1 Loss 1.2731\n",
      "Epoch 7 Batch 2 Loss 1.2736\n",
      "Epoch 7 Batch 3 Loss 1.2735\n",
      "Epoch 7 Batch 4 Loss 1.2730\n",
      "Epoch 7 Batch 5 Loss 1.2741\n",
      "Epoch 7 Batch 6 Loss 1.2745\n",
      "Epoch 7 Batch 7 Loss 1.2742\n",
      "Epoch 7 Batch 8 Loss 1.2740\n",
      "Epoch 7 Batch 9 Loss 1.2734\n",
      "Epoch 7 Batch 10 Loss 1.2732\n",
      "Epoch 7 Batch 11 Loss 1.2737\n",
      "Epoch 7 Batch 12 Loss 1.2735\n",
      "Epoch 7 Batch 13 Loss 1.2747\n",
      "Epoch 7 Batch 14 Loss 1.2732\n",
      "14400\n",
      "Epoch 7 Loss 0.001327 Val Loss 0.001415\n",
      "Time taken for 1 epoch 135.52319407463074 sec\n",
      "\n",
      "Epoch 8 Batch 0 Loss 1.2738\n",
      "Epoch 8 Batch 1 Loss 1.2728\n",
      "Epoch 8 Batch 2 Loss 1.2734\n",
      "Epoch 8 Batch 3 Loss 1.2733\n",
      "Epoch 8 Batch 4 Loss 1.2727\n",
      "Epoch 8 Batch 5 Loss 1.2738\n",
      "Epoch 8 Batch 6 Loss 1.2741\n",
      "Epoch 8 Batch 7 Loss 1.2740\n",
      "Epoch 8 Batch 8 Loss 1.2738\n",
      "Epoch 8 Batch 9 Loss 1.2732\n",
      "Epoch 8 Batch 10 Loss 1.2729\n",
      "Epoch 8 Batch 11 Loss 1.2735\n",
      "Epoch 8 Batch 12 Loss 1.2732\n",
      "Epoch 8 Batch 13 Loss 1.2744\n",
      "Epoch 8 Batch 14 Loss 1.2729\n",
      "14400\n",
      "Epoch 8 Loss 0.001327 Val Loss 0.001415\n",
      "Time taken for 1 epoch 161.86147212982178 sec\n",
      "\n",
      "Epoch 9 Batch 0 Loss 1.2737\n",
      "Epoch 9 Batch 1 Loss 1.2726\n",
      "Epoch 9 Batch 2 Loss 1.2732\n",
      "Epoch 9 Batch 3 Loss 1.2731\n",
      "Epoch 9 Batch 4 Loss 1.2724\n",
      "Epoch 9 Batch 5 Loss 1.2736\n",
      "Epoch 9 Batch 6 Loss 1.2738\n",
      "Epoch 9 Batch 7 Loss 1.2738\n",
      "Epoch 9 Batch 8 Loss 1.2737\n",
      "Epoch 9 Batch 9 Loss 1.2731\n",
      "Epoch 9 Batch 10 Loss 1.2727\n",
      "Epoch 9 Batch 11 Loss 1.2734\n",
      "Epoch 9 Batch 12 Loss 1.2730\n",
      "Epoch 9 Batch 13 Loss 1.2741\n",
      "Epoch 9 Batch 14 Loss 1.2726\n",
      "14400\n",
      "Epoch 9 Loss 0.001326 Val Loss 0.001415\n",
      "Time taken for 1 epoch 136.78690004348755 sec\n",
      "\n",
      "Epoch 10 Batch 0 Loss 1.2736\n",
      "Epoch 10 Batch 1 Loss 1.2723\n",
      "Epoch 10 Batch 2 Loss 1.2730\n",
      "Epoch 10 Batch 3 Loss 1.2729\n",
      "Epoch 10 Batch 4 Loss 1.2722\n",
      "Epoch 10 Batch 5 Loss 1.2734\n",
      "Epoch 10 Batch 6 Loss 1.2736\n",
      "Epoch 10 Batch 7 Loss 1.2736\n",
      "Epoch 10 Batch 8 Loss 1.2735\n",
      "Epoch 10 Batch 9 Loss 1.2730\n",
      "Epoch 10 Batch 10 Loss 1.2725\n",
      "Epoch 10 Batch 11 Loss 1.2732\n",
      "Epoch 10 Batch 12 Loss 1.2728\n",
      "Epoch 10 Batch 13 Loss 1.2739\n",
      "Epoch 10 Batch 14 Loss 1.2723\n",
      "14400\n",
      "Epoch 10 Loss 0.001326 Val Loss 0.001415\n",
      "Time taken for 1 epoch 145.32861495018005 sec\n",
      "\n"
     ]
    }
   ],
   "source": [
    "import time\n",
    "EPOCHS = 10\n",
    "\n",
    "for epoch in range(start_epoch, EPOCHS):\n",
    "    start = time.time()\n",
    "    total_loss = 0\n",
    "\n",
    "    for (batch, (img_tensor, target)) in enumerate(image_dataset_encoded):\n",
    "        batch_loss, t_loss = train_step(img_tensor, target)\n",
    "        total_loss += t_loss\n",
    "        \n",
    "        val_loss = cal_val_loss(val_dataset)\n",
    "\n",
    "        if batch % 1 == 0:\n",
    "            print ('Epoch {} Batch {} Loss {:.4f}'.format(\n",
    "                epoch + 1, batch, batch_loss / int(target.shape[1])))\n",
    "    # storing the epoch end loss value to plot later\n",
    "    loss_plot.append(total_loss / num_steps)\n",
    "    val_loss_plot.append(val_loss)\n",
    "\n",
    "    if epoch % 5 == 0:\n",
    "        ckpt_manager.save() \n",
    "    print(num_steps)\n",
    "    print ('Epoch {} Loss {:.6f} Val Loss {:.6f}'.format(epoch + 1,\n",
    "                                         total_loss/num_steps, val_loss))\n",
    "    print ('Time taken for 1 epoch {} sec\\n'.format(time.time() - start))"
   ]
  },
  {
   "cell_type": "code",
   "execution_count": 106,
   "metadata": {
    "colab": {
     "base_uri": "https://localhost:8080/",
     "height": 295
    },
    "executionInfo": {
     "elapsed": 5485,
     "status": "ok",
     "timestamp": 1605397126122,
     "user": {
      "displayName": "Morgan Allen",
      "photoUrl": "https://lh3.googleusercontent.com/a-/AOh14GjaNMWmr2TlLrY_MBSDquiSqhgTuK8vCNzY4tLH=s64",
      "userId": "12026828979516915336"
     },
     "user_tz": 360
    },
    "id": "lsSx6FGZZh3q",
    "outputId": "94b1a0e7-25ef-4bb5-e1ed-cdd2b0c113eb"
   },
   "outputs": [
    {
     "data": {
      "image/png": "[encoded data removed]",
      "text/plain": [
       "<Figure size 432x288 with 1 Axes>"
      ]
     },
     "metadata": {
      "needs_background": "light"
     },
     "output_type": "display_data"
    }
   ],
   "source": [
    "plt.plot(loss_plot)\n",
    "plt.plot(val_loss_plot)\n",
    "plt.xlabel('Epochs')\n",
    "plt.ylabel('Loss')\n",
    "plt.title('Loss Plot')\n",
    "plt.show()"
   ]
  },
  {
   "cell_type": "markdown",
   "metadata": {
    "id": "S60WeHNwdPDG"
   },
   "source": [
    "# Evaluate"
   ]
  },
  {
   "cell_type": "code",
   "execution_count": 35,
   "metadata": {
    "id": "31N4XxAYcahR"
   },
   "outputs": [],
   "source": [
    "def evaluate(image):\n",
    "    attention_plot = np.zeros((max_length, attention_features_shape))\n",
    "\n",
    "    hidden = decoder.reset_state(batch_size=1)\n",
    "\n",
    "    temp_input = tf.expand_dims(image, 0)\n",
    "    #print(temp_input)\n",
    "    img_tensor_val = image_features_extract_model(temp_input)\n",
    "    #print(img_tensor_val)\n",
    "    img_tensor_val = tf.reshape(img_tensor_val, (img_tensor_val.shape[0], -1, img_tensor_val.shape[3]))\n",
    "    #print(img_tensor_val)\n",
    "    \n",
    "    features = encoder(img_tensor_val)\n",
    "\n",
    "    dec_input = tf.expand_dims([tokenizer.word_index['\\t']], 0)\n",
    "    result = []\n",
    "\n",
    "    for i in range(max_length):\n",
    "        predictions, hidden, attention_weights = decoder(dec_input, features, hidden)\n",
    "        #print(attention_weights.shape)\n",
    "        attention_plot[i] = tf.reshape(attention_weights, (-1, ))\n",
    "\n",
    "        predicted_id = tf.random.categorical(predictions, 1)[0][0]\n",
    "        predicted_id = int(predicted_id)\n",
    "        result.append(tokenizer.index_word[predicted_id])\n",
    "        #print(tokenizer.index_word[predicted_id])\n",
    "        ind = np.argpartition(predictions, -4)[0][-4:]\n",
    "        #print(f'These are the top choices {\"\".join(tokenizer.index_word[c] for c in ind)}')\n",
    "        #print(f'This are the probabilities {predictions.numpy()[0,ind]}')\n",
    "\n",
    "        if tokenizer.index_word[predicted_id] == '\\n':\n",
    "            return result, attention_plot\n",
    "\n",
    "        dec_input = tf.expand_dims([predicted_id], 0)\n",
    "\n",
    "    attention_plot = attention_plot[:len(result), :]\n",
    "    return result, attention_plot"
   ]
  },
  {
   "cell_type": "code",
   "execution_count": 44,
   "metadata": {
    "id": "CEEvzEL8dmsV"
   },
   "outputs": [],
   "source": [
    "def plot_attention(image, result, attention_plot):\n",
    "    \n",
    "    #-1 goes to zero\n",
    "    temp_image = np.array(image)\n",
    "\n",
    "    fig = plt.figure(figsize=(10, 10))\n",
    "    len_result = len(result)\n",
    "    for l in range(len_result):\n",
    "        temp_att = np.resize(attention_plot[l], (8, 8))\n",
    "        ax = fig.add_subplot(len_result//2, len_result//2, l+1)\n",
    "        ax.set_title(result[l])\n",
    "        img = ax.imshow(temp_image, cmap='gray')\n",
    "        #ax.imshow(temp_att, cmap='gray', alpha=0.6, extent=img.get_extent())\n",
    "\n",
    "    plt.tight_layout()\n",
    "    plt.show();"
   ]
  },
  {
   "cell_type": "markdown",
   "metadata": {
    "id": "p-GvV9Q9eaJh"
   },
   "source": [
    "Run attention_plot to see what it looks like"
   ]
  },
  {
   "cell_type": "code",
   "execution_count": 45,
   "metadata": {},
   "outputs": [
    {
     "name": "stdout",
     "output_type": "stream",
     "text": [
      "Prediction Caption: 8 g + 7 = 2 \n",
      "\n"
     ]
    },
    {
     "data": {
      "image/png": "[encoded data removed]",
      "text/plain": [
       "<Figure size 720x720 with 7 Axes>"
      ]
     },
     "metadata": {
      "needs_background": "light"
     },
     "output_type": "display_data"
    }
   ],
   "source": [
    "result, attention_plot = evaluate(img_test[0])\n",
    "print ('Prediction Caption:', ' '.join(result))\n",
    "plot_attention(img_test[0], result, attention_plot)\n",
    "# opening the image"
   ]
  },
  {
   "cell_type": "code",
   "execution_count": 109,
   "metadata": {},
   "outputs": [
    {
     "name": "stdout",
     "output_type": "stream",
     "text": [
      "Prediction Caption: 7 p + 9 = 3 \n",
      "\n"
     ]
    },
    {
     "data": {
      "image/png": "[encoded data removed]",
      "text/plain": [
       "<Figure size 720x720 with 7 Axes>"
      ]
     },
     "metadata": {
      "needs_background": "light"
     },
     "output_type": "display_data"
    }
   ],
   "source": [
    "result, attention_plot = evaluate(img_test[9])\n",
    "print ('Prediction Caption:', ' '.join(result))\n",
    "plot_attention(img_test[9], result, attention_plot)\n",
    "# opening the image"
   ]
  },
  {
   "cell_type": "code",
   "execution_count": 110,
   "metadata": {},
   "outputs": [
    {
     "name": "stdout",
     "output_type": "stream",
     "text": [
      "Prediction Caption: 7 h + 5 = 4 \n",
      "\n"
     ]
    },
    {
     "data": {
      "image/png": "[encoded data removed]",
      "text/plain": [
       "<Figure size 720x720 with 7 Axes>"
      ]
     },
     "metadata": {
      "needs_background": "light"
     },
     "output_type": "display_data"
    }
   ],
   "source": [
    "result, attention_plot = evaluate(img_test[5])\n",
    "print ('Prediction Caption:', ' '.join(result))\n",
    "plot_attention(img_test[5], result, attention_plot)\n",
    "# opening the image"
   ]
  },
  {
   "cell_type": "code",
   "execution_count": 103,
   "metadata": {},
   "outputs": [],
   "source": [
    "def check_results(images, labels, num_imgs=10):\n",
    "    for i in range(0, num_imgs):\n",
    "        result, attention_plot = evaluate(images[i])\n",
    "        print('Prediction Caption:', ' '.join(result))\n",
    "        print(f'Actual Caption: ', labels[i])\n",
    "        #plot_attention(images[i], result, attention_plot)"
   ]
  },
  {
   "cell_type": "code",
   "execution_count": 112,
   "metadata": {},
   "outputs": [
    {
     "name": "stdout",
     "output_type": "stream",
     "text": [
      "Prediction Caption: 8 q + 9 = 6 \n",
      "\n",
      "Actual Caption:  \t8k+2=9\n",
      "\n",
      "Prediction Caption: 8 j + 1 = 1 \n",
      "\n",
      "Actual Caption:  \t0o+1=6\n",
      "\n",
      "Prediction Caption: 3 z + 8 = 7 \n",
      "\n",
      "Actual Caption:  \t1s+2=7\n",
      "\n",
      "Prediction Caption: 9 b + 6 = 4 \n",
      "\n",
      "Actual Caption:  \t7u+4=1\n",
      "\n",
      "Prediction Caption: 4 p + 2 = 6 \n",
      "\n",
      "Actual Caption:  \t4b+9=3\n",
      "\n",
      "Prediction Caption: 1 k + 2 = 8 \n",
      "\n",
      "Actual Caption:  \t5j+1=8\n",
      "\n",
      "Prediction Caption: 1 u + 2 = 1 \n",
      "\n",
      "Actual Caption:  \t5j+0=1\n",
      "\n",
      "Prediction Caption: 4 <unk> + 6 = 8 \n",
      "\n",
      "Actual Caption:  \t6s+5=9\n",
      "\n",
      "Prediction Caption: 2 i + 8 = 7 \n",
      "\n",
      "Actual Caption:  \t3d+4=1\n",
      "\n",
      "Prediction Caption: 4 = 9 = 1 = 1 \n",
      "\n",
      "Actual Caption:  \t7s+0=3\n",
      "\n"
     ]
    }
   ],
   "source": [
    "check_results(img_test, img_test_name)"
   ]
  },
  {
   "cell_type": "code",
   "execution_count": null,
   "metadata": {},
   "outputs": [],
   "source": []
  }
 ],
 "metadata": {
  "accelerator": "GPU",
  "colab": {
   "collapsed_sections": [],
   "name": "Morgan Copy Image Captioning with Attention (Drive).ipynb",
   "provenance": []
  },
  "kernelspec": {
   "display_name": "Python 3",
   "language": "python",
   "name": "python3"
  },
  "language_info": {
   "codemirror_mode": {
    "name": "ipython",
    "version": 3
   },
   "file_extension": ".py",
   "mimetype": "text/x-python",
   "name": "python",
   "nbconvert_exporter": "python",
   "pygments_lexer": "ipython3",
   "version": "3.7.6"
  }
 },
 "nbformat": 4,
 "nbformat_minor": 1
}
