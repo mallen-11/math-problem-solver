{
 "cells": [
  {
   "cell_type": "markdown",
   "metadata": {
    "id": "8xUzM901Sjpe"
   },
   "source": [
    "# Image Captioning with Attention"
   ]
  },
  {
   "cell_type": "code",
   "execution_count": 1,
   "metadata": {
    "colab": {
     "base_uri": "https://localhost:8080/"
    },
    "executionInfo": {
     "elapsed": 23950,
     "status": "ok",
     "timestamp": 1605553608791,
     "user": {
      "displayName": "Morgan Allen",
      "photoUrl": "https://lh3.googleusercontent.com/a-/AOh14GjaNMWmr2TlLrY_MBSDquiSqhgTuK8vCNzY4tLH=s64",
      "userId": "12026828979516915336"
     },
     "user_tz": 360
    },
    "id": "rMgFop76Sjpf",
    "outputId": "b2cf6200-462f-466c-c514-b99318169097"
   },
   "outputs": [],
   "source": [
    "import tensorflow as tf\n",
    "import numpy as np\n",
    "import pandas as pd\n",
    "from matplotlib import pyplot as plt\n",
    "from PIL import Image\n",
    "\n",
    "from sklearn.linear_model import LogisticRegression\n",
    "from sklearn.metrics import plot_confusion_matrix, confusion_matrix\n",
    "\n",
    "from tensorflow.keras.layers import Dense, Flatten, Conv2D, MaxPooling2D, Dropout, BatchNormalization\n",
    "from tensorflow.keras import Model\n",
    "from tensorflow.keras.models import Sequential\n",
    "from tensorflow.keras import layers\n",
    "from tensorflow import image\n",
    "\n",
    "import itertools\n",
    "\n",
    "tf.random.set_seed(1)\n"
   ]
  },
  {
   "cell_type": "code",
   "execution_count": null,
   "metadata": {},
   "outputs": [],
   "source": [
    "tf.data.Dataset.from_tensor_slices(((img_mini, img_mini_inception), label_array)).batch(32)\n",
    "\n",
    "for (batch, ((raw_img, img_tensor), target)) in\n",
    "\n",
    ".from_tensor_slices((raw_img, inception_img, label))"
   ]
  },
  {
   "cell_type": "markdown",
   "metadata": {
    "id": "CqP6UkWTSjpj"
   },
   "source": [
    "Loading the Data. The data consist of pictures and labels of linear functions"
   ]
  },
  {
   "cell_type": "code",
   "execution_count": 2,
   "metadata": {
    "executionInfo": {
     "elapsed": 976,
     "status": "ok",
     "timestamp": 1605553609779,
     "user": {
      "displayName": "Morgan Allen",
      "photoUrl": "https://lh3.googleusercontent.com/a-/AOh14GjaNMWmr2TlLrY_MBSDquiSqhgTuK8vCNzY4tLH=s64",
      "userId": "12026828979516915336"
     },
     "user_tz": 360
    },
    "id": "08AiJm9zSjpk"
   },
   "outputs": [],
   "source": [
    "import cv2\n",
    "import os\n",
    "\n",
    "def load_images_from_folder(folder, n_imgs=-1):\n",
    "    images = []\n",
    "    image_nums = []\n",
    "    for filename in os.listdir(folder)[:n_imgs]:\n",
    "        img = cv2.imread(os.path.join(folder,filename))\n",
    "        if img is not None:\n",
    "            images.append(img)\n",
    "            image_nums.append(filename.strip('.png'))\n",
    "    return images, image_nums\n",
    "\n",
    "folder=\"../../linear_fcns/images\""
   ]
  },
  {
   "cell_type": "code",
   "execution_count": 48,
   "metadata": {
    "executionInfo": {
     "elapsed": 45955,
     "status": "ok",
     "timestamp": 1605554061902,
     "user": {
      "displayName": "Morgan Allen",
      "photoUrl": "https://lh3.googleusercontent.com/a-/AOh14GjaNMWmr2TlLrY_MBSDquiSqhgTuK8vCNzY4tLH=s64",
      "userId": "12026828979516915336"
     },
     "user_tz": 360
    },
    "id": "vBBKDvA8Sjpm"
   },
   "outputs": [],
   "source": [
    "images, fnames = load_images_from_folder(folder)"
   ]
  },
  {
   "cell_type": "code",
   "execution_count": 49,
   "metadata": {
    "id": "WYkOrKFFSjpp"
   },
   "outputs": [],
   "source": [
    "labels = pd.read_csv('../../linear_fcns/data.csv')"
   ]
  },
  {
   "cell_type": "code",
   "execution_count": 50,
   "metadata": {
    "id": "JoZjytqMWTiR"
   },
   "outputs": [],
   "source": [
    "labels['img_number'] = labels['filename'].apply(lambda x: x.split('/')[-1].strip('.png'))"
   ]
  },
  {
   "cell_type": "code",
   "execution_count": 51,
   "metadata": {
    "colab": {
     "base_uri": "https://localhost:8080/",
     "height": 204
    },
    "executionInfo": {
     "elapsed": 217,
     "status": "ok",
     "timestamp": 1605395495815,
     "user": {
      "displayName": "Morgan Allen",
      "photoUrl": "https://lh3.googleusercontent.com/a-/AOh14GjaNMWmr2TlLrY_MBSDquiSqhgTuK8vCNzY4tLH=s64",
      "userId": "12026828979516915336"
     },
     "user_tz": 360
    },
    "id": "vC3wCKPxWQaC",
    "outputId": "902efffe-60ca-411b-f507-a329adf0f01a"
   },
   "outputs": [
    {
     "data": {
      "text/html": [
       "<div>\n",
       "<style scoped>\n",
       "    .dataframe tbody tr th:only-of-type {\n",
       "        vertical-align: middle;\n",
       "    }\n",
       "\n",
       "    .dataframe tbody tr th {\n",
       "        vertical-align: top;\n",
       "    }\n",
       "\n",
       "    .dataframe thead th {\n",
       "        text-align: right;\n",
       "    }\n",
       "</style>\n",
       "<table border=\"1\" class=\"dataframe\">\n",
       "  <thead>\n",
       "    <tr style=\"text-align: right;\">\n",
       "      <th></th>\n",
       "      <th>latex</th>\n",
       "      <th>filename</th>\n",
       "      <th>img_number</th>\n",
       "    </tr>\n",
       "  </thead>\n",
       "  <tbody>\n",
       "    <tr>\n",
       "      <th>0</th>\n",
       "      <td>0a+1=2</td>\n",
       "      <td>linear_fcns/images/0.png</td>\n",
       "      <td>0</td>\n",
       "    </tr>\n",
       "    <tr>\n",
       "      <th>1</th>\n",
       "      <td>0b+1=2</td>\n",
       "      <td>linear_fcns/images/1.png</td>\n",
       "      <td>1</td>\n",
       "    </tr>\n",
       "    <tr>\n",
       "      <th>2</th>\n",
       "      <td>0c+1=2</td>\n",
       "      <td>linear_fcns/images/2.png</td>\n",
       "      <td>2</td>\n",
       "    </tr>\n",
       "    <tr>\n",
       "      <th>3</th>\n",
       "      <td>0d+1=2</td>\n",
       "      <td>linear_fcns/images/3.png</td>\n",
       "      <td>3</td>\n",
       "    </tr>\n",
       "    <tr>\n",
       "      <th>4</th>\n",
       "      <td>0e+1=2</td>\n",
       "      <td>linear_fcns/images/4.png</td>\n",
       "      <td>4</td>\n",
       "    </tr>\n",
       "  </tbody>\n",
       "</table>\n",
       "</div>"
      ],
      "text/plain": [
       "    latex                  filename img_number\n",
       "0  0a+1=2  linear_fcns/images/0.png          0\n",
       "1  0b+1=2  linear_fcns/images/1.png          1\n",
       "2  0c+1=2  linear_fcns/images/2.png          2\n",
       "3  0d+1=2  linear_fcns/images/3.png          3\n",
       "4  0e+1=2  linear_fcns/images/4.png          4"
      ]
     },
     "execution_count": 51,
     "metadata": {},
     "output_type": "execute_result"
    }
   ],
   "source": [
    "labels.head()"
   ]
  },
  {
   "cell_type": "code",
   "execution_count": 52,
   "metadata": {
    "id": "DC-tLPESWAy5"
   },
   "outputs": [],
   "source": [
    "label_array = labels[labels['img_number'].isin(fnames)]['latex'].values"
   ]
  },
  {
   "cell_type": "code",
   "execution_count": 53,
   "metadata": {
    "colab": {
     "base_uri": "https://localhost:8080/"
    },
    "executionInfo": {
     "elapsed": 202,
     "status": "ok",
     "timestamp": 1605395498172,
     "user": {
      "displayName": "Morgan Allen",
      "photoUrl": "https://lh3.googleusercontent.com/a-/AOh14GjaNMWmr2TlLrY_MBSDquiSqhgTuK8vCNzY4tLH=s64",
      "userId": "12026828979516915336"
     },
     "user_tz": 360
    },
    "id": "UBW7zYvSXC-m",
    "outputId": "b24000a7-1008-4eb5-ab5f-34d9a3ca1569"
   },
   "outputs": [
    {
     "data": {
      "text/plain": [
       "array(['0a+1=2', '0b+1=2', '0c+1=2', ..., '9x+8=7', '9y+8=7', '9z+8=7'],\n",
       "      dtype=object)"
      ]
     },
     "execution_count": 53,
     "metadata": {},
     "output_type": "execute_result"
    }
   ],
   "source": [
    "label_array"
   ]
  },
  {
   "cell_type": "markdown",
   "metadata": {
    "id": "zXR3M4QBSjpv"
   },
   "source": [
    "For the labels we need to add start and end tokens so the model can recognize what to write."
   ]
  },
  {
   "cell_type": "code",
   "execution_count": 54,
   "metadata": {
    "id": "NEzxzBX8Sjpv"
   },
   "outputs": [],
   "source": [
    "label_array = [f'\\t{la}\\n' for la in label_array]"
   ]
  },
  {
   "cell_type": "markdown",
   "metadata": {
    "id": "HHztSmQ_Sjpy"
   },
   "source": [
    "Let's reshape the images so we can plot them."
   ]
  },
  {
   "cell_type": "code",
   "execution_count": 55,
   "metadata": {
    "colab": {
     "base_uri": "https://localhost:8080/"
    },
    "executionInfo": {
     "elapsed": 244,
     "status": "ok",
     "timestamp": 1605395503599,
     "user": {
      "displayName": "Morgan Allen",
      "photoUrl": "https://lh3.googleusercontent.com/a-/AOh14GjaNMWmr2TlLrY_MBSDquiSqhgTuK8vCNzY4tLH=s64",
      "userId": "12026828979516915336"
     },
     "user_tz": 360
    },
    "id": "9XdF3xaGSjpy",
    "outputId": "9b633ce9-2750-4b1c-e926-9f2b75a9d58f"
   },
   "outputs": [
    {
     "data": {
      "text/plain": [
       "(18719, 72, 360, 3)"
      ]
     },
     "execution_count": 55,
     "metadata": {},
     "output_type": "execute_result"
    }
   ],
   "source": [
    "images_for_split = images\n",
    "images = np.array(images)\n",
    "images = 255 - images\n",
    "# images = tf.image.rgb_to_grayscale(images)\n",
    "images = np.array(images)\n",
    "images.shape"
   ]
  },
  {
   "cell_type": "code",
   "execution_count": 56,
   "metadata": {
    "colab": {
     "base_uri": "https://localhost:8080/",
     "height": 135
    },
    "executionInfo": {
     "elapsed": 318,
     "status": "ok",
     "timestamp": 1605395504243,
     "user": {
      "displayName": "Morgan Allen",
      "photoUrl": "https://lh3.googleusercontent.com/a-/AOh14GjaNMWmr2TlLrY_MBSDquiSqhgTuK8vCNzY4tLH=s64",
      "userId": "12026828979516915336"
     },
     "user_tz": 360
    },
    "id": "bHBLN_NNSjp1",
    "outputId": "2ca0ea3a-90d8-40db-816c-59860d93059a"
   },
   "outputs": [
    {
     "data": {
      "text/plain": [
       "<matplotlib.image.AxesImage at 0x7fdaea944e90>"
      ]
     },
     "execution_count": 56,
     "metadata": {},
     "output_type": "execute_result"
    },
    {
     "data": {
      "image/png": "[encoded data removed]",
      "text/plain": [
       "<Figure size 432x288 with 1 Axes>"
      ]
     },
     "metadata": {
      "needs_background": "light"
     },
     "output_type": "display_data"
    }
   ],
   "source": [
    "plt.imshow(images[0].squeeze())"
   ]
  },
  {
   "cell_type": "markdown",
   "metadata": {
    "id": "fQYvxF90Sjp3"
   },
   "source": [
    "Now we can process them and prepare them for inceptionv3 which is transfer learning"
   ]
  },
  {
   "cell_type": "code",
   "execution_count": 59,
   "metadata": {},
   "outputs": [],
   "source": [
    "img_mini = tf.image.resize_with_pad(images, 299, 299)"
   ]
  },
  {
   "cell_type": "code",
   "execution_count": 97,
   "metadata": {},
   "outputs": [
    {
     "ename": "TypeError",
     "evalue": "Only integers, slices (`:`), ellipsis (`...`), tf.newaxis (`None`) and scalar tf.int32/tf.int64 tensors are valid indices, got array([ 2830, 14929, 12465, 16402,  8104, 14038, 17766,  1829, 13174,\n       11251, 15471, 12009,  5071,  2603,  4425,  9768,  1943,  8632,\n        6188,  4398, 18261,  5349, 13987, 15928,   738, 14697, 12020,\n       16314,  8958,  3925,  8128, 14882,  9598,  5867, 10563, 16881,\n        3357, 10353, 16217,   243, 13274, 18014,  9235,  6715,  2259,\n        9660, 14345, 13089,  3700, 10766,  4100,  1819, 12008, 13602,\n       17525, 13471, 11309,  7368,  1931,  9365,  9112, 10777,  6283,\n        8225, 17708,  7262,  1913,  6871,  9255,  5837,  6854, 13213,\n       10469, 15012, 11112, 14286, 15582, 15905, 14262,   402,  8609,\n       12332,  1941,  7581,  9770, 14977,  3392,  9025, 10606,  4890,\n        5827,  3996,  1317,  8973, 18561, 11405, 14945, 15557, 13221,\n        1335])",
     "output_type": "error",
     "traceback": [
      "\u001b[0;31m---------------------------------------------------------------------------\u001b[0m",
      "\u001b[0;31mTypeError\u001b[0m                                 Traceback (most recent call last)",
      "\u001b[0;32m<ipython-input-97-e63b617e836a>\u001b[0m in \u001b[0;36m<module>\u001b[0;34m\u001b[0m\n\u001b[1;32m      2\u001b[0m \u001b[0mtrain_idx\u001b[0m \u001b[0;34m=\u001b[0m \u001b[0mnp\u001b[0m\u001b[0;34m.\u001b[0m\u001b[0mrandom\u001b[0m\u001b[0;34m.\u001b[0m\u001b[0mchoice\u001b[0m\u001b[0;34m(\u001b[0m\u001b[0mrange\u001b[0m\u001b[0;34m(\u001b[0m\u001b[0mnum_imgs\u001b[0m\u001b[0;34m)\u001b[0m\u001b[0;34m,\u001b[0m \u001b[0;36m100\u001b[0m\u001b[0;34m)\u001b[0m\u001b[0;34m\u001b[0m\u001b[0;34m\u001b[0m\u001b[0m\n\u001b[1;32m      3\u001b[0m \u001b[0;34m\u001b[0m\u001b[0m\n\u001b[0;32m----> 4\u001b[0;31m \u001b[0mimg_train\u001b[0m \u001b[0;34m=\u001b[0m \u001b[0mimg_mini\u001b[0m\u001b[0;34m[\u001b[0m\u001b[0mtrain_idx\u001b[0m\u001b[0;34m]\u001b[0m\u001b[0;34m\u001b[0m\u001b[0;34m\u001b[0m\u001b[0m\n\u001b[0m\u001b[1;32m      5\u001b[0m \u001b[0mimg_name\u001b[0m \u001b[0;34m=\u001b[0m \u001b[0mcap_vector\u001b[0m\u001b[0;34m[\u001b[0m\u001b[0mtrain_idx\u001b[0m\u001b[0;34m]\u001b[0m\u001b[0;34m\u001b[0m\u001b[0;34m\u001b[0m\u001b[0m\n",
      "\u001b[0;32m/opt/miniconda3/lib/python3.7/site-packages/tensorflow/python/util/dispatch.py\u001b[0m in \u001b[0;36mwrapper\u001b[0;34m(*args, **kwargs)\u001b[0m\n\u001b[1;32m    199\u001b[0m     \u001b[0;34m\"\"\"Call target, and fall back on dispatchers if there is a TypeError.\"\"\"\u001b[0m\u001b[0;34m\u001b[0m\u001b[0;34m\u001b[0m\u001b[0m\n\u001b[1;32m    200\u001b[0m     \u001b[0;32mtry\u001b[0m\u001b[0;34m:\u001b[0m\u001b[0;34m\u001b[0m\u001b[0;34m\u001b[0m\u001b[0m\n\u001b[0;32m--> 201\u001b[0;31m       \u001b[0;32mreturn\u001b[0m \u001b[0mtarget\u001b[0m\u001b[0;34m(\u001b[0m\u001b[0;34m*\u001b[0m\u001b[0margs\u001b[0m\u001b[0;34m,\u001b[0m \u001b[0;34m**\u001b[0m\u001b[0mkwargs\u001b[0m\u001b[0;34m)\u001b[0m\u001b[0;34m\u001b[0m\u001b[0;34m\u001b[0m\u001b[0m\n\u001b[0m\u001b[1;32m    202\u001b[0m     \u001b[0;32mexcept\u001b[0m \u001b[0;34m(\u001b[0m\u001b[0mTypeError\u001b[0m\u001b[0;34m,\u001b[0m \u001b[0mValueError\u001b[0m\u001b[0;34m)\u001b[0m\u001b[0;34m:\u001b[0m\u001b[0;34m\u001b[0m\u001b[0;34m\u001b[0m\u001b[0m\n\u001b[1;32m    203\u001b[0m       \u001b[0;31m# Note: convert_to_eager_tensor currently raises a ValueError, not a\u001b[0m\u001b[0;34m\u001b[0m\u001b[0;34m\u001b[0m\u001b[0;34m\u001b[0m\u001b[0m\n",
      "\u001b[0;32m/opt/miniconda3/lib/python3.7/site-packages/tensorflow/python/ops/array_ops.py\u001b[0m in \u001b[0;36m_slice_helper\u001b[0;34m(tensor, slice_spec, var)\u001b[0m\n\u001b[1;32m    984\u001b[0m       \u001b[0mnew_axis_mask\u001b[0m \u001b[0;34m|=\u001b[0m \u001b[0;34m(\u001b[0m\u001b[0;36m1\u001b[0m \u001b[0;34m<<\u001b[0m \u001b[0mindex\u001b[0m\u001b[0;34m)\u001b[0m\u001b[0;34m\u001b[0m\u001b[0;34m\u001b[0m\u001b[0m\n\u001b[1;32m    985\u001b[0m     \u001b[0;32melse\u001b[0m\u001b[0;34m:\u001b[0m\u001b[0;34m\u001b[0m\u001b[0;34m\u001b[0m\u001b[0m\n\u001b[0;32m--> 986\u001b[0;31m       \u001b[0m_check_index\u001b[0m\u001b[0;34m(\u001b[0m\u001b[0ms\u001b[0m\u001b[0;34m)\u001b[0m\u001b[0;34m\u001b[0m\u001b[0;34m\u001b[0m\u001b[0m\n\u001b[0m\u001b[1;32m    987\u001b[0m       \u001b[0mbegin\u001b[0m\u001b[0;34m.\u001b[0m\u001b[0mappend\u001b[0m\u001b[0;34m(\u001b[0m\u001b[0ms\u001b[0m\u001b[0;34m)\u001b[0m\u001b[0;34m\u001b[0m\u001b[0;34m\u001b[0m\u001b[0m\n\u001b[1;32m    988\u001b[0m       \u001b[0mend\u001b[0m\u001b[0;34m.\u001b[0m\u001b[0mappend\u001b[0m\u001b[0;34m(\u001b[0m\u001b[0ms\u001b[0m \u001b[0;34m+\u001b[0m \u001b[0;36m1\u001b[0m\u001b[0;34m)\u001b[0m\u001b[0;34m\u001b[0m\u001b[0;34m\u001b[0m\u001b[0m\n",
      "\u001b[0;32m/opt/miniconda3/lib/python3.7/site-packages/tensorflow/python/ops/array_ops.py\u001b[0m in \u001b[0;36m_check_index\u001b[0;34m(idx)\u001b[0m\n\u001b[1;32m    863\u001b[0m     \u001b[0;31m# TODO(slebedev): IndexError seems more appropriate here, but it\u001b[0m\u001b[0;34m\u001b[0m\u001b[0;34m\u001b[0m\u001b[0;34m\u001b[0m\u001b[0m\n\u001b[1;32m    864\u001b[0m     \u001b[0;31m# will break `_slice_helper` contract.\u001b[0m\u001b[0;34m\u001b[0m\u001b[0;34m\u001b[0m\u001b[0;34m\u001b[0m\u001b[0m\n\u001b[0;32m--> 865\u001b[0;31m     \u001b[0;32mraise\u001b[0m \u001b[0mTypeError\u001b[0m\u001b[0;34m(\u001b[0m\u001b[0m_SLICE_TYPE_ERROR\u001b[0m \u001b[0;34m+\u001b[0m \u001b[0;34m\", got {!r}\"\u001b[0m\u001b[0;34m.\u001b[0m\u001b[0mformat\u001b[0m\u001b[0;34m(\u001b[0m\u001b[0midx\u001b[0m\u001b[0;34m)\u001b[0m\u001b[0;34m)\u001b[0m\u001b[0;34m\u001b[0m\u001b[0;34m\u001b[0m\u001b[0m\n\u001b[0m\u001b[1;32m    866\u001b[0m \u001b[0;34m\u001b[0m\u001b[0m\n\u001b[1;32m    867\u001b[0m \u001b[0;34m\u001b[0m\u001b[0m\n",
      "\u001b[0;31mTypeError\u001b[0m: Only integers, slices (`:`), ellipsis (`...`), tf.newaxis (`None`) and scalar tf.int32/tf.int64 tensors are valid indices, got array([ 2830, 14929, 12465, 16402,  8104, 14038, 17766,  1829, 13174,\n       11251, 15471, 12009,  5071,  2603,  4425,  9768,  1943,  8632,\n        6188,  4398, 18261,  5349, 13987, 15928,   738, 14697, 12020,\n       16314,  8958,  3925,  8128, 14882,  9598,  5867, 10563, 16881,\n        3357, 10353, 16217,   243, 13274, 18014,  9235,  6715,  2259,\n        9660, 14345, 13089,  3700, 10766,  4100,  1819, 12008, 13602,\n       17525, 13471, 11309,  7368,  1931,  9365,  9112, 10777,  6283,\n        8225, 17708,  7262,  1913,  6871,  9255,  5837,  6854, 13213,\n       10469, 15012, 11112, 14286, 15582, 15905, 14262,   402,  8609,\n       12332,  1941,  7581,  9770, 14977,  3392,  9025, 10606,  4890,\n        5827,  3996,  1317,  8973, 18561, 11405, 14945, 15557, 13221,\n        1335])"
     ]
    }
   ],
   "source": [
    "num_imgs = img_mini.shape[0]\n",
    "train_idx = np.random.choice(range(num_imgs), 100)\n",
    "\n",
    "img_train = img_mini[train_idx]\n",
    "img_name = cap_vector[train_idx]"
   ]
  },
  {
   "cell_type": "code",
   "execution_count": 12,
   "metadata": {
    "id": "pE87-f9ESjp4"
   },
   "outputs": [],
   "source": [
    "img_mini = tf.keras.applications.inception_v3.preprocess_input(img_mini)"
   ]
  },
  {
   "cell_type": "code",
   "execution_count": 13,
   "metadata": {
    "id": "hhGFXB4cfoQP"
   },
   "outputs": [],
   "source": [
    "test_img = images[2222]"
   ]
  },
  {
   "cell_type": "markdown",
   "metadata": {
    "id": "s-8n1FtqSjp8"
   },
   "source": [
    "Now we can load the features of the inceptionv3 model as seen below."
   ]
  },
  {
   "cell_type": "code",
   "execution_count": 14,
   "metadata": {
    "colab": {
     "base_uri": "https://localhost:8080/",
     "height": 303
    },
    "executionInfo": {
     "elapsed": 305,
     "status": "ok",
     "timestamp": 1605395508912,
     "user": {
      "displayName": "Morgan Allen",
      "photoUrl": "https://lh3.googleusercontent.com/a-/AOh14GjaNMWmr2TlLrY_MBSDquiSqhgTuK8vCNzY4tLH=s64",
      "userId": "12026828979516915336"
     },
     "user_tz": 360
    },
    "id": "8uSNNnvdSjp6",
    "outputId": "c123a164-46bf-4b86-9368-f105029f9f0e"
   },
   "outputs": [
    {
     "name": "stderr",
     "output_type": "stream",
     "text": [
      "Clipping input data to the valid range for imshow with RGB data ([0..1] for floats or [0..255] for integers).\n"
     ]
    },
    {
     "data": {
      "text/plain": [
       "<matplotlib.image.AxesImage at 0x7fe52b4b6c50>"
      ]
     },
     "execution_count": 14,
     "metadata": {},
     "output_type": "execute_result"
    },
    {
     "data": {
      "image/png": "[encoded data removed]",
      "text/plain": [
       "<Figure size 432x288 with 1 Axes>"
      ]
     },
     "metadata": {
      "needs_background": "light"
     },
     "output_type": "display_data"
    }
   ],
   "source": [
    "plt.imshow(tf.squeeze(img_mini[0]))"
   ]
  },
  {
   "cell_type": "code",
   "execution_count": 15,
   "metadata": {
    "id": "hgB8p8KZSjp8"
   },
   "outputs": [],
   "source": [
    "image_model = tf.keras.applications.InceptionV3(include_top=False,\n",
    "                                                weights='imagenet')\n",
    "new_input = image_model.input\n",
    "hidden_layer = image_model.layers[-1].output\n",
    "\n",
    "image_features_extract_model = tf.keras.Model(new_input, hidden_layer)"
   ]
  },
  {
   "cell_type": "code",
   "execution_count": 84,
   "metadata": {
    "id": "llWCIcu3Sjp_"
   },
   "outputs": [],
   "source": [
    "\n",
    "# Feel free to change batch_size according to your system configuration\n",
    "image_dataset = tf.data.Dataset.from_tensor_slices((img_mini, label_array)).batch(300)\n",
    "c = 1\n",
    "\n",
    "for img, label in image_dataset:\n",
    "    batch_features = image_features_extract_model(img)\n",
    "    batch_features = tf.reshape(batch_features,\n",
    "                              (batch_features.shape[0], -1, batch_features.shape[3]))\n",
    "  \n",
    "    p = f'Batch Features/batch_features{c}'\n",
    "    c = c+1 \n",
    "     #path_of_feature = p.numpy().decode(\"utf-8\")\n",
    "    np.save(p, batch_features)"
   ]
  },
  {
   "cell_type": "code",
   "execution_count": 16,
   "metadata": {
    "id": "iKq5_-oTP22q"
   },
   "outputs": [],
   "source": [
    "img_load = np.load('Batch Features/batch_features1.npy')\n",
    "for i in range(2,61):\n",
    "    img_add = np.load(f'Batch Features/batch_features{i}.npy')\n",
    "    img_load = np.concatenate((img_load, img_add))"
   ]
  },
  {
   "cell_type": "code",
   "execution_count": 17,
   "metadata": {
    "colab": {
     "base_uri": "https://localhost:8080/"
    },
    "executionInfo": {
     "elapsed": 273,
     "status": "ok",
     "timestamp": 1605396800358,
     "user": {
      "displayName": "Morgan Allen",
      "photoUrl": "https://lh3.googleusercontent.com/a-/AOh14GjaNMWmr2TlLrY_MBSDquiSqhgTuK8vCNzY4tLH=s64",
      "userId": "12026828979516915336"
     },
     "user_tz": 360
    },
    "id": "js8_OsgYQLM3",
    "outputId": "cda0393f-c083-4bfd-96f5-e5e67e122071"
   },
   "outputs": [
    {
     "data": {
      "text/plain": [
       "(18000, 64, 2048)"
      ]
     },
     "execution_count": 17,
     "metadata": {},
     "output_type": "execute_result"
    }
   ],
   "source": [
    "img_load.shape"
   ]
  },
  {
   "cell_type": "markdown",
   "metadata": {
    "id": "dywlI7LUSjqC"
   },
   "source": [
    "### Tokenizing the labels\n",
    "\n",
    "Now we can pad the labels to make sure they are all the same length."
   ]
  },
  {
   "cell_type": "code",
   "execution_count": 18,
   "metadata": {
    "id": "xPgRuUgBbnPJ"
   },
   "outputs": [],
   "source": [
    "# Find the maximum length of any caption in our dataset\n",
    "def calc_max_length(tensor):\n",
    "    return max(len(t) for t in tensor)"
   ]
  },
  {
   "cell_type": "code",
   "execution_count": 19,
   "metadata": {
    "id": "Gipm5btLaNTb"
   },
   "outputs": [],
   "source": [
    "# Choose the top 5000 words from the vocabulary\n",
    "top_k = 45\n",
    "tokenizer = tf.keras.preprocessing.text.Tokenizer(num_words=top_k,\n",
    "                                                  oov_token=\"<unk>\",\n",
    "                                                  filters=' ',\n",
    "                                                  char_level=True)\n",
    "tokenizer.fit_on_texts(label_array)\n",
    "train_seqs = tokenizer.texts_to_sequences(label_array)\n",
    "\n",
    "# Padding\n",
    "tokenizer.word_index['<pad>'] = 0\n",
    "tokenizer.index_word[0] = '<pad>'\n",
    "\n",
    "# Create the tokenized vectors\n",
    "train_seqs = tokenizer.texts_to_sequences(label_array)\n",
    "\n",
    "# Pad each vector to the max_length of the captions\n",
    "# If you do not provide a max_length value, pad_sequences calculates it automatically\n",
    "cap_vector = tf.keras.preprocessing.sequence.pad_sequences(train_seqs, padding='post')\n",
    "\n",
    "# Calculates the max_length, which is used to store the attention weights\n",
    "max_length = calc_max_length(train_seqs)"
   ]
  },
  {
   "cell_type": "code",
   "execution_count": 20,
   "metadata": {
    "colab": {
     "base_uri": "https://localhost:8080/"
    },
    "executionInfo": {
     "elapsed": 203,
     "status": "ok",
     "timestamp": 1605396804461,
     "user": {
      "displayName": "Morgan Allen",
      "photoUrl": "https://lh3.googleusercontent.com/a-/AOh14GjaNMWmr2TlLrY_MBSDquiSqhgTuK8vCNzY4tLH=s64",
      "userId": "12026828979516915336"
     },
     "user_tz": 360
    },
    "id": "YfFg62gAcaL9",
    "outputId": "2f57f655-d469-4ca3-c192-68bd3b2e5087"
   },
   "outputs": [
    {
     "data": {
      "text/plain": [
       "{'num_words': 45,\n",
       " 'filters': ' ',\n",
       " 'lower': True,\n",
       " 'split': ' ',\n",
       " 'char_level': True,\n",
       " 'oov_token': '<unk>',\n",
       " 'document_count': 18719,\n",
       " 'word_counts': '{\"\\\\t\": 18719, \"0\": 5615, \"a\": 720, \"+\": 18719, \"1\": 5616, \"=\": 18719, \"2\": 5616, \"\\\\n\": 18719, \"b\": 720, \"c\": 719, \"d\": 720, \"e\": 720, \"f\": 720, \"g\": 720, \"h\": 720, \"i\": 720, \"j\": 720, \"k\": 720, \"l\": 720, \"m\": 720, \"n\": 720, \"o\": 720, \"p\": 720, \"q\": 720, \"r\": 720, \"s\": 720, \"t\": 720, \"u\": 720, \"v\": 720, \"w\": 720, \"x\": 720, \"y\": 720, \"z\": 720, \"3\": 5616, \"4\": 5615, \"5\": 5616, \"6\": 5616, \"7\": 5616, \"8\": 5616, \"9\": 5615}',\n",
       " 'word_docs': '{\"a\": 720, \"0\": 5615, \"\\\\t\": 18719, \"+\": 18719, \"1\": 5616, \"2\": 5616, \"=\": 18719, \"\\\\n\": 18719, \"b\": 720, \"c\": 719, \"d\": 720, \"e\": 720, \"f\": 720, \"g\": 720, \"h\": 720, \"i\": 720, \"j\": 720, \"k\": 720, \"l\": 720, \"m\": 720, \"n\": 720, \"o\": 720, \"p\": 720, \"q\": 720, \"r\": 720, \"s\": 720, \"t\": 720, \"u\": 720, \"v\": 720, \"w\": 720, \"x\": 720, \"y\": 720, \"z\": 720, \"3\": 5616, \"4\": 5615, \"5\": 5616, \"6\": 5616, \"7\": 5616, \"8\": 5616, \"9\": 5615}',\n",
       " 'index_docs': '{\"16\": 720, \"13\": 5615, \"2\": 18719, \"3\": 18719, \"6\": 5616, \"7\": 5616, \"4\": 18719, \"5\": 18719, \"17\": 720, \"41\": 719, \"18\": 720, \"19\": 720, \"20\": 720, \"21\": 720, \"22\": 720, \"23\": 720, \"24\": 720, \"25\": 720, \"26\": 720, \"27\": 720, \"28\": 720, \"29\": 720, \"30\": 720, \"31\": 720, \"32\": 720, \"33\": 720, \"34\": 720, \"35\": 720, \"36\": 720, \"37\": 720, \"38\": 720, \"39\": 720, \"40\": 720, \"8\": 5616, \"14\": 5615, \"9\": 5616, \"10\": 5616, \"11\": 5616, \"12\": 5616, \"15\": 5615}',\n",
       " 'index_word': '{\"1\": \"<unk>\", \"2\": \"\\\\t\", \"3\": \"+\", \"4\": \"=\", \"5\": \"\\\\n\", \"6\": \"1\", \"7\": \"2\", \"8\": \"3\", \"9\": \"5\", \"10\": \"6\", \"11\": \"7\", \"12\": \"8\", \"13\": \"0\", \"14\": \"4\", \"15\": \"9\", \"16\": \"a\", \"17\": \"b\", \"18\": \"d\", \"19\": \"e\", \"20\": \"f\", \"21\": \"g\", \"22\": \"h\", \"23\": \"i\", \"24\": \"j\", \"25\": \"k\", \"26\": \"l\", \"27\": \"m\", \"28\": \"n\", \"29\": \"o\", \"30\": \"p\", \"31\": \"q\", \"32\": \"r\", \"33\": \"s\", \"34\": \"t\", \"35\": \"u\", \"36\": \"v\", \"37\": \"w\", \"38\": \"x\", \"39\": \"y\", \"40\": \"z\", \"41\": \"c\", \"0\": \"<pad>\"}',\n",
       " 'word_index': '{\"<unk>\": 1, \"\\\\t\": 2, \"+\": 3, \"=\": 4, \"\\\\n\": 5, \"1\": 6, \"2\": 7, \"3\": 8, \"5\": 9, \"6\": 10, \"7\": 11, \"8\": 12, \"0\": 13, \"4\": 14, \"9\": 15, \"a\": 16, \"b\": 17, \"d\": 18, \"e\": 19, \"f\": 20, \"g\": 21, \"h\": 22, \"i\": 23, \"j\": 24, \"k\": 25, \"l\": 26, \"m\": 27, \"n\": 28, \"o\": 29, \"p\": 30, \"q\": 31, \"r\": 32, \"s\": 33, \"t\": 34, \"u\": 35, \"v\": 36, \"w\": 37, \"x\": 38, \"y\": 39, \"z\": 40, \"c\": 41, \"<pad>\": 0}'}"
      ]
     },
     "execution_count": 20,
     "metadata": {},
     "output_type": "execute_result"
    }
   ],
   "source": [
    "tokenizer.get_config()"
   ]
  },
  {
   "cell_type": "code",
   "execution_count": 21,
   "metadata": {
    "colab": {
     "base_uri": "https://localhost:8080/"
    },
    "executionInfo": {
     "elapsed": 261,
     "status": "ok",
     "timestamp": 1605396805750,
     "user": {
      "displayName": "Morgan Allen",
      "photoUrl": "https://lh3.googleusercontent.com/a-/AOh14GjaNMWmr2TlLrY_MBSDquiSqhgTuK8vCNzY4tLH=s64",
      "userId": "12026828979516915336"
     },
     "user_tz": 360
    },
    "id": "GhqB3K30dMEo",
    "outputId": "aa4eee8d-77a9-4033-c9e3-2fea59b698fa"
   },
   "outputs": [
    {
     "data": {
      "text/plain": [
       "8"
      ]
     },
     "execution_count": 21,
     "metadata": {},
     "output_type": "execute_result"
    }
   ],
   "source": [
    "max_length"
   ]
  },
  {
   "cell_type": "code",
   "execution_count": 22,
   "metadata": {
    "colab": {
     "base_uri": "https://localhost:8080/"
    },
    "executionInfo": {
     "elapsed": 417,
     "status": "ok",
     "timestamp": 1605396806687,
     "user": {
      "displayName": "Morgan Allen",
      "photoUrl": "https://lh3.googleusercontent.com/a-/AOh14GjaNMWmr2TlLrY_MBSDquiSqhgTuK8vCNzY4tLH=s64",
      "userId": "12026828979516915336"
     },
     "user_tz": 360
    },
    "id": "QKIAGkIIb5ty",
    "outputId": "ddfd8187-4314-40ca-f60f-abd639d21457"
   },
   "outputs": [
    {
     "name": "stdout",
     "output_type": "stream",
     "text": [
      "\t0a+1=2\n",
      " -> [2, 13, 16, 3, 6, 4, 7, 5]\n"
     ]
    }
   ],
   "source": [
    "print(f'{label_array[0]} -> {train_seqs[0]}')"
   ]
  },
  {
   "cell_type": "code",
   "execution_count": 23,
   "metadata": {
    "colab": {
     "base_uri": "https://localhost:8080/"
    },
    "executionInfo": {
     "elapsed": 177,
     "status": "ok",
     "timestamp": 1605396807076,
     "user": {
      "displayName": "Morgan Allen",
      "photoUrl": "https://lh3.googleusercontent.com/a-/AOh14GjaNMWmr2TlLrY_MBSDquiSqhgTuK8vCNzY4tLH=s64",
      "userId": "12026828979516915336"
     },
     "user_tz": 360
    },
    "id": "wWBs6Njidhy4",
    "outputId": "c72990bc-4ddb-4444-ecfe-89622e4d5e17"
   },
   "outputs": [
    {
     "data": {
      "text/plain": [
       "[2, 13, 16, 3, 6, 4, 7, 5]"
      ]
     },
     "execution_count": 23,
     "metadata": {},
     "output_type": "execute_result"
    }
   ],
   "source": [
    "import json\n",
    "\n",
    "char_to_int_map = tokenizer.get_config()['word_index']\n",
    "char_to_int_map = json.loads(char_to_int_map)\n",
    "[char_to_int_map[c] for c in label_array[0]]"
   ]
  },
  {
   "cell_type": "markdown",
   "metadata": {
    "id": "B_UEKfswSjqQ"
   },
   "source": [
    "### Train Test Split\n",
    "\n",
    "This kind of makes a train test split but I don't think it is exactly what we want."
   ]
  },
  {
   "cell_type": "markdown",
   "metadata": {
    "id": "5U9-UPeDSjqS"
   },
   "source": [
    "For the model"
   ]
  },
  {
   "cell_type": "code",
   "execution_count": 41,
   "metadata": {},
   "outputs": [],
   "source": [
    "num_imgs = img_mini.shape[0]\n",
    "train_idx = np.random.choice(range(num_imgs), 100)\n",
    "\n",
    "img_train = img_mini[train_idx,:,:,:]\n",
    "img_name = cap_vector[train_idx,:]"
   ]
  },
  {
   "cell_type": "code",
   "execution_count": 47,
   "metadata": {},
   "outputs": [
    {
     "data": {
      "text/plain": [
       "tensorflow.python.framework.ops.EagerTensor"
      ]
     },
     "execution_count": 47,
     "metadata": {},
     "output_type": "execute_result"
    }
   ],
   "source": [
    "type(img_mini)"
   ]
  },
  {
   "cell_type": "code",
   "execution_count": 45,
   "metadata": {
    "id": "5lwnj-e6ebxE"
   },
   "outputs": [
    {
     "ename": "TypeError",
     "evalue": "Only integers, slices (`:`), ellipsis (`...`), tf.newaxis (`None`) and scalar tf.int32/tf.int64 tensors are valid indices, got array([10733, 17229, 17769, 15330,  9628,   116, 12195, 13510,  7803,\n        7463,  6609, 10402, 18154, 12270,  2702, 18442, 10090, 11288,\n       17982,  6372,  8607, 13762,  2050,  7421,  5708,  8967, 14456,\n       12386,  2206,     6,  1015,  4956,  4909,  9578,  5294,  5393,\n        9942,   343, 16572,  8109, 14911, 14181, 11308,  5144, 10642,\n       12590, 11417, 10147,   257,  3935, 15834, 12918, 17428,  5455,\n       17209, 11202, 10853,  6114,  6980,  7066,  1923,  7762,  2255,\n       18052,  8845, 13898, 17124,  1079,  5529,  2453, 14905,  2964,\n           7, 13142, 12875,  5117,   591, 12551,  6196,  3656,  9389,\n       13106, 11474, 13351,  3059, 10301, 11557, 14992, 11116,  6416,\n       10465, 11945, 12984, 10701, 17347,   713, 11715, 16749, 18156,\n       11070])",
     "output_type": "error",
     "traceback": [
      "\u001b[0;31m---------------------------------------------------------------------------\u001b[0m",
      "\u001b[0;31mTypeError\u001b[0m                                 Traceback (most recent call last)",
      "\u001b[0;32m<ipython-input-45-f0a781de08c5>\u001b[0m in \u001b[0;36m<module>\u001b[0;34m\u001b[0m\n\u001b[0;32m----> 1\u001b[0;31m \u001b[0mimg_train\u001b[0m \u001b[0;34m=\u001b[0m \u001b[0mimg_mini\u001b[0m\u001b[0;34m[\u001b[0m\u001b[0mtrain_idx\u001b[0m\u001b[0;34m,\u001b[0m\u001b[0;34m:\u001b[0m\u001b[0;34m,\u001b[0m\u001b[0;34m:\u001b[0m\u001b[0;34m,\u001b[0m\u001b[0;34m:\u001b[0m\u001b[0;34m]\u001b[0m\u001b[0;34m\u001b[0m\u001b[0;34m\u001b[0m\u001b[0m\n\u001b[0m\u001b[1;32m      2\u001b[0m \u001b[0mimg_name\u001b[0m \u001b[0;34m=\u001b[0m \u001b[0mcap_vector\u001b[0m\u001b[0;34m[\u001b[0m\u001b[0mtrain_idx\u001b[0m\u001b[0;34m,\u001b[0m\u001b[0;34m:\u001b[0m\u001b[0;34m]\u001b[0m\u001b[0;34m\u001b[0m\u001b[0;34m\u001b[0m\u001b[0m\n",
      "\u001b[0;32m/opt/miniconda3/lib/python3.7/site-packages/tensorflow/python/util/dispatch.py\u001b[0m in \u001b[0;36mwrapper\u001b[0;34m(*args, **kwargs)\u001b[0m\n\u001b[1;32m    199\u001b[0m     \u001b[0;34m\"\"\"Call target, and fall back on dispatchers if there is a TypeError.\"\"\"\u001b[0m\u001b[0;34m\u001b[0m\u001b[0;34m\u001b[0m\u001b[0m\n\u001b[1;32m    200\u001b[0m     \u001b[0;32mtry\u001b[0m\u001b[0;34m:\u001b[0m\u001b[0;34m\u001b[0m\u001b[0;34m\u001b[0m\u001b[0m\n\u001b[0;32m--> 201\u001b[0;31m       \u001b[0;32mreturn\u001b[0m \u001b[0mtarget\u001b[0m\u001b[0;34m(\u001b[0m\u001b[0;34m*\u001b[0m\u001b[0margs\u001b[0m\u001b[0;34m,\u001b[0m \u001b[0;34m**\u001b[0m\u001b[0mkwargs\u001b[0m\u001b[0;34m)\u001b[0m\u001b[0;34m\u001b[0m\u001b[0;34m\u001b[0m\u001b[0m\n\u001b[0m\u001b[1;32m    202\u001b[0m     \u001b[0;32mexcept\u001b[0m \u001b[0;34m(\u001b[0m\u001b[0mTypeError\u001b[0m\u001b[0;34m,\u001b[0m \u001b[0mValueError\u001b[0m\u001b[0;34m)\u001b[0m\u001b[0;34m:\u001b[0m\u001b[0;34m\u001b[0m\u001b[0;34m\u001b[0m\u001b[0m\n\u001b[1;32m    203\u001b[0m       \u001b[0;31m# Note: convert_to_eager_tensor currently raises a ValueError, not a\u001b[0m\u001b[0;34m\u001b[0m\u001b[0;34m\u001b[0m\u001b[0;34m\u001b[0m\u001b[0m\n",
      "\u001b[0;32m/opt/miniconda3/lib/python3.7/site-packages/tensorflow/python/ops/array_ops.py\u001b[0m in \u001b[0;36m_slice_helper\u001b[0;34m(tensor, slice_spec, var)\u001b[0m\n\u001b[1;32m    984\u001b[0m       \u001b[0mnew_axis_mask\u001b[0m \u001b[0;34m|=\u001b[0m \u001b[0;34m(\u001b[0m\u001b[0;36m1\u001b[0m \u001b[0;34m<<\u001b[0m \u001b[0mindex\u001b[0m\u001b[0;34m)\u001b[0m\u001b[0;34m\u001b[0m\u001b[0;34m\u001b[0m\u001b[0m\n\u001b[1;32m    985\u001b[0m     \u001b[0;32melse\u001b[0m\u001b[0;34m:\u001b[0m\u001b[0;34m\u001b[0m\u001b[0;34m\u001b[0m\u001b[0m\n\u001b[0;32m--> 986\u001b[0;31m       \u001b[0m_check_index\u001b[0m\u001b[0;34m(\u001b[0m\u001b[0ms\u001b[0m\u001b[0;34m)\u001b[0m\u001b[0;34m\u001b[0m\u001b[0;34m\u001b[0m\u001b[0m\n\u001b[0m\u001b[1;32m    987\u001b[0m       \u001b[0mbegin\u001b[0m\u001b[0;34m.\u001b[0m\u001b[0mappend\u001b[0m\u001b[0;34m(\u001b[0m\u001b[0ms\u001b[0m\u001b[0;34m)\u001b[0m\u001b[0;34m\u001b[0m\u001b[0;34m\u001b[0m\u001b[0m\n\u001b[1;32m    988\u001b[0m       \u001b[0mend\u001b[0m\u001b[0;34m.\u001b[0m\u001b[0mappend\u001b[0m\u001b[0;34m(\u001b[0m\u001b[0ms\u001b[0m \u001b[0;34m+\u001b[0m \u001b[0;36m1\u001b[0m\u001b[0;34m)\u001b[0m\u001b[0;34m\u001b[0m\u001b[0;34m\u001b[0m\u001b[0m\n",
      "\u001b[0;32m/opt/miniconda3/lib/python3.7/site-packages/tensorflow/python/ops/array_ops.py\u001b[0m in \u001b[0;36m_check_index\u001b[0;34m(idx)\u001b[0m\n\u001b[1;32m    863\u001b[0m     \u001b[0;31m# TODO(slebedev): IndexError seems more appropriate here, but it\u001b[0m\u001b[0;34m\u001b[0m\u001b[0;34m\u001b[0m\u001b[0;34m\u001b[0m\u001b[0m\n\u001b[1;32m    864\u001b[0m     \u001b[0;31m# will break `_slice_helper` contract.\u001b[0m\u001b[0;34m\u001b[0m\u001b[0;34m\u001b[0m\u001b[0;34m\u001b[0m\u001b[0m\n\u001b[0;32m--> 865\u001b[0;31m     \u001b[0;32mraise\u001b[0m \u001b[0mTypeError\u001b[0m\u001b[0;34m(\u001b[0m\u001b[0m_SLICE_TYPE_ERROR\u001b[0m \u001b[0;34m+\u001b[0m \u001b[0;34m\", got {!r}\"\u001b[0m\u001b[0;34m.\u001b[0m\u001b[0mformat\u001b[0m\u001b[0;34m(\u001b[0m\u001b[0midx\u001b[0m\u001b[0;34m)\u001b[0m\u001b[0;34m)\u001b[0m\u001b[0;34m\u001b[0m\u001b[0;34m\u001b[0m\u001b[0m\n\u001b[0m\u001b[1;32m    866\u001b[0m \u001b[0;34m\u001b[0m\u001b[0m\n\u001b[1;32m    867\u001b[0m \u001b[0;34m\u001b[0m\u001b[0m\n",
      "\u001b[0;31mTypeError\u001b[0m: Only integers, slices (`:`), ellipsis (`...`), tf.newaxis (`None`) and scalar tf.int32/tf.int64 tensors are valid indices, got array([10733, 17229, 17769, 15330,  9628,   116, 12195, 13510,  7803,\n        7463,  6609, 10402, 18154, 12270,  2702, 18442, 10090, 11288,\n       17982,  6372,  8607, 13762,  2050,  7421,  5708,  8967, 14456,\n       12386,  2206,     6,  1015,  4956,  4909,  9578,  5294,  5393,\n        9942,   343, 16572,  8109, 14911, 14181, 11308,  5144, 10642,\n       12590, 11417, 10147,   257,  3935, 15834, 12918, 17428,  5455,\n       17209, 11202, 10853,  6114,  6980,  7066,  1923,  7762,  2255,\n       18052,  8845, 13898, 17124,  1079,  5529,  2453, 14905,  2964,\n           7, 13142, 12875,  5117,   591, 12551,  6196,  3656,  9389,\n       13106, 11474, 13351,  3059, 10301, 11557, 14992, 11116,  6416,\n       10465, 11945, 12984, 10701, 17347,   713, 11715, 16749, 18156,\n       11070])"
     ]
    }
   ],
   "source": [
    "img_train = img_mini[train_idx,:,:,:]\n",
    "img_name = cap_vector[train_idx,:]"
   ]
  },
  {
   "cell_type": "code",
   "execution_count": 94,
   "metadata": {
    "colab": {
     "base_uri": "https://localhost:8080/"
    },
    "executionInfo": {
     "elapsed": 199,
     "status": "ok",
     "timestamp": 1605396811202,
     "user": {
      "displayName": "Morgan Allen",
      "photoUrl": "https://lh3.googleusercontent.com/a-/AOh14GjaNMWmr2TlLrY_MBSDquiSqhgTuK8vCNzY4tLH=s64",
      "userId": "12026828979516915336"
     },
     "user_tz": 360
    },
    "id": "PE0q0nk2N02f",
    "outputId": "53af654d-e8a7-43ea-e221-61ba5f534dd8"
   },
   "outputs": [
    {
     "data": {
      "text/plain": [
       "TensorShape([18719, 299, 299, 3])"
      ]
     },
     "execution_count": 94,
     "metadata": {},
     "output_type": "execute_result"
    }
   ],
   "source": [
    "img_train.shape"
   ]
  },
  {
   "cell_type": "code",
   "execution_count": 26,
   "metadata": {
    "id": "dmak8HTlSjqT"
   },
   "outputs": [],
   "source": [
    "# Feel free to change these parameters according to your system's configuration\n",
    "embedding_dim = 45\n",
    "units = 32\n",
    "vocab_size = top_k + 1\n",
    "num_steps = len(img_train) // 1\n",
    "# Shape of the vector extracted from InceptionV3 is (64, 2048)\n",
    "# These two variables represent that vector shape\n",
    "features_shape = 2048\n",
    "attention_features_shape = 64"
   ]
  },
  {
   "cell_type": "markdown",
   "metadata": {
    "id": "G8xkSSS7Sjqb"
   },
   "source": [
    "## Model\n",
    "\n",
    "Below we are defining the attention, the encoder and the decoder. The encoder is just a fully connected layer from the features already extracted."
   ]
  },
  {
   "cell_type": "code",
   "execution_count": 27,
   "metadata": {
    "id": "f7L_cEJzSjqc"
   },
   "outputs": [],
   "source": [
    "class BahdanauAttention(tf.keras.Model):\n",
    "    def __init__(self, units):\n",
    "        super(BahdanauAttention, self).__init__()\n",
    "        self.W1 = tf.keras.layers.Dense(units)\n",
    "        self.W2 = tf.keras.layers.Dense(units)\n",
    "        self.V = tf.keras.layers.Dense(1)\n",
    "\n",
    "    def call(self, features, hidden):\n",
    "        # features(CNN_encoder output) shape == (batch_size, 64, embedding_dim)\n",
    "\n",
    "        # hidden shape == (batch_size, hidden_size)\n",
    "        # hidden_with_time_axis shape == (batch_size, 1, hidden_size)\n",
    "        hidden_with_time_axis = tf.expand_dims(hidden, 1)\n",
    "\n",
    "        # attention_hidden_layer shape == (batch_size, 64, units)\n",
    "        attention_hidden_layer = (tf.nn.tanh(self.W1(features) +\n",
    "                                             self.W2(hidden_with_time_axis)))\n",
    "\n",
    "        # score shape == (batch_size, 64, 1)\n",
    "        # This gives you an unnormalized score for each image feature.\n",
    "        score = self.V(attention_hidden_layer)\n",
    "\n",
    "        # attention_weights shape == (batch_size, 64, 1)\n",
    "        attention_weights = tf.nn.softmax(score, axis=1)\n",
    "\n",
    "        # context_vector shape after sum == (batch_size, hidden_size)\n",
    "        context_vector = attention_weights * features\n",
    "        context_vector = tf.reduce_sum(context_vector, axis=1)\n",
    "\n",
    "        return context_vector, attention_weights"
   ]
  },
  {
   "cell_type": "code",
   "execution_count": 28,
   "metadata": {
    "id": "Eij3DZsYSjqe"
   },
   "outputs": [],
   "source": [
    "class CNN_Encoder(tf.keras.Model):\n",
    "    # Since you have already extracted the features and dumped it using pickle\n",
    "    # This encoder passes those features through a Fully connected layer\n",
    "    def __init__(self, embedding_dim):\n",
    "        super(CNN_Encoder, self).__init__()\n",
    "        # shape after fc == (batch_size, 64, embedding_dim)\n",
    "        self.fc = tf.keras.layers.Dense(embedding_dim)\n",
    "\n",
    "    def call(self, x):\n",
    "        x = self.fc(x)\n",
    "        #print(f'This is x: {x}')\n",
    "        x = tf.nn.relu(x)\n",
    "        #print(f'This is x: {x}')\n",
    "        return x"
   ]
  },
  {
   "cell_type": "code",
   "execution_count": 29,
   "metadata": {
    "id": "dLl75ZtPSjqh"
   },
   "outputs": [],
   "source": [
    "class RNN_Decoder(tf.keras.Model):\n",
    "    def __init__(self, embedding_dim, units, vocab_size):\n",
    "        super(RNN_Decoder, self).__init__()\n",
    "        self.units = units\n",
    "\n",
    "        self.embedding = tf.keras.layers.Embedding(vocab_size, embedding_dim)\n",
    "        self.gru = tf.keras.layers.GRU(self.units,\n",
    "                                       return_sequences=True,\n",
    "                                       return_state=True,\n",
    "                                       recurrent_initializer='glorot_uniform')\n",
    "        self.fc1 = tf.keras.layers.Dense(self.units)\n",
    "        self.fc2 = tf.keras.layers.Dense(vocab_size)\n",
    "\n",
    "        self.attention = BahdanauAttention(self.units)\n",
    "\n",
    "    def call(self, x, features, hidden):\n",
    "        # defining attention as a separate model\n",
    "        context_vector, attention_weights = self.attention(features, hidden)\n",
    "        #print('decoder attention complete')\n",
    "\n",
    "        # x shape after passing through embedding == (batch_size, 1, embedding_dim)\n",
    "        x = self.embedding(x)\n",
    "        #print('decoder embedding complete')\n",
    "        #print(f'x.shape = {x.shape}')\n",
    "        #print(f'context_vector.shape = {context_vector.shape}')\n",
    "\n",
    "        # x shape after concatenation == (batch_size, 1, embedding_dim + hidden_size)\n",
    "        x = tf.concat([tf.expand_dims(context_vector, 1), x], axis=-1)\n",
    "        #print('decoder embedding + context vector complete')\n",
    "\n",
    "        # passing the concatenated vector to the GRU\n",
    "        output, state = self.gru(x)\n",
    "        #print('decoder gru complete')\n",
    "\n",
    "        # shape == (batch_size, max_length, hidden_size)\n",
    "        x = self.fc1(output)\n",
    "        #print('decoder fc1 complete')\n",
    "\n",
    "        # x shape == (batch_size * max_length, hidden_size)\n",
    "        x = tf.reshape(x, (-1, x.shape[2]))\n",
    "        #print('decoder reshape complete')\n",
    "\n",
    "        # output shape == (batch_size * max_length, vocab)\n",
    "        x = self.fc2(x)\n",
    "        #print('decoder fc2 complete')\n",
    "\n",
    "        return x, state, attention_weights\n",
    "\n",
    "    def reset_state(self, batch_size):\n",
    "        return tf.zeros((batch_size, self.units))"
   ]
  },
  {
   "cell_type": "code",
   "execution_count": 30,
   "metadata": {
    "id": "quKzY4IeSjqj"
   },
   "outputs": [],
   "source": [
    "encoder = CNN_Encoder(embedding_dim)\n",
    "decoder = RNN_Decoder(embedding_dim, units, vocab_size)"
   ]
  },
  {
   "cell_type": "code",
   "execution_count": 31,
   "metadata": {
    "id": "kI5g_iYrSjql"
   },
   "outputs": [],
   "source": [
    "optimizer = tf.keras.optimizers.Adam()\n",
    "loss_object = tf.keras.losses.SparseCategoricalCrossentropy(\n",
    "    from_logits=True, reduction='none')\n",
    "\n",
    "def loss_function(real, pred):\n",
    "    mask = tf.math.logical_not(tf.math.equal(real, 0))\n",
    "    loss_ = loss_object(real, pred)\n",
    "\n",
    "    mask = tf.cast(mask, dtype=loss_.dtype)\n",
    "    loss_ *= mask\n",
    "\n",
    "    return tf.reduce_mean(loss_)"
   ]
  },
  {
   "cell_type": "code",
   "execution_count": 32,
   "metadata": {
    "id": "MASAvbV3Sjqn"
   },
   "outputs": [],
   "source": [
    "checkpoint_path = \"./checkpoints/train\"\n",
    "ckpt = tf.train.Checkpoint(encoder=encoder,\n",
    "                           decoder=decoder,\n",
    "                           optimizer = optimizer)\n",
    "ckpt_manager = tf.train.CheckpointManager(ckpt, checkpoint_path, max_to_keep=5)"
   ]
  },
  {
   "cell_type": "code",
   "execution_count": 33,
   "metadata": {
    "id": "8yQjrGWkSjqo"
   },
   "outputs": [],
   "source": [
    "start_epoch = 0\n",
    "if ckpt_manager.latest_checkpoint:\n",
    "      start_epoch = int(ckpt_manager.latest_checkpoint.split('-')[-1])\n",
    "      # restoring the latest checkpoint in checkpoint_path\n",
    "      ckpt.restore(ckpt_manager.latest_checkpoint)"
   ]
  },
  {
   "cell_type": "code",
   "execution_count": 34,
   "metadata": {
    "id": "IE7pUZDGSjqq"
   },
   "outputs": [],
   "source": [
    "# adding this in a separate cell because if you run the training cell\n",
    "# many times, the loss_plot array will be reset\n",
    "loss_plot = []"
   ]
  },
  {
   "cell_type": "code",
   "execution_count": 35,
   "metadata": {
    "id": "JHXjLxYuSjqs"
   },
   "outputs": [],
   "source": [
    "@tf.function\n",
    "def train_step(img_tensor, target):\n",
    "    loss = 0\n",
    "\n",
    "          # initializing the hidden state for each batch\n",
    "          # because the captions are not related from image to image\n",
    "    hidden = decoder.reset_state(batch_size=target.shape[0])\n",
    "    #print(f'hidden complete: {hidden}')\n",
    "\n",
    "    # Create a vector of all \\t indices to indicate the start of prediction\n",
    "    dec_input = tf.expand_dims([tokenizer.word_index['\\t']] * target.shape[0], 1)\n",
    "    #print(f'dec_input complete: {dec_input}')\n",
    "\n",
    "    with tf.GradientTape() as tape:\n",
    "        features = encoder(img_tensor)\n",
    "        #print('encoder complete')\n",
    "        #print(f'features.shape = {features.shape}')\n",
    "\n",
    "        # iterate through timesteps to predict the i'th character\n",
    "        for i in range(1, target.shape[1]):\n",
    "            # passing the features through the decoder\n",
    "            predictions, hidden, _ = decoder(dec_input, features, hidden)\n",
    "            #print('decoder complete')\n",
    "\n",
    "            loss += loss_function(target[:, i], predictions)\n",
    "\n",
    "            # using teacher forcing\n",
    "            dec_input = tf.expand_dims(target[:, i], 1)\n",
    "\n",
    "    total_loss = (loss / int(target.shape[1]))\n",
    "\n",
    "    trainable_variables = encoder.trainable_variables + decoder.trainable_variables\n",
    "\n",
    "    gradients = tape.gradient(loss, trainable_variables)\n",
    "\n",
    "    optimizer.apply_gradients(zip(gradients, trainable_variables))\n",
    "\n",
    "    return loss, total_loss"
   ]
  },
  {
   "cell_type": "code",
   "execution_count": 36,
   "metadata": {},
   "outputs": [],
   "source": [
    "new = cap_vector[:18000]"
   ]
  },
  {
   "cell_type": "code",
   "execution_count": 37,
   "metadata": {
    "id": "hKZ-gQg4hmoZ"
   },
   "outputs": [],
   "source": [
    "image_dataset_encoded = tf.data.Dataset.from_tensor_slices((img_load, new)).batch(300)"
   ]
  },
  {
   "cell_type": "code",
   "execution_count": 39,
   "metadata": {
    "colab": {
     "base_uri": "https://localhost:8080/"
    },
    "executionInfo": {
     "elapsed": 7322,
     "status": "ok",
     "timestamp": 1605397126121,
     "user": {
      "displayName": "Morgan Allen",
      "photoUrl": "https://lh3.googleusercontent.com/a-/AOh14GjaNMWmr2TlLrY_MBSDquiSqhgTuK8vCNzY4tLH=s64",
      "userId": "12026828979516915336"
     },
     "user_tz": 360
    },
    "id": "vZPAuWz8Sjqu",
    "outputId": "cacc9dc1-aae4-4391-dba4-b28245e0d454"
   },
   "outputs": [
    {
     "name": "stdout",
     "output_type": "stream",
     "text": [
      "Epoch 3 Batch 0 Loss 1.3649\n",
      "Epoch 3 Batch 1 Loss 1.3335\n",
      "Epoch 3 Batch 2 Loss 1.3472\n",
      "Epoch 3 Batch 3 Loss 1.3141\n",
      "Epoch 3 Batch 4 Loss 1.3103\n",
      "Epoch 3 Batch 5 Loss 1.3047\n",
      "Epoch 3 Batch 6 Loss 1.3213\n",
      "Epoch 3 Batch 7 Loss 1.3506\n",
      "Epoch 3 Batch 8 Loss 1.3521\n",
      "Epoch 3 Batch 9 Loss 1.3346\n",
      "Epoch 3 Batch 10 Loss 1.3331\n",
      "Epoch 3 Batch 11 Loss 1.3171\n",
      "Epoch 3 Batch 12 Loss 1.2990\n",
      "Epoch 3 Batch 13 Loss 1.3079\n",
      "Epoch 3 Batch 14 Loss 1.3417\n",
      "Epoch 3 Batch 15 Loss 1.3186\n",
      "Epoch 3 Batch 16 Loss 1.3215\n",
      "Epoch 3 Batch 17 Loss 1.3172\n",
      "Epoch 3 Batch 18 Loss 1.2926\n",
      "Epoch 3 Batch 19 Loss 1.3055\n",
      "Epoch 3 Batch 20 Loss 1.3132\n",
      "Epoch 3 Batch 21 Loss 1.3527\n",
      "Epoch 3 Batch 22 Loss 1.3410\n",
      "Epoch 3 Batch 23 Loss 1.3430\n",
      "Epoch 3 Batch 24 Loss 1.3209\n",
      "Epoch 3 Batch 25 Loss 1.2959\n",
      "Epoch 3 Batch 26 Loss 1.2854\n",
      "Epoch 3 Batch 27 Loss 1.3053\n",
      "Epoch 3 Batch 28 Loss 1.3306\n",
      "Epoch 3 Batch 29 Loss 1.3302\n",
      "Epoch 3 Batch 30 Loss 1.3141\n",
      "Epoch 3 Batch 31 Loss 1.3204\n",
      "Epoch 3 Batch 32 Loss 1.3033\n",
      "Epoch 3 Batch 33 Loss 1.2998\n",
      "Epoch 3 Batch 34 Loss 1.3196\n",
      "Epoch 3 Batch 35 Loss 1.3460\n",
      "Epoch 3 Batch 36 Loss 1.3358\n",
      "Epoch 3 Batch 37 Loss 1.3195\n",
      "Epoch 3 Batch 38 Loss 1.3239\n",
      "Epoch 3 Batch 39 Loss 1.2901\n",
      "Epoch 3 Batch 40 Loss 1.2966\n",
      "Epoch 3 Batch 41 Loss 1.3049\n",
      "Epoch 3 Batch 42 Loss 1.3391\n",
      "Epoch 3 Batch 43 Loss 1.3186\n",
      "Epoch 3 Batch 44 Loss 1.3341\n",
      "Epoch 3 Batch 45 Loss 1.3122\n",
      "Epoch 3 Batch 46 Loss 1.2921\n",
      "Epoch 3 Batch 47 Loss 1.2815\n",
      "Epoch 3 Batch 48 Loss 1.3126\n",
      "Epoch 3 Batch 49 Loss 1.3209\n",
      "Epoch 3 Batch 50 Loss 1.3509\n",
      "Epoch 3 Batch 51 Loss 1.3284\n",
      "Epoch 3 Batch 52 Loss 1.3242\n",
      "Epoch 3 Batch 53 Loss 1.2893\n",
      "Epoch 3 Batch 54 Loss 1.2959\n",
      "Epoch 3 Batch 55 Loss 1.3096\n",
      "Epoch 3 Batch 56 Loss 1.3646\n",
      "Epoch 3 Batch 57 Loss 1.3681\n",
      "Epoch 3 Batch 58 Loss 1.3425\n",
      "Epoch 3 Batch 59 Loss 1.3444\n",
      "18719\n",
      "Epoch 3 Loss 0.004237\n",
      "Time taken for 1 epoch 62.18321490287781 sec\n",
      "\n",
      "Epoch 4 Batch 0 Loss 1.3451\n",
      "Epoch 4 Batch 1 Loss 1.3131\n",
      "Epoch 4 Batch 2 Loss 1.3255\n",
      "Epoch 4 Batch 3 Loss 1.2940\n",
      "Epoch 4 Batch 4 Loss 1.2902\n",
      "Epoch 4 Batch 5 Loss 1.2851\n",
      "Epoch 4 Batch 6 Loss 1.2981\n",
      "Epoch 4 Batch 7 Loss 1.3296\n",
      "Epoch 4 Batch 8 Loss 1.3308\n",
      "Epoch 4 Batch 9 Loss 1.3125\n",
      "Epoch 4 Batch 10 Loss 1.3126\n",
      "Epoch 4 Batch 11 Loss 1.2934\n",
      "Epoch 4 Batch 12 Loss 1.2804\n",
      "Epoch 4 Batch 13 Loss 1.2869\n",
      "Epoch 4 Batch 14 Loss 1.3227\n",
      "Epoch 4 Batch 15 Loss 1.3016\n",
      "Epoch 4 Batch 16 Loss 1.3051\n",
      "Epoch 4 Batch 17 Loss 1.2996\n",
      "Epoch 4 Batch 18 Loss 1.2819\n",
      "Epoch 4 Batch 19 Loss 1.2876\n",
      "Epoch 4 Batch 20 Loss 1.2944\n",
      "Epoch 4 Batch 21 Loss 1.3357\n",
      "Epoch 4 Batch 22 Loss 1.3285\n",
      "Epoch 4 Batch 23 Loss 1.3308\n",
      "Epoch 4 Batch 24 Loss 1.3123\n",
      "Epoch 4 Batch 25 Loss 1.2785\n",
      "Epoch 4 Batch 26 Loss 1.2695\n",
      "Epoch 4 Batch 27 Loss 1.2919\n",
      "Epoch 4 Batch 28 Loss 1.3183\n",
      "Epoch 4 Batch 29 Loss 1.3194\n",
      "Epoch 4 Batch 30 Loss 1.3018\n",
      "Epoch 4 Batch 31 Loss 1.3074\n",
      "Epoch 4 Batch 32 Loss 1.2856\n",
      "Epoch 4 Batch 33 Loss 1.2903\n",
      "Epoch 4 Batch 34 Loss 1.3053\n",
      "Epoch 4 Batch 35 Loss 1.3367\n",
      "Epoch 4 Batch 36 Loss 1.3247\n",
      "Epoch 4 Batch 37 Loss 1.3092\n",
      "Epoch 4 Batch 38 Loss 1.3102\n",
      "Epoch 4 Batch 39 Loss 1.2831\n",
      "Epoch 4 Batch 40 Loss 1.2860\n",
      "Epoch 4 Batch 41 Loss 1.2961\n",
      "Epoch 4 Batch 42 Loss 1.3296\n",
      "Epoch 4 Batch 43 Loss 1.3082\n",
      "Epoch 4 Batch 44 Loss 1.3186\n",
      "Epoch 4 Batch 45 Loss 1.3022\n",
      "Epoch 4 Batch 46 Loss 1.2822\n",
      "Epoch 4 Batch 47 Loss 1.2720\n",
      "Epoch 4 Batch 48 Loss 1.3022\n",
      "Epoch 4 Batch 49 Loss 1.3063\n",
      "Epoch 4 Batch 50 Loss 1.3328\n",
      "Epoch 4 Batch 51 Loss 1.3134\n",
      "Epoch 4 Batch 52 Loss 1.3126\n",
      "Epoch 4 Batch 53 Loss 1.2748\n",
      "Epoch 4 Batch 54 Loss 1.2834\n",
      "Epoch 4 Batch 55 Loss 1.2940\n",
      "Epoch 4 Batch 56 Loss 1.3517\n",
      "Epoch 4 Batch 57 Loss 1.3592\n",
      "Epoch 4 Batch 58 Loss 1.3361\n",
      "Epoch 4 Batch 59 Loss 1.3347\n",
      "18719\n",
      "Epoch 4 Loss 0.004190\n",
      "Time taken for 1 epoch 37.79363393783569 sec\n",
      "\n",
      "Epoch 5 Batch 0 Loss 1.3356\n",
      "Epoch 5 Batch 1 Loss 1.3060\n",
      "Epoch 5 Batch 2 Loss 1.3147\n",
      "Epoch 5 Batch 3 Loss 1.2856\n",
      "Epoch 5 Batch 4 Loss 1.2804\n",
      "Epoch 5 Batch 5 Loss 1.2778\n",
      "Epoch 5 Batch 6 Loss 1.2901\n",
      "Epoch 5 Batch 7 Loss 1.3221\n",
      "Epoch 5 Batch 8 Loss 1.3200\n",
      "Epoch 5 Batch 9 Loss 1.3024\n",
      "Epoch 5 Batch 10 Loss 1.3038\n",
      "Epoch 5 Batch 11 Loss 1.2860\n",
      "Epoch 5 Batch 12 Loss 1.2736\n",
      "Epoch 5 Batch 13 Loss 1.2817\n",
      "Epoch 5 Batch 14 Loss 1.3161\n",
      "Epoch 5 Batch 15 Loss 1.2966\n",
      "Epoch 5 Batch 16 Loss 1.2986\n",
      "Epoch 5 Batch 17 Loss 1.2947\n",
      "Epoch 5 Batch 18 Loss 1.2775\n",
      "Epoch 5 Batch 19 Loss 1.2801\n",
      "Epoch 5 Batch 20 Loss 1.2849\n",
      "Epoch 5 Batch 21 Loss 1.3259\n",
      "Epoch 5 Batch 22 Loss 1.3179\n",
      "Epoch 5 Batch 23 Loss 1.3243\n",
      "Epoch 5 Batch 24 Loss 1.3061\n",
      "Epoch 5 Batch 25 Loss 1.2730\n",
      "Epoch 5 Batch 26 Loss 1.2644\n",
      "Epoch 5 Batch 27 Loss 1.2842\n",
      "Epoch 5 Batch 28 Loss 1.3111\n",
      "Epoch 5 Batch 29 Loss 1.3142\n",
      "Epoch 5 Batch 30 Loss 1.2982\n",
      "Epoch 5 Batch 31 Loss 1.3039\n",
      "Epoch 5 Batch 32 Loss 1.2784\n",
      "Epoch 5 Batch 33 Loss 1.2849\n",
      "Epoch 5 Batch 34 Loss 1.2975\n",
      "Epoch 5 Batch 35 Loss 1.3329\n",
      "Epoch 5 Batch 36 Loss 1.3213\n",
      "Epoch 5 Batch 37 Loss 1.3065\n",
      "Epoch 5 Batch 38 Loss 1.3038\n",
      "Epoch 5 Batch 39 Loss 1.2787\n",
      "Epoch 5 Batch 40 Loss 1.2805\n",
      "Epoch 5 Batch 41 Loss 1.2940\n",
      "Epoch 5 Batch 42 Loss 1.3267\n",
      "Epoch 5 Batch 43 Loss 1.3062\n",
      "Epoch 5 Batch 44 Loss 1.3122\n",
      "Epoch 5 Batch 45 Loss 1.2959\n",
      "Epoch 5 Batch 46 Loss 1.2759\n",
      "Epoch 5 Batch 47 Loss 1.2675\n",
      "Epoch 5 Batch 48 Loss 1.2973\n",
      "Epoch 5 Batch 49 Loss 1.3014\n",
      "Epoch 5 Batch 50 Loss 1.3230\n",
      "Epoch 5 Batch 51 Loss 1.3044\n",
      "Epoch 5 Batch 52 Loss 1.3054\n",
      "Epoch 5 Batch 53 Loss 1.2669\n",
      "Epoch 5 Batch 54 Loss 1.2792\n",
      "Epoch 5 Batch 55 Loss 1.2876\n",
      "Epoch 5 Batch 56 Loss 1.3474\n",
      "Epoch 5 Batch 57 Loss 1.3534\n",
      "Epoch 5 Batch 58 Loss 1.3343\n",
      "Epoch 5 Batch 59 Loss 1.3296\n",
      "18719\n",
      "Epoch 5 Loss 0.004169\n",
      "Time taken for 1 epoch 36.530025005340576 sec\n",
      "\n",
      "Epoch 6 Batch 0 Loss 1.3276\n",
      "Epoch 6 Batch 1 Loss 1.3016\n",
      "Epoch 6 Batch 2 Loss 1.3071\n",
      "Epoch 6 Batch 3 Loss 1.2803\n",
      "Epoch 6 Batch 4 Loss 1.2742\n",
      "Epoch 6 Batch 5 Loss 1.2742\n",
      "Epoch 6 Batch 6 Loss 1.2863\n",
      "Epoch 6 Batch 7 Loss 1.3179\n",
      "Epoch 6 Batch 8 Loss 1.3125\n",
      "Epoch 6 Batch 9 Loss 1.2959\n",
      "Epoch 6 Batch 10 Loss 1.2980\n",
      "Epoch 6 Batch 11 Loss 1.2834\n",
      "Epoch 6 Batch 12 Loss 1.2722\n",
      "Epoch 6 Batch 13 Loss 1.2820\n",
      "Epoch 6 Batch 14 Loss 1.3134\n",
      "Epoch 6 Batch 15 Loss 1.2948\n",
      "Epoch 6 Batch 16 Loss 1.2964\n",
      "Epoch 6 Batch 17 Loss 1.2957\n",
      "Epoch 6 Batch 18 Loss 1.2738\n",
      "Epoch 6 Batch 19 Loss 1.2743\n",
      "Epoch 6 Batch 20 Loss 1.2816\n",
      "Epoch 6 Batch 21 Loss 1.3182\n",
      "Epoch 6 Batch 22 Loss 1.3088\n",
      "Epoch 6 Batch 23 Loss 1.3165\n",
      "Epoch 6 Batch 24 Loss 1.3024\n",
      "Epoch 6 Batch 25 Loss 1.2689\n",
      "Epoch 6 Batch 26 Loss 1.2608\n",
      "Epoch 6 Batch 27 Loss 1.2801\n",
      "Epoch 6 Batch 28 Loss 1.3060\n",
      "Epoch 6 Batch 29 Loss 1.3106\n",
      "Epoch 6 Batch 30 Loss 1.2945\n",
      "Epoch 6 Batch 31 Loss 1.2994\n",
      "Epoch 6 Batch 32 Loss 1.2746\n",
      "Epoch 6 Batch 33 Loss 1.2823\n",
      "Epoch 6 Batch 34 Loss 1.2927\n",
      "Epoch 6 Batch 35 Loss 1.3279\n",
      "Epoch 6 Batch 36 Loss 1.3162\n",
      "Epoch 6 Batch 37 Loss 1.3050\n",
      "Epoch 6 Batch 38 Loss 1.3000\n",
      "Epoch 6 Batch 39 Loss 1.2772\n",
      "Epoch 6 Batch 40 Loss 1.2792\n",
      "Epoch 6 Batch 41 Loss 1.2909\n",
      "Epoch 6 Batch 42 Loss 1.3228\n",
      "Epoch 6 Batch 43 Loss 1.3034\n",
      "Epoch 6 Batch 44 Loss 1.3063\n",
      "Epoch 6 Batch 45 Loss 1.2916\n",
      "Epoch 6 Batch 46 Loss 1.2731\n",
      "Epoch 6 Batch 47 Loss 1.2691\n",
      "Epoch 6 Batch 48 Loss 1.2952\n",
      "Epoch 6 Batch 49 Loss 1.3017\n",
      "Epoch 6 Batch 50 Loss 1.3162\n",
      "Epoch 6 Batch 51 Loss 1.2997\n",
      "Epoch 6 Batch 52 Loss 1.2997\n",
      "Epoch 6 Batch 53 Loss 1.2657\n",
      "Epoch 6 Batch 54 Loss 1.2748\n",
      "Epoch 6 Batch 55 Loss 1.2851\n",
      "Epoch 6 Batch 56 Loss 1.3400\n",
      "Epoch 6 Batch 57 Loss 1.3460\n",
      "Epoch 6 Batch 58 Loss 1.3302\n",
      "Epoch 6 Batch 59 Loss 1.3259\n",
      "18719\n",
      "Epoch 6 Loss 0.004156\n",
      "Time taken for 1 epoch 35.76652789115906 sec\n",
      "\n",
      "Epoch 7 Batch 0 Loss 1.3203\n",
      "Epoch 7 Batch 1 Loss 1.2975\n",
      "Epoch 7 Batch 2 Loss 1.3011\n",
      "Epoch 7 Batch 3 Loss 1.2774\n",
      "Epoch 7 Batch 4 Loss 1.2706\n",
      "Epoch 7 Batch 5 Loss 1.2726\n",
      "Epoch 7 Batch 6 Loss 1.2840\n",
      "Epoch 7 Batch 7 Loss 1.3127\n",
      "Epoch 7 Batch 8 Loss 1.3056\n",
      "Epoch 7 Batch 9 Loss 1.2917\n",
      "Epoch 7 Batch 10 Loss 1.2925\n",
      "Epoch 7 Batch 11 Loss 1.2806\n",
      "Epoch 7 Batch 12 Loss 1.2726\n",
      "Epoch 7 Batch 13 Loss 1.2828\n",
      "Epoch 7 Batch 14 Loss 1.3117\n",
      "Epoch 7 Batch 15 Loss 1.2934\n",
      "Epoch 7 Batch 16 Loss 1.2957\n",
      "Epoch 7 Batch 17 Loss 1.2957\n",
      "Epoch 7 Batch 18 Loss 1.2732\n",
      "Epoch 7 Batch 19 Loss 1.2716\n",
      "Epoch 7 Batch 20 Loss 1.2802\n",
      "Epoch 7 Batch 21 Loss 1.3127\n",
      "Epoch 7 Batch 22 Loss 1.3017\n",
      "Epoch 7 Batch 23 Loss 1.3123\n",
      "Epoch 7 Batch 24 Loss 1.2969\n",
      "Epoch 7 Batch 25 Loss 1.2689\n",
      "Epoch 7 Batch 26 Loss 1.2632\n",
      "Epoch 7 Batch 27 Loss 1.2782\n",
      "Epoch 7 Batch 28 Loss 1.3027\n",
      "Epoch 7 Batch 29 Loss 1.3088\n",
      "Epoch 7 Batch 30 Loss 1.2931\n",
      "Epoch 7 Batch 31 Loss 1.2962\n",
      "Epoch 7 Batch 32 Loss 1.2736\n",
      "Epoch 7 Batch 33 Loss 1.2795\n"
     ]
    },
    {
     "name": "stdout",
     "output_type": "stream",
     "text": [
      "Epoch 7 Batch 34 Loss 1.2893\n",
      "Epoch 7 Batch 35 Loss 1.3238\n",
      "Epoch 7 Batch 36 Loss 1.3128\n",
      "Epoch 7 Batch 37 Loss 1.3026\n",
      "Epoch 7 Batch 38 Loss 1.2972\n",
      "Epoch 7 Batch 39 Loss 1.2752\n",
      "Epoch 7 Batch 40 Loss 1.2782\n",
      "Epoch 7 Batch 41 Loss 1.2890\n",
      "Epoch 7 Batch 42 Loss 1.3205\n",
      "Epoch 7 Batch 43 Loss 1.3010\n",
      "Epoch 7 Batch 44 Loss 1.3033\n",
      "Epoch 7 Batch 45 Loss 1.2886\n",
      "Epoch 7 Batch 46 Loss 1.2705\n",
      "Epoch 7 Batch 47 Loss 1.2682\n",
      "Epoch 7 Batch 48 Loss 1.2927\n",
      "Epoch 7 Batch 49 Loss 1.3015\n",
      "Epoch 7 Batch 50 Loss 1.3118\n",
      "Epoch 7 Batch 51 Loss 1.2960\n",
      "Epoch 7 Batch 52 Loss 1.2954\n",
      "Epoch 7 Batch 53 Loss 1.2641\n",
      "Epoch 7 Batch 54 Loss 1.2726\n",
      "Epoch 7 Batch 55 Loss 1.2836\n",
      "Epoch 7 Batch 56 Loss 1.3369\n",
      "Epoch 7 Batch 57 Loss 1.3426\n",
      "Epoch 7 Batch 58 Loss 1.3274\n",
      "Epoch 7 Batch 59 Loss 1.3234\n",
      "18719\n",
      "Epoch 7 Loss 0.004148\n",
      "Time taken for 1 epoch 37.506791830062866 sec\n",
      "\n",
      "Epoch 8 Batch 0 Loss 1.3154\n",
      "Epoch 8 Batch 1 Loss 1.2939\n",
      "Epoch 8 Batch 2 Loss 1.2971\n",
      "Epoch 8 Batch 3 Loss 1.2751\n",
      "Epoch 8 Batch 4 Loss 1.2692\n",
      "Epoch 8 Batch 5 Loss 1.2710\n",
      "Epoch 8 Batch 6 Loss 1.2814\n",
      "Epoch 8 Batch 7 Loss 1.3091\n",
      "Epoch 8 Batch 8 Loss 1.3014\n",
      "Epoch 8 Batch 9 Loss 1.2893\n",
      "Epoch 8 Batch 10 Loss 1.2896\n",
      "Epoch 8 Batch 11 Loss 1.2789\n",
      "Epoch 8 Batch 12 Loss 1.2725\n",
      "Epoch 8 Batch 13 Loss 1.2827\n",
      "Epoch 8 Batch 14 Loss 1.3097\n",
      "Epoch 8 Batch 15 Loss 1.2918\n",
      "Epoch 8 Batch 16 Loss 1.2951\n",
      "Epoch 8 Batch 17 Loss 1.2949\n",
      "Epoch 8 Batch 18 Loss 1.2733\n",
      "Epoch 8 Batch 19 Loss 1.2702\n",
      "Epoch 8 Batch 20 Loss 1.2793\n",
      "Epoch 8 Batch 21 Loss 1.3085\n",
      "Epoch 8 Batch 22 Loss 1.2979\n",
      "Epoch 8 Batch 23 Loss 1.3086\n",
      "Epoch 8 Batch 24 Loss 1.2936\n",
      "Epoch 8 Batch 25 Loss 1.2686\n",
      "Epoch 8 Batch 26 Loss 1.2652\n",
      "Epoch 8 Batch 27 Loss 1.2772\n",
      "Epoch 8 Batch 28 Loss 1.3005\n",
      "Epoch 8 Batch 29 Loss 1.3075\n",
      "Epoch 8 Batch 30 Loss 1.2924\n",
      "Epoch 8 Batch 31 Loss 1.2934\n",
      "Epoch 8 Batch 32 Loss 1.2736\n",
      "Epoch 8 Batch 33 Loss 1.2776\n",
      "Epoch 8 Batch 34 Loss 1.2868\n",
      "Epoch 8 Batch 35 Loss 1.3206\n",
      "Epoch 8 Batch 36 Loss 1.3105\n",
      "Epoch 8 Batch 37 Loss 1.2998\n",
      "Epoch 8 Batch 38 Loss 1.2945\n",
      "Epoch 8 Batch 39 Loss 1.2732\n",
      "Epoch 8 Batch 40 Loss 1.2761\n",
      "Epoch 8 Batch 41 Loss 1.2876\n",
      "Epoch 8 Batch 42 Loss 1.3187\n",
      "Epoch 8 Batch 43 Loss 1.2981\n",
      "Epoch 8 Batch 44 Loss 1.3022\n",
      "Epoch 8 Batch 45 Loss 1.2881\n",
      "Epoch 8 Batch 46 Loss 1.2695\n",
      "Epoch 8 Batch 47 Loss 1.2668\n",
      "Epoch 8 Batch 48 Loss 1.2906\n",
      "Epoch 8 Batch 49 Loss 1.3019\n",
      "Epoch 8 Batch 50 Loss 1.3081\n",
      "Epoch 8 Batch 51 Loss 1.2924\n",
      "Epoch 8 Batch 52 Loss 1.2926\n",
      "Epoch 8 Batch 53 Loss 1.2623\n",
      "Epoch 8 Batch 54 Loss 1.2713\n",
      "Epoch 8 Batch 55 Loss 1.2825\n",
      "Epoch 8 Batch 56 Loss 1.3352\n",
      "Epoch 8 Batch 57 Loss 1.3411\n",
      "Epoch 8 Batch 58 Loss 1.3261\n",
      "Epoch 8 Batch 59 Loss 1.3216\n",
      "18719\n",
      "Epoch 8 Loss 0.004141\n",
      "Time taken for 1 epoch 35.27992796897888 sec\n",
      "\n",
      "Epoch 9 Batch 0 Loss 1.3126\n",
      "Epoch 9 Batch 1 Loss 1.2914\n",
      "Epoch 9 Batch 2 Loss 1.2942\n",
      "Epoch 9 Batch 3 Loss 1.2730\n",
      "Epoch 9 Batch 4 Loss 1.2687\n",
      "Epoch 9 Batch 5 Loss 1.2701\n",
      "Epoch 9 Batch 6 Loss 1.2796\n",
      "Epoch 9 Batch 7 Loss 1.3064\n",
      "Epoch 9 Batch 8 Loss 1.2984\n",
      "Epoch 9 Batch 9 Loss 1.2874\n",
      "Epoch 9 Batch 10 Loss 1.2879\n",
      "Epoch 9 Batch 11 Loss 1.2782\n",
      "Epoch 9 Batch 12 Loss 1.2715\n",
      "Epoch 9 Batch 13 Loss 1.2818\n",
      "Epoch 9 Batch 14 Loss 1.3071\n",
      "Epoch 9 Batch 15 Loss 1.2898\n",
      "Epoch 9 Batch 16 Loss 1.2938\n",
      "Epoch 9 Batch 17 Loss 1.2944\n",
      "Epoch 9 Batch 18 Loss 1.2723\n",
      "Epoch 9 Batch 19 Loss 1.2692\n",
      "Epoch 9 Batch 20 Loss 1.2786\n",
      "Epoch 9 Batch 21 Loss 1.3055\n",
      "Epoch 9 Batch 22 Loss 1.2960\n",
      "Epoch 9 Batch 23 Loss 1.3063\n",
      "Epoch 9 Batch 24 Loss 1.2918\n",
      "Epoch 9 Batch 25 Loss 1.2684\n",
      "Epoch 9 Batch 26 Loss 1.2661\n",
      "Epoch 9 Batch 27 Loss 1.2765\n",
      "Epoch 9 Batch 28 Loss 1.2990\n",
      "Epoch 9 Batch 29 Loss 1.3060\n",
      "Epoch 9 Batch 30 Loss 1.2921\n",
      "Epoch 9 Batch 31 Loss 1.2913\n",
      "Epoch 9 Batch 32 Loss 1.2734\n",
      "Epoch 9 Batch 33 Loss 1.2762\n",
      "Epoch 9 Batch 34 Loss 1.2850\n",
      "Epoch 9 Batch 35 Loss 1.3177\n",
      "Epoch 9 Batch 36 Loss 1.3089\n",
      "Epoch 9 Batch 37 Loss 1.2976\n",
      "Epoch 9 Batch 38 Loss 1.2928\n",
      "Epoch 9 Batch 39 Loss 1.2721\n",
      "Epoch 9 Batch 40 Loss 1.2742\n",
      "Epoch 9 Batch 41 Loss 1.2865\n",
      "Epoch 9 Batch 42 Loss 1.3172\n",
      "Epoch 9 Batch 43 Loss 1.2957\n",
      "Epoch 9 Batch 44 Loss 1.3013\n",
      "Epoch 9 Batch 45 Loss 1.2880\n",
      "Epoch 9 Batch 46 Loss 1.2693\n",
      "Epoch 9 Batch 47 Loss 1.2665\n",
      "Epoch 9 Batch 48 Loss 1.2897\n",
      "Epoch 9 Batch 49 Loss 1.2996\n",
      "Epoch 9 Batch 50 Loss 1.3053\n",
      "Epoch 9 Batch 51 Loss 1.2906\n",
      "Epoch 9 Batch 52 Loss 1.2906\n",
      "Epoch 9 Batch 53 Loss 1.2610\n",
      "Epoch 9 Batch 54 Loss 1.2701\n",
      "Epoch 9 Batch 55 Loss 1.2809\n",
      "Epoch 9 Batch 56 Loss 1.3335\n",
      "Epoch 9 Batch 57 Loss 1.3405\n",
      "Epoch 9 Batch 58 Loss 1.3254\n",
      "Epoch 9 Batch 59 Loss 1.3202\n",
      "18719\n",
      "Epoch 9 Loss 0.004137\n",
      "Time taken for 1 epoch 38.54498267173767 sec\n",
      "\n",
      "Epoch 10 Batch 0 Loss 1.3103\n",
      "Epoch 10 Batch 1 Loss 1.2890\n",
      "Epoch 10 Batch 2 Loss 1.2922\n",
      "Epoch 10 Batch 3 Loss 1.2714\n",
      "Epoch 10 Batch 4 Loss 1.2685\n",
      "Epoch 10 Batch 5 Loss 1.2692\n",
      "Epoch 10 Batch 6 Loss 1.2782\n",
      "Epoch 10 Batch 7 Loss 1.3046\n",
      "Epoch 10 Batch 8 Loss 1.2963\n",
      "Epoch 10 Batch 9 Loss 1.2860\n",
      "Epoch 10 Batch 10 Loss 1.2866\n",
      "Epoch 10 Batch 11 Loss 1.2772\n",
      "Epoch 10 Batch 12 Loss 1.2710\n",
      "Epoch 10 Batch 13 Loss 1.2809\n",
      "Epoch 10 Batch 14 Loss 1.3051\n",
      "Epoch 10 Batch 15 Loss 1.2877\n",
      "Epoch 10 Batch 16 Loss 1.2927\n",
      "Epoch 10 Batch 17 Loss 1.2926\n",
      "Epoch 10 Batch 18 Loss 1.2724\n",
      "Epoch 10 Batch 19 Loss 1.2691\n",
      "Epoch 10 Batch 20 Loss 1.2782\n",
      "Epoch 10 Batch 21 Loss 1.3032\n",
      "Epoch 10 Batch 22 Loss 1.2956\n",
      "Epoch 10 Batch 23 Loss 1.3038\n",
      "Epoch 10 Batch 24 Loss 1.2915\n",
      "Epoch 10 Batch 25 Loss 1.2678\n",
      "Epoch 10 Batch 26 Loss 1.2662\n",
      "Epoch 10 Batch 27 Loss 1.2764\n",
      "Epoch 10 Batch 28 Loss 1.2978\n",
      "Epoch 10 Batch 29 Loss 1.3037\n",
      "Epoch 10 Batch 30 Loss 1.2915\n",
      "Epoch 10 Batch 31 Loss 1.2893\n",
      "Epoch 10 Batch 32 Loss 1.2729\n",
      "Epoch 10 Batch 33 Loss 1.2755\n",
      "Epoch 10 Batch 34 Loss 1.2835\n",
      "Epoch 10 Batch 35 Loss 1.3151\n",
      "Epoch 10 Batch 36 Loss 1.3073\n",
      "Epoch 10 Batch 37 Loss 1.2952\n",
      "Epoch 10 Batch 38 Loss 1.2907\n",
      "Epoch 10 Batch 39 Loss 1.2714\n",
      "Epoch 10 Batch 40 Loss 1.2728\n",
      "Epoch 10 Batch 41 Loss 1.2854\n",
      "Epoch 10 Batch 42 Loss 1.3153\n",
      "Epoch 10 Batch 43 Loss 1.2934\n",
      "Epoch 10 Batch 44 Loss 1.3002\n",
      "Epoch 10 Batch 45 Loss 1.2881\n",
      "Epoch 10 Batch 46 Loss 1.2697\n",
      "Epoch 10 Batch 47 Loss 1.2667\n",
      "Epoch 10 Batch 48 Loss 1.2891\n",
      "Epoch 10 Batch 49 Loss 1.2981\n",
      "Epoch 10 Batch 50 Loss 1.3037\n",
      "Epoch 10 Batch 51 Loss 1.2885\n",
      "Epoch 10 Batch 52 Loss 1.2916\n",
      "Epoch 10 Batch 53 Loss 1.2615\n",
      "Epoch 10 Batch 54 Loss 1.2726\n",
      "Epoch 10 Batch 55 Loss 1.2838\n",
      "Epoch 10 Batch 56 Loss 1.3297\n",
      "Epoch 10 Batch 57 Loss 1.3398\n",
      "Epoch 10 Batch 58 Loss 1.3335\n",
      "Epoch 10 Batch 59 Loss 1.3211\n",
      "18719\n",
      "Epoch 10 Loss 0.004134\n",
      "Time taken for 1 epoch 37.9040687084198 sec\n",
      "\n"
     ]
    }
   ],
   "source": [
    "import time\n",
    "EPOCHS = 10\n",
    "\n",
    "for epoch in range(start_epoch, EPOCHS):\n",
    "    start = time.time()\n",
    "    total_loss = 0\n",
    "\n",
    "    for (batch, (img_tensor, target)) in enumerate(image_dataset_encoded):\n",
    "      #print(img_tensor.shape)\n",
    "      #print(target.shape)\n",
    "        batch_loss, t_loss = train_step(img_tensor, target)\n",
    "        total_loss += t_loss\n",
    "\n",
    "        if batch % 1 == 0:\n",
    "            print ('Epoch {} Batch {} Loss {:.4f}'.format(\n",
    "                epoch + 1, batch, batch_loss / int(target.shape[1])))\n",
    "    # storing the epoch end loss value to plot later\n",
    "    loss_plot.append(total_loss / num_steps)\n",
    "\n",
    "    if epoch % 5 == 0:\n",
    "        ckpt_manager.save() \n",
    "    print(num_steps)\n",
    "    print ('Epoch {} Loss {:.6f}'.format(epoch + 1,\n",
    "                                         total_loss/num_steps))\n",
    "    print ('Time taken for 1 epoch {} sec\\n'.format(time.time() - start))"
   ]
  },
  {
   "cell_type": "code",
   "execution_count": 40,
   "metadata": {
    "colab": {
     "base_uri": "https://localhost:8080/",
     "height": 295
    },
    "executionInfo": {
     "elapsed": 5485,
     "status": "ok",
     "timestamp": 1605397126122,
     "user": {
      "displayName": "Morgan Allen",
      "photoUrl": "https://lh3.googleusercontent.com/a-/AOh14GjaNMWmr2TlLrY_MBSDquiSqhgTuK8vCNzY4tLH=s64",
      "userId": "12026828979516915336"
     },
     "user_tz": 360
    },
    "id": "lsSx6FGZZh3q",
    "outputId": "94b1a0e7-25ef-4bb5-e1ed-cdd2b0c113eb"
   },
   "outputs": [
    {
     "data": {
      "image/png": "[encoded data removed]",
      "text/plain": [
       "<Figure size 432x288 with 1 Axes>"
      ]
     },
     "metadata": {
      "needs_background": "light"
     },
     "output_type": "display_data"
    }
   ],
   "source": [
    "plt.plot(loss_plot)\n",
    "plt.xlabel('Epochs')\n",
    "plt.ylabel('Loss')\n",
    "plt.title('Loss Plot')\n",
    "plt.show()"
   ]
  },
  {
   "cell_type": "markdown",
   "metadata": {
    "id": "S60WeHNwdPDG"
   },
   "source": [
    "# Evaluate"
   ]
  },
  {
   "cell_type": "code",
   "execution_count": 91,
   "metadata": {
    "id": "31N4XxAYcahR"
   },
   "outputs": [],
   "source": [
    "def evaluate(image):\n",
    "    attention_plot = np.zeros((max_length, attention_features_shape))\n",
    "\n",
    "    hidden = decoder.reset_state(batch_size=1)\n",
    "\n",
    "    temp_input = tf.expand_dims(image, 0)\n",
    "    #print(temp_input)\n",
    "    img_tensor_val = image_features_extract_model(temp_input)\n",
    "    #print(img_tensor_val)\n",
    "    img_tensor_val = tf.reshape(img_tensor_val, (img_tensor_val.shape[0], -1, img_tensor_val.shape[3]))\n",
    "    #print(img_tensor_val)\n",
    "    \n",
    "    features = encoder(img_tensor_val)\n",
    "\n",
    "    dec_input = tf.expand_dims([tokenizer.word_index['\\t']], 0)\n",
    "    result = []\n",
    "\n",
    "    for i in range(max_length):\n",
    "        predictions, hidden, attention_weights = decoder(dec_input, features, hidden)\n",
    "        attention_plot[i] = tf.reshape(attention_weights, (-1, ))\n",
    "\n",
    "        predicted_id = tf.random.categorical(predictions, 1)[0][0]\n",
    "        predicted_id = int(predicted_id)\n",
    "        result.append(tokenizer.index_word[predicted_id])\n",
    "        #print(tokenizer.index_word[predicted_id])\n",
    "        ind = np.argpartition(predictions, -4)[0][-4:]\n",
    "        print(f'These are the top choices {\"\".join(tokenizer.index_word[c] for c in ind)}')\n",
    "        print(f'This are the probabilities {predictions.numpy()[0,ind]}')\n",
    "\n",
    "        if tokenizer.index_word[predicted_id] == '\\n':\n",
    "            return result, attention_plot\n",
    "\n",
    "        dec_input = tf.expand_dims([predicted_id], 0)\n",
    "\n",
    "    attention_plot = attention_plot[:len(result), :]\n",
    "    return result, attention_plot"
   ]
  },
  {
   "cell_type": "code",
   "execution_count": 92,
   "metadata": {},
   "outputs": [],
   "source": [
    "test_img1 = img_mini[201]\n",
    "test_img2 = img_mini[4001]\n",
    "test_img3 = img_mini[6001]\n",
    "test_img4 = img_mini[11201]\n",
    "test_img5 = img_mini[3601]\n",
    "label_array5 = label_array[0]\n",
    "test_img6 = img_mini[10011]\n",
    "label_array6 = label_array[10011]\n",
    "test_img7 = img_mini[16000]\n",
    "label_array7 = label_array[16000]"
   ]
  },
  {
   "cell_type": "code",
   "execution_count": 93,
   "metadata": {
    "id": "CEEvzEL8dmsV"
   },
   "outputs": [],
   "source": [
    "def plot_attention(image, result, attention_plot):\n",
    "    \n",
    "    #-1 goes to zero\n",
    "    temp_image = np.array(image)\n",
    "\n",
    "    fig = plt.figure(figsize=(10, 10))\n",
    "    #print(result)\n",
    "    len_result = len(result)\n",
    "    for l in range(len_result):\n",
    "        temp_att = np.resize(attention_plot[l], (8, 8))\n",
    "        ax = fig.add_subplot(len_result//2, len_result//2, l+1)\n",
    "        ax.set_title(result[l])\n",
    "        img = ax.imshow(temp_image)\n",
    "        ax.imshow(temp_att, cmap='gray', alpha=0.6, extent=img.get_extent())\n",
    "\n",
    "    plt.tight_layout()\n",
    "    plt.show();"
   ]
  },
  {
   "cell_type": "markdown",
   "metadata": {
    "id": "p-GvV9Q9eaJh"
   },
   "source": [
    "Run attention_plot to see what it looks like"
   ]
  },
  {
   "cell_type": "code",
   "execution_count": 96,
   "metadata": {},
   "outputs": [
    {
     "name": "stderr",
     "output_type": "stream",
     "text": [
      "Clipping input data to the valid range for imshow with RGB data ([0..1] for floats or [0..255] for integers).\n",
      "Clipping input data to the valid range for imshow with RGB data ([0..1] for floats or [0..255] for integers).\n"
     ]
    },
    {
     "name": "stdout",
     "output_type": "stream",
     "text": [
      "These are the top choices 2\n",
      "7+\n",
      "This are the probabilities [2.682321  3.7328415 3.3995636 4.446071 ]\n",
      "These are the top choices 2\n",
      "7+\n",
      "This are the probabilities [2.6999753 3.7498517 3.4296846 4.5382566]\n",
      "These are the top choices +27\n",
      "\n",
      "This are the probabilities [2.6078465 2.7104177 3.0411694 4.88854  ]\n",
      "These are the top choices 2\n",
      "7+\n",
      "This are the probabilities [2.7027125 3.7911294 3.4198916 4.462781 ]\n",
      "These are the top choices +27\n",
      "\n",
      "This are the probabilities [2.6074605 2.7116115 3.041341  4.894889 ]\n",
      "Prediction Caption: + 9 + 9 \n",
      "\n",
      "\t2x+1=3\n",
      "\n"
     ]
    },
    {
     "name": "stderr",
     "output_type": "stream",
     "text": [
      "Clipping input data to the valid range for imshow with RGB data ([0..1] for floats or [0..255] for integers).\n",
      "Clipping input data to the valid range for imshow with RGB data ([0..1] for floats or [0..255] for integers).\n"
     ]
    },
    {
     "ename": "ValueError",
     "evalue": "num must be 1 <= num <= 4, not 5",
     "output_type": "error",
     "traceback": [
      "\u001b[0;31m---------------------------------------------------------------------------\u001b[0m",
      "\u001b[0;31mValueError\u001b[0m                                Traceback (most recent call last)",
      "\u001b[0;32m<ipython-input-96-265b37041d45>\u001b[0m in \u001b[0;36m<module>\u001b[0;34m\u001b[0m\n\u001b[1;32m      2\u001b[0m \u001b[0mprint\u001b[0m \u001b[0;34m(\u001b[0m\u001b[0;34m'Prediction Caption:'\u001b[0m\u001b[0;34m,\u001b[0m \u001b[0;34m' '\u001b[0m\u001b[0;34m.\u001b[0m\u001b[0mjoin\u001b[0m\u001b[0;34m(\u001b[0m\u001b[0mresult\u001b[0m\u001b[0;34m)\u001b[0m\u001b[0;34m)\u001b[0m\u001b[0;34m\u001b[0m\u001b[0;34m\u001b[0m\u001b[0m\n\u001b[1;32m      3\u001b[0m \u001b[0mprint\u001b[0m\u001b[0;34m(\u001b[0m\u001b[0mlabel_array\u001b[0m\u001b[0;34m[\u001b[0m\u001b[0;36m4001\u001b[0m\u001b[0;34m]\u001b[0m\u001b[0;34m)\u001b[0m\u001b[0;34m\u001b[0m\u001b[0;34m\u001b[0m\u001b[0m\n\u001b[0;32m----> 4\u001b[0;31m \u001b[0mplot_attention\u001b[0m\u001b[0;34m(\u001b[0m\u001b[0mtest_img2\u001b[0m\u001b[0;34m,\u001b[0m \u001b[0mresult\u001b[0m\u001b[0;34m,\u001b[0m \u001b[0mattention_plot\u001b[0m\u001b[0;34m)\u001b[0m\u001b[0;34m\u001b[0m\u001b[0;34m\u001b[0m\u001b[0m\n\u001b[0m\u001b[1;32m      5\u001b[0m \u001b[0;31m# opening the image\u001b[0m\u001b[0;34m\u001b[0m\u001b[0;34m\u001b[0m\u001b[0;34m\u001b[0m\u001b[0m\n\u001b[1;32m      6\u001b[0m \u001b[0mplt\u001b[0m\u001b[0;34m.\u001b[0m\u001b[0mimshow\u001b[0m\u001b[0;34m(\u001b[0m\u001b[0mtest_img2\u001b[0m\u001b[0;34m)\u001b[0m\u001b[0;34m\u001b[0m\u001b[0;34m\u001b[0m\u001b[0m\n",
      "\u001b[0;32m<ipython-input-93-cc8f2fa1d4b9>\u001b[0m in \u001b[0;36mplot_attention\u001b[0;34m(image, result, attention_plot)\u001b[0m\n\u001b[1;32m      9\u001b[0m     \u001b[0;32mfor\u001b[0m \u001b[0ml\u001b[0m \u001b[0;32min\u001b[0m \u001b[0mrange\u001b[0m\u001b[0;34m(\u001b[0m\u001b[0mlen_result\u001b[0m\u001b[0;34m)\u001b[0m\u001b[0;34m:\u001b[0m\u001b[0;34m\u001b[0m\u001b[0;34m\u001b[0m\u001b[0m\n\u001b[1;32m     10\u001b[0m         \u001b[0mtemp_att\u001b[0m \u001b[0;34m=\u001b[0m \u001b[0mnp\u001b[0m\u001b[0;34m.\u001b[0m\u001b[0mresize\u001b[0m\u001b[0;34m(\u001b[0m\u001b[0mattention_plot\u001b[0m\u001b[0;34m[\u001b[0m\u001b[0ml\u001b[0m\u001b[0;34m]\u001b[0m\u001b[0;34m,\u001b[0m \u001b[0;34m(\u001b[0m\u001b[0;36m8\u001b[0m\u001b[0;34m,\u001b[0m \u001b[0;36m8\u001b[0m\u001b[0;34m)\u001b[0m\u001b[0;34m)\u001b[0m\u001b[0;34m\u001b[0m\u001b[0;34m\u001b[0m\u001b[0m\n\u001b[0;32m---> 11\u001b[0;31m         \u001b[0max\u001b[0m \u001b[0;34m=\u001b[0m \u001b[0mfig\u001b[0m\u001b[0;34m.\u001b[0m\u001b[0madd_subplot\u001b[0m\u001b[0;34m(\u001b[0m\u001b[0mlen_result\u001b[0m\u001b[0;34m//\u001b[0m\u001b[0;36m2\u001b[0m\u001b[0;34m,\u001b[0m \u001b[0mlen_result\u001b[0m\u001b[0;34m//\u001b[0m\u001b[0;36m2\u001b[0m\u001b[0;34m,\u001b[0m \u001b[0ml\u001b[0m\u001b[0;34m+\u001b[0m\u001b[0;36m1\u001b[0m\u001b[0;34m)\u001b[0m\u001b[0;34m\u001b[0m\u001b[0;34m\u001b[0m\u001b[0m\n\u001b[0m\u001b[1;32m     12\u001b[0m         \u001b[0max\u001b[0m\u001b[0;34m.\u001b[0m\u001b[0mset_title\u001b[0m\u001b[0;34m(\u001b[0m\u001b[0mresult\u001b[0m\u001b[0;34m[\u001b[0m\u001b[0ml\u001b[0m\u001b[0;34m]\u001b[0m\u001b[0;34m)\u001b[0m\u001b[0;34m\u001b[0m\u001b[0;34m\u001b[0m\u001b[0m\n\u001b[1;32m     13\u001b[0m         \u001b[0mimg\u001b[0m \u001b[0;34m=\u001b[0m \u001b[0max\u001b[0m\u001b[0;34m.\u001b[0m\u001b[0mimshow\u001b[0m\u001b[0;34m(\u001b[0m\u001b[0mtemp_image\u001b[0m\u001b[0;34m)\u001b[0m\u001b[0;34m\u001b[0m\u001b[0;34m\u001b[0m\u001b[0m\n",
      "\u001b[0;32m/opt/miniconda3/lib/python3.7/site-packages/matplotlib/figure.py\u001b[0m in \u001b[0;36madd_subplot\u001b[0;34m(self, *args, **kwargs)\u001b[0m\n\u001b[1;32m   1400\u001b[0m                     \u001b[0;31m# more similar to add_axes.\u001b[0m\u001b[0;34m\u001b[0m\u001b[0;34m\u001b[0m\u001b[0;34m\u001b[0m\u001b[0m\n\u001b[1;32m   1401\u001b[0m                     \u001b[0mself\u001b[0m\u001b[0;34m.\u001b[0m\u001b[0m_axstack\u001b[0m\u001b[0;34m.\u001b[0m\u001b[0mremove\u001b[0m\u001b[0;34m(\u001b[0m\u001b[0max\u001b[0m\u001b[0;34m)\u001b[0m\u001b[0;34m\u001b[0m\u001b[0;34m\u001b[0m\u001b[0m\n\u001b[0;32m-> 1402\u001b[0;31m             \u001b[0max\u001b[0m \u001b[0;34m=\u001b[0m \u001b[0msubplot_class_factory\u001b[0m\u001b[0;34m(\u001b[0m\u001b[0mprojection_class\u001b[0m\u001b[0;34m)\u001b[0m\u001b[0;34m(\u001b[0m\u001b[0mself\u001b[0m\u001b[0;34m,\u001b[0m \u001b[0;34m*\u001b[0m\u001b[0margs\u001b[0m\u001b[0;34m,\u001b[0m \u001b[0;34m**\u001b[0m\u001b[0mkwargs\u001b[0m\u001b[0;34m)\u001b[0m\u001b[0;34m\u001b[0m\u001b[0;34m\u001b[0m\u001b[0m\n\u001b[0m\u001b[1;32m   1403\u001b[0m \u001b[0;34m\u001b[0m\u001b[0m\n\u001b[1;32m   1404\u001b[0m         \u001b[0;32mreturn\u001b[0m \u001b[0mself\u001b[0m\u001b[0;34m.\u001b[0m\u001b[0m_add_axes_internal\u001b[0m\u001b[0;34m(\u001b[0m\u001b[0mkey\u001b[0m\u001b[0;34m,\u001b[0m \u001b[0max\u001b[0m\u001b[0;34m)\u001b[0m\u001b[0;34m\u001b[0m\u001b[0;34m\u001b[0m\u001b[0m\n",
      "\u001b[0;32m/opt/miniconda3/lib/python3.7/site-packages/matplotlib/axes/_subplots.py\u001b[0m in \u001b[0;36m__init__\u001b[0;34m(self, fig, *args, **kwargs)\u001b[0m\n\u001b[1;32m     37\u001b[0m \u001b[0;34m\u001b[0m\u001b[0m\n\u001b[1;32m     38\u001b[0m         \u001b[0mself\u001b[0m\u001b[0;34m.\u001b[0m\u001b[0mfigure\u001b[0m \u001b[0;34m=\u001b[0m \u001b[0mfig\u001b[0m\u001b[0;34m\u001b[0m\u001b[0;34m\u001b[0m\u001b[0m\n\u001b[0;32m---> 39\u001b[0;31m         \u001b[0mself\u001b[0m\u001b[0;34m.\u001b[0m\u001b[0m_subplotspec\u001b[0m \u001b[0;34m=\u001b[0m \u001b[0mSubplotSpec\u001b[0m\u001b[0;34m.\u001b[0m\u001b[0m_from_subplot_args\u001b[0m\u001b[0;34m(\u001b[0m\u001b[0mfig\u001b[0m\u001b[0;34m,\u001b[0m \u001b[0margs\u001b[0m\u001b[0;34m)\u001b[0m\u001b[0;34m\u001b[0m\u001b[0;34m\u001b[0m\u001b[0m\n\u001b[0m\u001b[1;32m     40\u001b[0m         \u001b[0mself\u001b[0m\u001b[0;34m.\u001b[0m\u001b[0mupdate_params\u001b[0m\u001b[0;34m(\u001b[0m\u001b[0;34m)\u001b[0m\u001b[0;34m\u001b[0m\u001b[0;34m\u001b[0m\u001b[0m\n\u001b[1;32m     41\u001b[0m         \u001b[0;31m# _axes_class is set in the subplot_class_factory\u001b[0m\u001b[0;34m\u001b[0m\u001b[0;34m\u001b[0m\u001b[0;34m\u001b[0m\u001b[0m\n",
      "\u001b[0;32m/opt/miniconda3/lib/python3.7/site-packages/matplotlib/gridspec.py\u001b[0m in \u001b[0;36m_from_subplot_args\u001b[0;34m(figure, args)\u001b[0m\n\u001b[1;32m    688\u001b[0m                 \u001b[0;32mif\u001b[0m \u001b[0mnum\u001b[0m \u001b[0;34m<\u001b[0m \u001b[0;36m1\u001b[0m \u001b[0;32mor\u001b[0m \u001b[0mnum\u001b[0m \u001b[0;34m>\u001b[0m \u001b[0mrows\u001b[0m\u001b[0;34m*\u001b[0m\u001b[0mcols\u001b[0m\u001b[0;34m:\u001b[0m\u001b[0;34m\u001b[0m\u001b[0;34m\u001b[0m\u001b[0m\n\u001b[1;32m    689\u001b[0m                     raise ValueError(\n\u001b[0;32m--> 690\u001b[0;31m                         f\"num must be 1 <= num <= {rows*cols}, not {num}\")\n\u001b[0m\u001b[1;32m    691\u001b[0m                 \u001b[0;32mreturn\u001b[0m \u001b[0mgs\u001b[0m\u001b[0;34m[\u001b[0m\u001b[0mnum\u001b[0m \u001b[0;34m-\u001b[0m \u001b[0;36m1\u001b[0m\u001b[0;34m]\u001b[0m   \u001b[0;31m# -1 due to MATLAB indexing.\u001b[0m\u001b[0;34m\u001b[0m\u001b[0;34m\u001b[0m\u001b[0m\n\u001b[1;32m    692\u001b[0m         \u001b[0;32melse\u001b[0m\u001b[0;34m:\u001b[0m\u001b[0;34m\u001b[0m\u001b[0;34m\u001b[0m\u001b[0m\n",
      "\u001b[0;31mValueError\u001b[0m: num must be 1 <= num <= 4, not 5"
     ]
    },
    {
     "data": {
      "image/png": "[encoded data removed]",
      "text/plain": [
       "<Figure size 720x720 with 4 Axes>"
      ]
     },
     "metadata": {
      "needs_background": "light"
     },
     "output_type": "display_data"
    }
   ],
   "source": [
    "result, attention_plot = evaluate(test_img2)\n",
    "print ('Prediction Caption:', ' '.join(result))\n",
    "print(label_array[4001])\n",
    "plot_attention(test_img2, result, attention_plot)\n",
    "# opening the image\n",
    "plt.imshow(test_img2)"
   ]
  },
  {
   "cell_type": "code",
   "execution_count": 151,
   "metadata": {},
   "outputs": [
    {
     "name": "stderr",
     "output_type": "stream",
     "text": [
      "Clipping input data to the valid range for imshow with RGB data ([0..1] for floats or [0..255] for integers).\n",
      "Clipping input data to the valid range for imshow with RGB data ([0..1] for floats or [0..255] for integers).\n",
      "Clipping input data to the valid range for imshow with RGB data ([0..1] for floats or [0..255] for integers).\n",
      "Clipping input data to the valid range for imshow with RGB data ([0..1] for floats or [0..255] for integers).\n",
      "Clipping input data to the valid range for imshow with RGB data ([0..1] for floats or [0..255] for integers).\n",
      "Clipping input data to the valid range for imshow with RGB data ([0..1] for floats or [0..255] for integers).\n",
      "Clipping input data to the valid range for imshow with RGB data ([0..1] for floats or [0..255] for integers).\n"
     ]
    },
    {
     "name": "stdout",
     "output_type": "stream",
     "text": [
      "Prediction Caption: 5 n + 5 = 0 \n",
      "\n"
     ]
    },
    {
     "data": {
      "image/png": "[encoded data removed]",
      "text/plain": [
       "<Figure size 720x720 with 7 Axes>"
      ]
     },
     "metadata": {
      "needs_background": "light"
     },
     "output_type": "display_data"
    },
    {
     "name": "stderr",
     "output_type": "stream",
     "text": [
      "Clipping input data to the valid range for imshow with RGB data ([0..1] for floats or [0..255] for integers).\n"
     ]
    },
    {
     "data": {
      "text/plain": [
       "<matplotlib.image.AxesImage at 0x7fa483d06b10>"
      ]
     },
     "execution_count": 151,
     "metadata": {},
     "output_type": "execute_result"
    },
    {
     "data": {
      "image/png": "[encoded data removed]",
      "text/plain": [
       "<Figure size 432x288 with 1 Axes>"
      ]
     },
     "metadata": {
      "needs_background": "light"
     },
     "output_type": "display_data"
    }
   ],
   "source": [
    "result, attention_plot = evaluate(test_img3)\n",
    "print ('Prediction Caption:', ' '.join(result))\n",
    "plot_attention(test_img3, result, attention_plot)\n",
    "# opening the image\n",
    "plt.imshow(test_img3)"
   ]
  },
  {
   "cell_type": "code",
   "execution_count": 156,
   "metadata": {},
   "outputs": [
    {
     "name": "stderr",
     "output_type": "stream",
     "text": [
      "Clipping input data to the valid range for imshow with RGB data ([0..1] for floats or [0..255] for integers).\n",
      "Clipping input data to the valid range for imshow with RGB data ([0..1] for floats or [0..255] for integers).\n",
      "Clipping input data to the valid range for imshow with RGB data ([0..1] for floats or [0..255] for integers).\n",
      "Clipping input data to the valid range for imshow with RGB data ([0..1] for floats or [0..255] for integers).\n",
      "Clipping input data to the valid range for imshow with RGB data ([0..1] for floats or [0..255] for integers).\n",
      "Clipping input data to the valid range for imshow with RGB data ([0..1] for floats or [0..255] for integers).\n",
      "Clipping input data to the valid range for imshow with RGB data ([0..1] for floats or [0..255] for integers).\n"
     ]
    },
    {
     "name": "stdout",
     "output_type": "stream",
     "text": [
      "Prediction Caption: 8 m + 2 = 8 \n",
      "\n"
     ]
    },
    {
     "data": {
      "image/png": "[encoded data removed]",
      "text/plain": [
       "<Figure size 720x720 with 7 Axes>"
      ]
     },
     "metadata": {
      "needs_background": "light"
     },
     "output_type": "display_data"
    },
    {
     "name": "stderr",
     "output_type": "stream",
     "text": [
      "Clipping input data to the valid range for imshow with RGB data ([0..1] for floats or [0..255] for integers).\n"
     ]
    },
    {
     "data": {
      "text/plain": [
       "<matplotlib.image.AxesImage at 0x7fa482f4d810>"
      ]
     },
     "execution_count": 156,
     "metadata": {},
     "output_type": "execute_result"
    },
    {
     "data": {
      "image/png": "[encoded data removed]",
      "text/plain": [
       "<Figure size 432x288 with 1 Axes>"
      ]
     },
     "metadata": {
      "needs_background": "light"
     },
     "output_type": "display_data"
    }
   ],
   "source": [
    "result, attention_plot = evaluate(test_img4)\n",
    "print ('Prediction Caption:', ' '.join(result))\n",
    "plot_attention(test_img4, result, attention_plot)\n",
    "# opening the image\n",
    "plt.imshow(test_img4)"
   ]
  },
  {
   "cell_type": "code",
   "execution_count": null,
   "metadata": {},
   "outputs": [],
   "source": []
  }
 ],
 "metadata": {
  "accelerator": "GPU",
  "colab": {
   "collapsed_sections": [],
   "name": "Morgan Copy Image Captioning with Attention (Drive).ipynb",
   "provenance": []
  },
  "kernelspec": {
   "display_name": "Python 3",
   "language": "python",
   "name": "python3"
  },
  "language_info": {
   "codemirror_mode": {
    "name": "ipython",
    "version": 3
   },
   "file_extension": ".py",
   "mimetype": "text/x-python",
   "name": "python",
   "nbconvert_exporter": "python",
   "pygments_lexer": "ipython3",
   "version": "3.7.6"
  }
 },
 "nbformat": 4,
 "nbformat_minor": 1
}
