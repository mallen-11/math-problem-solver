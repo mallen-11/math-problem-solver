{
 "cells": [
  {
   "cell_type": "markdown",
   "metadata": {
    "id": "8xUzM901Sjpe"
   },
   "source": [
    "# Image Captioning with Attention"
   ]
  },
  {
   "cell_type": "code",
   "execution_count": 1,
   "metadata": {
    "colab": {
     "base_uri": "https://localhost:8080/"
    },
    "executionInfo": {
     "elapsed": 23950,
     "status": "ok",
     "timestamp": 1605553608791,
     "user": {
      "displayName": "Morgan Allen",
      "photoUrl": "https://lh3.googleusercontent.com/a-/AOh14GjaNMWmr2TlLrY_MBSDquiSqhgTuK8vCNzY4tLH=s64",
      "userId": "12026828979516915336"
     },
     "user_tz": 360
    },
    "id": "rMgFop76Sjpf",
    "outputId": "b2cf6200-462f-466c-c514-b99318169097"
   },
   "outputs": [],
   "source": [
    "import tensorflow as tf\n",
    "import numpy as np\n",
    "import pandas as pd\n",
    "from matplotlib import pyplot as plt\n",
    "from PIL import Image\n",
    "\n",
    "from sklearn.linear_model import LogisticRegression\n",
    "from sklearn.metrics import plot_confusion_matrix, confusion_matrix\n",
    "from sklearn.model_selection import train_test_split\n",
    "\n",
    "from tensorflow.keras.layers import Dense, Flatten, Conv2D, MaxPooling2D, Dropout, BatchNormalization\n",
    "from tensorflow.keras import Model\n",
    "from tensorflow.keras.models import Sequential\n",
    "from tensorflow.keras import layers\n",
    "from tensorflow import image\n",
    "\n",
    "import itertools\n",
    "import random\n",
    "\n",
    "tf.random.set_seed(1)"
   ]
  },
  {
   "cell_type": "markdown",
   "metadata": {
    "id": "CqP6UkWTSjpj"
   },
   "source": [
    "Loading the Data. The data consist of pictures and labels of linear functions"
   ]
  },
  {
   "cell_type": "code",
   "execution_count": 2,
   "metadata": {
    "executionInfo": {
     "elapsed": 976,
     "status": "ok",
     "timestamp": 1605553609779,
     "user": {
      "displayName": "Morgan Allen",
      "photoUrl": "https://lh3.googleusercontent.com/a-/AOh14GjaNMWmr2TlLrY_MBSDquiSqhgTuK8vCNzY4tLH=s64",
      "userId": "12026828979516915336"
     },
     "user_tz": 360
    },
    "id": "08AiJm9zSjpk"
   },
   "outputs": [],
   "source": [
    "import cv2\n",
    "import os\n",
    "\n",
    "def load_images_from_folder(folder, n_imgs=-1):\n",
    "    images = []\n",
    "    image_nums = []\n",
    "    for filename in os.listdir(folder)[:n_imgs]:\n",
    "        img = cv2.imread(os.path.join(folder,filename))\n",
    "        if img is not None:\n",
    "            images.append(img)\n",
    "            image_nums.append(filename.strip('.png'))\n",
    "    return images, image_nums\n",
    "\n",
    "folder=\"../../../Math Equations/linear_fcns/images\""
   ]
  },
  {
   "cell_type": "code",
   "execution_count": 3,
   "metadata": {
    "executionInfo": {
     "elapsed": 45955,
     "status": "ok",
     "timestamp": 1605554061902,
     "user": {
      "displayName": "Morgan Allen",
      "photoUrl": "https://lh3.googleusercontent.com/a-/AOh14GjaNMWmr2TlLrY_MBSDquiSqhgTuK8vCNzY4tLH=s64",
      "userId": "12026828979516915336"
     },
     "user_tz": 360
    },
    "id": "vBBKDvA8Sjpm"
   },
   "outputs": [],
   "source": [
    "images, fnames = load_images_from_folder(folder,10000)"
   ]
  },
  {
   "cell_type": "code",
   "execution_count": 4,
   "metadata": {
    "id": "WYkOrKFFSjpp"
   },
   "outputs": [],
   "source": [
    "labels = pd.read_csv('../../../Math Equations/linear_fcns/data.csv')"
   ]
  },
  {
   "cell_type": "code",
   "execution_count": 5,
   "metadata": {
    "id": "JoZjytqMWTiR"
   },
   "outputs": [],
   "source": [
    "labels['img_number'] = labels['filename'].apply(lambda x: x.split('/')[-1].strip('.png'))"
   ]
  },
  {
   "cell_type": "code",
   "execution_count": 6,
   "metadata": {
    "colab": {
     "base_uri": "https://localhost:8080/",
     "height": 204
    },
    "executionInfo": {
     "elapsed": 217,
     "status": "ok",
     "timestamp": 1605395495815,
     "user": {
      "displayName": "Morgan Allen",
      "photoUrl": "https://lh3.googleusercontent.com/a-/AOh14GjaNMWmr2TlLrY_MBSDquiSqhgTuK8vCNzY4tLH=s64",
      "userId": "12026828979516915336"
     },
     "user_tz": 360
    },
    "id": "vC3wCKPxWQaC",
    "outputId": "902efffe-60ca-411b-f507-a329adf0f01a"
   },
   "outputs": [
    {
     "data": {
      "text/html": [
       "<div>\n",
       "<style scoped>\n",
       "    .dataframe tbody tr th:only-of-type {\n",
       "        vertical-align: middle;\n",
       "    }\n",
       "\n",
       "    .dataframe tbody tr th {\n",
       "        vertical-align: top;\n",
       "    }\n",
       "\n",
       "    .dataframe thead th {\n",
       "        text-align: right;\n",
       "    }\n",
       "</style>\n",
       "<table border=\"1\" class=\"dataframe\">\n",
       "  <thead>\n",
       "    <tr style=\"text-align: right;\">\n",
       "      <th></th>\n",
       "      <th>latex</th>\n",
       "      <th>filename</th>\n",
       "      <th>img_number</th>\n",
       "    </tr>\n",
       "  </thead>\n",
       "  <tbody>\n",
       "    <tr>\n",
       "      <th>0</th>\n",
       "      <td>0a+1=2</td>\n",
       "      <td>linear_fcns/images/0.png</td>\n",
       "      <td>0</td>\n",
       "    </tr>\n",
       "    <tr>\n",
       "      <th>1</th>\n",
       "      <td>0b+1=2</td>\n",
       "      <td>linear_fcns/images/1.png</td>\n",
       "      <td>1</td>\n",
       "    </tr>\n",
       "    <tr>\n",
       "      <th>2</th>\n",
       "      <td>0c+1=2</td>\n",
       "      <td>linear_fcns/images/2.png</td>\n",
       "      <td>2</td>\n",
       "    </tr>\n",
       "    <tr>\n",
       "      <th>3</th>\n",
       "      <td>0d+1=2</td>\n",
       "      <td>linear_fcns/images/3.png</td>\n",
       "      <td>3</td>\n",
       "    </tr>\n",
       "    <tr>\n",
       "      <th>4</th>\n",
       "      <td>0e+1=2</td>\n",
       "      <td>linear_fcns/images/4.png</td>\n",
       "      <td>4</td>\n",
       "    </tr>\n",
       "  </tbody>\n",
       "</table>\n",
       "</div>"
      ],
      "text/plain": [
       "    latex                  filename img_number\n",
       "0  0a+1=2  linear_fcns/images/0.png          0\n",
       "1  0b+1=2  linear_fcns/images/1.png          1\n",
       "2  0c+1=2  linear_fcns/images/2.png          2\n",
       "3  0d+1=2  linear_fcns/images/3.png          3\n",
       "4  0e+1=2  linear_fcns/images/4.png          4"
      ]
     },
     "execution_count": 6,
     "metadata": {},
     "output_type": "execute_result"
    }
   ],
   "source": [
    "labels.head()"
   ]
  },
  {
   "cell_type": "code",
   "execution_count": 7,
   "metadata": {
    "id": "DC-tLPESWAy5"
   },
   "outputs": [],
   "source": [
    "label_array = labels[labels['img_number'].isin(fnames)]['latex'].values"
   ]
  },
  {
   "cell_type": "markdown",
   "metadata": {
    "id": "zXR3M4QBSjpv"
   },
   "source": [
    "For the labels we need to add start and end tokens so the model can recognize what to write."
   ]
  },
  {
   "cell_type": "code",
   "execution_count": 8,
   "metadata": {
    "id": "NEzxzBX8Sjpv"
   },
   "outputs": [],
   "source": [
    "label_array = [f'\\t{la}\\n' for la in label_array]"
   ]
  },
  {
   "cell_type": "markdown",
   "metadata": {
    "id": "HHztSmQ_Sjpy"
   },
   "source": [
    "Let's reshape the images so we can plot them."
   ]
  },
  {
   "cell_type": "code",
   "execution_count": 9,
   "metadata": {
    "colab": {
     "base_uri": "https://localhost:8080/"
    },
    "executionInfo": {
     "elapsed": 244,
     "status": "ok",
     "timestamp": 1605395503599,
     "user": {
      "displayName": "Morgan Allen",
      "photoUrl": "https://lh3.googleusercontent.com/a-/AOh14GjaNMWmr2TlLrY_MBSDquiSqhgTuK8vCNzY4tLH=s64",
      "userId": "12026828979516915336"
     },
     "user_tz": 360
    },
    "id": "9XdF3xaGSjpy",
    "outputId": "9b633ce9-2750-4b1c-e926-9f2b75a9d58f"
   },
   "outputs": [
    {
     "data": {
      "text/plain": [
       "(10000, 72, 360, 3)"
      ]
     },
     "execution_count": 9,
     "metadata": {},
     "output_type": "execute_result"
    }
   ],
   "source": [
    "images_for_split = images\n",
    "images = np.array(images)\n",
    "images = 255 - images\n",
    "# images = tf.image.rgb_to_grayscale(images)\n",
    "images.shape"
   ]
  },
  {
   "cell_type": "code",
   "execution_count": 10,
   "metadata": {},
   "outputs": [
    {
     "data": {
      "text/plain": [
       "<matplotlib.image.AxesImage at 0x7ff9d91b58d0>"
      ]
     },
     "execution_count": 10,
     "metadata": {},
     "output_type": "execute_result"
    },
    {
     "data": {
      "image/png": "[encoded data removed]",
      "text/plain": [
       "<Figure size 432x288 with 1 Axes>"
      ]
     },
     "metadata": {
      "needs_background": "light"
     },
     "output_type": "display_data"
    }
   ],
   "source": [
    "plt.imshow(images[0].squeeze())"
   ]
  },
  {
   "cell_type": "markdown",
   "metadata": {
    "id": "fQYvxF90Sjp3"
   },
   "source": [
    "Now we can process them and prepare them for inceptionv3 which is transfer learning"
   ]
  },
  {
   "cell_type": "code",
   "execution_count": 11,
   "metadata": {},
   "outputs": [],
   "source": [
    "img_train, img_test, img_train_name, img_test_name = train_test_split(images, label_array, test_size=.3)"
   ]
  },
  {
   "cell_type": "code",
   "execution_count": 12,
   "metadata": {},
   "outputs": [],
   "source": [
    "img_mini = tf.image.resize_with_pad(img_train, 299, 299)\n",
    "img_test= tf.image.resize_with_pad(img_test, 299, 299)"
   ]
  },
  {
   "cell_type": "code",
   "execution_count": 13,
   "metadata": {
    "id": "pE87-f9ESjp4"
   },
   "outputs": [],
   "source": [
    "img_mini = tf.keras.applications.inception_v3.preprocess_input(img_mini)\n",
    "img_test = tf.keras.applications.inception_v3.preprocess_input(img_test)"
   ]
  },
  {
   "cell_type": "markdown",
   "metadata": {
    "id": "s-8n1FtqSjp8"
   },
   "source": [
    "Now we can load the features of the inceptionv3 model as seen below."
   ]
  },
  {
   "cell_type": "code",
   "execution_count": 14,
   "metadata": {},
   "outputs": [],
   "source": [
    "img_mini0 = (img_mini[0] + 1) / 2"
   ]
  },
  {
   "cell_type": "code",
   "execution_count": 15,
   "metadata": {
    "colab": {
     "base_uri": "https://localhost:8080/",
     "height": 303
    },
    "executionInfo": {
     "elapsed": 305,
     "status": "ok",
     "timestamp": 1605395508912,
     "user": {
      "displayName": "Morgan Allen",
      "photoUrl": "https://lh3.googleusercontent.com/a-/AOh14GjaNMWmr2TlLrY_MBSDquiSqhgTuK8vCNzY4tLH=s64",
      "userId": "12026828979516915336"
     },
     "user_tz": 360
    },
    "id": "8uSNNnvdSjp6",
    "outputId": "c123a164-46bf-4b86-9368-f105029f9f0e"
   },
   "outputs": [
    {
     "data": {
      "text/plain": [
       "<matplotlib.image.AxesImage at 0x7ff9d9237b90>"
      ]
     },
     "execution_count": 15,
     "metadata": {},
     "output_type": "execute_result"
    },
    {
     "data": {
      "image/png": "[encoded data removed]",
      "text/plain": [
       "<Figure size 432x288 with 1 Axes>"
      ]
     },
     "metadata": {
      "needs_background": "light"
     },
     "output_type": "display_data"
    }
   ],
   "source": [
    "plt.imshow(tf.squeeze(img_mini0))"
   ]
  },
  {
   "cell_type": "code",
   "execution_count": 16,
   "metadata": {
    "id": "hgB8p8KZSjp8"
   },
   "outputs": [],
   "source": [
    "image_model = tf.keras.applications.InceptionV3(include_top=False,\n",
    "                                                weights='imagenet')\n",
    "new_input = image_model.input\n",
    "hidden_layer = image_model.layers[-1].output\n",
    "\n",
    "image_features_extract_model = tf.keras.Model(new_input, hidden_layer)"
   ]
  },
  {
   "cell_type": "code",
   "execution_count": 18,
   "metadata": {
    "id": "llWCIcu3Sjp_"
   },
   "outputs": [],
   "source": [
    "# Feel free to change batch_size according to your system configuration\n",
    "image_dataset = tf.data.Dataset.from_tensor_slices((img_mini, img_train_name)).batch(500)#(img_mini, label_array)).batch(1)\n",
    "c = 1\n",
    "\n",
    "for img, label in image_dataset:\n",
    "    batch_features = image_features_extract_model(img)\n",
    "    batch_features = tf.reshape(batch_features,\n",
    "                              (batch_features.shape[0], -1, batch_features.shape[3]))\n",
    "  \n",
    "    p = f'../Batch Features Train/batch_features{c}'\n",
    "    c = c+1 \n",
    "     #path_of_feature = p.numpy().decode(\"utf-8\")\n",
    "    np.save(p, batch_features)"
   ]
  },
  {
   "cell_type": "code",
   "execution_count": 19,
   "metadata": {
    "id": "iKq5_-oTP22q"
   },
   "outputs": [
    {
     "ename": "FileNotFoundError",
     "evalue": "[Errno 2] No such file or directory: '../Batch Features Train/batch_features15.npy'",
     "output_type": "error",
     "traceback": [
      "\u001b[0;31m---------------------------------------------------------------------------\u001b[0m",
      "\u001b[0;31mFileNotFoundError\u001b[0m                         Traceback (most recent call last)",
      "\u001b[0;32m<ipython-input-19-f04f2bd55223>\u001b[0m in \u001b[0;36m<module>\u001b[0;34m\u001b[0m\n\u001b[1;32m      1\u001b[0m \u001b[0mimg_load\u001b[0m \u001b[0;34m=\u001b[0m \u001b[0mnp\u001b[0m\u001b[0;34m.\u001b[0m\u001b[0mload\u001b[0m\u001b[0;34m(\u001b[0m\u001b[0;34m'../Batch Features Train/batch_features1.npy'\u001b[0m\u001b[0;34m)\u001b[0m\u001b[0;34m\u001b[0m\u001b[0;34m\u001b[0m\u001b[0m\n\u001b[1;32m      2\u001b[0m \u001b[0;32mfor\u001b[0m \u001b[0mi\u001b[0m \u001b[0;32min\u001b[0m \u001b[0mrange\u001b[0m\u001b[0;34m(\u001b[0m\u001b[0;36m2\u001b[0m\u001b[0;34m,\u001b[0m\u001b[0;36m21\u001b[0m\u001b[0;34m)\u001b[0m\u001b[0;34m:\u001b[0m\u001b[0;34m\u001b[0m\u001b[0;34m\u001b[0m\u001b[0m\n\u001b[0;32m----> 3\u001b[0;31m     \u001b[0mimg_add\u001b[0m \u001b[0;34m=\u001b[0m \u001b[0mnp\u001b[0m\u001b[0;34m.\u001b[0m\u001b[0mload\u001b[0m\u001b[0;34m(\u001b[0m\u001b[0;34mf'../Batch Features Train/batch_features{i}.npy'\u001b[0m\u001b[0;34m)\u001b[0m\u001b[0;34m\u001b[0m\u001b[0;34m\u001b[0m\u001b[0m\n\u001b[0m\u001b[1;32m      4\u001b[0m     \u001b[0mimg_load\u001b[0m \u001b[0;34m=\u001b[0m \u001b[0mnp\u001b[0m\u001b[0;34m.\u001b[0m\u001b[0mconcatenate\u001b[0m\u001b[0;34m(\u001b[0m\u001b[0;34m(\u001b[0m\u001b[0mimg_load\u001b[0m\u001b[0;34m,\u001b[0m \u001b[0mimg_add\u001b[0m\u001b[0;34m)\u001b[0m\u001b[0;34m)\u001b[0m\u001b[0;34m\u001b[0m\u001b[0;34m\u001b[0m\u001b[0m\n",
      "\u001b[0;32m/opt/miniconda3/lib/python3.7/site-packages/numpy/lib/npyio.py\u001b[0m in \u001b[0;36mload\u001b[0;34m(file, mmap_mode, allow_pickle, fix_imports, encoding)\u001b[0m\n\u001b[1;32m    414\u001b[0m             \u001b[0mown_fid\u001b[0m \u001b[0;34m=\u001b[0m \u001b[0;32mFalse\u001b[0m\u001b[0;34m\u001b[0m\u001b[0;34m\u001b[0m\u001b[0m\n\u001b[1;32m    415\u001b[0m         \u001b[0;32melse\u001b[0m\u001b[0;34m:\u001b[0m\u001b[0;34m\u001b[0m\u001b[0;34m\u001b[0m\u001b[0m\n\u001b[0;32m--> 416\u001b[0;31m             \u001b[0mfid\u001b[0m \u001b[0;34m=\u001b[0m \u001b[0mstack\u001b[0m\u001b[0;34m.\u001b[0m\u001b[0menter_context\u001b[0m\u001b[0;34m(\u001b[0m\u001b[0mopen\u001b[0m\u001b[0;34m(\u001b[0m\u001b[0mos_fspath\u001b[0m\u001b[0;34m(\u001b[0m\u001b[0mfile\u001b[0m\u001b[0;34m)\u001b[0m\u001b[0;34m,\u001b[0m \u001b[0;34m\"rb\"\u001b[0m\u001b[0;34m)\u001b[0m\u001b[0;34m)\u001b[0m\u001b[0;34m\u001b[0m\u001b[0;34m\u001b[0m\u001b[0m\n\u001b[0m\u001b[1;32m    417\u001b[0m             \u001b[0mown_fid\u001b[0m \u001b[0;34m=\u001b[0m \u001b[0;32mTrue\u001b[0m\u001b[0;34m\u001b[0m\u001b[0;34m\u001b[0m\u001b[0m\n\u001b[1;32m    418\u001b[0m \u001b[0;34m\u001b[0m\u001b[0m\n",
      "\u001b[0;31mFileNotFoundError\u001b[0m: [Errno 2] No such file or directory: '../Batch Features Train/batch_features15.npy'"
     ]
    }
   ],
   "source": [
    "img_load = np.load('../Batch Features Train/batch_features1.npy')\n",
    "for i in range(2,21):\n",
    "    img_add = np.load(f'../Batch Features Train/batch_features{i}.npy')\n",
    "    img_load = np.concatenate((img_load, img_add))"
   ]
  },
  {
   "cell_type": "code",
   "execution_count": 20,
   "metadata": {
    "colab": {
     "base_uri": "https://localhost:8080/"
    },
    "executionInfo": {
     "elapsed": 273,
     "status": "ok",
     "timestamp": 1605396800358,
     "user": {
      "displayName": "Morgan Allen",
      "photoUrl": "https://lh3.googleusercontent.com/a-/AOh14GjaNMWmr2TlLrY_MBSDquiSqhgTuK8vCNzY4tLH=s64",
      "userId": "12026828979516915336"
     },
     "user_tz": 360
    },
    "id": "js8_OsgYQLM3",
    "outputId": "cda0393f-c083-4bfd-96f5-e5e67e122071"
   },
   "outputs": [
    {
     "data": {
      "text/plain": [
       "(7000, 64, 2048)"
      ]
     },
     "execution_count": 20,
     "metadata": {},
     "output_type": "execute_result"
    }
   ],
   "source": [
    "img_load.shape"
   ]
  },
  {
   "cell_type": "markdown",
   "metadata": {
    "id": "dywlI7LUSjqC"
   },
   "source": [
    "### Tokenizing the labels\n",
    "\n",
    "Now we can pad the labels to make sure they are all the same length."
   ]
  },
  {
   "cell_type": "code",
   "execution_count": 185,
   "metadata": {
    "id": "xPgRuUgBbnPJ"
   },
   "outputs": [],
   "source": [
    "# Find the maximum length of any caption in our dataset\n",
    "def calc_max_length(tensor):\n",
    "    return max(len(t) for t in tensor)"
   ]
  },
  {
   "cell_type": "code",
   "execution_count": 228,
   "metadata": {
    "id": "Gipm5btLaNTb"
   },
   "outputs": [],
   "source": [
    "# Choose the top 5000 words from the vocabulary\n",
    "top_k = 41\n",
    "tokenizer = tf.keras.preprocessing.text.Tokenizer(num_words=top_k,\n",
    "                                                  oov_token=\"<unk>\",\n",
    "                                                  filters=' ',\n",
    "                                                  char_level=True)\n",
    "tokenizer.fit_on_texts(img_train_name)#label_array)\n",
    "train_seqs = tokenizer.texts_to_sequences(img_train_name)\n",
    "\n",
    "# Padding\n",
    "tokenizer.word_index['<pad>'] = 0\n",
    "tokenizer.index_word[0] = '<pad>'\n",
    "\n",
    "# Create the tokenized vectors\n",
    "train_seqs = tokenizer.texts_to_sequences(img_train_name)\n",
    "\n",
    "# Pad each vector to the max_length of the captions\n",
    "# If you do not provide a max_length value, pad_sequences calculates it automatically\n",
    "cap_vector = tf.keras.preprocessing.sequence.pad_sequences(train_seqs, padding='post')\n",
    "\n",
    "# Calculates the max_length, which is used to store the attention weights\n",
    "max_length = calc_max_length(train_seqs)"
   ]
  },
  {
   "cell_type": "code",
   "execution_count": 229,
   "metadata": {
    "colab": {
     "base_uri": "https://localhost:8080/"
    },
    "executionInfo": {
     "elapsed": 203,
     "status": "ok",
     "timestamp": 1605396804461,
     "user": {
      "displayName": "Morgan Allen",
      "photoUrl": "https://lh3.googleusercontent.com/a-/AOh14GjaNMWmr2TlLrY_MBSDquiSqhgTuK8vCNzY4tLH=s64",
      "userId": "12026828979516915336"
     },
     "user_tz": 360
    },
    "id": "YfFg62gAcaL9",
    "outputId": "2f57f655-d469-4ca3-c192-68bd3b2e5087"
   },
   "outputs": [
    {
     "data": {
      "text/plain": [
       "{'num_words': 41,\n",
       " 'filters': ' ',\n",
       " 'lower': True,\n",
       " 'split': ' ',\n",
       " 'char_level': True,\n",
       " 'oov_token': '<unk>',\n",
       " 'document_count': 7000,\n",
       " 'word_counts': '{\"\\\\t\": 7000, \"2\": 1977, \"c\": 259, \"+\": 7000, \"0\": 2048, \"=\": 7000, \"9\": 2184, \"\\\\n\": 7000, \"8\": 2134, \"k\": 261, \"3\": 2070, \"4\": 2124, \"7\": 2136, \"i\": 290, \"6\": 2163, \"s\": 264, \"5\": 2132, \"r\": 286, \"1\": 2032, \"o\": 266, \"j\": 271, \"q\": 269, \"n\": 285, \"a\": 273, \"t\": 265, \"v\": 280, \"m\": 291, \"b\": 256, \"d\": 251, \"y\": 259, \"z\": 251, \"w\": 254, \"f\": 258, \"g\": 270, \"h\": 268, \"x\": 261, \"p\": 285, \"l\": 284, \"u\": 271, \"e\": 272}',\n",
       " 'word_docs': '{\"+\": 7000, \"\\\\n\": 7000, \"=\": 7000, \"c\": 259, \"9\": 2184, \"0\": 2048, \"\\\\t\": 7000, \"2\": 1977, \"4\": 2124, \"8\": 2134, \"3\": 2070, \"k\": 261, \"6\": 2163, \"7\": 2136, \"i\": 290, \"s\": 264, \"1\": 2032, \"5\": 2132, \"r\": 286, \"o\": 266, \"j\": 271, \"q\": 269, \"n\": 285, \"a\": 273, \"t\": 265, \"v\": 280, \"m\": 291, \"b\": 256, \"d\": 251, \"y\": 259, \"z\": 251, \"w\": 254, \"f\": 258, \"g\": 270, \"h\": 268, \"x\": 261, \"p\": 285, \"l\": 284, \"u\": 271, \"e\": 272}',\n",
       " 'index_docs': '{\"3\": 7000, \"5\": 7000, \"4\": 7000, \"35\": 259, \"6\": 2184, \"13\": 2048, \"2\": 7000, \"15\": 1977, \"11\": 2124, \"9\": 2134, \"12\": 2070, \"33\": 261, \"7\": 2163, \"8\": 2136, \"17\": 290, \"32\": 264, \"14\": 2032, \"10\": 2132, \"18\": 286, \"30\": 266, \"25\": 271, \"28\": 269, \"19\": 285, \"23\": 273, \"31\": 265, \"22\": 280, \"16\": 291, \"38\": 256, \"40\": 251, \"36\": 259, \"41\": 251, \"39\": 254, \"37\": 258, \"27\": 270, \"29\": 268, \"34\": 261, \"20\": 285, \"21\": 284, \"26\": 271, \"24\": 272}',\n",
       " 'index_word': '{\"1\": \"<unk>\", \"2\": \"\\\\t\", \"3\": \"+\", \"4\": \"=\", \"5\": \"\\\\n\", \"6\": \"9\", \"7\": \"6\", \"8\": \"7\", \"9\": \"8\", \"10\": \"5\", \"11\": \"4\", \"12\": \"3\", \"13\": \"0\", \"14\": \"1\", \"15\": \"2\", \"16\": \"m\", \"17\": \"i\", \"18\": \"r\", \"19\": \"n\", \"20\": \"p\", \"21\": \"l\", \"22\": \"v\", \"23\": \"a\", \"24\": \"e\", \"25\": \"j\", \"26\": \"u\", \"27\": \"g\", \"28\": \"q\", \"29\": \"h\", \"30\": \"o\", \"31\": \"t\", \"32\": \"s\", \"33\": \"k\", \"34\": \"x\", \"35\": \"c\", \"36\": \"y\", \"37\": \"f\", \"38\": \"b\", \"39\": \"w\", \"40\": \"d\", \"41\": \"z\", \"0\": \"<pad>\"}',\n",
       " 'word_index': '{\"<unk>\": 1, \"\\\\t\": 2, \"+\": 3, \"=\": 4, \"\\\\n\": 5, \"9\": 6, \"6\": 7, \"7\": 8, \"8\": 9, \"5\": 10, \"4\": 11, \"3\": 12, \"0\": 13, \"1\": 14, \"2\": 15, \"m\": 16, \"i\": 17, \"r\": 18, \"n\": 19, \"p\": 20, \"l\": 21, \"v\": 22, \"a\": 23, \"e\": 24, \"j\": 25, \"u\": 26, \"g\": 27, \"q\": 28, \"h\": 29, \"o\": 30, \"t\": 31, \"s\": 32, \"k\": 33, \"x\": 34, \"c\": 35, \"y\": 36, \"f\": 37, \"b\": 38, \"w\": 39, \"d\": 40, \"z\": 41, \"<pad>\": 0}'}"
      ]
     },
     "execution_count": 229,
     "metadata": {},
     "output_type": "execute_result"
    }
   ],
   "source": [
    "tokenizer.get_config()"
   ]
  },
  {
   "cell_type": "code",
   "execution_count": 230,
   "metadata": {
    "colab": {
     "base_uri": "https://localhost:8080/"
    },
    "executionInfo": {
     "elapsed": 261,
     "status": "ok",
     "timestamp": 1605396805750,
     "user": {
      "displayName": "Morgan Allen",
      "photoUrl": "https://lh3.googleusercontent.com/a-/AOh14GjaNMWmr2TlLrY_MBSDquiSqhgTuK8vCNzY4tLH=s64",
      "userId": "12026828979516915336"
     },
     "user_tz": 360
    },
    "id": "GhqB3K30dMEo",
    "outputId": "aa4eee8d-77a9-4033-c9e3-2fea59b698fa"
   },
   "outputs": [
    {
     "data": {
      "text/plain": [
       "8"
      ]
     },
     "execution_count": 230,
     "metadata": {},
     "output_type": "execute_result"
    }
   ],
   "source": [
    "max_length"
   ]
  },
  {
   "cell_type": "code",
   "execution_count": 231,
   "metadata": {
    "colab": {
     "base_uri": "https://localhost:8080/"
    },
    "executionInfo": {
     "elapsed": 417,
     "status": "ok",
     "timestamp": 1605396806687,
     "user": {
      "displayName": "Morgan Allen",
      "photoUrl": "https://lh3.googleusercontent.com/a-/AOh14GjaNMWmr2TlLrY_MBSDquiSqhgTuK8vCNzY4tLH=s64",
      "userId": "12026828979516915336"
     },
     "user_tz": 360
    },
    "id": "QKIAGkIIb5ty",
    "outputId": "ddfd8187-4314-40ca-f60f-abd639d21457"
   },
   "outputs": [
    {
     "name": "stdout",
     "output_type": "stream",
     "text": [
      "\t0i+1=2\n",
      " -> [2, 15, 35, 3, 13, 4, 6, 5]\n"
     ]
    }
   ],
   "source": [
    "print(f'{label_array[0]} -> {train_seqs[0]}')"
   ]
  },
  {
   "cell_type": "code",
   "execution_count": 232,
   "metadata": {
    "colab": {
     "base_uri": "https://localhost:8080/"
    },
    "executionInfo": {
     "elapsed": 177,
     "status": "ok",
     "timestamp": 1605396807076,
     "user": {
      "displayName": "Morgan Allen",
      "photoUrl": "https://lh3.googleusercontent.com/a-/AOh14GjaNMWmr2TlLrY_MBSDquiSqhgTuK8vCNzY4tLH=s64",
      "userId": "12026828979516915336"
     },
     "user_tz": 360
    },
    "id": "wWBs6Njidhy4",
    "outputId": "c72990bc-4ddb-4444-ecfe-89622e4d5e17"
   },
   "outputs": [
    {
     "data": {
      "text/plain": [
       "[2, 15, 35, 3, 13, 4, 6, 5]"
      ]
     },
     "execution_count": 232,
     "metadata": {},
     "output_type": "execute_result"
    }
   ],
   "source": [
    "import json\n",
    "\n",
    "char_to_int_map = tokenizer.get_config()['word_index']\n",
    "char_to_int_map = json.loads(char_to_int_map)\n",
    "[char_to_int_map[c] for c in img_train_name[0]]"
   ]
  },
  {
   "cell_type": "code",
   "execution_count": 233,
   "metadata": {
    "id": "dmak8HTlSjqT"
   },
   "outputs": [],
   "source": [
    "# Feel free to change these parameters according to your system's configuration\n",
    "embedding_dim = 45\n",
    "units = 32\n",
    "vocab_size = top_k + 1\n",
    "num_steps = len(img_train) // 1\n",
    "# Shape of the vector extracted from InceptionV3 is (64, 2048)\n",
    "# These two variables represent that vector shape\n",
    "features_shape = 2048\n",
    "attention_features_shape = 64"
   ]
  },
  {
   "cell_type": "markdown",
   "metadata": {
    "id": "G8xkSSS7Sjqb"
   },
   "source": [
    "## Model\n",
    "\n",
    "Below we are defining the attention, the encoder and the decoder. The encoder is just a fully connected layer from the features already extracted."
   ]
  },
  {
   "cell_type": "code",
   "execution_count": 234,
   "metadata": {
    "id": "f7L_cEJzSjqc"
   },
   "outputs": [],
   "source": [
    "class BahdanauAttention(tf.keras.Model):\n",
    "    def __init__(self, units):\n",
    "        super(BahdanauAttention, self).__init__()\n",
    "        self.W1 = tf.keras.layers.Dense(units)\n",
    "        self.W2 = tf.keras.layers.Dense(units)\n",
    "        self.V = tf.keras.layers.Dense(1)\n",
    "\n",
    "    def call(self, features, hidden):\n",
    "        # features(CNN_encoder output) shape == (batch_size, 64, embedding_dim)\n",
    "\n",
    "        # hidden shape == (batch_size, hidden_size)\n",
    "        # hidden_with_time_axis shape == (batch_size, 1, hidden_size)\n",
    "        hidden_with_time_axis = tf.expand_dims(hidden, 1)\n",
    "\n",
    "        # attention_hidden_layer shape == (batch_size, 64, units)\n",
    "        attention_hidden_layer = (tf.nn.tanh(self.W1(features) +\n",
    "                                             self.W2(hidden_with_time_axis)))\n",
    "\n",
    "        # score shape == (batch_size, 64, 1)\n",
    "        # This gives you an unnormalized score for each image feature.\n",
    "        score = self.V(attention_hidden_layer)\n",
    "\n",
    "        # attention_weights shape == (batch_size, 64, 1)\n",
    "        attention_weights = tf.nn.softmax(score, axis=1)\n",
    "\n",
    "        # context_vector shape after sum == (batch_size, hidden_size)\n",
    "        context_vector = attention_weights * features\n",
    "        context_vector = tf.reduce_sum(context_vector, axis=1)\n",
    "\n",
    "        return context_vector, attention_weights"
   ]
  },
  {
   "cell_type": "code",
   "execution_count": 235,
   "metadata": {
    "id": "Eij3DZsYSjqe"
   },
   "outputs": [],
   "source": [
    "class CNN_Encoder(tf.keras.Model):\n",
    "    # Since you have already extracted the features and dumped it using pickle\n",
    "    # This encoder passes those features through a Fully connected layer\n",
    "    def __init__(self, embedding_dim):\n",
    "        super(CNN_Encoder, self).__init__()\n",
    "        # shape after fc == (batch_size, 64, embedding_dim)\n",
    "        self.fc = tf.keras.layers.Dense(embedding_dim)\n",
    "\n",
    "    def call(self, x):\n",
    "        x = self.fc(x)\n",
    "        #print(f'This is x: {x}')\n",
    "        x = tf.nn.relu(x)\n",
    "        #print(f'This is x: {x}')\n",
    "        return x"
   ]
  },
  {
   "cell_type": "code",
   "execution_count": 246,
   "metadata": {
    "id": "dLl75ZtPSjqh"
   },
   "outputs": [],
   "source": [
    "class RNN_Decoder(tf.keras.Model):\n",
    "    def __init__(self, embedding_dim, units, vocab_size):\n",
    "        super(RNN_Decoder, self).__init__()\n",
    "        self.units = units\n",
    "\n",
    "        self.embedding = tf.keras.layers.Embedding(vocab_size, embedding_dim)\n",
    "        self.gru = tf.keras.layers.GRU(self.units,\n",
    "                                       return_sequences=True,\n",
    "                                       return_state=True,\n",
    "                                       recurrent_initializer='glorot_uniform')\n",
    "        self.fc1 = tf.keras.layers.Dense(self.units)\n",
    "        self.fc2 = tf.keras.layers.Dense(vocab_size)\n",
    "\n",
    "        #self.attention = BahdanauAttention(self.units)\n",
    "\n",
    "    def call(self, x, features, hidden):\n",
    "        # defining attention as a separate model\n",
    "        #context_vector, attention_weights = self.attention(features, hidden)\n",
    "        #print('decoder attention complete')\n",
    "\n",
    "        # x shape after passing through embedding == (batch_size, 1, embedding_dim)\n",
    "        x = self.embedding(x)\n",
    "        #print('decoder embedding complete')\n",
    "        #print(f'x.shape = {x.shape}')\n",
    "        #print(f'context_vector.shape = {context_vector.shape}')\n",
    "        \n",
    "        context_vector = np.zeros((1,45), np.float32)\n",
    "        #print(f'context_vector.shape = {context_vector.shape}')\n",
    "\n",
    "        # x shape after concatenation == (batch_size, 1, embedding_dim + hidden_size)\n",
    "        x = tf.concat([tf.expand_dims(context_vector, 1), x], axis=-1)\n",
    "        #print('decoder embedding + context vector complete')\n",
    "        #print(f'x.shape = {x.shape}')\n",
    "\n",
    "        # passing the concatenated vector to the GRU\n",
    "        output, state = self.gru(x)\n",
    "        #print('decoder gru complete')\n",
    "\n",
    "        # shape == (batch_size, max_length, hidden_size)\n",
    "        x = self.fc1(output)\n",
    "        #print('decoder fc1 complete')\n",
    "\n",
    "        # x shape == (batch_size * max_length, hidden_size)\n",
    "        x = tf.reshape(x, (-1, x.shape[2]))\n",
    "        #print('decoder reshape complete')\n",
    "\n",
    "        # output shape == (batch_size * max_length, vocab)\n",
    "        x = self.fc2(x)\n",
    "        #print('decoder fc2 complete')\n",
    "\n",
    "        return x, state, #attention_weights\n",
    "\n",
    "    def reset_state(self, batch_size):\n",
    "        return tf.zeros((batch_size, self.units))"
   ]
  },
  {
   "cell_type": "code",
   "execution_count": 247,
   "metadata": {
    "id": "quKzY4IeSjqj"
   },
   "outputs": [],
   "source": [
    "encoder = CNN_Encoder(embedding_dim)\n",
    "decoder = RNN_Decoder(embedding_dim, units, vocab_size)"
   ]
  },
  {
   "cell_type": "code",
   "execution_count": 238,
   "metadata": {
    "id": "kI5g_iYrSjql"
   },
   "outputs": [],
   "source": [
    "optimizer = tf.keras.optimizers.Adam()\n",
    "loss_object = tf.keras.losses.SparseCategoricalCrossentropy(\n",
    "    from_logits=True, reduction='none')\n",
    "\n",
    "def loss_function(real, pred):\n",
    "    mask = tf.math.logical_not(tf.math.equal(real, 0))\n",
    "    loss_ = loss_object(real, pred)\n",
    "\n",
    "    mask = tf.cast(mask, dtype=loss_.dtype)\n",
    "    loss_ *= mask\n",
    "\n",
    "    return tf.reduce_mean(loss_)"
   ]
  },
  {
   "cell_type": "code",
   "execution_count": 239,
   "metadata": {
    "id": "MASAvbV3Sjqn"
   },
   "outputs": [],
   "source": [
    "checkpoint_path = \"./checkpoints/train_no_attention\"\n",
    "ckpt = tf.train.Checkpoint(encoder=encoder,\n",
    "                           decoder=decoder,\n",
    "                           optimizer = optimizer)\n",
    "ckpt_manager = tf.train.CheckpointManager(ckpt, checkpoint_path, max_to_keep=5)"
   ]
  },
  {
   "cell_type": "code",
   "execution_count": 240,
   "metadata": {
    "id": "8yQjrGWkSjqo"
   },
   "outputs": [],
   "source": [
    "start_epoch = 0\n",
    "if ckpt_manager.latest_checkpoint:\n",
    "      start_epoch = int(ckpt_manager.latest_checkpoint.split('-')[-1])\n",
    "      # restoring the latest checkpoint in checkpoint_path\n",
    "      ckpt.restore(ckpt_manager.latest_checkpoint)"
   ]
  },
  {
   "cell_type": "code",
   "execution_count": 241,
   "metadata": {
    "id": "IE7pUZDGSjqq"
   },
   "outputs": [],
   "source": [
    "# adding this in a separate cell because if you run the training cell\n",
    "# many times, the loss_plot array will be reset\n",
    "loss_plot = []"
   ]
  },
  {
   "cell_type": "code",
   "execution_count": 242,
   "metadata": {
    "id": "JHXjLxYuSjqs"
   },
   "outputs": [],
   "source": [
    "@tf.function\n",
    "def train_step(img_tensor, target):\n",
    "    loss = 0\n",
    "\n",
    "          # initializing the hidden state for each batch\n",
    "          # because the captions are not related from image to image\n",
    "    hidden = decoder.reset_state(batch_size=target.shape[0])\n",
    "    #print(f'hidden complete: {hidden}')\n",
    "\n",
    "    # Create a vector of all \\t indices to indicate the start of prediction\n",
    "    dec_input = tf.expand_dims([tokenizer.word_index['\\t']] * target.shape[0], 1)\n",
    "    #print(f'dec_input complete: {dec_input}')\n",
    "\n",
    "    with tf.GradientTape() as tape:\n",
    "        features = encoder(img_tensor)\n",
    "        #print('encoder complete')\n",
    "        #print(f'features.shape = {features.shape}')\n",
    "\n",
    "        # iterate through timesteps to predict the i'th character\n",
    "        for i in range(1, target.shape[1]):\n",
    "            # passing the features through the decoder\n",
    "            predictions, hidden = decoder(dec_input, features, hidden)\n",
    "            #print('decoder complete')\n",
    "\n",
    "            loss += loss_function(target[:, i], predictions)\n",
    "\n",
    "            # using teacher forcing\n",
    "            dec_input = tf.expand_dims(target[:, i], 1)\n",
    "\n",
    "    total_loss = (loss / int(target.shape[1]))\n",
    "\n",
    "    trainable_variables = encoder.trainable_variables + decoder.trainable_variables\n",
    "\n",
    "    gradients = tape.gradient(loss, trainable_variables)\n",
    "\n",
    "    optimizer.apply_gradients(zip(gradients, trainable_variables))\n",
    "\n",
    "    return loss, total_loss"
   ]
  },
  {
   "cell_type": "code",
   "execution_count": 243,
   "metadata": {
    "id": "hKZ-gQg4hmoZ"
   },
   "outputs": [],
   "source": [
    "image_dataset_encoded = tf.data.Dataset.from_tensor_slices((img_load, cap_vector)).batch(500)"
   ]
  },
  {
   "cell_type": "code",
   "execution_count": 244,
   "metadata": {
    "colab": {
     "base_uri": "https://localhost:8080/"
    },
    "executionInfo": {
     "elapsed": 7322,
     "status": "ok",
     "timestamp": 1605397126121,
     "user": {
      "displayName": "Morgan Allen",
      "photoUrl": "https://lh3.googleusercontent.com/a-/AOh14GjaNMWmr2TlLrY_MBSDquiSqhgTuK8vCNzY4tLH=s64",
      "userId": "12026828979516915336"
     },
     "user_tz": 360
    },
    "id": "vZPAuWz8Sjqu",
    "outputId": "cacc9dc1-aae4-4391-dba4-b28245e0d454",
    "scrolled": true
   },
   "outputs": [
    {
     "name": "stdout",
     "output_type": "stream",
     "text": [
      "WARNING:tensorflow:Gradients do not exist for variables ['cnn__encoder_19/dense_69/kernel:0', 'cnn__encoder_19/dense_69/bias:0'] when minimizing the loss.\n",
      "WARNING:tensorflow:Gradients do not exist for variables ['cnn__encoder_19/dense_69/kernel:0', 'cnn__encoder_19/dense_69/bias:0'] when minimizing the loss.\n",
      "Epoch 1 Batch 0 Loss 3.2697\n",
      "Epoch 1 Batch 1 Loss 3.2665\n",
      "Epoch 1 Batch 2 Loss 3.2629\n",
      "Epoch 1 Batch 3 Loss 3.2590\n",
      "Epoch 1 Batch 4 Loss 3.2552\n",
      "Epoch 1 Batch 5 Loss 3.2517\n",
      "Epoch 1 Batch 6 Loss 3.2471\n",
      "Epoch 1 Batch 7 Loss 3.2435\n",
      "Epoch 1 Batch 8 Loss 3.2387\n",
      "Epoch 1 Batch 9 Loss 3.2334\n",
      "Epoch 1 Batch 10 Loss 3.2284\n",
      "Epoch 1 Batch 11 Loss 3.2237\n",
      "Epoch 1 Batch 12 Loss 3.2174\n",
      "Epoch 1 Batch 13 Loss 3.2116\n",
      "7000\n",
      "Epoch 1 Loss 0.006487\n",
      "Time taken for 1 epoch 18.39346194267273 sec\n",
      "\n",
      "Epoch 2 Batch 0 Loss 3.2052\n",
      "Epoch 2 Batch 1 Loss 3.1989\n",
      "Epoch 2 Batch 2 Loss 3.1915\n",
      "Epoch 2 Batch 3 Loss 3.1839\n",
      "Epoch 2 Batch 4 Loss 3.1755\n",
      "Epoch 2 Batch 5 Loss 3.1682\n",
      "Epoch 2 Batch 6 Loss 3.1585\n",
      "Epoch 2 Batch 7 Loss 3.1510\n",
      "Epoch 2 Batch 8 Loss 3.1401\n",
      "Epoch 2 Batch 9 Loss 3.1283\n",
      "Epoch 2 Batch 10 Loss 3.1177\n",
      "Epoch 2 Batch 11 Loss 3.1080\n",
      "Epoch 2 Batch 12 Loss 3.0937\n",
      "Epoch 2 Batch 13 Loss 3.0803\n",
      "7000\n",
      "Epoch 2 Loss 0.006300\n",
      "Time taken for 1 epoch 11.807871103286743 sec\n",
      "\n",
      "Epoch 3 Batch 0 Loss 3.0670\n",
      "Epoch 3 Batch 1 Loss 3.0527\n",
      "Epoch 3 Batch 2 Loss 3.0359\n",
      "Epoch 3 Batch 3 Loss 3.0199\n",
      "Epoch 3 Batch 4 Loss 3.0019\n",
      "Epoch 3 Batch 5 Loss 2.9864\n",
      "Epoch 3 Batch 6 Loss 2.9664\n",
      "Epoch 3 Batch 7 Loss 2.9511\n",
      "Epoch 3 Batch 8 Loss 2.9287\n",
      "Epoch 3 Batch 9 Loss 2.9049\n",
      "Epoch 3 Batch 10 Loss 2.8849\n",
      "Epoch 3 Batch 11 Loss 2.8678\n",
      "Epoch 3 Batch 12 Loss 2.8404\n",
      "Epoch 3 Batch 13 Loss 2.8161\n",
      "7000\n",
      "Epoch 3 Loss 0.005903\n",
      "Time taken for 1 epoch 13.586840152740479 sec\n",
      "\n",
      "Epoch 4 Batch 0 Loss 2.7939\n",
      "Epoch 4 Batch 1 Loss 2.7698\n",
      "Epoch 4 Batch 2 Loss 2.7419\n",
      "Epoch 4 Batch 3 Loss 2.7184\n",
      "Epoch 4 Batch 4 Loss 2.6921\n",
      "Epoch 4 Batch 5 Loss 2.6715\n",
      "Epoch 4 Batch 6 Loss 2.6454\n",
      "Epoch 4 Batch 7 Loss 2.6289\n",
      "Epoch 4 Batch 8 Loss 2.6017\n",
      "Epoch 4 Batch 9 Loss 2.5751\n",
      "Epoch 4 Batch 10 Loss 2.5567\n",
      "Epoch 4 Batch 11 Loss 2.5448\n",
      "Epoch 4 Batch 12 Loss 2.5183\n",
      "Epoch 4 Batch 13 Loss 2.4997\n",
      "7000\n",
      "Epoch 4 Loss 0.005280\n",
      "Time taken for 1 epoch 13.00245213508606 sec\n",
      "\n",
      "Epoch 5 Batch 0 Loss 2.4858\n",
      "Epoch 5 Batch 1 Loss 2.4685\n",
      "Epoch 5 Batch 2 Loss 2.4500\n",
      "Epoch 5 Batch 3 Loss 2.4378\n",
      "Epoch 5 Batch 4 Loss 2.4226\n",
      "Epoch 5 Batch 5 Loss 2.4119\n",
      "Epoch 5 Batch 6 Loss 2.3983\n",
      "Epoch 5 Batch 7 Loss 2.3915\n",
      "Epoch 5 Batch 8 Loss 2.3752\n",
      "Epoch 5 Batch 9 Loss 2.3585\n",
      "Epoch 5 Batch 10 Loss 2.3461\n",
      "Epoch 5 Batch 11 Loss 2.3360\n",
      "Epoch 5 Batch 12 Loss 2.3176\n",
      "Epoch 5 Batch 13 Loss 2.3038\n",
      "7000\n",
      "Epoch 5 Loss 0.004786\n",
      "Time taken for 1 epoch 13.328824043273926 sec\n",
      "\n",
      "Epoch 6 Batch 0 Loss 2.2888\n",
      "Epoch 6 Batch 1 Loss 2.2727\n",
      "Epoch 6 Batch 2 Loss 2.2570\n",
      "Epoch 6 Batch 3 Loss 2.2401\n",
      "Epoch 6 Batch 4 Loss 2.2206\n",
      "Epoch 6 Batch 5 Loss 2.2044\n",
      "Epoch 6 Batch 6 Loss 2.1875\n",
      "Epoch 6 Batch 7 Loss 2.1745\n",
      "Epoch 6 Batch 8 Loss 2.1575\n",
      "Epoch 6 Batch 9 Loss 2.1386\n",
      "Epoch 6 Batch 10 Loss 2.1198\n",
      "Epoch 6 Batch 11 Loss 2.1037\n",
      "Epoch 6 Batch 12 Loss 2.0883\n",
      "Epoch 6 Batch 13 Loss 2.0733\n",
      "7000\n",
      "Epoch 6 Loss 0.004361\n",
      "Time taken for 1 epoch 12.109561920166016 sec\n",
      "\n",
      "Epoch 7 Batch 0 Loss 2.0550\n",
      "Epoch 7 Batch 1 Loss 2.0416\n",
      "Epoch 7 Batch 2 Loss 2.0273\n",
      "Epoch 7 Batch 3 Loss 2.0090\n",
      "Epoch 7 Batch 4 Loss 1.9891\n",
      "Epoch 7 Batch 5 Loss 1.9764\n",
      "Epoch 7 Batch 6 Loss 1.9595\n",
      "Epoch 7 Batch 7 Loss 1.9493\n",
      "Epoch 7 Batch 8 Loss 1.9352\n",
      "Epoch 7 Batch 9 Loss 1.9220\n",
      "Epoch 7 Batch 10 Loss 1.9056\n",
      "Epoch 7 Batch 11 Loss 1.8946\n",
      "Epoch 7 Batch 12 Loss 1.8840\n",
      "Epoch 7 Batch 13 Loss 1.8713\n",
      "7000\n",
      "Epoch 7 Loss 0.003917\n",
      "Time taken for 1 epoch 11.961374998092651 sec\n",
      "\n",
      "Epoch 8 Batch 0 Loss 1.8598\n",
      "Epoch 8 Batch 1 Loss 1.8520\n",
      "Epoch 8 Batch 2 Loss 1.8428\n",
      "Epoch 8 Batch 3 Loss 1.8309\n",
      "Epoch 8 Batch 4 Loss 1.8170\n",
      "Epoch 8 Batch 5 Loss 1.8131\n",
      "Epoch 8 Batch 6 Loss 1.8005\n",
      "Epoch 8 Batch 7 Loss 1.7957\n",
      "Epoch 8 Batch 8 Loss 1.7869\n",
      "Epoch 8 Batch 9 Loss 1.7838\n",
      "Epoch 8 Batch 10 Loss 1.7755\n",
      "Epoch 8 Batch 11 Loss 1.7711\n",
      "Epoch 8 Batch 12 Loss 1.7668\n",
      "Epoch 8 Batch 13 Loss 1.7580\n",
      "7000\n",
      "Epoch 8 Loss 0.003608\n",
      "Time taken for 1 epoch 9.875818967819214 sec\n",
      "\n",
      "Epoch 9 Batch 0 Loss 1.7546\n",
      "Epoch 9 Batch 1 Loss 1.7514\n",
      "Epoch 9 Batch 2 Loss 1.7497\n",
      "Epoch 9 Batch 3 Loss 1.7442\n",
      "Epoch 9 Batch 4 Loss 1.7361\n",
      "Epoch 9 Batch 5 Loss 1.7377\n",
      "Epoch 9 Batch 6 Loss 1.7299\n",
      "Epoch 9 Batch 7 Loss 1.7276\n",
      "Epoch 9 Batch 8 Loss 1.7247\n",
      "Epoch 9 Batch 9 Loss 1.7258\n",
      "Epoch 9 Batch 10 Loss 1.7224\n",
      "Epoch 9 Batch 11 Loss 1.7196\n",
      "Epoch 9 Batch 12 Loss 1.7202\n",
      "Epoch 9 Batch 13 Loss 1.7154\n",
      "7000\n",
      "Epoch 9 Loss 0.003466\n",
      "Time taken for 1 epoch 9.98300814628601 sec\n",
      "\n",
      "Epoch 10 Batch 0 Loss 1.7140\n",
      "Epoch 10 Batch 1 Loss 1.7133\n",
      "Epoch 10 Batch 2 Loss 1.7144\n",
      "Epoch 10 Batch 3 Loss 1.7108\n",
      "Epoch 10 Batch 4 Loss 1.7070\n",
      "Epoch 10 Batch 5 Loss 1.7089\n",
      "Epoch 10 Batch 6 Loss 1.7049\n",
      "Epoch 10 Batch 7 Loss 1.7034\n",
      "Epoch 10 Batch 8 Loss 1.7030\n",
      "Epoch 10 Batch 9 Loss 1.7041\n",
      "Epoch 10 Batch 10 Loss 1.7027\n",
      "Epoch 10 Batch 11 Loss 1.7010\n",
      "Epoch 10 Batch 12 Loss 1.7019\n",
      "Epoch 10 Batch 13 Loss 1.6996\n",
      "7000\n",
      "Epoch 10 Loss 0.003413\n",
      "Time taken for 1 epoch 9.93195629119873 sec\n",
      "\n"
     ]
    }
   ],
   "source": [
    "import time\n",
    "EPOCHS = 10\n",
    "\n",
    "for epoch in range(start_epoch, EPOCHS):\n",
    "    start = time.time()\n",
    "    total_loss = 0\n",
    "\n",
    "    for (batch, (img_tensor, target)) in enumerate(image_dataset_encoded):\n",
    "        batch_loss, t_loss = train_step(img_tensor, target)\n",
    "        total_loss += t_loss\n",
    "\n",
    "        if batch % 1 == 0:\n",
    "            print ('Epoch {} Batch {} Loss {:.4f}'.format(\n",
    "                epoch + 1, batch, batch_loss / int(target.shape[1])))\n",
    "    # storing the epoch end loss value to plot later\n",
    "    loss_plot.append(total_loss / num_steps)\n",
    "\n",
    "    if epoch % 5 == 0:\n",
    "        ckpt_manager.save() \n",
    "    print(num_steps)\n",
    "    print ('Epoch {} Loss {:.6f}'.format(epoch + 1,\n",
    "                                         total_loss/num_steps))\n",
    "    print ('Time taken for 1 epoch {} sec\\n'.format(time.time() - start))"
   ]
  },
  {
   "cell_type": "code",
   "execution_count": 245,
   "metadata": {
    "colab": {
     "base_uri": "https://localhost:8080/",
     "height": 295
    },
    "executionInfo": {
     "elapsed": 5485,
     "status": "ok",
     "timestamp": 1605397126122,
     "user": {
      "displayName": "Morgan Allen",
      "photoUrl": "https://lh3.googleusercontent.com/a-/AOh14GjaNMWmr2TlLrY_MBSDquiSqhgTuK8vCNzY4tLH=s64",
      "userId": "12026828979516915336"
     },
     "user_tz": 360
    },
    "id": "lsSx6FGZZh3q",
    "outputId": "94b1a0e7-25ef-4bb5-e1ed-cdd2b0c113eb"
   },
   "outputs": [
    {
     "data": {
      "image/png": "[encoded data removed]",
      "text/plain": [
       "<Figure size 432x288 with 1 Axes>"
      ]
     },
     "metadata": {
      "needs_background": "light"
     },
     "output_type": "display_data"
    }
   ],
   "source": [
    "plt.plot(loss_plot)\n",
    "plt.xlabel('Epochs')\n",
    "plt.ylabel('Loss')\n",
    "plt.title('Loss Plot')\n",
    "plt.show()"
   ]
  },
  {
   "cell_type": "markdown",
   "metadata": {
    "id": "S60WeHNwdPDG"
   },
   "source": [
    "# Evaluate"
   ]
  },
  {
   "cell_type": "code",
   "execution_count": 248,
   "metadata": {
    "id": "31N4XxAYcahR"
   },
   "outputs": [],
   "source": [
    "def evaluate(image):\n",
    "    attention_plot = np.zeros((max_length, attention_features_shape))\n",
    "\n",
    "    hidden = decoder.reset_state(batch_size=1)\n",
    "\n",
    "    temp_input = tf.expand_dims(image, 0)\n",
    "    #print(temp_input)\n",
    "    img_tensor_val = image_features_extract_model(temp_input)\n",
    "    #print(img_tensor_val)\n",
    "    img_tensor_val = tf.reshape(img_tensor_val, (img_tensor_val.shape[0], -1, img_tensor_val.shape[3]))\n",
    "    #print(img_tensor_val)\n",
    "    \n",
    "    features = encoder(img_tensor_val)\n",
    "\n",
    "    dec_input = tf.expand_dims([tokenizer.word_index['\\t']], 0)\n",
    "    result = []\n",
    "\n",
    "    for i in range(max_length):\n",
    "        predictions, hidden = decoder(dec_input, features, hidden)\n",
    "        #attention_plot[i] = tf.reshape(attention_weights, (-1, ))\n",
    "\n",
    "        predicted_id = tf.random.categorical(predictions, 1)[0][0]\n",
    "        predicted_id = int(predicted_id)\n",
    "        result.append(tokenizer.index_word[predicted_id])\n",
    "        #print(tokenizer.index_word[predicted_id])\n",
    "        ind = np.argpartition(predictions, -4)[0][-4:]\n",
    "        #print(f'These are the top choices {\"\".join(tokenizer.index_word[c] for c in ind)}')\n",
    "        #print(f'This are the probabilities {predictions.numpy()[0,ind]}')\n",
    "\n",
    "        if tokenizer.index_word[predicted_id] == '\\n':\n",
    "            return result#, attention_plot\n",
    "\n",
    "        dec_input = tf.expand_dims([predicted_id], 0)\n",
    "\n",
    "    #attention_plot = attention_plot[:len(result), :]\n",
    "    return result#, attention_plot"
   ]
  },
  {
   "cell_type": "code",
   "execution_count": 177,
   "metadata": {
    "id": "CEEvzEL8dmsV"
   },
   "outputs": [],
   "source": [
    "def plot_attention(image, result, attention_plot):\n",
    "    \n",
    "    #-1 goes to zero\n",
    "    temp_image = np.array(image)\n",
    "    temp_image = (temp_image + 1) / 2\n",
    "\n",
    "    fig = plt.figure(figsize=(10, 10))\n",
    "    len_result = len(result)\n",
    "    for l in range(len_result):\n",
    "        temp_att = np.resize(attention_plot[l], (8, 8))\n",
    "        ax = fig.add_subplot(len_result//2, len_result//2, l+1)\n",
    "        ax.set_title(result[l])\n",
    "        img = ax.imshow(temp_image)\n",
    "        ax.imshow(temp_att, cmap='gray', alpha=0.6, extent=img.get_extent())\n",
    "\n",
    "    plt.tight_layout()\n",
    "    plt.show();"
   ]
  },
  {
   "cell_type": "markdown",
   "metadata": {
    "id": "p-GvV9Q9eaJh"
   },
   "source": [
    "Run attention_plot to see what it looks like"
   ]
  },
  {
   "cell_type": "code",
   "execution_count": 249,
   "metadata": {},
   "outputs": [
    {
     "name": "stdout",
     "output_type": "stream",
     "text": [
      "Prediction Caption: k 3 s \n",
      "\n"
     ]
    }
   ],
   "source": [
    "result = evaluate(img_test[0])\n",
    "print ('Prediction Caption:', ' '.join(result))\n",
    "#plot_attention(img_test[0], result, attention_plot)\n",
    "# opening the image"
   ]
  },
  {
   "cell_type": "code",
   "execution_count": 250,
   "metadata": {},
   "outputs": [
    {
     "name": "stdout",
     "output_type": "stream",
     "text": [
      "Prediction Caption: 3 z m p u 2 m k\n"
     ]
    }
   ],
   "source": [
    "result = evaluate(img_test[9])\n",
    "print ('Prediction Caption:', ' '.join(result))\n",
    "#plot_attention(img_test[9], result, attention_plot)\n",
    "# opening the image"
   ]
  },
  {
   "cell_type": "code",
   "execution_count": 251,
   "metadata": {},
   "outputs": [
    {
     "name": "stdout",
     "output_type": "stream",
     "text": [
      "Prediction Caption: 5 a p 0 s 9 g f\n"
     ]
    }
   ],
   "source": [
    "result = evaluate(img_test[5])\n",
    "print ('Prediction Caption:', ' '.join(result))\n",
    "#plot_attention(img_test[5], result, attention_plot)\n",
    "# opening the image"
   ]
  },
  {
   "cell_type": "code",
   "execution_count": 252,
   "metadata": {},
   "outputs": [],
   "source": [
    "def check_results(images, labels, num_imgs=10):\n",
    "    for i in range(0, num_imgs):\n",
    "        result = evaluate(images[i])\n",
    "        print('Prediction Caption:', ' '.join(result))\n",
    "        print(f'Actual Caption: ', labels[i])\n",
    "        #plot_attention(images[i], result, attention_plot)"
   ]
  },
  {
   "cell_type": "code",
   "execution_count": 253,
   "metadata": {},
   "outputs": [
    {
     "name": "stdout",
     "output_type": "stream",
     "text": [
      "Prediction Caption: 0 t v 0 a n \n",
      "\n",
      "Actual Caption:  \t3y+4=2\n",
      "\n",
      "Prediction Caption: 3 p v 9 \t r g 8\n",
      "Actual Caption:  \t8w+9=3\n",
      "\n",
      "Prediction Caption: b 9 c s n c q r\n",
      "Actual Caption:  \t6r+1=9\n",
      "\n",
      "Prediction Caption: b \n",
      "\n",
      "Actual Caption:  \t8r+6=4\n",
      "\n",
      "Prediction Caption: v q h j a n 0 =\n",
      "Actual Caption:  \t6z+0=5\n",
      "\n",
      "Prediction Caption: f k z p 3 3 n i\n",
      "Actual Caption:  \t1x+9=8\n",
      "\n",
      "Prediction Caption: o 3 8 5 u s h +\n",
      "Actual Caption:  \t0k+9=5\n",
      "\n",
      "Prediction Caption: 5 b l v v y j u\n",
      "Actual Caption:  \t5p+1=9\n",
      "\n",
      "Prediction Caption: 6 0 9 = k x m k\n",
      "Actual Caption:  \t2x+7=1\n",
      "\n",
      "Prediction Caption: 7 d e + \n",
      "\n",
      "Actual Caption:  \t1l+3=6\n",
      "\n"
     ]
    }
   ],
   "source": [
    "check_results(img_test, img_test_name)"
   ]
  },
  {
   "cell_type": "code",
   "execution_count": null,
   "metadata": {},
   "outputs": [],
   "source": []
  }
 ],
 "metadata": {
  "accelerator": "GPU",
  "colab": {
   "collapsed_sections": [],
   "name": "Morgan Copy Image Captioning with Attention (Drive).ipynb",
   "provenance": []
  },
  "kernelspec": {
   "display_name": "Python 3",
   "language": "python",
   "name": "python3"
  },
  "language_info": {
   "codemirror_mode": {
    "name": "ipython",
    "version": 3
   },
   "file_extension": ".py",
   "mimetype": "text/x-python",
   "name": "python",
   "nbconvert_exporter": "python",
   "pygments_lexer": "ipython3",
   "version": "3.7.6"
  }
 },
 "nbformat": 4,
 "nbformat_minor": 1
}
