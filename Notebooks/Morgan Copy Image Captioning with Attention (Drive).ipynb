{
 "cells": [
  {
   "cell_type": "markdown",
   "metadata": {
    "id": "8xUzM901Sjpe"
   },
   "source": [
    "# Image Captioning with Attention"
   ]
  },
  {
   "cell_type": "code",
   "execution_count": 2,
   "metadata": {
    "colab": {
     "base_uri": "https://localhost:8080/"
    },
    "executionInfo": {
     "elapsed": 23950,
     "status": "ok",
     "timestamp": 1605553608791,
     "user": {
      "displayName": "Morgan Allen",
      "photoUrl": "https://lh3.googleusercontent.com/a-/AOh14GjaNMWmr2TlLrY_MBSDquiSqhgTuK8vCNzY4tLH=s64",
      "userId": "12026828979516915336"
     },
     "user_tz": 360
    },
    "id": "rMgFop76Sjpf",
    "outputId": "b2cf6200-462f-466c-c514-b99318169097"
   },
   "outputs": [],
   "source": [
    "import tensorflow as tf\n",
    "import numpy as np\n",
    "import pandas as pd\n",
    "from matplotlib import pyplot as plt\n",
    "from PIL import Image\n",
    "\n",
    "from sklearn.linear_model import LogisticRegression\n",
    "from sklearn.metrics import plot_confusion_matrix, confusion_matrix\n",
    "\n",
    "from tensorflow.keras.layers import Dense, Flatten, Conv2D, MaxPooling2D, Dropout, BatchNormalization\n",
    "from tensorflow.keras import Model\n",
    "from tensorflow.keras.models import Sequential\n",
    "from tensorflow.keras import layers\n",
    "from tensorflow import image\n",
    "\n",
    "import itertools\n",
    "\n",
    "tf.random.set_seed(1)\n"
   ]
  },
  {
   "cell_type": "markdown",
   "metadata": {
    "id": "CqP6UkWTSjpj"
   },
   "source": [
    "Loading the Data. The data consist of pictures and labels of linear functions"
   ]
  },
  {
   "cell_type": "code",
   "execution_count": 3,
   "metadata": {
    "executionInfo": {
     "elapsed": 976,
     "status": "ok",
     "timestamp": 1605553609779,
     "user": {
      "displayName": "Morgan Allen",
      "photoUrl": "https://lh3.googleusercontent.com/a-/AOh14GjaNMWmr2TlLrY_MBSDquiSqhgTuK8vCNzY4tLH=s64",
      "userId": "12026828979516915336"
     },
     "user_tz": 360
    },
    "id": "08AiJm9zSjpk"
   },
   "outputs": [],
   "source": [
    "import cv2\n",
    "import os\n",
    "\n",
    "def load_images_from_folder(folder, n_imgs=-1):\n",
    "    images = []\n",
    "    image_nums = []\n",
    "    for filename in os.listdir(folder)[:n_imgs]:\n",
    "        img = cv2.imread(os.path.join(folder,filename))\n",
    "        if img is not None:\n",
    "            images.append(img)\n",
    "            image_nums.append(filename.strip('.png'))\n",
    "    return images, image_nums\n",
    "\n",
    "folder=\"../../linear_fcns/images\""
   ]
  },
  {
   "cell_type": "code",
   "execution_count": 4,
   "metadata": {
    "executionInfo": {
     "elapsed": 45955,
     "status": "ok",
     "timestamp": 1605554061902,
     "user": {
      "displayName": "Morgan Allen",
      "photoUrl": "https://lh3.googleusercontent.com/a-/AOh14GjaNMWmr2TlLrY_MBSDquiSqhgTuK8vCNzY4tLH=s64",
      "userId": "12026828979516915336"
     },
     "user_tz": 360
    },
    "id": "vBBKDvA8Sjpm"
   },
   "outputs": [],
   "source": [
    "images, fnames = load_images_from_folder(folder)"
   ]
  },
  {
   "cell_type": "code",
   "execution_count": 5,
   "metadata": {
    "id": "WYkOrKFFSjpp"
   },
   "outputs": [],
   "source": [
    "labels = pd.read_csv('../../linear_fcns/data.csv')"
   ]
  },
  {
   "cell_type": "code",
   "execution_count": 6,
   "metadata": {
    "id": "JoZjytqMWTiR"
   },
   "outputs": [],
   "source": [
    "labels['img_number'] = labels['filename'].apply(lambda x: x.split('/')[-1].strip('.png'))"
   ]
  },
  {
   "cell_type": "code",
   "execution_count": 7,
   "metadata": {
    "colab": {
     "base_uri": "https://localhost:8080/",
     "height": 204
    },
    "executionInfo": {
     "elapsed": 217,
     "status": "ok",
     "timestamp": 1605395495815,
     "user": {
      "displayName": "Morgan Allen",
      "photoUrl": "https://lh3.googleusercontent.com/a-/AOh14GjaNMWmr2TlLrY_MBSDquiSqhgTuK8vCNzY4tLH=s64",
      "userId": "12026828979516915336"
     },
     "user_tz": 360
    },
    "id": "vC3wCKPxWQaC",
    "outputId": "902efffe-60ca-411b-f507-a329adf0f01a"
   },
   "outputs": [
    {
     "data": {
      "text/html": [
       "<div>\n",
       "<style scoped>\n",
       "    .dataframe tbody tr th:only-of-type {\n",
       "        vertical-align: middle;\n",
       "    }\n",
       "\n",
       "    .dataframe tbody tr th {\n",
       "        vertical-align: top;\n",
       "    }\n",
       "\n",
       "    .dataframe thead th {\n",
       "        text-align: right;\n",
       "    }\n",
       "</style>\n",
       "<table border=\"1\" class=\"dataframe\">\n",
       "  <thead>\n",
       "    <tr style=\"text-align: right;\">\n",
       "      <th></th>\n",
       "      <th>latex</th>\n",
       "      <th>filename</th>\n",
       "      <th>img_number</th>\n",
       "    </tr>\n",
       "  </thead>\n",
       "  <tbody>\n",
       "    <tr>\n",
       "      <th>0</th>\n",
       "      <td>0a+1=2</td>\n",
       "      <td>linear_fcns/images/0.png</td>\n",
       "      <td>0</td>\n",
       "    </tr>\n",
       "    <tr>\n",
       "      <th>1</th>\n",
       "      <td>0b+1=2</td>\n",
       "      <td>linear_fcns/images/1.png</td>\n",
       "      <td>1</td>\n",
       "    </tr>\n",
       "    <tr>\n",
       "      <th>2</th>\n",
       "      <td>0c+1=2</td>\n",
       "      <td>linear_fcns/images/2.png</td>\n",
       "      <td>2</td>\n",
       "    </tr>\n",
       "    <tr>\n",
       "      <th>3</th>\n",
       "      <td>0d+1=2</td>\n",
       "      <td>linear_fcns/images/3.png</td>\n",
       "      <td>3</td>\n",
       "    </tr>\n",
       "    <tr>\n",
       "      <th>4</th>\n",
       "      <td>0e+1=2</td>\n",
       "      <td>linear_fcns/images/4.png</td>\n",
       "      <td>4</td>\n",
       "    </tr>\n",
       "  </tbody>\n",
       "</table>\n",
       "</div>"
      ],
      "text/plain": [
       "    latex                  filename img_number\n",
       "0  0a+1=2  linear_fcns/images/0.png          0\n",
       "1  0b+1=2  linear_fcns/images/1.png          1\n",
       "2  0c+1=2  linear_fcns/images/2.png          2\n",
       "3  0d+1=2  linear_fcns/images/3.png          3\n",
       "4  0e+1=2  linear_fcns/images/4.png          4"
      ]
     },
     "execution_count": 7,
     "metadata": {},
     "output_type": "execute_result"
    }
   ],
   "source": [
    "labels.head()"
   ]
  },
  {
   "cell_type": "code",
   "execution_count": 8,
   "metadata": {
    "id": "DC-tLPESWAy5"
   },
   "outputs": [],
   "source": [
    "label_array = labels[labels['img_number'].isin(fnames)]['latex'].values"
   ]
  },
  {
   "cell_type": "code",
   "execution_count": 9,
   "metadata": {
    "colab": {
     "base_uri": "https://localhost:8080/"
    },
    "executionInfo": {
     "elapsed": 202,
     "status": "ok",
     "timestamp": 1605395498172,
     "user": {
      "displayName": "Morgan Allen",
      "photoUrl": "https://lh3.googleusercontent.com/a-/AOh14GjaNMWmr2TlLrY_MBSDquiSqhgTuK8vCNzY4tLH=s64",
      "userId": "12026828979516915336"
     },
     "user_tz": 360
    },
    "id": "UBW7zYvSXC-m",
    "outputId": "b24000a7-1008-4eb5-ab5f-34d9a3ca1569"
   },
   "outputs": [
    {
     "data": {
      "text/plain": [
       "array(['0a+1=2', '0b+1=2', '0c+1=2', ..., '9x+8=7', '9y+8=7', '9z+8=7'],\n",
       "      dtype=object)"
      ]
     },
     "execution_count": 9,
     "metadata": {},
     "output_type": "execute_result"
    }
   ],
   "source": [
    "label_array"
   ]
  },
  {
   "cell_type": "markdown",
   "metadata": {
    "id": "zXR3M4QBSjpv"
   },
   "source": [
    "For the labels we need to add start and end tokens so the model can recognize what to write."
   ]
  },
  {
   "cell_type": "code",
   "execution_count": 10,
   "metadata": {
    "id": "NEzxzBX8Sjpv"
   },
   "outputs": [],
   "source": [
    "label_array = [f'\\t{la}\\n' for la in label_array]"
   ]
  },
  {
   "cell_type": "markdown",
   "metadata": {
    "id": "HHztSmQ_Sjpy"
   },
   "source": [
    "Let's reshape the images so we can plot them."
   ]
  },
  {
   "cell_type": "code",
   "execution_count": 11,
   "metadata": {
    "colab": {
     "base_uri": "https://localhost:8080/"
    },
    "executionInfo": {
     "elapsed": 244,
     "status": "ok",
     "timestamp": 1605395503599,
     "user": {
      "displayName": "Morgan Allen",
      "photoUrl": "https://lh3.googleusercontent.com/a-/AOh14GjaNMWmr2TlLrY_MBSDquiSqhgTuK8vCNzY4tLH=s64",
      "userId": "12026828979516915336"
     },
     "user_tz": 360
    },
    "id": "9XdF3xaGSjpy",
    "outputId": "9b633ce9-2750-4b1c-e926-9f2b75a9d58f"
   },
   "outputs": [
    {
     "data": {
      "text/plain": [
       "(18719, 72, 360, 3)"
      ]
     },
     "execution_count": 11,
     "metadata": {},
     "output_type": "execute_result"
    }
   ],
   "source": [
    "images = np.array(images)\n",
    "images = 255 - images\n",
    "# images = tf.image.rgb_to_grayscale(images)\n",
    "images = np.array(images)\n",
    "images.shape"
   ]
  },
  {
   "cell_type": "code",
   "execution_count": 12,
   "metadata": {
    "colab": {
     "base_uri": "https://localhost:8080/",
     "height": 135
    },
    "executionInfo": {
     "elapsed": 318,
     "status": "ok",
     "timestamp": 1605395504243,
     "user": {
      "displayName": "Morgan Allen",
      "photoUrl": "https://lh3.googleusercontent.com/a-/AOh14GjaNMWmr2TlLrY_MBSDquiSqhgTuK8vCNzY4tLH=s64",
      "userId": "12026828979516915336"
     },
     "user_tz": 360
    },
    "id": "bHBLN_NNSjp1",
    "outputId": "2ca0ea3a-90d8-40db-816c-59860d93059a"
   },
   "outputs": [
    {
     "data": {
      "text/plain": [
       "<matplotlib.image.AxesImage at 0x7ffcba005f10>"
      ]
     },
     "execution_count": 12,
     "metadata": {},
     "output_type": "execute_result"
    },
    {
     "data": {
      "image/png": "[encoded data removed]",
      "text/plain": [
       "<Figure size 432x288 with 1 Axes>"
      ]
     },
     "metadata": {
      "needs_background": "light"
     },
     "output_type": "display_data"
    }
   ],
   "source": [
    "plt.imshow(images[0].squeeze())"
   ]
  },
  {
   "cell_type": "markdown",
   "metadata": {
    "id": "fQYvxF90Sjp3"
   },
   "source": [
    "Now we can process them and prepare them for inceptionv3 which is transfer learning"
   ]
  },
  {
   "cell_type": "code",
   "execution_count": 13,
   "metadata": {
    "id": "pE87-f9ESjp4"
   },
   "outputs": [],
   "source": [
    "img_mini = tf.image.resize_with_pad(images, 299, 299)\n",
    "img_mini = tf.keras.applications.inception_v3.preprocess_input(img_mini)"
   ]
  },
  {
   "cell_type": "code",
   "execution_count": 14,
   "metadata": {
    "id": "hhGFXB4cfoQP"
   },
   "outputs": [],
   "source": [
    "test_img = img_mini[2222]"
   ]
  },
  {
   "cell_type": "markdown",
   "metadata": {
    "id": "s-8n1FtqSjp8"
   },
   "source": [
    "Now we can load the features of the inceptionv3 model as seen below."
   ]
  },
  {
   "cell_type": "code",
   "execution_count": 15,
   "metadata": {
    "colab": {
     "base_uri": "https://localhost:8080/",
     "height": 303
    },
    "executionInfo": {
     "elapsed": 305,
     "status": "ok",
     "timestamp": 1605395508912,
     "user": {
      "displayName": "Morgan Allen",
      "photoUrl": "https://lh3.googleusercontent.com/a-/AOh14GjaNMWmr2TlLrY_MBSDquiSqhgTuK8vCNzY4tLH=s64",
      "userId": "12026828979516915336"
     },
     "user_tz": 360
    },
    "id": "8uSNNnvdSjp6",
    "outputId": "c123a164-46bf-4b86-9368-f105029f9f0e"
   },
   "outputs": [
    {
     "name": "stderr",
     "output_type": "stream",
     "text": [
      "Clipping input data to the valid range for imshow with RGB data ([0..1] for floats or [0..255] for integers).\n"
     ]
    },
    {
     "data": {
      "text/plain": [
       "<matplotlib.image.AxesImage at 0x7ffc8bda33d0>"
      ]
     },
     "execution_count": 15,
     "metadata": {},
     "output_type": "execute_result"
    },
    {
     "data": {
      "image/png": "[encoded data removed]",
      "text/plain": [
       "<Figure size 432x288 with 1 Axes>"
      ]
     },
     "metadata": {
      "needs_background": "light"
     },
     "output_type": "display_data"
    }
   ],
   "source": [
    "plt.imshow(tf.squeeze(img_mini[0]))"
   ]
  },
  {
   "cell_type": "code",
   "execution_count": 16,
   "metadata": {
    "id": "hgB8p8KZSjp8"
   },
   "outputs": [],
   "source": [
    "image_model = tf.keras.applications.InceptionV3(include_top=False,\n",
    "                                                weights='imagenet')\n",
    "new_input = image_model.input\n",
    "hidden_layer = image_model.layers[-1].output\n",
    "\n",
    "image_features_extract_model = tf.keras.Model(new_input, hidden_layer)"
   ]
  },
  {
   "cell_type": "code",
   "execution_count": 17,
   "metadata": {
    "id": "llWCIcu3Sjp_"
   },
   "outputs": [
    {
     "name": "stdout",
     "output_type": "stream",
     "text": [
      "50.72460103034973\n",
      "51.30096983909607\n",
      "0.5763688087463379\n",
      "32.94227910041809\n",
      "33.442338943481445\n",
      "0.5000598430633545\n",
      "31.193147897720337\n",
      "31.715389013290405\n",
      "0.5222411155700684\n",
      "31.30634117126465\n",
      "31.833388090133667\n",
      "0.5270469188690186\n",
      "33.8474280834198\n",
      "34.46813416481018\n",
      "0.6207060813903809\n",
      "38.175379276275635\n",
      "38.81036639213562\n",
      "0.6349871158599854\n",
      "54.89798927307129\n",
      "55.9008252620697\n",
      "1.002835988998413\n",
      "43.53984880447388\n",
      "44.42450976371765\n",
      "0.8846609592437744\n",
      "44.18565392494202\n",
      "44.76571202278137\n",
      "0.5800580978393555\n",
      "43.511730909347534\n",
      "44.17490100860596\n",
      "0.6631700992584229\n",
      "42.181363105773926\n",
      "42.75337815284729\n",
      "0.5720150470733643\n",
      "42.62173080444336\n",
      "43.15097713470459\n",
      "0.5292463302612305\n",
      "38.34805417060852\n",
      "38.88285827636719\n",
      "0.534804105758667\n",
      "38.540546894073486\n",
      "39.252058029174805\n",
      "0.7115111351013184\n",
      "38.34740090370178\n",
      "38.91440987586975\n",
      "0.5670089721679688\n",
      "42.16173696517944\n",
      "42.710243225097656\n",
      "0.5485062599182129\n",
      "39.796581983566284\n",
      "40.31315207481384\n",
      "0.5165700912475586\n",
      "42.389888048172\n",
      "42.93109083175659\n",
      "0.5412027835845947\n",
      "42.173336029052734\n",
      "42.792792081832886\n",
      "0.6194560527801514\n",
      "42.26581621170044\n",
      "42.819987058639526\n",
      "0.5541708469390869\n",
      "40.189704179763794\n",
      "40.73347020149231\n",
      "0.5437660217285156\n",
      "38.42650389671326\n",
      "38.94666600227356\n",
      "0.5201621055603027\n",
      "42.64317798614502\n",
      "43.21207118034363\n",
      "0.5688931941986084\n",
      "38.39243292808533\n",
      "38.926363945007324\n",
      "0.5339310169219971\n",
      "37.51536011695862\n",
      "38.04795813560486\n",
      "0.5325980186462402\n",
      "39.159934997558594\n",
      "39.76122999191284\n",
      "0.601294994354248\n",
      "43.66971516609192\n",
      "44.21692514419556\n",
      "0.5472099781036377\n",
      "38.02654194831848\n",
      "38.56500220298767\n",
      "0.5384602546691895\n",
      "38.68402695655823\n",
      "39.22279715538025\n",
      "0.5387701988220215\n",
      "38.05313730239868\n",
      "38.59943914413452\n",
      "0.5463018417358398\n",
      "38.49421787261963\n",
      "39.03471374511719\n",
      "0.5404958724975586\n",
      "41.33461022377014\n",
      "41.87031698226929\n",
      "0.5357067584991455\n",
      "38.411322832107544\n",
      "39.03279900550842\n",
      "0.6214761734008789\n",
      "40.692949056625366\n",
      "41.2526478767395\n",
      "0.5596988201141357\n",
      "39.87389397621155\n",
      "40.38111090660095\n",
      "0.5072169303894043\n",
      "37.86826181411743\n",
      "38.381964921951294\n",
      "0.5137031078338623\n",
      "40.260982036590576\n",
      "40.80486488342285\n",
      "0.5438828468322754\n",
      "38.486233949661255\n",
      "39.039307832717896\n",
      "0.5530738830566406\n",
      "33.8907573223114\n",
      "34.40262413024902\n",
      "0.5118668079376221\n",
      "32.03303098678589\n",
      "32.531002044677734\n",
      "0.4979710578918457\n",
      "31.394626140594482\n",
      "31.93024206161499\n",
      "0.5356159210205078\n",
      "30.55158495903015\n",
      "31.067726850509644\n",
      "0.5161418914794922\n",
      "30.801984786987305\n",
      "31.310775756835938\n",
      "0.5087909698486328\n",
      "33.539408922195435\n",
      "34.08480620384216\n",
      "0.5453972816467285\n",
      "30.4238178730011\n",
      "30.947799682617188\n",
      "0.5239818096160889\n",
      "30.465848922729492\n",
      "30.97019386291504\n",
      "0.5043449401855469\n",
      "30.47678017616272\n",
      "30.995747089385986\n",
      "0.5189669132232666\n",
      "32.3837788105011\n",
      "32.88824677467346\n",
      "0.5044679641723633\n",
      "34.8406879901886\n",
      "35.332541942596436\n",
      "0.4918539524078369\n",
      "30.558008670806885\n",
      "31.118355989456177\n",
      "0.560347318649292\n",
      "36.733936071395874\n",
      "37.25297403335571\n",
      "0.5190379619598389\n",
      "32.580533027648926\n",
      "33.26589608192444\n",
      "0.6853630542755127\n",
      "31.04195785522461\n",
      "31.538779973983765\n",
      "0.4968221187591553\n",
      "30.496663093566895\n",
      "31.025241136550903\n",
      "0.5285780429840088\n",
      "30.264518976211548\n",
      "30.802987098693848\n",
      "0.5384681224822998\n",
      "31.681462049484253\n",
      "32.19476509094238\n",
      "0.5133030414581299\n",
      "31.70973014831543\n",
      "32.23714828491211\n",
      "0.5274181365966797\n",
      "31.104784965515137\n",
      "31.63972783088684\n",
      "0.5349428653717041\n",
      "32.95052909851074\n",
      "33.48035502433777\n",
      "0.5298259258270264\n",
      "31.02581286430359\n",
      "31.56083106994629\n",
      "0.5350182056427002\n",
      "32.08358192443848\n",
      "32.62060213088989\n",
      "0.537020206451416\n",
      "31.378220081329346\n",
      "31.911638975143433\n",
      "0.5334188938140869\n",
      "11.294892072677612\n",
      "11.511332988739014\n",
      "0.21644091606140137\n"
     ]
    }
   ],
   "source": [
    "import time\n",
    "\n",
    "\n",
    "\n",
    "# Feel free to change batch_size according to your system configuration\n",
    "image_dataset = tf.data.Dataset.from_tensor_slices((img_mini, label_array)).batch(300)\n",
    "c = 1\n",
    "\n",
    "for img, label in image_dataset:\n",
    "    start = time.time()\n",
    "    batch_features = image_features_extract_model(img)\n",
    "    batch_features = tf.reshape(batch_features,\n",
    "                              (batch_features.shape[0], -1, batch_features.shape[3]))\n",
    "  \n",
    "    p = f'Batch Features/batch_features{c}'\n",
    "    c = c+1 \n",
    "     #path_of_feature = p.numpy().decode(\"utf-8\")\n",
    "    end_process = time.time()\n",
    "    np.save(p, batch_features)\n",
    "    end_save = time.time()\n",
    "    print(end_process - start)\n",
    "    print(end_save - start)\n",
    "    print(end_save-end_process)"
   ]
  },
  {
   "cell_type": "code",
   "execution_count": 17,
   "metadata": {
    "id": "iKq5_-oTP22q"
   },
   "outputs": [],
   "source": [
    "img_load = np.load('Batch Features/batch_features1.npy')\n",
    "for i in range(2,61):\n",
    "    img_add = np.load(f'Batch Features/batch_features{i}.npy')\n",
    "    img_load = np.concatenate((img_load, img_add))"
   ]
  },
  {
   "cell_type": "code",
   "execution_count": 18,
   "metadata": {
    "colab": {
     "base_uri": "https://localhost:8080/"
    },
    "executionInfo": {
     "elapsed": 273,
     "status": "ok",
     "timestamp": 1605396800358,
     "user": {
      "displayName": "Morgan Allen",
      "photoUrl": "https://lh3.googleusercontent.com/a-/AOh14GjaNMWmr2TlLrY_MBSDquiSqhgTuK8vCNzY4tLH=s64",
      "userId": "12026828979516915336"
     },
     "user_tz": 360
    },
    "id": "js8_OsgYQLM3",
    "outputId": "cda0393f-c083-4bfd-96f5-e5e67e122071"
   },
   "outputs": [
    {
     "data": {
      "text/plain": [
       "(18000, 64, 2048)"
      ]
     },
     "execution_count": 18,
     "metadata": {},
     "output_type": "execute_result"
    }
   ],
   "source": [
    "img_load.shape"
   ]
  },
  {
   "cell_type": "markdown",
   "metadata": {
    "id": "dywlI7LUSjqC"
   },
   "source": [
    "### Tokenizing the labels\n",
    "\n",
    "Now we can pad the labels to make sure they are all the same length."
   ]
  },
  {
   "cell_type": "code",
   "execution_count": 19,
   "metadata": {
    "id": "xPgRuUgBbnPJ"
   },
   "outputs": [],
   "source": [
    "# Find the maximum length of any caption in our dataset\n",
    "def calc_max_length(tensor):\n",
    "    return max(len(t) for t in tensor)"
   ]
  },
  {
   "cell_type": "code",
   "execution_count": 20,
   "metadata": {
    "id": "Gipm5btLaNTb"
   },
   "outputs": [],
   "source": [
    "# Choose the top 5000 words from the vocabulary\n",
    "top_k = 5000\n",
    "tokenizer = tf.keras.preprocessing.text.Tokenizer(num_words=top_k,\n",
    "                                                  oov_token=\"<unk>\",\n",
    "                                                  filters=' ',\n",
    "                                                  char_level=True)\n",
    "tokenizer.fit_on_texts(label_array)\n",
    "train_seqs = tokenizer.texts_to_sequences(label_array)\n",
    "\n",
    "# Padding\n",
    "tokenizer.word_index['<pad>'] = 0\n",
    "tokenizer.index_word[0] = '<pad>'\n",
    "\n",
    "# Create the tokenized vectors\n",
    "train_seqs = tokenizer.texts_to_sequences(label_array)\n",
    "\n",
    "# Pad each vector to the max_length of the captions\n",
    "# If you do not provide a max_length value, pad_sequences calculates it automatically\n",
    "cap_vector = tf.keras.preprocessing.sequence.pad_sequences(train_seqs, padding='post')\n",
    "\n",
    "# Calculates the max_length, which is used to store the attention weights\n",
    "max_length = calc_max_length(train_seqs)"
   ]
  },
  {
   "cell_type": "code",
   "execution_count": 21,
   "metadata": {
    "colab": {
     "base_uri": "https://localhost:8080/"
    },
    "executionInfo": {
     "elapsed": 203,
     "status": "ok",
     "timestamp": 1605396804461,
     "user": {
      "displayName": "Morgan Allen",
      "photoUrl": "https://lh3.googleusercontent.com/a-/AOh14GjaNMWmr2TlLrY_MBSDquiSqhgTuK8vCNzY4tLH=s64",
      "userId": "12026828979516915336"
     },
     "user_tz": 360
    },
    "id": "YfFg62gAcaL9",
    "outputId": "2f57f655-d469-4ca3-c192-68bd3b2e5087"
   },
   "outputs": [
    {
     "data": {
      "text/plain": [
       "{'num_words': 5000,\n",
       " 'filters': ' ',\n",
       " 'lower': True,\n",
       " 'split': ' ',\n",
       " 'char_level': True,\n",
       " 'oov_token': '<unk>',\n",
       " 'document_count': 18719,\n",
       " 'word_counts': '{\"\\\\t\": 18719, \"0\": 5615, \"a\": 720, \"+\": 18719, \"1\": 5616, \"=\": 18719, \"2\": 5616, \"\\\\n\": 18719, \"b\": 720, \"c\": 719, \"d\": 720, \"e\": 720, \"f\": 720, \"g\": 720, \"h\": 720, \"i\": 720, \"j\": 720, \"k\": 720, \"l\": 720, \"m\": 720, \"n\": 720, \"o\": 720, \"p\": 720, \"q\": 720, \"r\": 720, \"s\": 720, \"t\": 720, \"u\": 720, \"v\": 720, \"w\": 720, \"x\": 720, \"y\": 720, \"z\": 720, \"3\": 5616, \"4\": 5615, \"5\": 5616, \"6\": 5616, \"7\": 5616, \"8\": 5616, \"9\": 5615}',\n",
       " 'word_docs': '{\"2\": 5616, \"\\\\n\": 18719, \"=\": 18719, \"+\": 18719, \"a\": 720, \"1\": 5616, \"0\": 5615, \"\\\\t\": 18719, \"b\": 720, \"c\": 719, \"d\": 720, \"e\": 720, \"f\": 720, \"g\": 720, \"h\": 720, \"i\": 720, \"j\": 720, \"k\": 720, \"l\": 720, \"m\": 720, \"n\": 720, \"o\": 720, \"p\": 720, \"q\": 720, \"r\": 720, \"s\": 720, \"t\": 720, \"u\": 720, \"v\": 720, \"w\": 720, \"x\": 720, \"y\": 720, \"z\": 720, \"3\": 5616, \"4\": 5615, \"5\": 5616, \"6\": 5616, \"7\": 5616, \"8\": 5616, \"9\": 5615}',\n",
       " 'index_docs': '{\"7\": 5616, \"5\": 18719, \"4\": 18719, \"3\": 18719, \"16\": 720, \"6\": 5616, \"13\": 5615, \"2\": 18719, \"17\": 720, \"41\": 719, \"18\": 720, \"19\": 720, \"20\": 720, \"21\": 720, \"22\": 720, \"23\": 720, \"24\": 720, \"25\": 720, \"26\": 720, \"27\": 720, \"28\": 720, \"29\": 720, \"30\": 720, \"31\": 720, \"32\": 720, \"33\": 720, \"34\": 720, \"35\": 720, \"36\": 720, \"37\": 720, \"38\": 720, \"39\": 720, \"40\": 720, \"8\": 5616, \"14\": 5615, \"9\": 5616, \"10\": 5616, \"11\": 5616, \"12\": 5616, \"15\": 5615}',\n",
       " 'index_word': '{\"1\": \"<unk>\", \"2\": \"\\\\t\", \"3\": \"+\", \"4\": \"=\", \"5\": \"\\\\n\", \"6\": \"1\", \"7\": \"2\", \"8\": \"3\", \"9\": \"5\", \"10\": \"6\", \"11\": \"7\", \"12\": \"8\", \"13\": \"0\", \"14\": \"4\", \"15\": \"9\", \"16\": \"a\", \"17\": \"b\", \"18\": \"d\", \"19\": \"e\", \"20\": \"f\", \"21\": \"g\", \"22\": \"h\", \"23\": \"i\", \"24\": \"j\", \"25\": \"k\", \"26\": \"l\", \"27\": \"m\", \"28\": \"n\", \"29\": \"o\", \"30\": \"p\", \"31\": \"q\", \"32\": \"r\", \"33\": \"s\", \"34\": \"t\", \"35\": \"u\", \"36\": \"v\", \"37\": \"w\", \"38\": \"x\", \"39\": \"y\", \"40\": \"z\", \"41\": \"c\", \"0\": \"<pad>\"}',\n",
       " 'word_index': '{\"<unk>\": 1, \"\\\\t\": 2, \"+\": 3, \"=\": 4, \"\\\\n\": 5, \"1\": 6, \"2\": 7, \"3\": 8, \"5\": 9, \"6\": 10, \"7\": 11, \"8\": 12, \"0\": 13, \"4\": 14, \"9\": 15, \"a\": 16, \"b\": 17, \"d\": 18, \"e\": 19, \"f\": 20, \"g\": 21, \"h\": 22, \"i\": 23, \"j\": 24, \"k\": 25, \"l\": 26, \"m\": 27, \"n\": 28, \"o\": 29, \"p\": 30, \"q\": 31, \"r\": 32, \"s\": 33, \"t\": 34, \"u\": 35, \"v\": 36, \"w\": 37, \"x\": 38, \"y\": 39, \"z\": 40, \"c\": 41, \"<pad>\": 0}'}"
      ]
     },
     "execution_count": 21,
     "metadata": {},
     "output_type": "execute_result"
    }
   ],
   "source": [
    "tokenizer.get_config()"
   ]
  },
  {
   "cell_type": "code",
   "execution_count": 22,
   "metadata": {
    "colab": {
     "base_uri": "https://localhost:8080/"
    },
    "executionInfo": {
     "elapsed": 261,
     "status": "ok",
     "timestamp": 1605396805750,
     "user": {
      "displayName": "Morgan Allen",
      "photoUrl": "https://lh3.googleusercontent.com/a-/AOh14GjaNMWmr2TlLrY_MBSDquiSqhgTuK8vCNzY4tLH=s64",
      "userId": "12026828979516915336"
     },
     "user_tz": 360
    },
    "id": "GhqB3K30dMEo",
    "outputId": "aa4eee8d-77a9-4033-c9e3-2fea59b698fa"
   },
   "outputs": [
    {
     "data": {
      "text/plain": [
       "8"
      ]
     },
     "execution_count": 22,
     "metadata": {},
     "output_type": "execute_result"
    }
   ],
   "source": [
    "max_length"
   ]
  },
  {
   "cell_type": "code",
   "execution_count": 23,
   "metadata": {
    "colab": {
     "base_uri": "https://localhost:8080/"
    },
    "executionInfo": {
     "elapsed": 417,
     "status": "ok",
     "timestamp": 1605396806687,
     "user": {
      "displayName": "Morgan Allen",
      "photoUrl": "https://lh3.googleusercontent.com/a-/AOh14GjaNMWmr2TlLrY_MBSDquiSqhgTuK8vCNzY4tLH=s64",
      "userId": "12026828979516915336"
     },
     "user_tz": 360
    },
    "id": "QKIAGkIIb5ty",
    "outputId": "ddfd8187-4314-40ca-f60f-abd639d21457"
   },
   "outputs": [
    {
     "name": "stdout",
     "output_type": "stream",
     "text": [
      "\t0a+1=2\n",
      " -> [2, 13, 16, 3, 6, 4, 7, 5]\n"
     ]
    }
   ],
   "source": [
    "print(f'{label_array[0]} -> {train_seqs[0]}')"
   ]
  },
  {
   "cell_type": "code",
   "execution_count": 24,
   "metadata": {
    "colab": {
     "base_uri": "https://localhost:8080/"
    },
    "executionInfo": {
     "elapsed": 177,
     "status": "ok",
     "timestamp": 1605396807076,
     "user": {
      "displayName": "Morgan Allen",
      "photoUrl": "https://lh3.googleusercontent.com/a-/AOh14GjaNMWmr2TlLrY_MBSDquiSqhgTuK8vCNzY4tLH=s64",
      "userId": "12026828979516915336"
     },
     "user_tz": 360
    },
    "id": "wWBs6Njidhy4",
    "outputId": "c72990bc-4ddb-4444-ecfe-89622e4d5e17"
   },
   "outputs": [
    {
     "data": {
      "text/plain": [
       "[2, 13, 16, 3, 6, 4, 7, 5]"
      ]
     },
     "execution_count": 24,
     "metadata": {},
     "output_type": "execute_result"
    }
   ],
   "source": [
    "import json\n",
    "\n",
    "char_to_int_map = tokenizer.get_config()['word_index']\n",
    "char_to_int_map = json.loads(char_to_int_map)\n",
    "[char_to_int_map[c] for c in label_array[0]]"
   ]
  },
  {
   "cell_type": "markdown",
   "metadata": {
    "id": "B_UEKfswSjqQ"
   },
   "source": [
    "### Train Test Split\n",
    "\n",
    "This kind of makes a train test split but I don't think it is exactly what we want."
   ]
  },
  {
   "cell_type": "markdown",
   "metadata": {
    "id": "5U9-UPeDSjqS"
   },
   "source": [
    "For the model"
   ]
  },
  {
   "cell_type": "code",
   "execution_count": 25,
   "metadata": {
    "id": "5lwnj-e6ebxE"
   },
   "outputs": [],
   "source": [
    "img_train = img_mini[:14000]\n",
    "img_test = img_mini[14000:]\n",
    "img_name = cap_vector[:14000]\n",
    "img_name_test = cap_vector[14000:]"
   ]
  },
  {
   "cell_type": "code",
   "execution_count": 26,
   "metadata": {
    "colab": {
     "base_uri": "https://localhost:8080/"
    },
    "executionInfo": {
     "elapsed": 199,
     "status": "ok",
     "timestamp": 1605396811202,
     "user": {
      "displayName": "Morgan Allen",
      "photoUrl": "https://lh3.googleusercontent.com/a-/AOh14GjaNMWmr2TlLrY_MBSDquiSqhgTuK8vCNzY4tLH=s64",
      "userId": "12026828979516915336"
     },
     "user_tz": 360
    },
    "id": "PE0q0nk2N02f",
    "outputId": "53af654d-e8a7-43ea-e221-61ba5f534dd8"
   },
   "outputs": [
    {
     "data": {
      "text/plain": [
       "TensorShape([14000, 299, 299, 3])"
      ]
     },
     "execution_count": 26,
     "metadata": {},
     "output_type": "execute_result"
    }
   ],
   "source": [
    "img_train.shape"
   ]
  },
  {
   "cell_type": "code",
   "execution_count": 27,
   "metadata": {
    "id": "dmak8HTlSjqT"
   },
   "outputs": [],
   "source": [
    "# Feel free to change these parameters according to your system's configuration\n",
    "\n",
    "BATCH_SIZE = 1\n",
    "BUFFER_SIZE = 20\n",
    "embedding_dim = 16\n",
    "units = 32\n",
    "vocab_size = top_k + 1\n",
    "num_steps = len(img_train) // BATCH_SIZE\n",
    "# Shape of the vector extracted from InceptionV3 is (64, 2048)\n",
    "# These two variables represent that vector shape\n",
    "features_shape = 2048\n",
    "attention_features_shape = 64"
   ]
  },
  {
   "cell_type": "markdown",
   "metadata": {
    "id": "G8xkSSS7Sjqb"
   },
   "source": [
    "## Model\n",
    "\n",
    "Below we are defining the attention, the encoder and the decoder. The encoder is just a fully connected layer from the features already extracted."
   ]
  },
  {
   "cell_type": "code",
   "execution_count": 28,
   "metadata": {
    "id": "f7L_cEJzSjqc"
   },
   "outputs": [],
   "source": [
    "class BahdanauAttention(tf.keras.Model):\n",
    "    def __init__(self, units):\n",
    "        super(BahdanauAttention, self).__init__()\n",
    "        self.W1 = tf.keras.layers.Dense(units)\n",
    "        self.W2 = tf.keras.layers.Dense(units)\n",
    "        self.V = tf.keras.layers.Dense(1)\n",
    "\n",
    "    def call(self, features, hidden):\n",
    "        # features(CNN_encoder output) shape == (batch_size, 64, embedding_dim)\n",
    "\n",
    "        # hidden shape == (batch_size, hidden_size)\n",
    "        # hidden_with_time_axis shape == (batch_size, 1, hidden_size)\n",
    "        hidden_with_time_axis = tf.expand_dims(hidden, 1)\n",
    "\n",
    "        # attention_hidden_layer shape == (batch_size, 64, units)\n",
    "        attention_hidden_layer = (tf.nn.tanh(self.W1(features) +\n",
    "                                             self.W2(hidden_with_time_axis)))\n",
    "\n",
    "        # score shape == (batch_size, 64, 1)\n",
    "        # This gives you an unnormalized score for each image feature.\n",
    "        score = self.V(attention_hidden_layer)\n",
    "\n",
    "        # attention_weights shape == (batch_size, 64, 1)\n",
    "        attention_weights = tf.nn.softmax(score, axis=1)\n",
    "\n",
    "        # context_vector shape after sum == (batch_size, hidden_size)\n",
    "        context_vector = attention_weights * features\n",
    "        context_vector = tf.reduce_sum(context_vector, axis=1)\n",
    "\n",
    "        return context_vector, attention_weights"
   ]
  },
  {
   "cell_type": "code",
   "execution_count": 29,
   "metadata": {
    "id": "Eij3DZsYSjqe"
   },
   "outputs": [],
   "source": [
    "class CNN_Encoder(tf.keras.Model):\n",
    "    # Since you have already extracted the features and dumped it using pickle\n",
    "    # This encoder passes those features through a Fully connected layer\n",
    "    def __init__(self, embedding_dim):\n",
    "        super(CNN_Encoder, self).__init__()\n",
    "        # shape after fc == (batch_size, 64, embedding_dim)\n",
    "        self.fc = tf.keras.layers.Dense(embedding_dim)\n",
    "\n",
    "    def call(self, x):\n",
    "        x = self.fc(x)\n",
    "        #print(f'This is x: {x}')\n",
    "        x = tf.nn.relu(x)\n",
    "        #print(f'This is x: {x}')\n",
    "        return x"
   ]
  },
  {
   "cell_type": "code",
   "execution_count": 30,
   "metadata": {
    "id": "dLl75ZtPSjqh"
   },
   "outputs": [],
   "source": [
    "class RNN_Decoder(tf.keras.Model):\n",
    "    def __init__(self, embedding_dim, units, vocab_size):\n",
    "        super(RNN_Decoder, self).__init__()\n",
    "        self.units = units\n",
    "\n",
    "        self.embedding = tf.keras.layers.Embedding(vocab_size, embedding_dim)\n",
    "        self.gru = tf.keras.layers.GRU(self.units,\n",
    "                                       return_sequences=True,\n",
    "                                       return_state=True,\n",
    "                                       recurrent_initializer='glorot_uniform')\n",
    "        self.fc1 = tf.keras.layers.Dense(self.units)\n",
    "        self.fc2 = tf.keras.layers.Dense(vocab_size)\n",
    "\n",
    "        self.attention = BahdanauAttention(self.units)\n",
    "\n",
    "    def call(self, x, features, hidden):\n",
    "        # defining attention as a separate model\n",
    "        context_vector, attention_weights = self.attention(features, hidden)\n",
    "        #print('decoder attention complete')\n",
    "        #print(x.shape)\n",
    "\n",
    "        # x shape after passing through embedding == (batch_size, 1, embedding_dim)\n",
    "        x = self.embedding(x)\n",
    "        #print('decoder embedding complete')\n",
    "        #print(f'x.shape = {x.shape}')\n",
    "        #print(f'context_vector.shape = {context_vector.shape}')\n",
    "\n",
    "        # x shape after concatenation == (batch_size, 1, embedding_dim + hidden_size)\n",
    "        x = tf.concat([tf.expand_dims(context_vector, 1), x], axis=-1)\n",
    "        #print('decoder embedding + context vector complete')\n",
    "\n",
    "        # passing the concatenated vector to the GRU\n",
    "        output, state = self.gru(x)\n",
    "        #print('decoder gru complete')\n",
    "\n",
    "        # shape == (batch_size, max_length, hidden_size)\n",
    "        x = self.fc1(output)\n",
    "        #print('decoder fc1 complete')\n",
    "\n",
    "        # x shape == (batch_size * max_length, hidden_size)\n",
    "        x = tf.reshape(x, (-1, x.shape[2]))\n",
    "        #print('decoder reshape complete')\n",
    "\n",
    "        # output shape == (batch_size * max_length, vocab)\n",
    "        x = self.fc2(x)\n",
    "        #print('decoder fc2 complete')\n",
    "\n",
    "        return x, state, attention_weights\n",
    "\n",
    "    def reset_state(self, batch_size):\n",
    "        return tf.zeros((batch_size, self.units))"
   ]
  },
  {
   "cell_type": "code",
   "execution_count": 31,
   "metadata": {
    "id": "quKzY4IeSjqj"
   },
   "outputs": [],
   "source": [
    "encoder = CNN_Encoder(embedding_dim)\n",
    "decoder = RNN_Decoder(embedding_dim, units, vocab_size)"
   ]
  },
  {
   "cell_type": "code",
   "execution_count": 32,
   "metadata": {
    "id": "kI5g_iYrSjql"
   },
   "outputs": [],
   "source": [
    "optimizer = tf.keras.optimizers.Adam()\n",
    "loss_object = tf.keras.losses.SparseCategoricalCrossentropy(\n",
    "    from_logits=True, reduction='none')\n",
    "\n",
    "def loss_function(real, pred):\n",
    "    mask = tf.math.logical_not(tf.math.equal(real, 0))\n",
    "    loss_ = loss_object(real, pred)\n",
    "\n",
    "    mask = tf.cast(mask, dtype=loss_.dtype)\n",
    "    loss_ *= mask\n",
    "\n",
    "    return tf.reduce_mean(loss_)"
   ]
  },
  {
   "cell_type": "code",
   "execution_count": 33,
   "metadata": {
    "id": "MASAvbV3Sjqn"
   },
   "outputs": [],
   "source": [
    "checkpoint_path = \"./checkpoints/train\"\n",
    "ckpt = tf.train.Checkpoint(encoder=encoder,\n",
    "                           decoder=decoder,\n",
    "                           optimizer = optimizer)\n",
    "ckpt_manager = tf.train.CheckpointManager(ckpt, checkpoint_path, max_to_keep=5)"
   ]
  },
  {
   "cell_type": "code",
   "execution_count": 34,
   "metadata": {
    "id": "8yQjrGWkSjqo"
   },
   "outputs": [],
   "source": [
    "start_epoch = 0\n",
    "if ckpt_manager.latest_checkpoint:\n",
    "      start_epoch = int(ckpt_manager.latest_checkpoint.split('-')[-1])\n",
    "      # restoring the latest checkpoint in checkpoint_path\n",
    "      ckpt.restore(ckpt_manager.latest_checkpoint)"
   ]
  },
  {
   "cell_type": "code",
   "execution_count": 35,
   "metadata": {
    "id": "IE7pUZDGSjqq"
   },
   "outputs": [],
   "source": [
    "# adding this in a separate cell because if you run the training cell\n",
    "# many times, the loss_plot array will be reset\n",
    "loss_plot = []"
   ]
  },
  {
   "cell_type": "code",
   "execution_count": 36,
   "metadata": {
    "id": "JHXjLxYuSjqs"
   },
   "outputs": [],
   "source": [
    "@tf.function\n",
    "def train_step(img_tensor, target):\n",
    "    loss = 0\n",
    "\n",
    "          # initializing the hidden state for each batch\n",
    "          # because the captions are not related from image to image\n",
    "    hidden = decoder.reset_state(batch_size=target.shape[0])\n",
    "    #print(f'hidden complete: {hidden}')\n",
    "\n",
    "    # Create a vector of all \\t indices to indicate the start of prediction\n",
    "    dec_input = tf.expand_dims([tokenizer.word_index['\\t']] * target.shape[0], 1)\n",
    "    #print(f'dec_input complete: {dec_input}')\n",
    "\n",
    "    with tf.GradientTape() as tape:\n",
    "        features = encoder(img_tensor)\n",
    "        #print('encoder complete')\n",
    "        #print(f'features.shape = {features.shape}')\n",
    "\n",
    "        # iterate through timesteps to predict the i'th character\n",
    "        for i in range(1, target.shape[1]):\n",
    "            # passing the features through the decoder\n",
    "            predictions, hidden, _ = decoder(dec_input, features, hidden)\n",
    "            #print('decoder complete')\n",
    "\n",
    "            loss += loss_function(target[:, i], predictions)\n",
    "\n",
    "            # using teacher forcing\n",
    "            dec_input = tf.expand_dims(target[:, i], 1)\n",
    "\n",
    "    total_loss = (loss / int(target.shape[1]))\n",
    "\n",
    "    trainable_variables = encoder.trainable_variables + decoder.trainable_variables\n",
    "\n",
    "    gradients = tape.gradient(loss, trainable_variables)\n",
    "\n",
    "    optimizer.apply_gradients(zip(gradients, trainable_variables))\n",
    "\n",
    "    return loss, total_loss"
   ]
  },
  {
   "cell_type": "code",
   "execution_count": 37,
   "metadata": {},
   "outputs": [],
   "source": [
    "new = cap_vector[:18000]"
   ]
  },
  {
   "cell_type": "code",
   "execution_count": 38,
   "metadata": {
    "id": "hKZ-gQg4hmoZ"
   },
   "outputs": [],
   "source": [
    "image_dataset_encoded = tf.data.Dataset.from_tensor_slices((img_load, new)).batch(300)"
   ]
  },
  {
   "cell_type": "code",
   "execution_count": 39,
   "metadata": {
    "colab": {
     "base_uri": "https://localhost:8080/"
    },
    "executionInfo": {
     "elapsed": 7322,
     "status": "ok",
     "timestamp": 1605397126121,
     "user": {
      "displayName": "Morgan Allen",
      "photoUrl": "https://lh3.googleusercontent.com/a-/AOh14GjaNMWmr2TlLrY_MBSDquiSqhgTuK8vCNzY4tLH=s64",
      "userId": "12026828979516915336"
     },
     "user_tz": 360
    },
    "id": "vZPAuWz8Sjqu",
    "outputId": "cacc9dc1-aae4-4391-dba4-b28245e0d454"
   },
   "outputs": [
    {
     "name": "stdout",
     "output_type": "stream",
     "text": [
      "Epoch 1 Batch 0 Loss 7.4536\n",
      "Epoch 1 Batch 1 Loss 7.4470\n",
      "Epoch 1 Batch 2 Loss 7.4381\n",
      "Epoch 1 Batch 3 Loss 7.4222\n",
      "Epoch 1 Batch 4 Loss 7.3940\n",
      "Epoch 1 Batch 5 Loss 7.3611\n",
      "Epoch 1 Batch 6 Loss 7.3244\n",
      "Epoch 1 Batch 7 Loss 7.2860\n",
      "Epoch 1 Batch 8 Loss 7.2551\n",
      "Epoch 1 Batch 9 Loss 7.2027\n",
      "Epoch 1 Batch 10 Loss 7.1550\n",
      "Epoch 1 Batch 11 Loss 7.0977\n",
      "Epoch 1 Batch 12 Loss 7.0223\n",
      "Epoch 1 Batch 13 Loss 6.9588\n",
      "Epoch 1 Batch 14 Loss 6.8851\n",
      "Epoch 1 Batch 15 Loss 6.8163\n",
      "Epoch 1 Batch 16 Loss 6.7497\n",
      "Epoch 1 Batch 17 Loss 6.6726\n",
      "Epoch 1 Batch 18 Loss 6.5924\n",
      "Epoch 1 Batch 19 Loss 6.5223\n",
      "Epoch 1 Batch 20 Loss 6.4188\n",
      "Epoch 1 Batch 21 Loss 6.3362\n",
      "Epoch 1 Batch 22 Loss 6.2364\n",
      "Epoch 1 Batch 23 Loss 6.1236\n",
      "Epoch 1 Batch 24 Loss 6.0119\n",
      "Epoch 1 Batch 25 Loss 5.8862\n",
      "Epoch 1 Batch 26 Loss 5.7615\n",
      "Epoch 1 Batch 27 Loss 5.6131\n",
      "Epoch 1 Batch 28 Loss 5.4904\n",
      "Epoch 1 Batch 29 Loss 5.3399\n",
      "Epoch 1 Batch 30 Loss 5.1891\n",
      "Epoch 1 Batch 31 Loss 5.0223\n",
      "Epoch 1 Batch 32 Loss 4.9058\n",
      "Epoch 1 Batch 33 Loss 4.7327\n",
      "Epoch 1 Batch 34 Loss 4.6074\n",
      "Epoch 1 Batch 35 Loss 4.4736\n",
      "Epoch 1 Batch 36 Loss 4.3343\n",
      "Epoch 1 Batch 37 Loss 4.1911\n",
      "Epoch 1 Batch 38 Loss 4.1042\n",
      "Epoch 1 Batch 39 Loss 3.9380\n",
      "Epoch 1 Batch 40 Loss 3.8280\n",
      "Epoch 1 Batch 41 Loss 3.7100\n",
      "Epoch 1 Batch 42 Loss 3.6024\n",
      "Epoch 1 Batch 43 Loss 3.4804\n",
      "Epoch 1 Batch 44 Loss 3.3966\n",
      "Epoch 1 Batch 45 Loss 3.2703\n",
      "Epoch 1 Batch 46 Loss 3.1757\n",
      "Epoch 1 Batch 47 Loss 3.0755\n",
      "Epoch 1 Batch 48 Loss 2.9974\n",
      "Epoch 1 Batch 49 Loss 2.9318\n",
      "Epoch 1 Batch 50 Loss 2.8840\n",
      "Epoch 1 Batch 51 Loss 2.8341\n",
      "Epoch 1 Batch 52 Loss 2.7857\n",
      "Epoch 1 Batch 53 Loss 2.7215\n",
      "Epoch 1 Batch 54 Loss 2.6714\n",
      "Epoch 1 Batch 55 Loss 2.6482\n",
      "Epoch 1 Batch 56 Loss 2.6583\n",
      "Epoch 1 Batch 57 Loss 2.6891\n",
      "Epoch 1 Batch 58 Loss 2.6500\n",
      "Epoch 1 Batch 59 Loss 2.6515\n",
      "14000\n",
      "Epoch 1 Loss 0.021960\n",
      "Time taken for 1 epoch 63.45790386199951 sec\n",
      "\n",
      "Epoch 2 Batch 0 Loss 2.6735\n",
      "Epoch 2 Batch 1 Loss 2.6392\n",
      "Epoch 2 Batch 2 Loss 2.6492\n",
      "Epoch 2 Batch 3 Loss 2.6250\n",
      "Epoch 2 Batch 4 Loss 2.5814\n",
      "Epoch 2 Batch 5 Loss 2.5706\n",
      "Epoch 2 Batch 6 Loss 2.6015\n",
      "Epoch 2 Batch 7 Loss 2.6788\n",
      "Epoch 2 Batch 8 Loss 2.6636\n",
      "Epoch 2 Batch 9 Loss 2.6580\n",
      "Epoch 2 Batch 10 Loss 2.6292\n",
      "Epoch 2 Batch 11 Loss 2.5791\n",
      "Epoch 2 Batch 12 Loss 2.5817\n",
      "Epoch 2 Batch 13 Loss 2.5950\n",
      "Epoch 2 Batch 14 Loss 2.6706\n",
      "Epoch 2 Batch 15 Loss 2.6536\n",
      "Epoch 2 Batch 16 Loss 2.6400\n",
      "Epoch 2 Batch 17 Loss 2.6146\n",
      "Epoch 2 Batch 18 Loss 2.5756\n",
      "Epoch 2 Batch 19 Loss 2.5782\n",
      "Epoch 2 Batch 20 Loss 2.5898\n",
      "Epoch 2 Batch 21 Loss 2.6614\n",
      "Epoch 2 Batch 22 Loss 2.6447\n",
      "Epoch 2 Batch 23 Loss 2.6224\n",
      "Epoch 2 Batch 24 Loss 2.6071\n",
      "Epoch 2 Batch 25 Loss 2.5868\n",
      "Epoch 2 Batch 26 Loss 2.5739\n",
      "Epoch 2 Batch 27 Loss 2.5873\n",
      "Epoch 2 Batch 28 Loss 2.6535\n",
      "Epoch 2 Batch 29 Loss 2.6367\n",
      "Epoch 2 Batch 30 Loss 2.6136\n",
      "Epoch 2 Batch 31 Loss 2.6315\n",
      "Epoch 2 Batch 32 Loss 2.5818\n",
      "Epoch 2 Batch 33 Loss 2.5719\n",
      "Epoch 2 Batch 34 Loss 2.5869\n",
      "Epoch 2 Batch 35 Loss 2.6448\n",
      "Epoch 2 Batch 36 Loss 2.6297\n",
      "Epoch 2 Batch 37 Loss 2.6277\n",
      "Epoch 2 Batch 38 Loss 2.6356\n",
      "Epoch 2 Batch 39 Loss 2.5720\n",
      "Epoch 2 Batch 40 Loss 2.5631\n",
      "Epoch 2 Batch 41 Loss 2.5821\n",
      "Epoch 2 Batch 42 Loss 2.6307\n",
      "Epoch 2 Batch 43 Loss 2.6317\n",
      "Epoch 2 Batch 44 Loss 2.6600\n",
      "Epoch 2 Batch 45 Loss 2.6382\n",
      "Epoch 2 Batch 46 Loss 2.5685\n",
      "Epoch 2 Batch 47 Loss 2.5609\n",
      "Epoch 2 Batch 48 Loss 2.5835\n",
      "Epoch 2 Batch 49 Loss 2.6251\n",
      "Epoch 2 Batch 50 Loss 2.6665\n",
      "Epoch 2 Batch 51 Loss 2.6461\n",
      "Epoch 2 Batch 52 Loss 2.6266\n",
      "Epoch 2 Batch 53 Loss 2.5614\n",
      "Epoch 2 Batch 54 Loss 2.5520\n",
      "Epoch 2 Batch 55 Loss 2.5812\n",
      "Epoch 2 Batch 56 Loss 2.6527\n",
      "Epoch 2 Batch 57 Loss 2.6604\n",
      "Epoch 2 Batch 58 Loss 2.6324\n",
      "Epoch 2 Batch 59 Loss 2.6156\n",
      "14000\n",
      "Epoch 2 Loss 0.011211\n",
      "Time taken for 1 epoch 39.39979100227356 sec\n",
      "\n",
      "Epoch 3 Batch 0 Loss 2.6755\n",
      "Epoch 3 Batch 1 Loss 2.6447\n",
      "Epoch 3 Batch 2 Loss 2.6410\n",
      "Epoch 3 Batch 3 Loss 2.5947\n",
      "Epoch 3 Batch 4 Loss 2.5551\n",
      "Epoch 3 Batch 5 Loss 2.5540\n",
      "Epoch 3 Batch 6 Loss 2.5868\n",
      "Epoch 3 Batch 7 Loss 2.6571\n",
      "Epoch 3 Batch 8 Loss 2.6316\n",
      "Epoch 3 Batch 9 Loss 2.6243\n",
      "Epoch 3 Batch 10 Loss 2.5880\n",
      "Epoch 3 Batch 11 Loss 2.5453\n",
      "Epoch 3 Batch 12 Loss 2.5624\n",
      "Epoch 3 Batch 13 Loss 2.5832\n",
      "Epoch 3 Batch 14 Loss 2.6545\n",
      "Epoch 3 Batch 15 Loss 2.6329\n",
      "Epoch 3 Batch 16 Loss 2.6210\n",
      "Epoch 3 Batch 17 Loss 2.5873\n",
      "Epoch 3 Batch 18 Loss 2.5593\n",
      "Epoch 3 Batch 19 Loss 2.5697\n",
      "Epoch 3 Batch 20 Loss 2.5860\n",
      "Epoch 3 Batch 21 Loss 2.6585\n",
      "Epoch 3 Batch 22 Loss 2.6387\n",
      "Epoch 3 Batch 23 Loss 2.6137\n",
      "Epoch 3 Batch 24 Loss 2.5953\n",
      "Epoch 3 Batch 25 Loss 2.5767\n",
      "Epoch 3 Batch 26 Loss 2.5706\n",
      "Epoch 3 Batch 27 Loss 2.5885\n",
      "Epoch 3 Batch 28 Loss 2.6551\n",
      "Epoch 3 Batch 29 Loss 2.6306\n",
      "Epoch 3 Batch 30 Loss 2.6042\n",
      "Epoch 3 Batch 31 Loss 2.6174\n",
      "Epoch 3 Batch 32 Loss 2.5769\n",
      "Epoch 3 Batch 33 Loss 2.5681\n",
      "Epoch 3 Batch 34 Loss 2.5845\n",
      "Epoch 3 Batch 35 Loss 2.6464\n",
      "Epoch 3 Batch 36 Loss 2.6228\n",
      "Epoch 3 Batch 37 Loss 2.6200\n",
      "Epoch 3 Batch 38 Loss 2.6291\n",
      "Epoch 3 Batch 39 Loss 2.5683\n",
      "Epoch 3 Batch 40 Loss 2.5609\n",
      "Epoch 3 Batch 41 Loss 2.5821\n",
      "Epoch 3 Batch 42 Loss 2.6286\n",
      "Epoch 3 Batch 43 Loss 2.6239\n",
      "Epoch 3 Batch 44 Loss 2.6489\n",
      "Epoch 3 Batch 45 Loss 2.6307\n",
      "Epoch 3 Batch 46 Loss 2.5674\n",
      "Epoch 3 Batch 47 Loss 2.5583\n",
      "Epoch 3 Batch 48 Loss 2.5811\n",
      "Epoch 3 Batch 49 Loss 2.6214\n",
      "Epoch 3 Batch 50 Loss 2.6581\n",
      "Epoch 3 Batch 51 Loss 2.6401\n",
      "Epoch 3 Batch 52 Loss 2.6217\n",
      "Epoch 3 Batch 53 Loss 2.5570\n",
      "Epoch 3 Batch 54 Loss 2.5462\n",
      "Epoch 3 Batch 55 Loss 2.5764\n",
      "Epoch 3 Batch 56 Loss 2.6439\n",
      "Epoch 3 Batch 57 Loss 2.6518\n",
      "Epoch 3 Batch 58 Loss 2.6249\n",
      "Epoch 3 Batch 59 Loss 2.6105\n",
      "14000\n",
      "Epoch 3 Loss 0.011168\n",
      "Time taken for 1 epoch 38.33546304702759 sec\n",
      "\n",
      "Epoch 4 Batch 0 Loss 2.6586\n",
      "Epoch 4 Batch 1 Loss 2.6323\n",
      "Epoch 4 Batch 2 Loss 2.6318\n",
      "Epoch 4 Batch 3 Loss 2.5906\n",
      "Epoch 4 Batch 4 Loss 2.5479\n",
      "Epoch 4 Batch 5 Loss 2.5485\n",
      "Epoch 4 Batch 6 Loss 2.5739\n",
      "Epoch 4 Batch 7 Loss 2.6429\n",
      "Epoch 4 Batch 8 Loss 2.6207\n",
      "Epoch 4 Batch 9 Loss 2.6156\n",
      "Epoch 4 Batch 10 Loss 2.5796\n",
      "Epoch 4 Batch 11 Loss 2.5373\n",
      "Epoch 4 Batch 12 Loss 2.5574\n",
      "Epoch 4 Batch 13 Loss 2.5784\n",
      "Epoch 4 Batch 14 Loss 2.6507\n",
      "Epoch 4 Batch 15 Loss 2.6293\n",
      "Epoch 4 Batch 16 Loss 2.6173\n",
      "Epoch 4 Batch 17 Loss 2.5817\n",
      "Epoch 4 Batch 18 Loss 2.5561\n",
      "Epoch 4 Batch 19 Loss 2.5664\n",
      "Epoch 4 Batch 20 Loss 2.5832\n",
      "Epoch 4 Batch 21 Loss 2.6515\n",
      "Epoch 4 Batch 22 Loss 2.6301\n",
      "Epoch 4 Batch 23 Loss 2.6053\n",
      "Epoch 4 Batch 24 Loss 2.5864\n",
      "Epoch 4 Batch 25 Loss 2.5699\n",
      "Epoch 4 Batch 26 Loss 2.5641\n",
      "Epoch 4 Batch 27 Loss 2.5824\n",
      "Epoch 4 Batch 28 Loss 2.6466\n",
      "Epoch 4 Batch 29 Loss 2.6208\n",
      "Epoch 4 Batch 30 Loss 2.5970\n",
      "Epoch 4 Batch 31 Loss 2.6076\n",
      "Epoch 4 Batch 32 Loss 2.5707\n",
      "Epoch 4 Batch 33 Loss 2.5644\n",
      "Epoch 4 Batch 34 Loss 2.5831\n",
      "Epoch 4 Batch 35 Loss 2.6364\n",
      "Epoch 4 Batch 36 Loss 2.6139\n",
      "Epoch 4 Batch 37 Loss 2.6110\n",
      "Epoch 4 Batch 38 Loss 2.6151\n",
      "Epoch 4 Batch 39 Loss 2.5637\n",
      "Epoch 4 Batch 40 Loss 2.5597\n",
      "Epoch 4 Batch 41 Loss 2.5784\n",
      "Epoch 4 Batch 42 Loss 2.6205\n",
      "Epoch 4 Batch 43 Loss 2.6104\n",
      "Epoch 4 Batch 44 Loss 2.6263\n",
      "Epoch 4 Batch 45 Loss 2.6072\n",
      "Epoch 4 Batch 46 Loss 2.5543\n",
      "Epoch 4 Batch 47 Loss 2.5505\n",
      "Epoch 4 Batch 48 Loss 2.5722\n",
      "Epoch 4 Batch 49 Loss 2.6066\n",
      "Epoch 4 Batch 50 Loss 2.6385\n",
      "Epoch 4 Batch 51 Loss 2.6221\n",
      "Epoch 4 Batch 52 Loss 2.6016\n",
      "Epoch 4 Batch 53 Loss 2.5471\n",
      "Epoch 4 Batch 54 Loss 2.5417\n",
      "Epoch 4 Batch 55 Loss 2.5673\n",
      "Epoch 4 Batch 56 Loss 2.6274\n",
      "Epoch 4 Batch 57 Loss 2.6310\n",
      "Epoch 4 Batch 58 Loss 2.6048\n",
      "Epoch 4 Batch 59 Loss 2.5882\n",
      "14000\n",
      "Epoch 4 Loss 0.011127\n",
      "Time taken for 1 epoch 38.41669774055481 sec\n",
      "\n",
      "Epoch 5 Batch 0 Loss 2.6356\n",
      "Epoch 5 Batch 1 Loss 2.6076\n",
      "Epoch 5 Batch 2 Loss 2.6024\n",
      "Epoch 5 Batch 3 Loss 2.5595\n",
      "Epoch 5 Batch 4 Loss 2.5306\n",
      "Epoch 5 Batch 5 Loss 2.5295\n",
      "Epoch 5 Batch 6 Loss 2.5554\n",
      "Epoch 5 Batch 7 Loss 2.6119\n",
      "Epoch 5 Batch 8 Loss 2.5880\n",
      "Epoch 5 Batch 9 Loss 2.5782\n",
      "Epoch 5 Batch 10 Loss 2.5448\n",
      "Epoch 5 Batch 11 Loss 2.5105\n",
      "Epoch 5 Batch 12 Loss 2.5272\n",
      "Epoch 5 Batch 13 Loss 2.5484\n",
      "Epoch 5 Batch 14 Loss 2.6073\n",
      "Epoch 5 Batch 15 Loss 2.5869\n",
      "Epoch 5 Batch 16 Loss 2.5755\n",
      "Epoch 5 Batch 17 Loss 2.5438\n",
      "Epoch 5 Batch 18 Loss 2.5209\n",
      "Epoch 5 Batch 19 Loss 2.5261\n",
      "Epoch 5 Batch 20 Loss 2.5421\n",
      "Epoch 5 Batch 21 Loss 2.6021\n",
      "Epoch 5 Batch 22 Loss 2.5813\n",
      "Epoch 5 Batch 23 Loss 2.5566\n",
      "Epoch 5 Batch 24 Loss 2.5390\n",
      "Epoch 5 Batch 25 Loss 2.5131\n",
      "Epoch 5 Batch 26 Loss 2.5093\n",
      "Epoch 5 Batch 27 Loss 2.5261\n",
      "Epoch 5 Batch 28 Loss 2.5823\n",
      "Epoch 5 Batch 29 Loss 2.5521\n",
      "Epoch 5 Batch 30 Loss 2.5307\n",
      "Epoch 5 Batch 31 Loss 2.5315\n",
      "Epoch 5 Batch 32 Loss 2.4987\n",
      "Epoch 5 Batch 33 Loss 2.5015\n",
      "Epoch 5 Batch 34 Loss 2.5136\n"
     ]
    },
    {
     "name": "stdout",
     "output_type": "stream",
     "text": [
      "Epoch 5 Batch 35 Loss 2.5569\n",
      "Epoch 5 Batch 36 Loss 2.5289\n",
      "Epoch 5 Batch 37 Loss 2.5221\n",
      "Epoch 5 Batch 38 Loss 2.5172\n",
      "Epoch 5 Batch 39 Loss 2.4775\n",
      "Epoch 5 Batch 40 Loss 2.4739\n",
      "Epoch 5 Batch 41 Loss 2.4884\n",
      "Epoch 5 Batch 42 Loss 2.5219\n",
      "Epoch 5 Batch 43 Loss 2.5011\n",
      "Epoch 5 Batch 44 Loss 2.5069\n",
      "Epoch 5 Batch 45 Loss 2.4858\n",
      "Epoch 5 Batch 46 Loss 2.4410\n",
      "Epoch 5 Batch 47 Loss 2.4371\n",
      "Epoch 5 Batch 48 Loss 2.4558\n",
      "Epoch 5 Batch 49 Loss 2.4807\n",
      "Epoch 5 Batch 50 Loss 2.4904\n",
      "Epoch 5 Batch 51 Loss 2.4739\n",
      "Epoch 5 Batch 52 Loss 2.4509\n",
      "Epoch 5 Batch 53 Loss 2.4030\n",
      "Epoch 5 Batch 54 Loss 2.4022\n",
      "Epoch 5 Batch 55 Loss 2.4200\n",
      "Epoch 5 Batch 56 Loss 2.4620\n",
      "Epoch 5 Batch 57 Loss 2.4565\n",
      "Epoch 5 Batch 58 Loss 2.4328\n",
      "Epoch 5 Batch 59 Loss 2.4081\n",
      "14000\n",
      "Epoch 5 Loss 0.010798\n",
      "Time taken for 1 epoch 41.79852318763733 sec\n",
      "\n",
      "Epoch 6 Batch 0 Loss 2.4427\n",
      "Epoch 6 Batch 1 Loss 2.4159\n",
      "Epoch 6 Batch 2 Loss 2.4029\n",
      "Epoch 6 Batch 3 Loss 2.3647\n",
      "Epoch 6 Batch 4 Loss 2.3428\n",
      "Epoch 6 Batch 5 Loss 2.3415\n",
      "Epoch 6 Batch 6 Loss 2.3537\n",
      "Epoch 6 Batch 7 Loss 2.3883\n",
      "Epoch 6 Batch 8 Loss 2.3615\n",
      "Epoch 6 Batch 9 Loss 2.3489\n",
      "Epoch 6 Batch 10 Loss 2.3184\n",
      "Epoch 6 Batch 11 Loss 2.2917\n",
      "Epoch 6 Batch 12 Loss 2.2945\n",
      "Epoch 6 Batch 13 Loss 2.3056\n",
      "Epoch 6 Batch 14 Loss 2.3426\n",
      "Epoch 6 Batch 15 Loss 2.3176\n",
      "Epoch 6 Batch 16 Loss 2.3048\n",
      "Epoch 6 Batch 17 Loss 2.2738\n",
      "Epoch 6 Batch 18 Loss 2.2503\n",
      "Epoch 6 Batch 19 Loss 2.2436\n",
      "Epoch 6 Batch 20 Loss 2.2546\n",
      "Epoch 6 Batch 21 Loss 2.2925\n",
      "Epoch 6 Batch 22 Loss 2.2730\n",
      "Epoch 6 Batch 23 Loss 2.2443\n",
      "Epoch 6 Batch 24 Loss 2.2267\n",
      "Epoch 6 Batch 25 Loss 2.1930\n",
      "Epoch 6 Batch 26 Loss 2.1911\n",
      "Epoch 6 Batch 27 Loss 2.2035\n",
      "Epoch 6 Batch 28 Loss 2.2388\n",
      "Epoch 6 Batch 29 Loss 2.2054\n",
      "Epoch 6 Batch 30 Loss 2.1877\n",
      "Epoch 6 Batch 31 Loss 2.1715\n",
      "Epoch 6 Batch 32 Loss 2.1395\n",
      "Epoch 6 Batch 33 Loss 2.1391\n",
      "Epoch 6 Batch 34 Loss 2.1468\n",
      "Epoch 6 Batch 35 Loss 2.1744\n",
      "Epoch 6 Batch 36 Loss 2.1484\n",
      "Epoch 6 Batch 37 Loss 2.1422\n",
      "Epoch 6 Batch 38 Loss 2.1279\n",
      "Epoch 6 Batch 39 Loss 2.0990\n",
      "Epoch 6 Batch 40 Loss 2.0949\n",
      "Epoch 6 Batch 41 Loss 2.0956\n",
      "Epoch 6 Batch 42 Loss 2.1260\n",
      "Epoch 6 Batch 43 Loss 2.0962\n",
      "Epoch 6 Batch 44 Loss 2.0785\n",
      "Epoch 6 Batch 45 Loss 2.0646\n",
      "Epoch 6 Batch 46 Loss 2.0187\n",
      "Epoch 6 Batch 47 Loss 2.0202\n",
      "Epoch 6 Batch 48 Loss 2.0278\n",
      "Epoch 6 Batch 49 Loss 2.0467\n",
      "Epoch 6 Batch 50 Loss 2.0416\n",
      "Epoch 6 Batch 51 Loss 2.0331\n",
      "Epoch 6 Batch 52 Loss 2.0031\n",
      "Epoch 6 Batch 53 Loss 1.9650\n",
      "Epoch 6 Batch 54 Loss 1.9610\n",
      "Epoch 6 Batch 55 Loss 1.9756\n",
      "Epoch 6 Batch 56 Loss 2.0058\n",
      "Epoch 6 Batch 57 Loss 1.9964\n",
      "Epoch 6 Batch 58 Loss 1.9785\n",
      "Epoch 6 Batch 59 Loss 1.9500\n",
      "14000\n",
      "Epoch 6 Loss 0.009363\n",
      "Time taken for 1 epoch 38.852985858917236 sec\n",
      "\n",
      "Epoch 7 Batch 0 Loss 1.9886\n",
      "Epoch 7 Batch 1 Loss 1.9656\n",
      "Epoch 7 Batch 2 Loss 1.9495\n",
      "Epoch 7 Batch 3 Loss 1.9185\n",
      "Epoch 7 Batch 4 Loss 1.8982\n",
      "Epoch 7 Batch 5 Loss 1.8930\n",
      "Epoch 7 Batch 6 Loss 1.9007\n",
      "Epoch 7 Batch 7 Loss 1.9332\n",
      "Epoch 7 Batch 8 Loss 1.9071\n",
      "Epoch 7 Batch 9 Loss 1.8962\n",
      "Epoch 7 Batch 10 Loss 1.8712\n",
      "Epoch 7 Batch 11 Loss 1.8460\n",
      "Epoch 7 Batch 12 Loss 1.8497\n",
      "Epoch 7 Batch 13 Loss 1.8626\n",
      "Epoch 7 Batch 14 Loss 1.9009\n",
      "Epoch 7 Batch 15 Loss 1.8816\n",
      "Epoch 7 Batch 16 Loss 1.8665\n",
      "Epoch 7 Batch 17 Loss 1.8451\n",
      "Epoch 7 Batch 18 Loss 1.8195\n",
      "Epoch 7 Batch 19 Loss 1.8092\n",
      "Epoch 7 Batch 20 Loss 1.8200\n",
      "Epoch 7 Batch 21 Loss 1.8626\n",
      "Epoch 7 Batch 22 Loss 1.8401\n",
      "Epoch 7 Batch 23 Loss 1.8219\n",
      "Epoch 7 Batch 24 Loss 1.8065\n",
      "Epoch 7 Batch 25 Loss 1.7827\n",
      "Epoch 7 Batch 26 Loss 1.7754\n",
      "Epoch 7 Batch 27 Loss 1.7869\n",
      "Epoch 7 Batch 28 Loss 1.8249\n",
      "Epoch 7 Batch 29 Loss 1.8031\n",
      "Epoch 7 Batch 30 Loss 1.7846\n",
      "Epoch 7 Batch 31 Loss 1.7736\n",
      "Epoch 7 Batch 32 Loss 1.7399\n",
      "Epoch 7 Batch 33 Loss 1.7335\n",
      "Epoch 7 Batch 34 Loss 1.7400\n",
      "Epoch 7 Batch 35 Loss 1.7739\n",
      "Epoch 7 Batch 36 Loss 1.7534\n",
      "Epoch 7 Batch 37 Loss 1.7504\n",
      "Epoch 7 Batch 38 Loss 1.7483\n",
      "Epoch 7 Batch 39 Loss 1.7076\n",
      "Epoch 7 Batch 40 Loss 1.7027\n",
      "Epoch 7 Batch 41 Loss 1.7146\n",
      "Epoch 7 Batch 42 Loss 1.7391\n",
      "Epoch 7 Batch 43 Loss 1.7219\n",
      "Epoch 7 Batch 44 Loss 1.7142\n",
      "Epoch 7 Batch 45 Loss 1.6939\n",
      "Epoch 7 Batch 46 Loss 1.6507\n",
      "Epoch 7 Batch 47 Loss 1.6477\n",
      "Epoch 7 Batch 48 Loss 1.6565\n",
      "Epoch 7 Batch 49 Loss 1.6826\n",
      "Epoch 7 Batch 50 Loss 1.6867\n",
      "Epoch 7 Batch 51 Loss 1.6691\n",
      "Epoch 7 Batch 52 Loss 1.6507\n",
      "Epoch 7 Batch 53 Loss 1.6072\n",
      "Epoch 7 Batch 54 Loss 1.5987\n",
      "Epoch 7 Batch 55 Loss 1.6178\n",
      "Epoch 7 Batch 56 Loss 1.6611\n",
      "Epoch 7 Batch 57 Loss 1.6600\n",
      "Epoch 7 Batch 58 Loss 1.6355\n",
      "Epoch 7 Batch 59 Loss 1.6217\n",
      "14000\n",
      "Epoch 7 Loss 0.007626\n",
      "Time taken for 1 epoch 39.58919095993042 sec\n",
      "\n",
      "Epoch 8 Batch 0 Loss 1.6673\n",
      "Epoch 8 Batch 1 Loss 1.6398\n",
      "Epoch 8 Batch 2 Loss 1.6338\n",
      "Epoch 8 Batch 3 Loss 1.6029\n",
      "Epoch 8 Batch 4 Loss 1.5801\n",
      "Epoch 8 Batch 5 Loss 1.5744\n",
      "Epoch 8 Batch 6 Loss 1.5850\n",
      "Epoch 8 Batch 7 Loss 1.6216\n",
      "Epoch 8 Batch 8 Loss 1.6025\n",
      "Epoch 8 Batch 9 Loss 1.5974\n",
      "Epoch 8 Batch 10 Loss 1.5774\n",
      "Epoch 8 Batch 11 Loss 1.5453\n",
      "Epoch 8 Batch 12 Loss 1.5498\n",
      "Epoch 8 Batch 13 Loss 1.5597\n",
      "Epoch 8 Batch 14 Loss 1.6066\n",
      "Epoch 8 Batch 15 Loss 1.5930\n",
      "Epoch 8 Batch 16 Loss 1.5850\n",
      "Epoch 8 Batch 17 Loss 1.5663\n",
      "Epoch 8 Batch 18 Loss 1.5325\n",
      "Epoch 8 Batch 19 Loss 1.5199\n",
      "Epoch 8 Batch 20 Loss 1.5260\n",
      "Epoch 8 Batch 21 Loss 1.5818\n",
      "Epoch 8 Batch 22 Loss 1.5691\n",
      "Epoch 8 Batch 23 Loss 1.5529\n",
      "Epoch 8 Batch 24 Loss 1.5404\n",
      "Epoch 8 Batch 25 Loss 1.5256\n",
      "Epoch 8 Batch 26 Loss 1.5157\n",
      "Epoch 8 Batch 27 Loss 1.5280\n",
      "Epoch 8 Batch 28 Loss 1.5818\n",
      "Epoch 8 Batch 29 Loss 1.5637\n",
      "Epoch 8 Batch 30 Loss 1.5455\n",
      "Epoch 8 Batch 31 Loss 1.5470\n",
      "Epoch 8 Batch 32 Loss 1.5120\n",
      "Epoch 8 Batch 33 Loss 1.5027\n",
      "Epoch 8 Batch 34 Loss 1.5138\n",
      "Epoch 8 Batch 35 Loss 1.5607\n",
      "Epoch 8 Batch 36 Loss 1.5478\n",
      "Epoch 8 Batch 37 Loss 1.5451\n",
      "Epoch 8 Batch 38 Loss 1.5590\n",
      "Epoch 8 Batch 39 Loss 1.5100\n",
      "Epoch 8 Batch 40 Loss 1.4993\n",
      "Epoch 8 Batch 41 Loss 1.5137\n",
      "Epoch 8 Batch 42 Loss 1.5525\n",
      "Epoch 8 Batch 43 Loss 1.5441\n",
      "Epoch 8 Batch 44 Loss 1.5514\n",
      "Epoch 8 Batch 45 Loss 1.5408\n",
      "Epoch 8 Batch 46 Loss 1.4896\n",
      "Epoch 8 Batch 47 Loss 1.4791\n",
      "Epoch 8 Batch 48 Loss 1.4971\n",
      "Epoch 8 Batch 49 Loss 1.5296\n",
      "Epoch 8 Batch 50 Loss 1.5537\n",
      "Epoch 8 Batch 51 Loss 1.5382\n",
      "Epoch 8 Batch 52 Loss 1.5288\n",
      "Epoch 8 Batch 53 Loss 1.4758\n",
      "Epoch 8 Batch 54 Loss 1.4615\n",
      "Epoch 8 Batch 55 Loss 1.4878\n",
      "Epoch 8 Batch 56 Loss 1.5445\n",
      "Epoch 8 Batch 57 Loss 1.5587\n",
      "Epoch 8 Batch 58 Loss 1.5356\n",
      "Epoch 8 Batch 59 Loss 1.5262\n",
      "14000\n",
      "Epoch 8 Loss 0.006641\n",
      "Time taken for 1 epoch 37.995529890060425 sec\n",
      "\n",
      "Epoch 9 Batch 0 Loss 1.5650\n",
      "Epoch 9 Batch 1 Loss 1.5435\n",
      "Epoch 9 Batch 2 Loss 1.5442\n",
      "Epoch 9 Batch 3 Loss 1.5123\n",
      "Epoch 9 Batch 4 Loss 1.4762\n",
      "Epoch 9 Batch 5 Loss 1.4735\n",
      "Epoch 9 Batch 6 Loss 1.4859\n",
      "Epoch 9 Batch 7 Loss 1.5372\n",
      "Epoch 9 Batch 8 Loss 1.5211\n",
      "Epoch 9 Batch 9 Loss 1.5194\n",
      "Epoch 9 Batch 10 Loss 1.5003\n",
      "Epoch 9 Batch 11 Loss 1.4589\n",
      "Epoch 9 Batch 12 Loss 1.4711\n",
      "Epoch 9 Batch 13 Loss 1.4865\n",
      "Epoch 9 Batch 14 Loss 1.5497\n",
      "Epoch 9 Batch 15 Loss 1.5373\n",
      "Epoch 9 Batch 16 Loss 1.5320\n",
      "Epoch 9 Batch 17 Loss 1.5094\n",
      "Epoch 9 Batch 18 Loss 1.4687\n",
      "Epoch 9 Batch 19 Loss 1.4608\n",
      "Epoch 9 Batch 20 Loss 1.4668\n",
      "Epoch 9 Batch 21 Loss 1.5304\n",
      "Epoch 9 Batch 22 Loss 1.5211\n",
      "Epoch 9 Batch 23 Loss 1.5035\n",
      "Epoch 9 Batch 24 Loss 1.4921\n",
      "Epoch 9 Batch 25 Loss 1.4741\n",
      "Epoch 9 Batch 26 Loss 1.4673\n",
      "Epoch 9 Batch 27 Loss 1.4765\n",
      "Epoch 9 Batch 28 Loss 1.5367\n",
      "Epoch 9 Batch 29 Loss 1.5213\n",
      "Epoch 9 Batch 30 Loss 1.5030\n",
      "Epoch 9 Batch 31 Loss 1.5080\n",
      "Epoch 9 Batch 32 Loss 1.4697\n",
      "Epoch 9 Batch 33 Loss 1.4607\n",
      "Epoch 9 Batch 34 Loss 1.4724\n",
      "Epoch 9 Batch 35 Loss 1.5227\n",
      "Epoch 9 Batch 36 Loss 1.5112\n",
      "Epoch 9 Batch 37 Loss 1.5103\n",
      "Epoch 9 Batch 38 Loss 1.5261\n",
      "Epoch 9 Batch 39 Loss 1.4740\n",
      "Epoch 9 Batch 40 Loss 1.4638\n",
      "Epoch 9 Batch 41 Loss 1.4772\n",
      "Epoch 9 Batch 42 Loss 1.5199\n",
      "Epoch 9 Batch 43 Loss 1.5145\n",
      "Epoch 9 Batch 44 Loss 1.5262\n",
      "Epoch 9 Batch 45 Loss 1.5163\n",
      "Epoch 9 Batch 46 Loss 1.4620\n",
      "Epoch 9 Batch 47 Loss 1.4474\n",
      "Epoch 9 Batch 48 Loss 1.4681\n",
      "Epoch 9 Batch 49 Loss 1.5023\n",
      "Epoch 9 Batch 50 Loss 1.5342\n",
      "Epoch 9 Batch 51 Loss 1.5178\n",
      "Epoch 9 Batch 52 Loss 1.5092\n",
      "Epoch 9 Batch 53 Loss 1.4507\n",
      "Epoch 9 Batch 54 Loss 1.4361\n",
      "Epoch 9 Batch 55 Loss 1.4636\n",
      "Epoch 9 Batch 56 Loss 1.5304\n",
      "Epoch 9 Batch 57 Loss 1.5453\n",
      "Epoch 9 Batch 58 Loss 1.5213\n",
      "Epoch 9 Batch 59 Loss 1.5141\n",
      "14000\n",
      "Epoch 9 Loss 0.006430\n",
      "Time taken for 1 epoch 40.4141309261322 sec\n",
      "\n",
      "Epoch 10 Batch 0 Loss 1.5494\n",
      "Epoch 10 Batch 1 Loss 1.5254\n",
      "Epoch 10 Batch 2 Loss 1.5277\n",
      "Epoch 10 Batch 3 Loss 1.4941\n",
      "Epoch 10 Batch 4 Loss 1.4548\n",
      "Epoch 10 Batch 5 Loss 1.4556\n",
      "Epoch 10 Batch 6 Loss 1.4689\n"
     ]
    },
    {
     "name": "stdout",
     "output_type": "stream",
     "text": [
      "Epoch 10 Batch 7 Loss 1.5277\n",
      "Epoch 10 Batch 8 Loss 1.5096\n",
      "Epoch 10 Batch 9 Loss 1.5064\n",
      "Epoch 10 Batch 10 Loss 1.4836\n",
      "Epoch 10 Batch 11 Loss 1.4442\n",
      "Epoch 10 Batch 12 Loss 1.4556\n",
      "Epoch 10 Batch 13 Loss 1.4666\n",
      "Epoch 10 Batch 14 Loss 1.5298\n",
      "Epoch 10 Batch 15 Loss 1.5175\n",
      "Epoch 10 Batch 16 Loss 1.5122\n",
      "Epoch 10 Batch 17 Loss 1.4882\n",
      "Epoch 10 Batch 18 Loss 1.4485\n",
      "Epoch 10 Batch 19 Loss 1.4528\n",
      "Epoch 10 Batch 20 Loss 1.4586\n",
      "Epoch 10 Batch 21 Loss 1.5213\n",
      "Epoch 10 Batch 22 Loss 1.5109\n",
      "Epoch 10 Batch 23 Loss 1.4944\n",
      "Epoch 10 Batch 24 Loss 1.4801\n",
      "Epoch 10 Batch 25 Loss 1.4582\n",
      "Epoch 10 Batch 26 Loss 1.4509\n",
      "Epoch 10 Batch 27 Loss 1.4657\n",
      "Epoch 10 Batch 28 Loss 1.5247\n",
      "Epoch 10 Batch 29 Loss 1.5110\n",
      "Epoch 10 Batch 30 Loss 1.4911\n",
      "Epoch 10 Batch 31 Loss 1.4942\n",
      "Epoch 10 Batch 32 Loss 1.4604\n",
      "Epoch 10 Batch 33 Loss 1.4506\n",
      "Epoch 10 Batch 34 Loss 1.4643\n",
      "Epoch 10 Batch 35 Loss 1.5139\n",
      "Epoch 10 Batch 36 Loss 1.5025\n",
      "Epoch 10 Batch 37 Loss 1.5005\n",
      "Epoch 10 Batch 38 Loss 1.5103\n",
      "Epoch 10 Batch 39 Loss 1.4598\n",
      "Epoch 10 Batch 40 Loss 1.4544\n",
      "Epoch 10 Batch 41 Loss 1.4701\n",
      "Epoch 10 Batch 42 Loss 1.5089\n",
      "Epoch 10 Batch 43 Loss 1.5024\n",
      "Epoch 10 Batch 44 Loss 1.5121\n",
      "Epoch 10 Batch 45 Loss 1.4996\n",
      "Epoch 10 Batch 46 Loss 1.4494\n",
      "Epoch 10 Batch 47 Loss 1.4406\n",
      "Epoch 10 Batch 48 Loss 1.4583\n",
      "Epoch 10 Batch 49 Loss 1.4907\n",
      "Epoch 10 Batch 50 Loss 1.5198\n",
      "Epoch 10 Batch 51 Loss 1.5036\n",
      "Epoch 10 Batch 52 Loss 1.4944\n",
      "Epoch 10 Batch 53 Loss 1.4417\n",
      "Epoch 10 Batch 54 Loss 1.4290\n",
      "Epoch 10 Batch 55 Loss 1.4540\n",
      "Epoch 10 Batch 56 Loss 1.5213\n",
      "Epoch 10 Batch 57 Loss 1.5325\n",
      "Epoch 10 Batch 58 Loss 1.5097\n",
      "Epoch 10 Batch 59 Loss 1.5036\n",
      "14000\n",
      "Epoch 10 Loss 0.006374\n",
      "Time taken for 1 epoch 41.60913896560669 sec\n",
      "\n",
      "Epoch 11 Batch 0 Loss 1.5351\n",
      "Epoch 11 Batch 1 Loss 1.5098\n",
      "Epoch 11 Batch 2 Loss 1.5134\n",
      "Epoch 11 Batch 3 Loss 1.4854\n",
      "Epoch 11 Batch 4 Loss 1.4513\n",
      "Epoch 11 Batch 5 Loss 1.4476\n",
      "Epoch 11 Batch 6 Loss 1.4633\n",
      "Epoch 11 Batch 7 Loss 1.5154\n",
      "Epoch 11 Batch 8 Loss 1.5014\n",
      "Epoch 11 Batch 9 Loss 1.4992\n",
      "Epoch 11 Batch 10 Loss 1.4768\n",
      "Epoch 11 Batch 11 Loss 1.4346\n",
      "Epoch 11 Batch 12 Loss 1.4528\n",
      "Epoch 11 Batch 13 Loss 1.4679\n",
      "Epoch 11 Batch 14 Loss 1.5224\n",
      "Epoch 11 Batch 15 Loss 1.5102\n",
      "Epoch 11 Batch 16 Loss 1.5077\n",
      "Epoch 11 Batch 17 Loss 1.4847\n",
      "Epoch 11 Batch 18 Loss 1.4451\n",
      "Epoch 11 Batch 19 Loss 1.4380\n",
      "Epoch 11 Batch 20 Loss 1.4502\n",
      "Epoch 11 Batch 21 Loss 1.5117\n",
      "Epoch 11 Batch 22 Loss 1.4988\n",
      "Epoch 11 Batch 23 Loss 1.4842\n",
      "Epoch 11 Batch 24 Loss 1.4637\n",
      "Epoch 11 Batch 25 Loss 1.4483\n",
      "Epoch 11 Batch 26 Loss 1.4488\n",
      "Epoch 11 Batch 27 Loss 1.4612\n",
      "Epoch 11 Batch 28 Loss 1.5152\n",
      "Epoch 11 Batch 29 Loss 1.4996\n",
      "Epoch 11 Batch 30 Loss 1.4781\n",
      "Epoch 11 Batch 31 Loss 1.4838\n",
      "Epoch 11 Batch 32 Loss 1.4579\n",
      "Epoch 11 Batch 33 Loss 1.4514\n",
      "Epoch 11 Batch 34 Loss 1.4583\n",
      "Epoch 11 Batch 35 Loss 1.5068\n",
      "Epoch 11 Batch 36 Loss 1.4933\n",
      "Epoch 11 Batch 37 Loss 1.4917\n",
      "Epoch 11 Batch 38 Loss 1.5080\n",
      "Epoch 11 Batch 39 Loss 1.4636\n",
      "Epoch 11 Batch 40 Loss 1.4499\n",
      "Epoch 11 Batch 41 Loss 1.4646\n",
      "Epoch 11 Batch 42 Loss 1.5019\n",
      "Epoch 11 Batch 43 Loss 1.4963\n",
      "Epoch 11 Batch 44 Loss 1.5105\n",
      "Epoch 11 Batch 45 Loss 1.5033\n",
      "Epoch 11 Batch 46 Loss 1.4493\n",
      "Epoch 11 Batch 47 Loss 1.4357\n",
      "Epoch 11 Batch 48 Loss 1.4527\n",
      "Epoch 11 Batch 49 Loss 1.4863\n",
      "Epoch 11 Batch 50 Loss 1.5208\n",
      "Epoch 11 Batch 51 Loss 1.5080\n",
      "Epoch 11 Batch 52 Loss 1.4980\n",
      "Epoch 11 Batch 53 Loss 1.4397\n",
      "Epoch 11 Batch 54 Loss 1.4241\n",
      "Epoch 11 Batch 55 Loss 1.4511\n",
      "Epoch 11 Batch 56 Loss 1.5250\n",
      "Epoch 11 Batch 57 Loss 1.5371\n",
      "Epoch 11 Batch 58 Loss 1.5129\n",
      "Epoch 11 Batch 59 Loss 1.5050\n",
      "14000\n",
      "Epoch 11 Loss 0.006351\n",
      "Time taken for 1 epoch 38.157991886138916 sec\n",
      "\n",
      "Epoch 12 Batch 0 Loss 1.5360\n",
      "Epoch 12 Batch 1 Loss 1.5065\n",
      "Epoch 12 Batch 2 Loss 1.5076\n",
      "Epoch 12 Batch 3 Loss 1.4743\n",
      "Epoch 12 Batch 4 Loss 1.4391\n",
      "Epoch 12 Batch 5 Loss 1.4380\n",
      "Epoch 12 Batch 6 Loss 1.4551\n",
      "Epoch 12 Batch 7 Loss 1.5114\n",
      "Epoch 12 Batch 8 Loss 1.4957\n",
      "Epoch 12 Batch 9 Loss 1.4935\n",
      "Epoch 12 Batch 10 Loss 1.4687\n",
      "Epoch 12 Batch 11 Loss 1.4242\n",
      "Epoch 12 Batch 12 Loss 1.4433\n",
      "Epoch 12 Batch 13 Loss 1.4600\n",
      "Epoch 12 Batch 14 Loss 1.5167\n",
      "Epoch 12 Batch 15 Loss 1.5036\n",
      "Epoch 12 Batch 16 Loss 1.5007\n",
      "Epoch 12 Batch 17 Loss 1.4805\n",
      "Epoch 12 Batch 18 Loss 1.4452\n",
      "Epoch 12 Batch 19 Loss 1.4388\n",
      "Epoch 12 Batch 20 Loss 1.4453\n",
      "Epoch 12 Batch 21 Loss 1.5067\n",
      "Epoch 12 Batch 22 Loss 1.4979\n",
      "Epoch 12 Batch 23 Loss 1.4804\n",
      "Epoch 12 Batch 24 Loss 1.4590\n",
      "Epoch 12 Batch 25 Loss 1.4436\n",
      "Epoch 12 Batch 26 Loss 1.4438\n",
      "Epoch 12 Batch 27 Loss 1.4568\n",
      "Epoch 12 Batch 28 Loss 1.5140\n",
      "Epoch 12 Batch 29 Loss 1.4948\n",
      "Epoch 12 Batch 30 Loss 1.4744\n",
      "Epoch 12 Batch 31 Loss 1.4772\n",
      "Epoch 12 Batch 32 Loss 1.4499\n",
      "Epoch 12 Batch 33 Loss 1.4433\n",
      "Epoch 12 Batch 34 Loss 1.4591\n",
      "Epoch 12 Batch 35 Loss 1.5038\n",
      "Epoch 12 Batch 36 Loss 1.4881\n",
      "Epoch 12 Batch 37 Loss 1.4878\n",
      "Epoch 12 Batch 38 Loss 1.4977\n",
      "Epoch 12 Batch 39 Loss 1.4568\n",
      "Epoch 12 Batch 40 Loss 1.4504\n",
      "Epoch 12 Batch 41 Loss 1.4673\n",
      "Epoch 12 Batch 42 Loss 1.4998\n",
      "Epoch 12 Batch 43 Loss 1.4897\n",
      "Epoch 12 Batch 44 Loss 1.5029\n",
      "Epoch 12 Batch 45 Loss 1.4916\n",
      "Epoch 12 Batch 46 Loss 1.4481\n",
      "Epoch 12 Batch 47 Loss 1.4410\n",
      "Epoch 12 Batch 48 Loss 1.4563\n",
      "Epoch 12 Batch 49 Loss 1.4822\n",
      "Epoch 12 Batch 50 Loss 1.5091\n",
      "Epoch 12 Batch 51 Loss 1.4959\n",
      "Epoch 12 Batch 52 Loss 1.4846\n",
      "Epoch 12 Batch 53 Loss 1.4358\n",
      "Epoch 12 Batch 54 Loss 1.4252\n",
      "Epoch 12 Batch 55 Loss 1.4456\n",
      "Epoch 12 Batch 56 Loss 1.5131\n",
      "Epoch 12 Batch 57 Loss 1.5254\n",
      "Epoch 12 Batch 58 Loss 1.5044\n",
      "Epoch 12 Batch 59 Loss 1.4929\n",
      "14000\n",
      "Epoch 12 Loss 0.006327\n",
      "Time taken for 1 epoch 38.84334588050842 sec\n",
      "\n",
      "Epoch 13 Batch 0 Loss 1.5221\n",
      "Epoch 13 Batch 1 Loss 1.4986\n",
      "Epoch 13 Batch 2 Loss 1.4956\n",
      "Epoch 13 Batch 3 Loss 1.4654\n",
      "Epoch 13 Batch 4 Loss 1.4366\n",
      "Epoch 13 Batch 5 Loss 1.4312\n",
      "Epoch 13 Batch 6 Loss 1.4510\n",
      "Epoch 13 Batch 7 Loss 1.4995\n",
      "Epoch 13 Batch 8 Loss 1.4831\n",
      "Epoch 13 Batch 9 Loss 1.4792\n",
      "Epoch 13 Batch 10 Loss 1.4634\n",
      "Epoch 13 Batch 11 Loss 1.4305\n",
      "Epoch 13 Batch 12 Loss 1.4476\n",
      "Epoch 13 Batch 13 Loss 1.4669\n",
      "Epoch 13 Batch 14 Loss 1.5079\n",
      "Epoch 13 Batch 15 Loss 1.4943\n",
      "Epoch 13 Batch 16 Loss 1.4945\n",
      "Epoch 13 Batch 17 Loss 1.4810\n",
      "Epoch 13 Batch 18 Loss 1.4523\n",
      "Epoch 13 Batch 19 Loss 1.4449\n",
      "Epoch 13 Batch 20 Loss 1.4476\n",
      "Epoch 13 Batch 21 Loss 1.4932\n",
      "Epoch 13 Batch 22 Loss 1.4835\n",
      "Epoch 13 Batch 23 Loss 1.4731\n",
      "Epoch 13 Batch 24 Loss 1.4749\n",
      "Epoch 13 Batch 25 Loss 1.4444\n",
      "Epoch 13 Batch 26 Loss 1.4463\n",
      "Epoch 13 Batch 27 Loss 1.5125\n",
      "Epoch 13 Batch 28 Loss 1.5138\n",
      "Epoch 13 Batch 29 Loss 1.4876\n",
      "Epoch 13 Batch 30 Loss 1.4760\n",
      "Epoch 13 Batch 31 Loss 1.5234\n",
      "Epoch 13 Batch 32 Loss 1.4455\n",
      "Epoch 13 Batch 33 Loss 1.4364\n",
      "Epoch 13 Batch 34 Loss 1.4474\n",
      "Epoch 13 Batch 35 Loss 1.4975\n",
      "Epoch 13 Batch 36 Loss 1.4786\n",
      "Epoch 13 Batch 37 Loss 1.4719\n",
      "Epoch 13 Batch 38 Loss 1.4799\n",
      "Epoch 13 Batch 39 Loss 1.4599\n",
      "Epoch 13 Batch 40 Loss 1.4662\n",
      "Epoch 13 Batch 41 Loss 1.4754\n",
      "Epoch 13 Batch 42 Loss 1.4980\n",
      "Epoch 13 Batch 43 Loss 1.4797\n",
      "Epoch 13 Batch 44 Loss 1.4973\n",
      "Epoch 13 Batch 45 Loss 1.4878\n",
      "Epoch 13 Batch 46 Loss 1.4489\n",
      "Epoch 13 Batch 47 Loss 1.4445\n",
      "Epoch 13 Batch 48 Loss 1.4601\n",
      "Epoch 13 Batch 49 Loss 1.4805\n",
      "Epoch 13 Batch 50 Loss 1.5154\n",
      "Epoch 13 Batch 51 Loss 1.5029\n",
      "Epoch 13 Batch 52 Loss 1.4941\n",
      "Epoch 13 Batch 53 Loss 1.4503\n",
      "Epoch 13 Batch 54 Loss 1.4399\n",
      "Epoch 13 Batch 55 Loss 1.4542\n",
      "Epoch 13 Batch 56 Loss 1.5214\n",
      "Epoch 13 Batch 57 Loss 1.5343\n",
      "Epoch 13 Batch 58 Loss 1.5159\n",
      "Epoch 13 Batch 59 Loss 1.5088\n",
      "14000\n",
      "Epoch 13 Loss 0.006330\n",
      "Time taken for 1 epoch 41.29414701461792 sec\n",
      "\n",
      "Epoch 14 Batch 0 Loss 1.5293\n",
      "Epoch 14 Batch 1 Loss 1.5090\n",
      "Epoch 14 Batch 2 Loss 1.5095\n",
      "Epoch 14 Batch 3 Loss 1.4816\n",
      "Epoch 14 Batch 4 Loss 1.4445\n",
      "Epoch 14 Batch 5 Loss 1.4336\n",
      "Epoch 14 Batch 6 Loss 1.4454\n",
      "Epoch 14 Batch 7 Loss 1.5010\n",
      "Epoch 14 Batch 8 Loss 1.4872\n",
      "Epoch 14 Batch 9 Loss 1.4861\n",
      "Epoch 14 Batch 10 Loss 1.4645\n",
      "Epoch 14 Batch 11 Loss 1.4208\n",
      "Epoch 14 Batch 12 Loss 1.4289\n",
      "Epoch 14 Batch 13 Loss 1.4449\n",
      "Epoch 14 Batch 14 Loss 1.5076\n",
      "Epoch 14 Batch 15 Loss 1.4972\n",
      "Epoch 14 Batch 16 Loss 1.4924\n",
      "Epoch 14 Batch 17 Loss 1.4718\n",
      "Epoch 14 Batch 18 Loss 1.4387\n",
      "Epoch 14 Batch 19 Loss 1.4402\n",
      "Epoch 14 Batch 20 Loss 1.4531\n",
      "Epoch 14 Batch 21 Loss 1.5120\n",
      "Epoch 14 Batch 22 Loss 1.5031\n",
      "Epoch 14 Batch 23 Loss 1.4887\n",
      "Epoch 14 Batch 24 Loss 1.4757\n",
      "Epoch 14 Batch 25 Loss 1.4480\n",
      "Epoch 14 Batch 26 Loss 1.4423\n",
      "Epoch 14 Batch 27 Loss 1.4600\n",
      "Epoch 14 Batch 28 Loss 1.5088\n",
      "Epoch 14 Batch 29 Loss 1.4971\n",
      "Epoch 14 Batch 30 Loss 1.4807\n",
      "Epoch 14 Batch 31 Loss 1.4777\n"
     ]
    },
    {
     "name": "stdout",
     "output_type": "stream",
     "text": [
      "Epoch 14 Batch 32 Loss 1.4407\n",
      "Epoch 14 Batch 33 Loss 1.4379\n",
      "Epoch 14 Batch 34 Loss 1.4512\n",
      "Epoch 14 Batch 35 Loss 1.4907\n",
      "Epoch 14 Batch 36 Loss 1.4807\n",
      "Epoch 14 Batch 37 Loss 1.4761\n",
      "Epoch 14 Batch 38 Loss 1.4817\n",
      "Epoch 14 Batch 39 Loss 1.4384\n",
      "Epoch 14 Batch 40 Loss 1.4392\n",
      "Epoch 14 Batch 41 Loss 1.4516\n",
      "Epoch 14 Batch 42 Loss 1.4858\n",
      "Epoch 14 Batch 43 Loss 1.4770\n",
      "Epoch 14 Batch 44 Loss 1.4880\n",
      "Epoch 14 Batch 45 Loss 1.4725\n",
      "Epoch 14 Batch 46 Loss 1.4343\n",
      "Epoch 14 Batch 47 Loss 1.4319\n",
      "Epoch 14 Batch 48 Loss 1.4465\n",
      "Epoch 14 Batch 49 Loss 1.4694\n",
      "Epoch 14 Batch 50 Loss 1.5014\n",
      "Epoch 14 Batch 51 Loss 1.4876\n",
      "Epoch 14 Batch 52 Loss 1.4776\n",
      "Epoch 14 Batch 53 Loss 1.4434\n",
      "Epoch 14 Batch 54 Loss 1.4342\n",
      "Epoch 14 Batch 55 Loss 1.4456\n",
      "Epoch 14 Batch 56 Loss 1.5095\n",
      "Epoch 14 Batch 57 Loss 1.5210\n",
      "Epoch 14 Batch 58 Loss 1.5044\n",
      "Epoch 14 Batch 59 Loss 1.5039\n",
      "14000\n",
      "Epoch 14 Loss 0.006307\n",
      "Time taken for 1 epoch 39.94004201889038 sec\n",
      "\n",
      "Epoch 15 Batch 0 Loss 1.5153\n",
      "Epoch 15 Batch 1 Loss 1.5011\n",
      "Epoch 15 Batch 2 Loss 1.5079\n",
      "Epoch 15 Batch 3 Loss 1.4950\n",
      "Epoch 15 Batch 4 Loss 1.4548\n",
      "Epoch 15 Batch 5 Loss 1.4355\n",
      "Epoch 15 Batch 6 Loss 1.4427\n",
      "Epoch 15 Batch 7 Loss 1.4978\n",
      "Epoch 15 Batch 8 Loss 1.4899\n",
      "Epoch 15 Batch 9 Loss 1.4933\n",
      "Epoch 15 Batch 10 Loss 1.4756\n",
      "Epoch 15 Batch 11 Loss 1.4257\n",
      "Epoch 15 Batch 12 Loss 1.4269\n",
      "Epoch 15 Batch 13 Loss 1.4393\n",
      "Epoch 15 Batch 14 Loss 1.5033\n",
      "Epoch 15 Batch 15 Loss 1.4921\n",
      "Epoch 15 Batch 16 Loss 1.4858\n",
      "Epoch 15 Batch 17 Loss 1.4676\n",
      "Epoch 15 Batch 18 Loss 1.4313\n",
      "Epoch 15 Batch 19 Loss 1.4331\n",
      "Epoch 15 Batch 20 Loss 1.4436\n",
      "Epoch 15 Batch 21 Loss 1.5032\n",
      "Epoch 15 Batch 22 Loss 1.4932\n",
      "Epoch 15 Batch 23 Loss 1.4804\n",
      "Epoch 15 Batch 24 Loss 1.4668\n",
      "Epoch 15 Batch 25 Loss 1.4536\n",
      "Epoch 15 Batch 26 Loss 1.4423\n",
      "Epoch 15 Batch 27 Loss 1.4564\n",
      "Epoch 15 Batch 28 Loss 1.5049\n",
      "Epoch 15 Batch 29 Loss 1.4961\n",
      "Epoch 15 Batch 30 Loss 1.4768\n",
      "Epoch 15 Batch 31 Loss 1.4936\n",
      "Epoch 15 Batch 32 Loss 1.4597\n",
      "Epoch 15 Batch 33 Loss 1.4472\n",
      "Epoch 15 Batch 34 Loss 1.4560\n",
      "Epoch 15 Batch 35 Loss 1.4972\n",
      "Epoch 15 Batch 36 Loss 1.4922\n",
      "Epoch 15 Batch 37 Loss 1.4897\n",
      "Epoch 15 Batch 38 Loss 1.5041\n",
      "Epoch 15 Batch 39 Loss 1.4507\n",
      "Epoch 15 Batch 40 Loss 1.4427\n",
      "Epoch 15 Batch 41 Loss 1.4601\n",
      "Epoch 15 Batch 42 Loss 1.4927\n",
      "Epoch 15 Batch 43 Loss 1.4867\n",
      "Epoch 15 Batch 44 Loss 1.4991\n",
      "Epoch 15 Batch 45 Loss 1.4836\n",
      "Epoch 15 Batch 46 Loss 1.4311\n",
      "Epoch 15 Batch 47 Loss 1.4309\n",
      "Epoch 15 Batch 48 Loss 1.4482\n",
      "Epoch 15 Batch 49 Loss 1.4758\n",
      "Epoch 15 Batch 50 Loss 1.5047\n",
      "Epoch 15 Batch 51 Loss 1.4917\n",
      "Epoch 15 Batch 52 Loss 1.4730\n",
      "Epoch 15 Batch 53 Loss 1.4354\n",
      "Epoch 15 Batch 54 Loss 1.4327\n",
      "Epoch 15 Batch 55 Loss 1.4512\n",
      "Epoch 15 Batch 56 Loss 1.5176\n",
      "Epoch 15 Batch 57 Loss 1.5265\n",
      "Epoch 15 Batch 58 Loss 1.5090\n",
      "Epoch 15 Batch 59 Loss 1.5000\n",
      "14000\n",
      "Epoch 15 Loss 0.006315\n",
      "Time taken for 1 epoch 39.83094501495361 sec\n",
      "\n",
      "Epoch 16 Batch 0 Loss 1.5169\n",
      "Epoch 16 Batch 1 Loss 1.5013\n",
      "Epoch 16 Batch 2 Loss 1.5021\n",
      "Epoch 16 Batch 3 Loss 1.4914\n",
      "Epoch 16 Batch 4 Loss 1.4724\n",
      "Epoch 16 Batch 5 Loss 1.4586\n",
      "Epoch 16 Batch 6 Loss 1.4667\n",
      "Epoch 16 Batch 7 Loss 1.5029\n",
      "Epoch 16 Batch 8 Loss 1.4890\n",
      "Epoch 16 Batch 9 Loss 1.4872\n",
      "Epoch 16 Batch 10 Loss 1.4693\n",
      "Epoch 16 Batch 11 Loss 1.4435\n",
      "Epoch 16 Batch 12 Loss 1.4458\n",
      "Epoch 16 Batch 13 Loss 1.4574\n",
      "Epoch 16 Batch 14 Loss 1.5011\n",
      "Epoch 16 Batch 15 Loss 1.4892\n",
      "Epoch 16 Batch 16 Loss 1.4822\n",
      "Epoch 16 Batch 17 Loss 1.4642\n",
      "Epoch 16 Batch 18 Loss 1.4373\n",
      "Epoch 16 Batch 19 Loss 1.4362\n",
      "Epoch 16 Batch 20 Loss 1.4477\n",
      "Epoch 16 Batch 21 Loss 1.4971\n",
      "Epoch 16 Batch 22 Loss 1.4863\n",
      "Epoch 16 Batch 23 Loss 1.4718\n",
      "Epoch 16 Batch 24 Loss 1.4560\n",
      "Epoch 16 Batch 25 Loss 1.4435\n",
      "Epoch 16 Batch 26 Loss 1.4409\n",
      "Epoch 16 Batch 27 Loss 1.4568\n",
      "Epoch 16 Batch 28 Loss 1.5045\n",
      "Epoch 16 Batch 29 Loss 1.4862\n",
      "Epoch 16 Batch 30 Loss 1.4680\n",
      "Epoch 16 Batch 31 Loss 1.4731\n",
      "Epoch 16 Batch 32 Loss 1.4501\n",
      "Epoch 16 Batch 33 Loss 1.4481\n",
      "Epoch 16 Batch 34 Loss 1.4607\n",
      "Epoch 16 Batch 35 Loss 1.5011\n",
      "Epoch 16 Batch 36 Loss 1.4826\n",
      "Epoch 16 Batch 37 Loss 1.4871\n",
      "Epoch 16 Batch 38 Loss 1.5003\n",
      "Epoch 16 Batch 39 Loss 1.4649\n",
      "Epoch 16 Batch 40 Loss 1.4594\n",
      "Epoch 16 Batch 41 Loss 1.4756\n",
      "Epoch 16 Batch 42 Loss 1.5036\n",
      "Epoch 16 Batch 43 Loss 1.4889\n",
      "Epoch 16 Batch 44 Loss 1.4974\n",
      "Epoch 16 Batch 45 Loss 1.4856\n",
      "Epoch 16 Batch 46 Loss 1.4438\n",
      "Epoch 16 Batch 47 Loss 1.4393\n",
      "Epoch 16 Batch 48 Loss 1.4544\n",
      "Epoch 16 Batch 49 Loss 1.4772\n",
      "Epoch 16 Batch 50 Loss 1.5034\n",
      "Epoch 16 Batch 51 Loss 1.4931\n",
      "Epoch 16 Batch 52 Loss 1.4793\n",
      "Epoch 16 Batch 53 Loss 1.4351\n",
      "Epoch 16 Batch 54 Loss 1.4297\n",
      "Epoch 16 Batch 55 Loss 1.4504\n",
      "Epoch 16 Batch 56 Loss 1.5234\n",
      "Epoch 16 Batch 57 Loss 1.5372\n",
      "Epoch 16 Batch 58 Loss 1.5167\n",
      "Epoch 16 Batch 59 Loss 1.5035\n",
      "14000\n",
      "Epoch 16 Loss 0.006324\n",
      "Time taken for 1 epoch 39.42359232902527 sec\n",
      "\n",
      "Epoch 17 Batch 0 Loss 1.5234\n",
      "Epoch 17 Batch 1 Loss 1.5004\n",
      "Epoch 17 Batch 2 Loss 1.4958\n",
      "Epoch 17 Batch 3 Loss 1.4643\n",
      "Epoch 17 Batch 4 Loss 1.4475\n",
      "Epoch 17 Batch 5 Loss 1.4465\n",
      "Epoch 17 Batch 6 Loss 1.4666\n",
      "Epoch 17 Batch 7 Loss 1.5077\n",
      "Epoch 17 Batch 8 Loss 1.4894\n",
      "Epoch 17 Batch 9 Loss 1.4854\n",
      "Epoch 17 Batch 10 Loss 1.4662\n",
      "Epoch 17 Batch 11 Loss 1.4418\n",
      "Epoch 17 Batch 12 Loss 1.4478\n",
      "Epoch 17 Batch 13 Loss 1.4639\n",
      "Epoch 17 Batch 14 Loss 1.5031\n",
      "Epoch 17 Batch 15 Loss 1.4915\n",
      "Epoch 17 Batch 16 Loss 1.4874\n",
      "Epoch 17 Batch 17 Loss 1.4695\n",
      "Epoch 17 Batch 18 Loss 1.4403\n",
      "Epoch 17 Batch 19 Loss 1.4414\n",
      "Epoch 17 Batch 20 Loss 1.4521\n",
      "Epoch 17 Batch 21 Loss 1.4981\n",
      "Epoch 17 Batch 22 Loss 1.4879\n",
      "Epoch 17 Batch 23 Loss 1.4759\n",
      "Epoch 17 Batch 24 Loss 1.4566\n",
      "Epoch 17 Batch 25 Loss 1.4426\n",
      "Epoch 17 Batch 26 Loss 1.4430\n",
      "Epoch 17 Batch 27 Loss 1.4569\n",
      "Epoch 17 Batch 28 Loss 1.5036\n",
      "Epoch 17 Batch 29 Loss 1.4862\n",
      "Epoch 17 Batch 30 Loss 1.4673\n",
      "Epoch 17 Batch 31 Loss 1.4618\n",
      "Epoch 17 Batch 32 Loss 1.4397\n",
      "Epoch 17 Batch 33 Loss 1.4414\n",
      "Epoch 17 Batch 34 Loss 1.4555\n",
      "Epoch 17 Batch 35 Loss 1.4958\n",
      "Epoch 17 Batch 36 Loss 1.4753\n",
      "Epoch 17 Batch 37 Loss 1.4743\n",
      "Epoch 17 Batch 38 Loss 1.4789\n",
      "Epoch 17 Batch 39 Loss 1.4513\n",
      "Epoch 17 Batch 40 Loss 1.4509\n",
      "Epoch 17 Batch 41 Loss 1.4684\n",
      "Epoch 17 Batch 42 Loss 1.4963\n",
      "Epoch 17 Batch 43 Loss 1.4770\n",
      "Epoch 17 Batch 44 Loss 1.4843\n",
      "Epoch 17 Batch 45 Loss 1.4716\n",
      "Epoch 17 Batch 46 Loss 1.4402\n",
      "Epoch 17 Batch 47 Loss 1.4397\n",
      "Epoch 17 Batch 48 Loss 1.4549\n",
      "Epoch 17 Batch 49 Loss 1.4743\n",
      "Epoch 17 Batch 50 Loss 1.4942\n",
      "Epoch 17 Batch 51 Loss 1.4843\n",
      "Epoch 17 Batch 52 Loss 1.4730\n",
      "Epoch 17 Batch 53 Loss 1.4375\n",
      "Epoch 17 Batch 54 Loss 1.4335\n",
      "Epoch 17 Batch 55 Loss 1.4512\n",
      "Epoch 17 Batch 56 Loss 1.5191\n",
      "Epoch 17 Batch 57 Loss 1.5297\n",
      "Epoch 17 Batch 58 Loss 1.5124\n",
      "Epoch 17 Batch 59 Loss 1.5013\n",
      "14000\n",
      "Epoch 17 Loss 0.006308\n",
      "Time taken for 1 epoch 40.002460956573486 sec\n",
      "\n",
      "Epoch 18 Batch 0 Loss 1.5112\n",
      "Epoch 18 Batch 1 Loss 1.4912\n",
      "Epoch 18 Batch 2 Loss 1.4879\n",
      "Epoch 18 Batch 3 Loss 1.4611\n",
      "Epoch 18 Batch 4 Loss 1.4442\n",
      "Epoch 18 Batch 5 Loss 1.4416\n",
      "Epoch 18 Batch 6 Loss 1.4589\n",
      "Epoch 18 Batch 7 Loss 1.4982\n",
      "Epoch 18 Batch 8 Loss 1.4818\n",
      "Epoch 18 Batch 9 Loss 1.4788\n",
      "Epoch 18 Batch 10 Loss 1.4611\n",
      "Epoch 18 Batch 11 Loss 1.4364\n",
      "Epoch 18 Batch 12 Loss 1.4427\n",
      "Epoch 18 Batch 13 Loss 1.4592\n",
      "Epoch 18 Batch 14 Loss 1.4992\n",
      "Epoch 18 Batch 15 Loss 1.4874\n",
      "Epoch 18 Batch 16 Loss 1.4835\n",
      "Epoch 18 Batch 17 Loss 1.4661\n",
      "Epoch 18 Batch 18 Loss 1.4387\n",
      "Epoch 18 Batch 19 Loss 1.4396\n",
      "Epoch 18 Batch 20 Loss 1.4519\n",
      "Epoch 18 Batch 21 Loss 1.4962\n",
      "Epoch 18 Batch 22 Loss 1.4853\n",
      "Epoch 18 Batch 23 Loss 1.4739\n",
      "Epoch 18 Batch 24 Loss 1.4557\n",
      "Epoch 18 Batch 25 Loss 1.4417\n",
      "Epoch 18 Batch 26 Loss 1.4427\n",
      "Epoch 18 Batch 27 Loss 1.4565\n",
      "Epoch 18 Batch 28 Loss 1.5008\n",
      "Epoch 18 Batch 29 Loss 1.4842\n",
      "Epoch 18 Batch 30 Loss 1.4665\n",
      "Epoch 18 Batch 31 Loss 1.4613\n",
      "Epoch 18 Batch 32 Loss 1.4396\n",
      "Epoch 18 Batch 33 Loss 1.4412\n",
      "Epoch 18 Batch 34 Loss 1.4555\n",
      "Epoch 18 Batch 35 Loss 1.4942\n",
      "Epoch 18 Batch 36 Loss 1.4749\n",
      "Epoch 18 Batch 37 Loss 1.4719\n",
      "Epoch 18 Batch 38 Loss 1.4743\n",
      "Epoch 18 Batch 39 Loss 1.4470\n",
      "Epoch 18 Batch 40 Loss 1.4476\n",
      "Epoch 18 Batch 41 Loss 1.4642\n",
      "Epoch 18 Batch 42 Loss 1.4928\n",
      "Epoch 18 Batch 43 Loss 1.4740\n",
      "Epoch 18 Batch 44 Loss 1.4822\n",
      "Epoch 18 Batch 45 Loss 1.4688\n",
      "Epoch 18 Batch 46 Loss 1.4389\n",
      "Epoch 18 Batch 47 Loss 1.4391\n",
      "Epoch 18 Batch 48 Loss 1.4549\n",
      "Epoch 18 Batch 49 Loss 1.4738\n",
      "Epoch 18 Batch 50 Loss 1.4926\n",
      "Epoch 18 Batch 51 Loss 1.4822\n",
      "Epoch 18 Batch 52 Loss 1.4710\n",
      "Epoch 18 Batch 53 Loss 1.4372\n",
      "Epoch 18 Batch 54 Loss 1.4343\n",
      "Epoch 18 Batch 55 Loss 1.4509\n",
      "Epoch 18 Batch 56 Loss 1.5183\n"
     ]
    },
    {
     "name": "stdout",
     "output_type": "stream",
     "text": [
      "Epoch 18 Batch 57 Loss 1.5276\n",
      "Epoch 18 Batch 58 Loss 1.5108\n",
      "Epoch 18 Batch 59 Loss 1.5001\n",
      "14000\n",
      "Epoch 18 Loss 0.006296\n",
      "Time taken for 1 epoch 40.11274480819702 sec\n",
      "\n",
      "Epoch 19 Batch 0 Loss 1.5070\n",
      "Epoch 19 Batch 1 Loss 1.4874\n",
      "Epoch 19 Batch 2 Loss 1.4843\n",
      "Epoch 19 Batch 3 Loss 1.4590\n",
      "Epoch 19 Batch 4 Loss 1.4424\n",
      "Epoch 19 Batch 5 Loss 1.4394\n",
      "Epoch 19 Batch 6 Loss 1.4561\n",
      "Epoch 19 Batch 7 Loss 1.4940\n",
      "Epoch 19 Batch 8 Loss 1.4784\n",
      "Epoch 19 Batch 9 Loss 1.4756\n",
      "Epoch 19 Batch 10 Loss 1.4587\n",
      "Epoch 19 Batch 11 Loss 1.4341\n",
      "Epoch 19 Batch 12 Loss 1.4405\n",
      "Epoch 19 Batch 13 Loss 1.4573\n",
      "Epoch 19 Batch 14 Loss 1.4970\n",
      "Epoch 19 Batch 15 Loss 1.4852\n",
      "Epoch 19 Batch 16 Loss 1.4818\n",
      "Epoch 19 Batch 17 Loss 1.4643\n",
      "Epoch 19 Batch 18 Loss 1.4376\n",
      "Epoch 19 Batch 19 Loss 1.4389\n",
      "Epoch 19 Batch 20 Loss 1.4514\n",
      "Epoch 19 Batch 21 Loss 1.4950\n",
      "Epoch 19 Batch 22 Loss 1.4841\n",
      "Epoch 19 Batch 23 Loss 1.4728\n",
      "Epoch 19 Batch 24 Loss 1.4550\n",
      "Epoch 19 Batch 25 Loss 1.4415\n",
      "Epoch 19 Batch 26 Loss 1.4424\n",
      "Epoch 19 Batch 27 Loss 1.4561\n",
      "Epoch 19 Batch 28 Loss 1.4997\n",
      "Epoch 19 Batch 29 Loss 1.4832\n",
      "Epoch 19 Batch 30 Loss 1.4658\n",
      "Epoch 19 Batch 31 Loss 1.4614\n",
      "Epoch 19 Batch 32 Loss 1.4400\n",
      "Epoch 19 Batch 33 Loss 1.4414\n",
      "Epoch 19 Batch 34 Loss 1.4557\n",
      "Epoch 19 Batch 35 Loss 1.4935\n",
      "Epoch 19 Batch 36 Loss 1.4746\n",
      "Epoch 19 Batch 37 Loss 1.4706\n",
      "Epoch 19 Batch 38 Loss 1.4720\n",
      "Epoch 19 Batch 39 Loss 1.4445\n",
      "Epoch 19 Batch 40 Loss 1.4454\n",
      "Epoch 19 Batch 41 Loss 1.4615\n",
      "Epoch 19 Batch 42 Loss 1.4903\n",
      "Epoch 19 Batch 43 Loss 1.4721\n",
      "Epoch 19 Batch 44 Loss 1.4808\n",
      "Epoch 19 Batch 45 Loss 1.4671\n",
      "Epoch 19 Batch 46 Loss 1.4375\n",
      "Epoch 19 Batch 47 Loss 1.4380\n",
      "Epoch 19 Batch 48 Loss 1.4544\n",
      "Epoch 19 Batch 49 Loss 1.4733\n",
      "Epoch 19 Batch 50 Loss 1.4917\n",
      "Epoch 19 Batch 51 Loss 1.4811\n",
      "Epoch 19 Batch 52 Loss 1.4698\n",
      "Epoch 19 Batch 53 Loss 1.4366\n",
      "Epoch 19 Batch 54 Loss 1.4347\n",
      "Epoch 19 Batch 55 Loss 1.4511\n",
      "Epoch 19 Batch 56 Loss 1.5183\n",
      "Epoch 19 Batch 57 Loss 1.5267\n",
      "Epoch 19 Batch 58 Loss 1.5101\n",
      "Epoch 19 Batch 59 Loss 1.4994\n",
      "14000\n",
      "Epoch 19 Loss 0.006290\n",
      "Time taken for 1 epoch 38.220736026763916 sec\n",
      "\n",
      "Epoch 20 Batch 0 Loss 1.5044\n",
      "Epoch 20 Batch 1 Loss 1.4850\n",
      "Epoch 20 Batch 2 Loss 1.4818\n",
      "Epoch 20 Batch 3 Loss 1.4574\n",
      "Epoch 20 Batch 4 Loss 1.4414\n",
      "Epoch 20 Batch 5 Loss 1.4383\n",
      "Epoch 20 Batch 6 Loss 1.4544\n",
      "Epoch 20 Batch 7 Loss 1.4911\n",
      "Epoch 20 Batch 8 Loss 1.4760\n",
      "Epoch 20 Batch 9 Loss 1.4733\n",
      "Epoch 20 Batch 10 Loss 1.4569\n",
      "Epoch 20 Batch 11 Loss 1.4326\n",
      "Epoch 20 Batch 12 Loss 1.4392\n",
      "Epoch 20 Batch 13 Loss 1.4560\n",
      "Epoch 20 Batch 14 Loss 1.4953\n",
      "Epoch 20 Batch 15 Loss 1.4835\n",
      "Epoch 20 Batch 16 Loss 1.4804\n",
      "Epoch 20 Batch 17 Loss 1.4627\n",
      "Epoch 20 Batch 18 Loss 1.4368\n",
      "Epoch 20 Batch 19 Loss 1.4383\n",
      "Epoch 20 Batch 20 Loss 1.4508\n",
      "Epoch 20 Batch 21 Loss 1.4940\n",
      "Epoch 20 Batch 22 Loss 1.4830\n",
      "Epoch 20 Batch 23 Loss 1.4715\n",
      "Epoch 20 Batch 24 Loss 1.4540\n",
      "Epoch 20 Batch 25 Loss 1.4412\n",
      "Epoch 20 Batch 26 Loss 1.4422\n",
      "Epoch 20 Batch 27 Loss 1.4558\n",
      "Epoch 20 Batch 28 Loss 1.4989\n",
      "Epoch 20 Batch 29 Loss 1.4822\n",
      "Epoch 20 Batch 30 Loss 1.4652\n",
      "Epoch 20 Batch 31 Loss 1.4614\n",
      "Epoch 20 Batch 32 Loss 1.4405\n",
      "Epoch 20 Batch 33 Loss 1.4416\n",
      "Epoch 20 Batch 34 Loss 1.4561\n",
      "Epoch 20 Batch 35 Loss 1.4930\n",
      "Epoch 20 Batch 36 Loss 1.4742\n",
      "Epoch 20 Batch 37 Loss 1.4696\n",
      "Epoch 20 Batch 38 Loss 1.4705\n",
      "Epoch 20 Batch 39 Loss 1.4430\n",
      "Epoch 20 Batch 40 Loss 1.4440\n",
      "Epoch 20 Batch 41 Loss 1.4597\n",
      "Epoch 20 Batch 42 Loss 1.4885\n",
      "Epoch 20 Batch 43 Loss 1.4705\n",
      "Epoch 20 Batch 44 Loss 1.4794\n",
      "Epoch 20 Batch 45 Loss 1.4656\n",
      "Epoch 20 Batch 46 Loss 1.4362\n",
      "Epoch 20 Batch 47 Loss 1.4368\n",
      "Epoch 20 Batch 48 Loss 1.4535\n",
      "Epoch 20 Batch 49 Loss 1.4724\n",
      "Epoch 20 Batch 50 Loss 1.4905\n",
      "Epoch 20 Batch 51 Loss 1.4799\n",
      "Epoch 20 Batch 52 Loss 1.4686\n",
      "Epoch 20 Batch 53 Loss 1.4357\n",
      "Epoch 20 Batch 54 Loss 1.4347\n",
      "Epoch 20 Batch 55 Loss 1.4509\n",
      "Epoch 20 Batch 56 Loss 1.5184\n",
      "Epoch 20 Batch 57 Loss 1.5263\n",
      "Epoch 20 Batch 58 Loss 1.5098\n",
      "Epoch 20 Batch 59 Loss 1.4989\n",
      "14000\n",
      "Epoch 20 Loss 0.006285\n",
      "Time taken for 1 epoch 40.58538866043091 sec\n",
      "\n"
     ]
    }
   ],
   "source": [
    "import time\n",
    "EPOCHS = 20\n",
    "\n",
    "for epoch in range(start_epoch, EPOCHS):\n",
    "    start = time.time()\n",
    "    total_loss = 0\n",
    "\n",
    "    for (batch, (img_tensor, target)) in enumerate(image_dataset_encoded):\n",
    "      #print(img_tensor.shape)\n",
    "      #print(target.shape)\n",
    "        batch_loss, t_loss = train_step(img_tensor, target)\n",
    "        total_loss += t_loss\n",
    "\n",
    "        if batch % 1 == 0:\n",
    "            print ('Epoch {} Batch {} Loss {:.4f}'.format(\n",
    "                epoch + 1, batch, batch_loss / int(target.shape[1])))\n",
    "    # storing the epoch end loss value to plot later\n",
    "    loss_plot.append(total_loss / num_steps)\n",
    "\n",
    "    if epoch % 5 == 0:\n",
    "        ckpt_manager.save() \n",
    "    print(num_steps)\n",
    "    print ('Epoch {} Loss {:.6f}'.format(epoch + 1,\n",
    "                                         total_loss/num_steps))\n",
    "    print ('Time taken for 1 epoch {} sec\\n'.format(time.time() - start))"
   ]
  },
  {
   "cell_type": "code",
   "execution_count": 40,
   "metadata": {
    "colab": {
     "base_uri": "https://localhost:8080/",
     "height": 295
    },
    "executionInfo": {
     "elapsed": 5485,
     "status": "ok",
     "timestamp": 1605397126122,
     "user": {
      "displayName": "Morgan Allen",
      "photoUrl": "https://lh3.googleusercontent.com/a-/AOh14GjaNMWmr2TlLrY_MBSDquiSqhgTuK8vCNzY4tLH=s64",
      "userId": "12026828979516915336"
     },
     "user_tz": 360
    },
    "id": "lsSx6FGZZh3q",
    "outputId": "94b1a0e7-25ef-4bb5-e1ed-cdd2b0c113eb"
   },
   "outputs": [
    {
     "data": {
      "image/png": "[encoded data removed]",
      "text/plain": [
       "<Figure size 432x288 with 1 Axes>"
      ]
     },
     "metadata": {
      "needs_background": "light"
     },
     "output_type": "display_data"
    }
   ],
   "source": [
    "plt.plot(loss_plot)\n",
    "plt.xlabel('Epochs')\n",
    "plt.ylabel('Loss')\n",
    "plt.title('Loss Plot')\n",
    "plt.show()"
   ]
  },
  {
   "cell_type": "markdown",
   "metadata": {
    "id": "S60WeHNwdPDG"
   },
   "source": [
    "# Evaluate"
   ]
  },
  {
   "cell_type": "code",
   "execution_count": 47,
   "metadata": {
    "id": "31N4XxAYcahR"
   },
   "outputs": [],
   "source": [
    "def evaluate(image):\n",
    "    attention_plot = np.zeros((max_length, attention_features_shape))\n",
    "\n",
    "    hidden = decoder.reset_state(batch_size=1)\n",
    "\n",
    "    temp_input = tf.expand_dims(image, 0)\n",
    "    img_tensor_val = image_features_extract_model(temp_input)\n",
    "    img_tensor_val = tf.reshape(img_tensor_val, (img_tensor_val.shape[0], -1, img_tensor_val.shape[3]))\n",
    "\n",
    "    features = encoder(img_tensor_val)\n",
    "\n",
    "    dec_input = tf.expand_dims([tokenizer.word_index['\\t']], 0)\n",
    "    result = []\n",
    "\n",
    "    for i in range(max_length):\n",
    "        predictions, hidden, attention_weights = decoder(dec_input, features, hidden)\n",
    "        attention_plot[i] = tf.reshape(attention_weights, (-1, ))\n",
    "\n",
    "        predicted_id = tf.random.categorical(predictions, 1)[0][0]\n",
    "        predicted_id = int(predicted_id)\n",
    "        result.append(tokenizer.index_word[predicted_id])\n",
    "\n",
    "        if tokenizer.index_word[predicted_id] == '\\n':\n",
    "            return result, attention_plot\n",
    "\n",
    "        dec_input = tf.expand_dims([predicted_id], 0)\n",
    "\n",
    "    attention_plot = attention_plot[:len(result), :]\n",
    "    return result, attention_plot"
   ]
  },
  {
   "cell_type": "code",
   "execution_count": 48,
   "metadata": {},
   "outputs": [],
   "source": [
    "test_img = img_mini[16000]"
   ]
  },
  {
   "cell_type": "code",
   "execution_count": 49,
   "metadata": {
    "id": "CEEvzEL8dmsV"
   },
   "outputs": [],
   "source": [
    "def plot_attention(image, result, attention_plot):\n",
    "    temp_image = np.array(image)\n",
    "\n",
    "    fig = plt.figure(figsize=(10, 10))\n",
    "\n",
    "    len_result = len(result)\n",
    "    for l in range(len_result):\n",
    "        temp_att = np.resize(attention_plot[l], (8, 8))\n",
    "        ax = fig.add_subplot(len_result//2, len_result//2, l+1)\n",
    "        ax.set_title(result[l])\n",
    "        img = ax.imshow(temp_image)\n",
    "        ax.imshow(temp_att, cmap='gray', alpha=0.6, extent=img.get_extent())\n",
    "\n",
    "    plt.tight_layout()\n",
    "    plt.show();"
   ]
  },
  {
   "cell_type": "markdown",
   "metadata": {
    "id": "p-GvV9Q9eaJh"
   },
   "source": [
    "Run attention_plot to see what it looks like"
   ]
  },
  {
   "cell_type": "code",
   "execution_count": 50,
   "metadata": {
    "colab": {
     "base_uri": "https://localhost:8080/",
     "height": 822
    },
    "executionInfo": {
     "elapsed": 1655,
     "status": "ok",
     "timestamp": 1605397136287,
     "user": {
      "displayName": "Morgan Allen",
      "photoUrl": "https://lh3.googleusercontent.com/a-/AOh14GjaNMWmr2TlLrY_MBSDquiSqhgTuK8vCNzY4tLH=s64",
      "userId": "12026828979516915336"
     },
     "user_tz": 360
    },
    "id": "0aBJHIb3dpoo",
    "outputId": "6fc5ed8d-0585-409a-a143-8cd23b15d7b0"
   },
   "outputs": [
    {
     "name": "stderr",
     "output_type": "stream",
     "text": [
      "Clipping input data to the valid range for imshow with RGB data ([0..1] for floats or [0..255] for integers).\n",
      "Clipping input data to the valid range for imshow with RGB data ([0..1] for floats or [0..255] for integers).\n",
      "Clipping input data to the valid range for imshow with RGB data ([0..1] for floats or [0..255] for integers).\n",
      "Clipping input data to the valid range for imshow with RGB data ([0..1] for floats or [0..255] for integers).\n"
     ]
    },
    {
     "name": "stdout",
     "output_type": "stream",
     "text": [
      "Prediction Caption: 2 y + 2 \n",
      "\n"
     ]
    },
    {
     "ename": "ValueError",
     "evalue": "num must be 1 <= num <= 4, not 5",
     "output_type": "error",
     "traceback": [
      "\u001b[0;31m---------------------------------------------------------------------------\u001b[0m",
      "\u001b[0;31mValueError\u001b[0m                                Traceback (most recent call last)",
      "\u001b[0;32m<ipython-input-50-4ef9816bafa7>\u001b[0m in \u001b[0;36m<module>\u001b[0;34m\u001b[0m\n\u001b[1;32m      1\u001b[0m \u001b[0mresult\u001b[0m\u001b[0;34m,\u001b[0m \u001b[0mattention_plot\u001b[0m \u001b[0;34m=\u001b[0m \u001b[0mevaluate\u001b[0m\u001b[0;34m(\u001b[0m\u001b[0mtest_img\u001b[0m\u001b[0;34m)\u001b[0m\u001b[0;34m\u001b[0m\u001b[0;34m\u001b[0m\u001b[0m\n\u001b[1;32m      2\u001b[0m \u001b[0mprint\u001b[0m \u001b[0;34m(\u001b[0m\u001b[0;34m'Prediction Caption:'\u001b[0m\u001b[0;34m,\u001b[0m \u001b[0;34m' '\u001b[0m\u001b[0;34m.\u001b[0m\u001b[0mjoin\u001b[0m\u001b[0;34m(\u001b[0m\u001b[0mresult\u001b[0m\u001b[0;34m)\u001b[0m\u001b[0;34m)\u001b[0m\u001b[0;34m\u001b[0m\u001b[0;34m\u001b[0m\u001b[0m\n\u001b[0;32m----> 3\u001b[0;31m \u001b[0mplot_attention\u001b[0m\u001b[0;34m(\u001b[0m\u001b[0mtest_img\u001b[0m\u001b[0;34m,\u001b[0m \u001b[0mresult\u001b[0m\u001b[0;34m,\u001b[0m \u001b[0mattention_plot\u001b[0m\u001b[0;34m)\u001b[0m\u001b[0;34m\u001b[0m\u001b[0;34m\u001b[0m\u001b[0m\n\u001b[0m\u001b[1;32m      4\u001b[0m \u001b[0;31m# opening the image\u001b[0m\u001b[0;34m\u001b[0m\u001b[0;34m\u001b[0m\u001b[0;34m\u001b[0m\u001b[0m\n\u001b[1;32m      5\u001b[0m \u001b[0mplt\u001b[0m\u001b[0;34m.\u001b[0m\u001b[0mimshow\u001b[0m\u001b[0;34m(\u001b[0m\u001b[0mtest_img\u001b[0m\u001b[0;34m)\u001b[0m\u001b[0;34m\u001b[0m\u001b[0;34m\u001b[0m\u001b[0m\n",
      "\u001b[0;32m<ipython-input-49-d19545798c7a>\u001b[0m in \u001b[0;36mplot_attention\u001b[0;34m(image, result, attention_plot)\u001b[0m\n\u001b[1;32m      7\u001b[0m     \u001b[0;32mfor\u001b[0m \u001b[0ml\u001b[0m \u001b[0;32min\u001b[0m \u001b[0mrange\u001b[0m\u001b[0;34m(\u001b[0m\u001b[0mlen_result\u001b[0m\u001b[0;34m)\u001b[0m\u001b[0;34m:\u001b[0m\u001b[0;34m\u001b[0m\u001b[0;34m\u001b[0m\u001b[0m\n\u001b[1;32m      8\u001b[0m         \u001b[0mtemp_att\u001b[0m \u001b[0;34m=\u001b[0m \u001b[0mnp\u001b[0m\u001b[0;34m.\u001b[0m\u001b[0mresize\u001b[0m\u001b[0;34m(\u001b[0m\u001b[0mattention_plot\u001b[0m\u001b[0;34m[\u001b[0m\u001b[0ml\u001b[0m\u001b[0;34m]\u001b[0m\u001b[0;34m,\u001b[0m \u001b[0;34m(\u001b[0m\u001b[0;36m8\u001b[0m\u001b[0;34m,\u001b[0m \u001b[0;36m8\u001b[0m\u001b[0;34m)\u001b[0m\u001b[0;34m)\u001b[0m\u001b[0;34m\u001b[0m\u001b[0;34m\u001b[0m\u001b[0m\n\u001b[0;32m----> 9\u001b[0;31m         \u001b[0max\u001b[0m \u001b[0;34m=\u001b[0m \u001b[0mfig\u001b[0m\u001b[0;34m.\u001b[0m\u001b[0madd_subplot\u001b[0m\u001b[0;34m(\u001b[0m\u001b[0mlen_result\u001b[0m\u001b[0;34m//\u001b[0m\u001b[0;36m2\u001b[0m\u001b[0;34m,\u001b[0m \u001b[0mlen_result\u001b[0m\u001b[0;34m//\u001b[0m\u001b[0;36m2\u001b[0m\u001b[0;34m,\u001b[0m \u001b[0ml\u001b[0m\u001b[0;34m+\u001b[0m\u001b[0;36m1\u001b[0m\u001b[0;34m)\u001b[0m\u001b[0;34m\u001b[0m\u001b[0;34m\u001b[0m\u001b[0m\n\u001b[0m\u001b[1;32m     10\u001b[0m         \u001b[0max\u001b[0m\u001b[0;34m.\u001b[0m\u001b[0mset_title\u001b[0m\u001b[0;34m(\u001b[0m\u001b[0mresult\u001b[0m\u001b[0;34m[\u001b[0m\u001b[0ml\u001b[0m\u001b[0;34m]\u001b[0m\u001b[0;34m)\u001b[0m\u001b[0;34m\u001b[0m\u001b[0;34m\u001b[0m\u001b[0m\n\u001b[1;32m     11\u001b[0m         \u001b[0mimg\u001b[0m \u001b[0;34m=\u001b[0m \u001b[0max\u001b[0m\u001b[0;34m.\u001b[0m\u001b[0mimshow\u001b[0m\u001b[0;34m(\u001b[0m\u001b[0mtemp_image\u001b[0m\u001b[0;34m)\u001b[0m\u001b[0;34m\u001b[0m\u001b[0;34m\u001b[0m\u001b[0m\n",
      "\u001b[0;32m/opt/miniconda3/lib/python3.7/site-packages/matplotlib/figure.py\u001b[0m in \u001b[0;36madd_subplot\u001b[0;34m(self, *args, **kwargs)\u001b[0m\n\u001b[1;32m   1400\u001b[0m                     \u001b[0;31m# more similar to add_axes.\u001b[0m\u001b[0;34m\u001b[0m\u001b[0;34m\u001b[0m\u001b[0;34m\u001b[0m\u001b[0m\n\u001b[1;32m   1401\u001b[0m                     \u001b[0mself\u001b[0m\u001b[0;34m.\u001b[0m\u001b[0m_axstack\u001b[0m\u001b[0;34m.\u001b[0m\u001b[0mremove\u001b[0m\u001b[0;34m(\u001b[0m\u001b[0max\u001b[0m\u001b[0;34m)\u001b[0m\u001b[0;34m\u001b[0m\u001b[0;34m\u001b[0m\u001b[0m\n\u001b[0;32m-> 1402\u001b[0;31m             \u001b[0max\u001b[0m \u001b[0;34m=\u001b[0m \u001b[0msubplot_class_factory\u001b[0m\u001b[0;34m(\u001b[0m\u001b[0mprojection_class\u001b[0m\u001b[0;34m)\u001b[0m\u001b[0;34m(\u001b[0m\u001b[0mself\u001b[0m\u001b[0;34m,\u001b[0m \u001b[0;34m*\u001b[0m\u001b[0margs\u001b[0m\u001b[0;34m,\u001b[0m \u001b[0;34m**\u001b[0m\u001b[0mkwargs\u001b[0m\u001b[0;34m)\u001b[0m\u001b[0;34m\u001b[0m\u001b[0;34m\u001b[0m\u001b[0m\n\u001b[0m\u001b[1;32m   1403\u001b[0m \u001b[0;34m\u001b[0m\u001b[0m\n\u001b[1;32m   1404\u001b[0m         \u001b[0;32mreturn\u001b[0m \u001b[0mself\u001b[0m\u001b[0;34m.\u001b[0m\u001b[0m_add_axes_internal\u001b[0m\u001b[0;34m(\u001b[0m\u001b[0mkey\u001b[0m\u001b[0;34m,\u001b[0m \u001b[0max\u001b[0m\u001b[0;34m)\u001b[0m\u001b[0;34m\u001b[0m\u001b[0;34m\u001b[0m\u001b[0m\n",
      "\u001b[0;32m/opt/miniconda3/lib/python3.7/site-packages/matplotlib/axes/_subplots.py\u001b[0m in \u001b[0;36m__init__\u001b[0;34m(self, fig, *args, **kwargs)\u001b[0m\n\u001b[1;32m     37\u001b[0m \u001b[0;34m\u001b[0m\u001b[0m\n\u001b[1;32m     38\u001b[0m         \u001b[0mself\u001b[0m\u001b[0;34m.\u001b[0m\u001b[0mfigure\u001b[0m \u001b[0;34m=\u001b[0m \u001b[0mfig\u001b[0m\u001b[0;34m\u001b[0m\u001b[0;34m\u001b[0m\u001b[0m\n\u001b[0;32m---> 39\u001b[0;31m         \u001b[0mself\u001b[0m\u001b[0;34m.\u001b[0m\u001b[0m_subplotspec\u001b[0m \u001b[0;34m=\u001b[0m \u001b[0mSubplotSpec\u001b[0m\u001b[0;34m.\u001b[0m\u001b[0m_from_subplot_args\u001b[0m\u001b[0;34m(\u001b[0m\u001b[0mfig\u001b[0m\u001b[0;34m,\u001b[0m \u001b[0margs\u001b[0m\u001b[0;34m)\u001b[0m\u001b[0;34m\u001b[0m\u001b[0;34m\u001b[0m\u001b[0m\n\u001b[0m\u001b[1;32m     40\u001b[0m         \u001b[0mself\u001b[0m\u001b[0;34m.\u001b[0m\u001b[0mupdate_params\u001b[0m\u001b[0;34m(\u001b[0m\u001b[0;34m)\u001b[0m\u001b[0;34m\u001b[0m\u001b[0;34m\u001b[0m\u001b[0m\n\u001b[1;32m     41\u001b[0m         \u001b[0;31m# _axes_class is set in the subplot_class_factory\u001b[0m\u001b[0;34m\u001b[0m\u001b[0;34m\u001b[0m\u001b[0;34m\u001b[0m\u001b[0m\n",
      "\u001b[0;32m/opt/miniconda3/lib/python3.7/site-packages/matplotlib/gridspec.py\u001b[0m in \u001b[0;36m_from_subplot_args\u001b[0;34m(figure, args)\u001b[0m\n\u001b[1;32m    688\u001b[0m                 \u001b[0;32mif\u001b[0m \u001b[0mnum\u001b[0m \u001b[0;34m<\u001b[0m \u001b[0;36m1\u001b[0m \u001b[0;32mor\u001b[0m \u001b[0mnum\u001b[0m \u001b[0;34m>\u001b[0m \u001b[0mrows\u001b[0m\u001b[0;34m*\u001b[0m\u001b[0mcols\u001b[0m\u001b[0;34m:\u001b[0m\u001b[0;34m\u001b[0m\u001b[0;34m\u001b[0m\u001b[0m\n\u001b[1;32m    689\u001b[0m                     raise ValueError(\n\u001b[0;32m--> 690\u001b[0;31m                         f\"num must be 1 <= num <= {rows*cols}, not {num}\")\n\u001b[0m\u001b[1;32m    691\u001b[0m                 \u001b[0;32mreturn\u001b[0m \u001b[0mgs\u001b[0m\u001b[0;34m[\u001b[0m\u001b[0mnum\u001b[0m \u001b[0;34m-\u001b[0m \u001b[0;36m1\u001b[0m\u001b[0;34m]\u001b[0m   \u001b[0;31m# -1 due to MATLAB indexing.\u001b[0m\u001b[0;34m\u001b[0m\u001b[0;34m\u001b[0m\u001b[0m\n\u001b[1;32m    692\u001b[0m         \u001b[0;32melse\u001b[0m\u001b[0;34m:\u001b[0m\u001b[0;34m\u001b[0m\u001b[0;34m\u001b[0m\u001b[0m\n",
      "\u001b[0;31mValueError\u001b[0m: num must be 1 <= num <= 4, not 5"
     ]
    },
    {
     "data": {
      "image/png": "[encoded data removed]",
      "text/plain": [
       "<Figure size 720x720 with 4 Axes>"
      ]
     },
     "metadata": {
      "needs_background": "light"
     },
     "output_type": "display_data"
    }
   ],
   "source": [
    "result, attention_plot = evaluate(test_img)\n",
    "print ('Prediction Caption:', ' '.join(result))\n",
    "plot_attention(test_img, result, attention_plot)\n",
    "# opening the image\n",
    "plt.imshow(test_img)"
   ]
  },
  {
   "cell_type": "code",
   "execution_count": null,
   "metadata": {},
   "outputs": [],
   "source": []
  }
 ],
 "metadata": {
  "accelerator": "GPU",
  "colab": {
   "collapsed_sections": [],
   "name": "Morgan Copy Image Captioning with Attention (Drive).ipynb",
   "provenance": []
  },
  "kernelspec": {
   "display_name": "Python 3",
   "language": "python",
   "name": "python3"
  },
  "language_info": {
   "codemirror_mode": {
    "name": "ipython",
    "version": 3
   },
   "file_extension": ".py",
   "mimetype": "text/x-python",
   "name": "python",
   "nbconvert_exporter": "python",
   "pygments_lexer": "ipython3",
   "version": "3.7.6"
  }
 },
 "nbformat": 4,
 "nbformat_minor": 1
}
