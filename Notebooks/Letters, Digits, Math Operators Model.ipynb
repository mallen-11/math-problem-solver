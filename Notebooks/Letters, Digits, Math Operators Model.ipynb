{
 "cells": [
  {
   "cell_type": "code",
   "execution_count": 1,
   "metadata": {},
   "outputs": [
    {
     "name": "stdout",
     "output_type": "stream",
     "text": [
      "Requirement already satisfied: tensorflow-addons in /opt/miniconda3/lib/python3.7/site-packages (0.11.2)\r\n",
      "Requirement already satisfied: typeguard>=2.7 in /opt/miniconda3/lib/python3.7/site-packages (from tensorflow-addons) (2.9.1)\r\n"
     ]
    }
   ],
   "source": [
    "import tensorflow as tf\n",
    "import numpy as np\n",
    "import pandas as pd\n",
    "from matplotlib import pyplot as plt\n",
    "\n",
    "from sklearn.linear_model import LogisticRegression\n",
    "from sklearn.metrics import plot_confusion_matrix, confusion_matrix\n",
    "\n",
    "from tensorflow.keras.layers import Dense, Flatten, Conv2D, MaxPooling2D, Dropout, BatchNormalization\n",
    "from tensorflow.keras import Model\n",
    "from tensorflow.keras.models import Sequential\n",
    "\n",
    "!pip install tensorflow-addons\n",
    "import tensorflow_addons as tfa\n",
    "\n",
    "import itertools\n",
    "\n",
    "tf.random.set_seed(1)"
   ]
  },
  {
   "cell_type": "code",
   "execution_count": 2,
   "metadata": {},
   "outputs": [],
   "source": [
    "import pickle\n",
    "\n",
    "images1 = pickle.load( open('../../CROHME_extractor/outputs1/train1/train.pickle', 'rb') )\n",
    "images2 = pickle.load( open('../../CROHME_extractor/outputs2/train2/train.pickle', 'rb') )\n",
    "images3 = pickle.load( open('../../CROHME_extractor/outputs3/train3/train.pickle', 'rb') )"
   ]
  },
  {
   "cell_type": "code",
   "execution_count": 3,
   "metadata": {},
   "outputs": [],
   "source": [
    "images = images1 + images2 + images3"
   ]
  },
  {
   "cell_type": "code",
   "execution_count": 4,
   "metadata": {},
   "outputs": [],
   "source": [
    "classes = pd.read_csv('../../CROHME_extractor/classes.txt', header =None)"
   ]
  },
  {
   "cell_type": "code",
   "execution_count": 5,
   "metadata": {},
   "outputs": [
    {
     "data": {
      "text/plain": [
       "{0: '(',\n",
       " 1: ')',\n",
       " 2: '+',\n",
       " 3: '-',\n",
       " 4: '0',\n",
       " 5: '1',\n",
       " 6: '2',\n",
       " 7: '3',\n",
       " 8: '4',\n",
       " 9: '5',\n",
       " 10: '6',\n",
       " 11: '7',\n",
       " 12: '8',\n",
       " 13: '9',\n",
       " 14: '=',\n",
       " 15: 'a',\n",
       " 16: 'b',\n",
       " 17: 'c',\n",
       " 18: 'd',\n",
       " 19: 'e',\n",
       " 20: 'i',\n",
       " 21: 'j',\n",
       " 22: 'k',\n",
       " 23: 'n',\n",
       " 24: 'x',\n",
       " 25: 'y',\n",
       " 26: 'z'}"
      ]
     },
     "execution_count": 5,
     "metadata": {},
     "output_type": "execute_result"
    }
   ],
   "source": [
    "classes.to_dict()[0]"
   ]
  },
  {
   "cell_type": "code",
   "execution_count": 6,
   "metadata": {},
   "outputs": [],
   "source": [
    "X_train = []\n",
    "y_train = []\n",
    "for i in images:\n",
    "    X_train.append(np.resize(i['features'], (50,50,1)))\n",
    "    y_train.append(i['label'])"
   ]
  },
  {
   "cell_type": "code",
   "execution_count": 7,
   "metadata": {},
   "outputs": [
    {
     "data": {
      "text/plain": [
       "(50, 50, 1)"
      ]
     },
     "execution_count": 7,
     "metadata": {},
     "output_type": "execute_result"
    }
   ],
   "source": [
    "X_train[0].shape"
   ]
  },
  {
   "cell_type": "code",
   "execution_count": 8,
   "metadata": {},
   "outputs": [],
   "source": [
    "X_train = np.array(X_train)\n",
    "y_train = np.array(y_train)"
   ]
  },
  {
   "cell_type": "code",
   "execution_count": 9,
   "metadata": {},
   "outputs": [],
   "source": [
    "X_train=1-X_train"
   ]
  },
  {
   "cell_type": "code",
   "execution_count": 10,
   "metadata": {},
   "outputs": [],
   "source": [
    "y_train = np.argmax(y_train, axis=1)"
   ]
  },
  {
   "cell_type": "code",
   "execution_count": 11,
   "metadata": {},
   "outputs": [
    {
     "data": {
      "text/plain": [
       "(27352, 50, 50, 1)"
      ]
     },
     "execution_count": 11,
     "metadata": {},
     "output_type": "execute_result"
    }
   ],
   "source": [
    "X_train.shape"
   ]
  },
  {
   "cell_type": "code",
   "execution_count": 12,
   "metadata": {},
   "outputs": [
    {
     "data": {
      "text/plain": [
       "(27352,)"
      ]
     },
     "execution_count": 12,
     "metadata": {},
     "output_type": "execute_result"
    }
   ],
   "source": [
    "y_train.shape"
   ]
  },
  {
   "cell_type": "code",
   "execution_count": 13,
   "metadata": {},
   "outputs": [],
   "source": [
    "#X_train = tfa.image.rotate(X_train, -20*3.14/180, interpolation='BILINEAR')"
   ]
  },
  {
   "cell_type": "code",
   "execution_count": 14,
   "metadata": {},
   "outputs": [
    {
     "data": {
      "text/plain": [
       "27352"
      ]
     },
     "execution_count": 14,
     "metadata": {},
     "output_type": "execute_result"
    }
   ],
   "source": [
    "X_train.shape[0]"
   ]
  },
  {
   "cell_type": "code",
   "execution_count": 15,
   "metadata": {},
   "outputs": [
    {
     "data": {
      "text/plain": [
       "<matplotlib.image.AxesImage at 0x7fd5ddbcfd90>"
      ]
     },
     "execution_count": 15,
     "metadata": {},
     "output_type": "execute_result"
    },
    {
     "data": {
      "image/png": "[encoded data removed]",
      "text/plain": [
       "<Figure size 432x288 with 1 Axes>"
      ]
     },
     "metadata": {
      "needs_background": "light"
     },
     "output_type": "display_data"
    }
   ],
   "source": [
    "plt.imshow(X_train[9122])"
   ]
  },
  {
   "cell_type": "code",
   "execution_count": 16,
   "metadata": {},
   "outputs": [
    {
     "data": {
      "text/plain": [
       "<matplotlib.image.AxesImage at 0x7fd5f8d636d0>"
      ]
     },
     "execution_count": 16,
     "metadata": {},
     "output_type": "execute_result"
    },
    {
     "data": {
      "image/png": "[encoded data removed]",
      "text/plain": [
       "<Figure size 432x288 with 1 Axes>"
      ]
     },
     "metadata": {
      "needs_background": "light"
     },
     "output_type": "display_data"
    }
   ],
   "source": [
    "plt.imshow(X_train[0])"
   ]
  },
  {
   "cell_type": "code",
   "execution_count": 20,
   "metadata": {},
   "outputs": [
    {
     "data": {
      "text/plain": [
       "<matplotlib.image.AxesImage at 0x7fd5ddbe1550>"
      ]
     },
     "execution_count": 20,
     "metadata": {},
     "output_type": "execute_result"
    },
    {
     "data": {
      "image/png": "[encoded data removed]",
      "text/plain": [
       "<Figure size 432x288 with 1 Axes>"
      ]
     },
     "metadata": {
      "needs_background": "light"
     },
     "output_type": "display_data"
    }
   ],
   "source": [
    "plt.imshow(X_train[18244])"
   ]
  },
  {
   "cell_type": "code",
   "execution_count": 21,
   "metadata": {},
   "outputs": [
    {
     "data": {
      "text/plain": [
       "(27352, 50, 50, 1)"
      ]
     },
     "execution_count": 21,
     "metadata": {},
     "output_type": "execute_result"
    }
   ],
   "source": [
    "X_train.shape"
   ]
  },
  {
   "cell_type": "code",
   "execution_count": 22,
   "metadata": {},
   "outputs": [],
   "source": [
    "def build_model(conv_layers, pool_layers, epochs, X_train, y_train,k):\n",
    "    cnn_model = build_cnn(conv_layers, pool_layers,k)\n",
    "  \n",
    "    \n",
    "\n",
    "    # Define a loss function\n",
    "    loss_fn = tf.keras.losses.SparseCategoricalCrossentropy()\n",
    "\n",
    "    # Compile the model\n",
    "    cnn_model.compile(optimizer='adam', loss=loss_fn, metrics=['accuracy'])\n",
    "\n",
    "    history = cnn_model.fit(X_train, y_train, epochs=epochs, validation_split=0.3)\n",
    "\n",
    "    plot_history(history, epochs)\n",
    "\n",
    "    confusionmatrix(model= cnn_model)\n",
    "\n",
    "    return history"
   ]
  },
  {
   "cell_type": "code",
   "execution_count": 23,
   "metadata": {},
   "outputs": [],
   "source": [
    "def build_cnn(conv_layers, pool_layers, k):\n",
    "    model_cnn = Sequential()\n",
    "    model_cnn.add(Conv2D(45, kernel_size=k,activation='relu',input_shape=(50,50,1),padding='same'))\n",
    "    model_cnn.add(MaxPooling2D((2, 2), padding='same'))\n",
    "    model_cnn.add(Dropout(0.3))\n",
    "    x=30\n",
    "    for i in range(1, conv_layers):\n",
    "        if i <= conv_layers-1:        \n",
    "            model_cnn.add(Conv2D(x, kernel_size=k,activation='relu',padding='same'))\n",
    "            model_cnn.add(MaxPooling2D((2, 2), padding='same'))\n",
    "            model_cnn.add(Dropout(0.3))\n",
    "            x=x/2\n",
    "    model_cnn.add(Flatten())\n",
    "    model_cnn.add(Dense(256))\n",
    "    model_cnn.add(Dense(112))\n",
    "    model_cnn.add(Dense(27, activation='softmax'))\n",
    "\n",
    "    print(model_cnn.summary())\n",
    "    return model_cnn"
   ]
  },
  {
   "cell_type": "code",
   "execution_count": 24,
   "metadata": {},
   "outputs": [],
   "source": [
    "def plot_history(history, epochs):\n",
    "    epochs = range(epochs)\n",
    "\n",
    "    train_acc = history.history['accuracy']\n",
    "    val_acc = history.history['val_accuracy']\n",
    "\n",
    "    plt.figure(figsize=(12, 8))\n",
    "    plt.plot(epochs, train_acc, color='blue', label='Training accuracy')\n",
    "    plt.plot(epochs, val_acc, color='red', label='Validation accuracy')\n",
    "    plt.legend()\n",
    "    plt.grid()"
   ]
  },
  {
   "cell_type": "code",
   "execution_count": 25,
   "metadata": {},
   "outputs": [],
   "source": [
    "def confusionmatrix(model):\n",
    "\n",
    "    confusion = confusion_matrix(y_test, np.argmax(model.predict(X_test), axis=-1))\n",
    "\n",
    "    confusion_norm = confusion.astype('float') / confusion.sum(axis=0)[:, np.newaxis]\n",
    "\n",
    "    classes=[0,1,2,3,4,5,6,7,8,9]\n",
    "\n",
    "    plt.figure(figsize=(14,14))\n",
    "    plt.imshow(confusion_norm, interpolation='nearest') \n",
    "    plt.title('Confusion Matrix')\n",
    "    plt.colorbar()\n",
    "    tick_marks = np.arange(len(classes)) \n",
    "    plt.xticks(tick_marks, classes, rotation=45) \n",
    "    plt.yticks(tick_marks, classes)\n",
    "    plt.xlabel('True Label')\n",
    "    plt.ylabel('Predicted Label')\n",
    "    fmt = '.3f'\n",
    "    thresh = confusion_norm.max() / 2.\n",
    "    for i, j in itertools.product(range(confusion_norm.shape[0]), range(confusion_norm.shape[1])):\n",
    "        plt.text(j, i, format(confusion_norm[i, j], fmt), horizontalalignment=\"center\",\n",
    "        color=\"black\" if confusion_norm[i, j] > thresh else \"white\")\n",
    "    plt.tight_layout()"
   ]
  },
  {
   "cell_type": "code",
   "execution_count": 26,
   "metadata": {},
   "outputs": [
    {
     "name": "stdout",
     "output_type": "stream",
     "text": [
      "Model: \"sequential\"\n",
      "_________________________________________________________________\n",
      "Layer (type)                 Output Shape              Param #   \n",
      "=================================================================\n",
      "conv2d (Conv2D)              (None, 50, 50, 45)        1170      \n",
      "_________________________________________________________________\n",
      "max_pooling2d (MaxPooling2D) (None, 25, 25, 45)        0         \n",
      "_________________________________________________________________\n",
      "dropout (Dropout)            (None, 25, 25, 45)        0         \n",
      "_________________________________________________________________\n",
      "conv2d_1 (Conv2D)            (None, 25, 25, 30)        33780     \n",
      "_________________________________________________________________\n",
      "max_pooling2d_1 (MaxPooling2 (None, 13, 13, 30)        0         \n",
      "_________________________________________________________________\n",
      "dropout_1 (Dropout)          (None, 13, 13, 30)        0         \n",
      "_________________________________________________________________\n",
      "conv2d_2 (Conv2D)            (None, 13, 13, 15)        11265     \n",
      "_________________________________________________________________\n",
      "max_pooling2d_2 (MaxPooling2 (None, 7, 7, 15)          0         \n",
      "_________________________________________________________________\n",
      "dropout_2 (Dropout)          (None, 7, 7, 15)          0         \n",
      "_________________________________________________________________\n",
      "flatten (Flatten)            (None, 735)               0         \n",
      "_________________________________________________________________\n",
      "dense (Dense)                (None, 256)               188416    \n",
      "_________________________________________________________________\n",
      "dense_1 (Dense)              (None, 112)               28784     \n",
      "_________________________________________________________________\n",
      "dense_2 (Dense)              (None, 27)                3051      \n",
      "=================================================================\n",
      "Total params: 266,466\n",
      "Trainable params: 266,466\n",
      "Non-trainable params: 0\n",
      "_________________________________________________________________\n",
      "None\n",
      "Epoch 1/30\n",
      "599/599 [==============================] - 74s 123ms/step - loss: 0.5284 - accuracy: 0.8490 - val_loss: 0.3325 - val_accuracy: 0.8978\n",
      "Epoch 2/30\n",
      "599/599 [==============================] - 73s 123ms/step - loss: 0.2176 - accuracy: 0.9327 - val_loss: 0.2119 - val_accuracy: 0.9375\n",
      "Epoch 3/30\n",
      "599/599 [==============================] - 73s 122ms/step - loss: 0.1723 - accuracy: 0.9480 - val_loss: 0.1659 - val_accuracy: 0.9494\n",
      "Epoch 4/30\n",
      "599/599 [==============================] - 74s 124ms/step - loss: 0.1468 - accuracy: 0.9541 - val_loss: 0.1283 - val_accuracy: 0.9600\n",
      "Epoch 5/30\n",
      "599/599 [==============================] - 75s 126ms/step - loss: 0.1302 - accuracy: 0.9587 - val_loss: 0.1542 - val_accuracy: 0.9522\n",
      "Epoch 6/30\n",
      "599/599 [==============================] - 73s 122ms/step - loss: 0.1258 - accuracy: 0.9600 - val_loss: 0.1078 - val_accuracy: 0.9670\n",
      "Epoch 7/30\n",
      "599/599 [==============================] - 73s 123ms/step - loss: 0.1148 - accuracy: 0.9637 - val_loss: 0.0909 - val_accuracy: 0.9705\n",
      "Epoch 8/30\n",
      "599/599 [==============================] - 75s 125ms/step - loss: 0.1115 - accuracy: 0.9641 - val_loss: 0.1123 - val_accuracy: 0.9655\n",
      "Epoch 9/30\n",
      "599/599 [==============================] - 74s 124ms/step - loss: 0.1045 - accuracy: 0.9665 - val_loss: 0.1041 - val_accuracy: 0.9653\n",
      "Epoch 10/30\n",
      "599/599 [==============================] - 78s 130ms/step - loss: 0.0982 - accuracy: 0.9683 - val_loss: 0.0919 - val_accuracy: 0.9739\n",
      "Epoch 11/30\n",
      "599/599 [==============================] - 76s 126ms/step - loss: 0.0930 - accuracy: 0.9684 - val_loss: 0.0895 - val_accuracy: 0.9712\n",
      "Epoch 12/30\n",
      "599/599 [==============================] - 81s 136ms/step - loss: 0.0937 - accuracy: 0.9709 - val_loss: 0.0931 - val_accuracy: 0.9699\n",
      "Epoch 13/30\n",
      "599/599 [==============================] - 73s 122ms/step - loss: 0.0885 - accuracy: 0.9702 - val_loss: 0.1118 - val_accuracy: 0.9623\n",
      "Epoch 14/30\n",
      "599/599 [==============================] - 73s 121ms/step - loss: 0.0890 - accuracy: 0.9711 - val_loss: 0.1022 - val_accuracy: 0.9666\n",
      "Epoch 15/30\n",
      "599/599 [==============================] - 73s 122ms/step - loss: 0.0851 - accuracy: 0.9735 - val_loss: 0.0849 - val_accuracy: 0.9733\n",
      "Epoch 16/30\n",
      "599/599 [==============================] - 74s 123ms/step - loss: 0.0886 - accuracy: 0.9728 - val_loss: 0.0851 - val_accuracy: 0.9711\n",
      "Epoch 17/30\n",
      "599/599 [==============================] - 72s 120ms/step - loss: 0.0798 - accuracy: 0.9737 - val_loss: 0.0838 - val_accuracy: 0.9742\n",
      "Epoch 18/30\n",
      "599/599 [==============================] - 71s 119ms/step - loss: 0.0820 - accuracy: 0.9729 - val_loss: 0.0765 - val_accuracy: 0.9745\n",
      "Epoch 19/30\n",
      "599/599 [==============================] - 72s 120ms/step - loss: 0.0789 - accuracy: 0.9734 - val_loss: 0.0695 - val_accuracy: 0.9773\n",
      "Epoch 20/30\n",
      "599/599 [==============================] - 72s 120ms/step - loss: 0.0772 - accuracy: 0.9751 - val_loss: 0.0706 - val_accuracy: 0.9793\n",
      "Epoch 21/30\n",
      "599/599 [==============================] - 72s 119ms/step - loss: 0.0809 - accuracy: 0.9731 - val_loss: 0.0904 - val_accuracy: 0.9706\n",
      "Epoch 22/30\n",
      "599/599 [==============================] - 72s 121ms/step - loss: 0.0829 - accuracy: 0.9728 - val_loss: 0.0764 - val_accuracy: 0.9738\n",
      "Epoch 23/30\n",
      "599/599 [==============================] - 72s 120ms/step - loss: 0.0732 - accuracy: 0.9766 - val_loss: 0.0863 - val_accuracy: 0.9714\n",
      "Epoch 24/30\n",
      "599/599 [==============================] - 72s 120ms/step - loss: 0.0792 - accuracy: 0.9749 - val_loss: 0.0909 - val_accuracy: 0.9692\n",
      "Epoch 25/30\n",
      "599/599 [==============================] - 73s 121ms/step - loss: 0.0725 - accuracy: 0.9764 - val_loss: 0.0683 - val_accuracy: 0.9772\n",
      "Epoch 26/30\n",
      "599/599 [==============================] - 72s 120ms/step - loss: 0.0692 - accuracy: 0.9769 - val_loss: 0.0879 - val_accuracy: 0.9689\n",
      "Epoch 27/30\n",
      "599/599 [==============================] - 73s 121ms/step - loss: 0.0769 - accuracy: 0.9751 - val_loss: 0.0865 - val_accuracy: 0.9729\n",
      "Epoch 28/30\n",
      "599/599 [==============================] - 78s 130ms/step - loss: 0.0697 - accuracy: 0.9768 - val_loss: 0.0682 - val_accuracy: 0.9773\n",
      "Epoch 29/30\n",
      "599/599 [==============================] - 74s 123ms/step - loss: 0.0697 - accuracy: 0.9772 - val_loss: 0.0712 - val_accuracy: 0.9755\n",
      "Epoch 30/30\n",
      "599/599 [==============================] - 74s 123ms/step - loss: 0.0704 - accuracy: 0.9774 - val_loss: 0.0835 - val_accuracy: 0.9723\n"
     ]
    },
    {
     "ename": "NameError",
     "evalue": "name 'y_test' is not defined",
     "output_type": "error",
     "traceback": [
      "\u001b[0;31m---------------------------------------------------------------------------\u001b[0m",
      "\u001b[0;31mNameError\u001b[0m                                 Traceback (most recent call last)",
      "\u001b[0;32m<ipython-input-26-90aec119b3f7>\u001b[0m in \u001b[0;36m<module>\u001b[0;34m\u001b[0m\n\u001b[0;32m----> 1\u001b[0;31m \u001b[0mbuild_model\u001b[0m\u001b[0;34m(\u001b[0m\u001b[0mconv_layers\u001b[0m\u001b[0;34m=\u001b[0m\u001b[0;36m3\u001b[0m\u001b[0;34m,\u001b[0m \u001b[0mpool_layers\u001b[0m\u001b[0;34m=\u001b[0m\u001b[0;36m3\u001b[0m\u001b[0;34m,\u001b[0m \u001b[0mepochs\u001b[0m\u001b[0;34m=\u001b[0m\u001b[0;36m30\u001b[0m\u001b[0;34m,\u001b[0m \u001b[0mX_train\u001b[0m\u001b[0;34m=\u001b[0m\u001b[0mX_train\u001b[0m\u001b[0;34m,\u001b[0m \u001b[0my_train\u001b[0m\u001b[0;34m=\u001b[0m\u001b[0my_train\u001b[0m\u001b[0;34m,\u001b[0m \u001b[0mk\u001b[0m\u001b[0;34m=\u001b[0m\u001b[0;36m5\u001b[0m\u001b[0;34m)\u001b[0m\u001b[0;34m\u001b[0m\u001b[0;34m\u001b[0m\u001b[0m\n\u001b[0m",
      "\u001b[0;32m<ipython-input-22-182917fcf777>\u001b[0m in \u001b[0;36mbuild_model\u001b[0;34m(conv_layers, pool_layers, epochs, X_train, y_train, k)\u001b[0m\n\u001b[1;32m     14\u001b[0m     \u001b[0mplot_history\u001b[0m\u001b[0;34m(\u001b[0m\u001b[0mhistory\u001b[0m\u001b[0;34m,\u001b[0m \u001b[0mepochs\u001b[0m\u001b[0;34m)\u001b[0m\u001b[0;34m\u001b[0m\u001b[0;34m\u001b[0m\u001b[0m\n\u001b[1;32m     15\u001b[0m \u001b[0;34m\u001b[0m\u001b[0m\n\u001b[0;32m---> 16\u001b[0;31m     \u001b[0mconfusionmatrix\u001b[0m\u001b[0;34m(\u001b[0m\u001b[0mmodel\u001b[0m\u001b[0;34m=\u001b[0m \u001b[0mcnn_model\u001b[0m\u001b[0;34m)\u001b[0m\u001b[0;34m\u001b[0m\u001b[0;34m\u001b[0m\u001b[0m\n\u001b[0m\u001b[1;32m     17\u001b[0m \u001b[0;34m\u001b[0m\u001b[0m\n\u001b[1;32m     18\u001b[0m     \u001b[0;32mreturn\u001b[0m \u001b[0mhistory\u001b[0m\u001b[0;34m\u001b[0m\u001b[0;34m\u001b[0m\u001b[0m\n",
      "\u001b[0;32m<ipython-input-25-c08a8baf0af2>\u001b[0m in \u001b[0;36mconfusionmatrix\u001b[0;34m(model)\u001b[0m\n\u001b[1;32m      1\u001b[0m \u001b[0;32mdef\u001b[0m \u001b[0mconfusionmatrix\u001b[0m\u001b[0;34m(\u001b[0m\u001b[0mmodel\u001b[0m\u001b[0;34m)\u001b[0m\u001b[0;34m:\u001b[0m\u001b[0;34m\u001b[0m\u001b[0;34m\u001b[0m\u001b[0m\n\u001b[1;32m      2\u001b[0m \u001b[0;34m\u001b[0m\u001b[0m\n\u001b[0;32m----> 3\u001b[0;31m     \u001b[0mconfusion\u001b[0m \u001b[0;34m=\u001b[0m \u001b[0mconfusion_matrix\u001b[0m\u001b[0;34m(\u001b[0m\u001b[0my_test\u001b[0m\u001b[0;34m,\u001b[0m \u001b[0mnp\u001b[0m\u001b[0;34m.\u001b[0m\u001b[0margmax\u001b[0m\u001b[0;34m(\u001b[0m\u001b[0mmodel\u001b[0m\u001b[0;34m.\u001b[0m\u001b[0mpredict\u001b[0m\u001b[0;34m(\u001b[0m\u001b[0mX_test\u001b[0m\u001b[0;34m)\u001b[0m\u001b[0;34m,\u001b[0m \u001b[0maxis\u001b[0m\u001b[0;34m=\u001b[0m\u001b[0;34m-\u001b[0m\u001b[0;36m1\u001b[0m\u001b[0;34m)\u001b[0m\u001b[0;34m)\u001b[0m\u001b[0;34m\u001b[0m\u001b[0;34m\u001b[0m\u001b[0m\n\u001b[0m\u001b[1;32m      4\u001b[0m \u001b[0;34m\u001b[0m\u001b[0m\n\u001b[1;32m      5\u001b[0m     \u001b[0mconfusion_norm\u001b[0m \u001b[0;34m=\u001b[0m \u001b[0mconfusion\u001b[0m\u001b[0;34m.\u001b[0m\u001b[0mastype\u001b[0m\u001b[0;34m(\u001b[0m\u001b[0;34m'float'\u001b[0m\u001b[0;34m)\u001b[0m \u001b[0;34m/\u001b[0m \u001b[0mconfusion\u001b[0m\u001b[0;34m.\u001b[0m\u001b[0msum\u001b[0m\u001b[0;34m(\u001b[0m\u001b[0maxis\u001b[0m\u001b[0;34m=\u001b[0m\u001b[0;36m0\u001b[0m\u001b[0;34m)\u001b[0m\u001b[0;34m[\u001b[0m\u001b[0;34m:\u001b[0m\u001b[0;34m,\u001b[0m \u001b[0mnp\u001b[0m\u001b[0;34m.\u001b[0m\u001b[0mnewaxis\u001b[0m\u001b[0;34m]\u001b[0m\u001b[0;34m\u001b[0m\u001b[0;34m\u001b[0m\u001b[0m\n",
      "\u001b[0;31mNameError\u001b[0m: name 'y_test' is not defined"
     ]
    },
    {
     "data": {
      "image/png": "[encoded data removed]",
      "text/plain": [
       "<Figure size 864x576 with 1 Axes>"
      ]
     },
     "metadata": {
      "needs_background": "light"
     },
     "output_type": "display_data"
    }
   ],
   "source": [
    "build_model(conv_layers=3, pool_layers=3, epochs=30, X_train=X_train, y_train=y_train, k=5)"
   ]
  },
  {
   "cell_type": "code",
   "execution_count": null,
   "metadata": {},
   "outputs": [],
   "source": []
  }
 ],
 "metadata": {
  "kernelspec": {
   "display_name": "Python 3",
   "language": "python",
   "name": "python3"
  },
  "language_info": {
   "codemirror_mode": {
    "name": "ipython",
    "version": 3
   },
   "file_extension": ".py",
   "mimetype": "text/x-python",
   "name": "python",
   "nbconvert_exporter": "python",
   "pygments_lexer": "ipython3",
   "version": "3.7.6"
  }
 },
 "nbformat": 4,
 "nbformat_minor": 4
}
