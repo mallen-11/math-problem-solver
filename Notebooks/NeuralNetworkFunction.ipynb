{
 "cells": [
  {
   "cell_type": "markdown",
   "metadata": {},
   "source": [
    "# Neural Network Function\n",
    "\n",
    "This notebook will develop a function that can create a neural network with some parameters for the user to input. Doing this will make it easier to test multiple neural networks with different parameters."
   ]
  },
  {
   "cell_type": "code",
   "execution_count": 1,
   "metadata": {},
   "outputs": [],
   "source": [
    "import tensorflow as tf\n",
    "import numpy as np\n",
    "from matplotlib import pyplot as plt\n",
    "\n",
    "from sklearn.linear_model import LogisticRegression\n",
    "from sklearn.metrics import plot_confusion_matrix\n",
    "\n",
    "from tensorflow.keras.layers import Dense, Flatten, Conv2D\n",
    "from tensorflow.keras import Model\n",
    "from tensorflow.keras.models import Sequential"
   ]
  },
  {
   "cell_type": "code",
   "execution_count": 2,
   "metadata": {},
   "outputs": [],
   "source": [
    "# Set the random seed so that all weights/biases are initialized to the same value\n",
    "tf.random.set_seed(1)"
   ]
  },
  {
   "cell_type": "markdown",
   "metadata": {},
   "source": [
    "Load the Data"
   ]
  },
  {
   "cell_type": "code",
   "execution_count": 4,
   "metadata": {},
   "outputs": [],
   "source": [
    "mnist = tf.keras.datasets.mnist\n",
    "\n",
    "(X_train, y_train), (X_test, y_test) = mnist.load_data()"
   ]
  },
  {
   "cell_type": "code",
   "execution_count": 5,
   "metadata": {},
   "outputs": [
    {
     "data": {
      "text/plain": [
       "(60000, 28, 28)"
      ]
     },
     "execution_count": 5,
     "metadata": {},
     "output_type": "execute_result"
    }
   ],
   "source": [
    "X_train.shape"
   ]
  },
  {
   "cell_type": "code",
   "execution_count": 6,
   "metadata": {},
   "outputs": [
    {
     "data": {
      "text/plain": [
       "<matplotlib.image.AxesImage at 0x7f8a4557bcd0>"
      ]
     },
     "execution_count": 6,
     "metadata": {},
     "output_type": "execute_result"
    },
    {
     "data": {
      "image/png": "[encoded data removed]",
      "text/plain": [
       "<Figure size 432x288 with 1 Axes>"
      ]
     },
     "metadata": {
      "needs_background": "light"
     },
     "output_type": "display_data"
    }
   ],
   "source": [
    "plt.imshow(X_train[0], cmap='Greys')"
   ]
  },
  {
   "cell_type": "code",
   "execution_count": 7,
   "metadata": {},
   "outputs": [
    {
     "data": {
      "text/plain": [
       "5"
      ]
     },
     "execution_count": 7,
     "metadata": {},
     "output_type": "execute_result"
    }
   ],
   "source": [
    "y_train[0]"
   ]
  },
  {
   "cell_type": "code",
   "execution_count": 8,
   "metadata": {},
   "outputs": [],
   "source": [
    "X_train = X_train.reshape(60000, 28*28)"
   ]
  },
  {
   "cell_type": "markdown",
   "metadata": {},
   "source": [
    "Make sure to normalize your pixels. This increases learning accuracy."
   ]
  },
  {
   "cell_type": "code",
   "execution_count": 9,
   "metadata": {},
   "outputs": [],
   "source": [
    "X_train = X_train / 255\n",
    "X_test = X_test / 255"
   ]
  },
  {
   "cell_type": "markdown",
   "metadata": {},
   "source": [
    "\n",
    "Everything looks good with the data now we can start making our neural networks."
   ]
  },
  {
   "cell_type": "markdown",
   "metadata": {},
   "source": [
    "### **`build_dense_model`**\n",
    "\n",
    "This function will help us build our actual model so it will take in the amount of hidden layers and hidden units to build the model. Next it will compile the model and run it. Lastly, it will plot a graph of the validation and testing accuracy so we can see how the training is going."
   ]
  },
  {
   "cell_type": "code",
   "execution_count": 10,
   "metadata": {},
   "outputs": [],
   "source": [
    "def build_dense_model(n_layers, n_hidden_units, epochs, X_train, y_train):\n",
    "  model = Sequential(testing_out_layers(n_layers, n_hidden_units))\n",
    "\n",
    "  # Define a loss function\n",
    "  loss_fn = tf.keras.losses.SparseCategoricalCrossentropy()\n",
    "\n",
    "  # Compile the model\n",
    "  model.compile(optimizer='adam', loss=loss_fn, metrics=['accuracy'])\n",
    "\n",
    "  history = model.fit(X_train, y_train, epochs=epochs, validation_split=0.3)\n",
    "\n",
    "  plot_history(history, n_hidden_units, n_layers, epochs)\n",
    "\n",
    "  return history"
   ]
  },
  {
   "cell_type": "markdown",
   "metadata": {},
   "source": [
    "### **`testing_out_layers`**\n",
    "\n",
    "This function will build the actual model. This can then be inputed into `build_dense_model` by using Sequential."
   ]
  },
  {
   "cell_type": "code",
   "execution_count": 11,
   "metadata": {},
   "outputs": [],
   "source": [
    "def testing_out_layers(n_layers, n_hidden_units):\n",
    "  layers = []\n",
    "  for i in range(n_layers-1):\n",
    "    layers.append(Dense(n_hidden_units[i]))\n",
    "  layers.append(Dense(n_hidden_units[-1], activation='softmax'))\n",
    "  return layers"
   ]
  },
  {
   "cell_type": "markdown",
   "metadata": {},
   "source": [
    "### **`plot_history`**\n",
    "\n",
    "This function will help make the graph of validation accuracy and training accuracy."
   ]
  },
  {
   "cell_type": "code",
   "execution_count": null,
   "metadata": {},
   "outputs": [],
   "source": [
    "def plot_history(history, hidden_units, n_layers, epochs):\n",
    "  epochs = range(epochs)\n",
    "\n",
    "  train_acc = history.history['accuracy']\n",
    "  val_acc = history.history['val_accuracy']\n",
    "\n",
    "  plt.figure(figsize=(12, 8))\n",
    "  plt.plot(epochs, train_acc, color='blue', label='Training accuracy')\n",
    "  plt.plot(epochs, val_acc, color='red', label='Validation accuracy')\n",
    "  plt.title(f'Model with {n_layers} layers and {hidden_units} hidden units')\n",
    "  plt.legend()\n",
    "  plt.grid()"
   ]
  },
  {
   "cell_type": "markdown",
   "metadata": {},
   "source": [
    "Now let's put it all together to make a real model!"
   ]
  },
  {
   "cell_type": "code",
   "execution_count": 13,
   "metadata": {},
   "outputs": [
    {
     "name": "stdout",
     "output_type": "stream",
     "text": [
      "Epoch 1/5\n",
      "1313/1313 [==============================] - 2s 1ms/step - loss: 0.4778 - accuracy: 0.8566 - val_loss: 0.3429 - val_accuracy: 0.9007\n",
      "Epoch 2/5\n",
      "1313/1313 [==============================] - 2s 1ms/step - loss: 0.3254 - accuracy: 0.9083 - val_loss: 0.3169 - val_accuracy: 0.9103\n",
      "Epoch 3/5\n",
      "1313/1313 [==============================] - 2s 1ms/step - loss: 0.3049 - accuracy: 0.9131 - val_loss: 0.3143 - val_accuracy: 0.9121\n",
      "Epoch 4/5\n",
      "1313/1313 [==============================] - 2s 1ms/step - loss: 0.2966 - accuracy: 0.9150 - val_loss: 0.3100 - val_accuracy: 0.9137\n",
      "Epoch 5/5\n",
      "1313/1313 [==============================] - 2s 2ms/step - loss: 0.2892 - accuracy: 0.9174 - val_loss: 0.3093 - val_accuracy: 0.9146\n"
     ]
    },
    {
     "data": {
      "text/plain": [
       "<tensorflow.python.keras.callbacks.History at 0x7f8a455b88d0>"
      ]
     },
     "execution_count": 13,
     "metadata": {},
     "output_type": "execute_result"
    },
    {
     "data": {
      "image/png": "[encoded data removed]",
      "text/plain": [
       "<Figure size 864x576 with 1 Axes>"
      ]
     },
     "metadata": {
      "needs_background": "light"
     },
     "output_type": "display_data"
    }
   ],
   "source": [
    "build_dense_model(n_layers=5, n_hidden_units=[10, 20, 30, 20, 10], epochs=5, X_train=X_train, y_train=y_train)"
   ]
  },
  {
   "cell_type": "markdown",
   "metadata": {},
   "source": [
    "This will help us run multiple models at once."
   ]
  },
  {
   "cell_type": "code",
   "execution_count": null,
   "metadata": {},
   "outputs": [],
   "source": [
    "for n_hidden_units in range(1, 5):\n",
    "  build_dense_model(n_layers=5,\n",
    "                    n_hidden_units=[n_hidden_units for _ in range(5)], \n",
    "                    epochs=10, \n",
    "                    X_train=X_train, \n",
    "                    y_train=y_train)"
   ]
  }
 ],
 "metadata": {
  "kernelspec": {
   "display_name": "Python 3",
   "language": "python",
   "name": "python3"
  },
  "language_info": {
   "codemirror_mode": {
    "name": "ipython",
    "version": 3
   },
   "file_extension": ".py",
   "mimetype": "text/x-python",
   "name": "python",
   "nbconvert_exporter": "python",
   "pygments_lexer": "ipython3",
   "version": "3.7.6"
  }
 },
 "nbformat": 4,
 "nbformat_minor": 4
}
