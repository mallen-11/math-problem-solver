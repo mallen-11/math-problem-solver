{
 "cells": [
  {
   "cell_type": "code",
   "execution_count": 1,
   "metadata": {},
   "outputs": [
    {
     "name": "stdout",
     "output_type": "stream",
     "text": [
      "Requirement already satisfied: tensorflow-addons in /opt/miniconda3/lib/python3.7/site-packages (0.11.2)\r\n",
      "Requirement already satisfied: typeguard>=2.7 in /opt/miniconda3/lib/python3.7/site-packages (from tensorflow-addons) (2.9.1)\r\n"
     ]
    }
   ],
   "source": [
    "import tensorflow as tf\n",
    "import numpy as np\n",
    "import pandas as pd\n",
    "from matplotlib import pyplot as plt\n",
    "\n",
    "from sklearn.linear_model import LogisticRegression\n",
    "from sklearn.metrics import plot_confusion_matrix, confusion_matrix\n",
    "\n",
    "from tensorflow.keras.layers import Dense, Flatten, Conv2D, MaxPooling2D, Dropout, BatchNormalization\n",
    "from tensorflow.keras import Model\n",
    "from tensorflow.keras.models import Sequential\n",
    "from tensorflow.keras import layers\n",
    "\n",
    "!pip install tensorflow-addons\n",
    "import tensorflow_addons as tfa\n",
    "\n",
    "import itertools\n",
    "\n",
    "tf.random.set_seed(1)"
   ]
  },
  {
   "cell_type": "code",
   "execution_count": 2,
   "metadata": {},
   "outputs": [],
   "source": [
    "import pickle\n",
    "\n",
    "images1 = pickle.load( open('../../CROHME_extractor/outputs1/train1/train.pickle', 'rb') )\n",
    "images2 = pickle.load( open('../../CROHME_extractor/outputs2/train2/train.pickle', 'rb') )\n",
    "images3 = pickle.load( open('../../CROHME_extractor/outputs3/train3/train.pickle', 'rb') )"
   ]
  },
  {
   "cell_type": "code",
   "execution_count": 3,
   "metadata": {},
   "outputs": [],
   "source": [
    "images = images1 + images2 + images3"
   ]
  },
  {
   "cell_type": "code",
   "execution_count": 4,
   "metadata": {},
   "outputs": [],
   "source": [
    "classes = pd.read_csv('../../CROHME_extractor/classes.txt', header =None)"
   ]
  },
  {
   "cell_type": "code",
   "execution_count": 5,
   "metadata": {},
   "outputs": [
    {
     "data": {
      "text/plain": [
       "{0: '(',\n",
       " 1: ')',\n",
       " 2: '+',\n",
       " 3: '-',\n",
       " 4: '0',\n",
       " 5: '1',\n",
       " 6: '2',\n",
       " 7: '3',\n",
       " 8: '4',\n",
       " 9: '5',\n",
       " 10: '6',\n",
       " 11: '7',\n",
       " 12: '8',\n",
       " 13: '9',\n",
       " 14: '=',\n",
       " 15: 'a',\n",
       " 16: 'b',\n",
       " 17: 'c',\n",
       " 18: 'd',\n",
       " 19: 'e',\n",
       " 20: 'i',\n",
       " 21: 'j',\n",
       " 22: 'k',\n",
       " 23: 'n',\n",
       " 24: 'x',\n",
       " 25: 'y',\n",
       " 26: 'z'}"
      ]
     },
     "execution_count": 5,
     "metadata": {},
     "output_type": "execute_result"
    }
   ],
   "source": [
    "classes.to_dict()[0]"
   ]
  },
  {
   "cell_type": "code",
   "execution_count": 6,
   "metadata": {},
   "outputs": [],
   "source": [
    "X_train = []\n",
    "y_train = []\n",
    "for i in images:\n",
    "    X_train.append(np.resize(i['features'], (50,50,1)))\n",
    "    y_train.append(i['label'])"
   ]
  },
  {
   "cell_type": "code",
   "execution_count": 7,
   "metadata": {},
   "outputs": [
    {
     "data": {
      "text/plain": [
       "(50, 50, 1)"
      ]
     },
     "execution_count": 7,
     "metadata": {},
     "output_type": "execute_result"
    }
   ],
   "source": [
    "X_train[0].shape"
   ]
  },
  {
   "cell_type": "code",
   "execution_count": 8,
   "metadata": {},
   "outputs": [],
   "source": [
    "X_train = np.array(X_train)\n",
    "y_train = np.array(y_train)"
   ]
  },
  {
   "cell_type": "code",
   "execution_count": 9,
   "metadata": {},
   "outputs": [],
   "source": [
    "X_train=1-X_train"
   ]
  },
  {
   "cell_type": "code",
   "execution_count": 10,
   "metadata": {},
   "outputs": [],
   "source": [
    "y_train = np.argmax(y_train, axis=1)"
   ]
  },
  {
   "cell_type": "code",
   "execution_count": 11,
   "metadata": {},
   "outputs": [
    {
     "data": {
      "text/plain": [
       "(27352, 50, 50, 1)"
      ]
     },
     "execution_count": 11,
     "metadata": {},
     "output_type": "execute_result"
    }
   ],
   "source": [
    "X_train.shape"
   ]
  },
  {
   "cell_type": "code",
   "execution_count": 12,
   "metadata": {},
   "outputs": [
    {
     "data": {
      "text/plain": [
       "(27352,)"
      ]
     },
     "execution_count": 12,
     "metadata": {},
     "output_type": "execute_result"
    }
   ],
   "source": [
    "y_train.shape"
   ]
  },
  {
   "cell_type": "code",
   "execution_count": 84,
   "metadata": {},
   "outputs": [
    {
     "data": {
      "text/plain": [
       "20682"
      ]
     },
     "execution_count": 84,
     "metadata": {},
     "output_type": "execute_result"
    }
   ],
   "source": [
    "ranlist[0]"
   ]
  },
  {
   "cell_type": "code",
   "execution_count": 85,
   "metadata": {},
   "outputs": [
    {
     "data": {
      "text/plain": [
       "3"
      ]
     },
     "execution_count": 85,
     "metadata": {},
     "output_type": "execute_result"
    }
   ],
   "source": [
    "y_train[ranlist[0]]"
   ]
  },
  {
   "cell_type": "code",
   "execution_count": 98,
   "metadata": {},
   "outputs": [
    {
     "data": {
      "text/plain": [
       "<matplotlib.image.AxesImage at 0x7f925600e650>"
      ]
     },
     "execution_count": 98,
     "metadata": {},
     "output_type": "execute_result"
    },
    {
     "data": {
      "image/png": "[encoded data removed]",
      "text/plain": [
       "<Figure size 432x288 with 1 Axes>"
      ]
     },
     "metadata": {
      "needs_background": "light"
     },
     "output_type": "display_data"
    }
   ],
   "source": [
    "plt.imshow(X_train[ranlist[0]])"
   ]
  },
  {
   "cell_type": "code",
   "execution_count": 99,
   "metadata": {},
   "outputs": [
    {
     "data": {
      "text/plain": [
       "<matplotlib.image.AxesImage at 0x7f925603fa50>"
      ]
     },
     "execution_count": 99,
     "metadata": {},
     "output_type": "execute_result"
    },
    {
     "data": {
      "image/png": "[encoded data removed]",
      "text/plain": [
       "<Figure size 432x288 with 1 Axes>"
      ]
     },
     "metadata": {
      "needs_background": "light"
     },
     "output_type": "display_data"
    }
   ],
   "source": [
    "plt.imshow(X_train[ranlist[0]])"
   ]
  },
  {
   "cell_type": "code",
   "execution_count": 100,
   "metadata": {},
   "outputs": [],
   "source": [
    "#X_train = tfa.image.rotate(X_train, -20*3.14/180, interpolation='BILINEAR')\n",
    "from random import randint\n",
    "ranlist = []\n",
    "for i in range(0,5000):\n",
    "    ranlist.append(randint(0,y_train.shape[0]-1))\n",
    "    \n",
    "for i in range(0,5000):\n",
    "     X_train[ranlist[i]] = tfa.image.rotate(X_train[ranlist[i]], -10*3.14/180, interpolation='BILINEAR')"
   ]
  },
  {
   "cell_type": "code",
   "execution_count": 13,
   "metadata": {},
   "outputs": [
    {
     "data": {
      "text/plain": [
       "27352"
      ]
     },
     "execution_count": 13,
     "metadata": {},
     "output_type": "execute_result"
    }
   ],
   "source": [
    "X_train.shape[0]"
   ]
  },
  {
   "cell_type": "code",
   "execution_count": 102,
   "metadata": {},
   "outputs": [
    {
     "data": {
      "text/plain": [
       "<matplotlib.image.AxesImage at 0x7f9256073c90>"
      ]
     },
     "execution_count": 102,
     "metadata": {},
     "output_type": "execute_result"
    },
    {
     "data": {
      "image/png": "[encoded data removed]",
      "text/plain": [
       "<Figure size 432x288 with 1 Axes>"
      ]
     },
     "metadata": {
      "needs_background": "light"
     },
     "output_type": "display_data"
    }
   ],
   "source": [
    "plt.imshow(X_train[9122])"
   ]
  },
  {
   "cell_type": "code",
   "execution_count": 103,
   "metadata": {},
   "outputs": [
    {
     "data": {
      "text/plain": [
       "<matplotlib.image.AxesImage at 0x7f9269c8d190>"
      ]
     },
     "execution_count": 103,
     "metadata": {},
     "output_type": "execute_result"
    },
    {
     "data": {
      "image/png": "[encoded data removed]",
      "text/plain": [
       "<Figure size 432x288 with 1 Axes>"
      ]
     },
     "metadata": {
      "needs_background": "light"
     },
     "output_type": "display_data"
    }
   ],
   "source": [
    "plt.imshow(X_train[0])"
   ]
  },
  {
   "cell_type": "code",
   "execution_count": 104,
   "metadata": {},
   "outputs": [
    {
     "data": {
      "text/plain": [
       "<matplotlib.image.AxesImage at 0x7f9268107390>"
      ]
     },
     "execution_count": 104,
     "metadata": {},
     "output_type": "execute_result"
    },
    {
     "data": {
      "image/png": "[encoded data removed]",
      "text/plain": [
       "<Figure size 432x288 with 1 Axes>"
      ]
     },
     "metadata": {
      "needs_background": "light"
     },
     "output_type": "display_data"
    }
   ],
   "source": [
    "plt.imshow(X_train[18244])"
   ]
  },
  {
   "cell_type": "code",
   "execution_count": 105,
   "metadata": {},
   "outputs": [
    {
     "data": {
      "text/plain": [
       "(27352, 50, 50, 1)"
      ]
     },
     "execution_count": 105,
     "metadata": {},
     "output_type": "execute_result"
    }
   ],
   "source": [
    "X_train.shape"
   ]
  },
  {
   "cell_type": "code",
   "execution_count": 14,
   "metadata": {},
   "outputs": [],
   "source": [
    "def build_model(conv_layers, pool_layers, epochs, X_train, y_train,k):\n",
    "    cnn_model = build_cnn(conv_layers, pool_layers,k)\n",
    "  \n",
    "\n",
    "    # Define a loss function\n",
    "    loss_fn = tf.keras.losses.SparseCategoricalCrossentropy()\n",
    "\n",
    "    # Compile the model\n",
    "    cnn_model.compile(optimizer='adam', loss=loss_fn, metrics=['accuracy'])\n",
    "\n",
    "    history = cnn_model.fit(X_train, y_train, epochs=epochs, validation_split=0.3)\n",
    "\n",
    "    plot_history(history, epochs)\n",
    "\n",
    "    confusionmatrix(model= cnn_model)\n",
    "\n",
    "    return history"
   ]
  },
  {
   "cell_type": "code",
   "execution_count": 15,
   "metadata": {},
   "outputs": [],
   "source": [
    "def build_cnn(conv_layers, pool_layers, k):\n",
    "    model_cnn = Sequential()\n",
    "    model_cnn.add(Conv2D(45, kernel_size=k,activation='relu',input_shape=(50,50,1),padding='same'))\n",
    "    model_cnn.add(MaxPooling2D((2, 2), padding='same'))\n",
    "    model_cnn.add(Dropout(0.3))\n",
    "    x=30\n",
    "    for i in range(1, conv_layers):\n",
    "        if i <= conv_layers-1:        \n",
    "            model_cnn.add(Conv2D(x, kernel_size=k,activation='relu',padding='same'))\n",
    "            model_cnn.add(MaxPooling2D((2, 2), padding='same'))\n",
    "            model_cnn.add(Dropout(0.3))\n",
    "            x=x-15\n",
    "    model_cnn.add(Flatten())\n",
    "    model_cnn.add(Dense(256))\n",
    "    model_cnn.add(Dense(112))\n",
    "    model_cnn.add(Dense(27, activation='softmax'))\n",
    "\n",
    "    print(model_cnn.summary())\n",
    "    return model_cnn"
   ]
  },
  {
   "cell_type": "code",
   "execution_count": 16,
   "metadata": {},
   "outputs": [],
   "source": [
    "def plot_history(history, epochs):\n",
    "    epochs = range(epochs)\n",
    "\n",
    "    train_acc = history.history['accuracy']\n",
    "    val_acc = history.history['val_accuracy']\n",
    "\n",
    "    plt.figure(figsize=(12, 8))\n",
    "    plt.plot(epochs, train_acc, color='blue', label='Training accuracy')\n",
    "    plt.plot(epochs, val_acc, color='red', label='Validation accuracy')\n",
    "    plt.legend()\n",
    "    plt.grid()"
   ]
  },
  {
   "cell_type": "code",
   "execution_count": 17,
   "metadata": {},
   "outputs": [],
   "source": [
    "def confusionmatrix(model):\n",
    "\n",
    "    confusion = confusion_matrix(y_test, np.argmax(model.predict(X_test), axis=-1))\n",
    "\n",
    "    confusion_norm = confusion.astype('float') / confusion.sum(axis=0)[:, np.newaxis]\n",
    "\n",
    "    classes=[0,1,2,3,4,5,6,7,8,9]\n",
    "\n",
    "    plt.figure(figsize=(14,14))\n",
    "    plt.imshow(confusion_norm, interpolation='nearest') \n",
    "    plt.title('Confusion Matrix')\n",
    "    plt.colorbar()\n",
    "    tick_marks = np.arange(len(classes)) \n",
    "    plt.xticks(tick_marks, classes, rotation=45) \n",
    "    plt.yticks(tick_marks, classes)\n",
    "    plt.xlabel('True Label')\n",
    "    plt.ylabel('Predicted Label')\n",
    "    fmt = '.3f'\n",
    "    thresh = confusion_norm.max() / 2.\n",
    "    for i, j in itertools.product(range(confusion_norm.shape[0]), range(confusion_norm.shape[1])):\n",
    "        plt.text(j, i, format(confusion_norm[i, j], fmt), horizontalalignment=\"center\",\n",
    "        color=\"black\" if confusion_norm[i, j] > thresh else \"white\")\n",
    "    plt.tight_layout()"
   ]
  },
  {
   "cell_type": "code",
   "execution_count": 112,
   "metadata": {},
   "outputs": [],
   "source": [
    "def data_aug():\n",
    "    data_augmentation = tf.keras.Sequential([\n",
    "    layers.experimental.preprocessing.RandomRotation(0.2),])\n",
    "    return data_augmentation"
   ]
  },
  {
   "cell_type": "markdown",
   "metadata": {},
   "source": [
    "With Data Aug"
   ]
  },
  {
   "cell_type": "code",
   "execution_count": 26,
   "metadata": {},
   "outputs": [
    {
     "name": "stdout",
     "output_type": "stream",
     "text": [
      "Model: \"sequential\"\n",
      "_________________________________________________________________\n",
      "Layer (type)                 Output Shape              Param #   \n",
      "=================================================================\n",
      "conv2d (Conv2D)              (None, 50, 50, 45)        1170      \n",
      "_________________________________________________________________\n",
      "max_pooling2d (MaxPooling2D) (None, 25, 25, 45)        0         \n",
      "_________________________________________________________________\n",
      "dropout (Dropout)            (None, 25, 25, 45)        0         \n",
      "_________________________________________________________________\n",
      "conv2d_1 (Conv2D)            (None, 25, 25, 30)        33780     \n",
      "_________________________________________________________________\n",
      "max_pooling2d_1 (MaxPooling2 (None, 13, 13, 30)        0         \n",
      "_________________________________________________________________\n",
      "dropout_1 (Dropout)          (None, 13, 13, 30)        0         \n",
      "_________________________________________________________________\n",
      "conv2d_2 (Conv2D)            (None, 13, 13, 15)        11265     \n",
      "_________________________________________________________________\n",
      "max_pooling2d_2 (MaxPooling2 (None, 7, 7, 15)          0         \n",
      "_________________________________________________________________\n",
      "dropout_2 (Dropout)          (None, 7, 7, 15)          0         \n",
      "_________________________________________________________________\n",
      "flatten (Flatten)            (None, 735)               0         \n",
      "_________________________________________________________________\n",
      "dense (Dense)                (None, 256)               188416    \n",
      "_________________________________________________________________\n",
      "dense_1 (Dense)              (None, 112)               28784     \n",
      "_________________________________________________________________\n",
      "dense_2 (Dense)              (None, 27)                3051      \n",
      "=================================================================\n",
      "Total params: 266,466\n",
      "Trainable params: 266,466\n",
      "Non-trainable params: 0\n",
      "_________________________________________________________________\n",
      "None\n",
      "Epoch 1/30\n",
      "599/599 [==============================] - 74s 123ms/step - loss: 0.5284 - accuracy: 0.8490 - val_loss: 0.3325 - val_accuracy: 0.8978\n",
      "Epoch 2/30\n",
      "599/599 [==============================] - 73s 123ms/step - loss: 0.2176 - accuracy: 0.9327 - val_loss: 0.2119 - val_accuracy: 0.9375\n",
      "Epoch 3/30\n",
      "599/599 [==============================] - 73s 122ms/step - loss: 0.1723 - accuracy: 0.9480 - val_loss: 0.1659 - val_accuracy: 0.9494\n",
      "Epoch 4/30\n",
      "599/599 [==============================] - 74s 124ms/step - loss: 0.1468 - accuracy: 0.9541 - val_loss: 0.1283 - val_accuracy: 0.9600\n",
      "Epoch 5/30\n",
      "599/599 [==============================] - 75s 126ms/step - loss: 0.1302 - accuracy: 0.9587 - val_loss: 0.1542 - val_accuracy: 0.9522\n",
      "Epoch 6/30\n",
      "599/599 [==============================] - 73s 122ms/step - loss: 0.1258 - accuracy: 0.9600 - val_loss: 0.1078 - val_accuracy: 0.9670\n",
      "Epoch 7/30\n",
      "599/599 [==============================] - 73s 123ms/step - loss: 0.1148 - accuracy: 0.9637 - val_loss: 0.0909 - val_accuracy: 0.9705\n",
      "Epoch 8/30\n",
      "599/599 [==============================] - 75s 125ms/step - loss: 0.1115 - accuracy: 0.9641 - val_loss: 0.1123 - val_accuracy: 0.9655\n",
      "Epoch 9/30\n",
      "599/599 [==============================] - 74s 124ms/step - loss: 0.1045 - accuracy: 0.9665 - val_loss: 0.1041 - val_accuracy: 0.9653\n",
      "Epoch 10/30\n",
      "599/599 [==============================] - 78s 130ms/step - loss: 0.0982 - accuracy: 0.9683 - val_loss: 0.0919 - val_accuracy: 0.9739\n",
      "Epoch 11/30\n",
      "599/599 [==============================] - 76s 126ms/step - loss: 0.0930 - accuracy: 0.9684 - val_loss: 0.0895 - val_accuracy: 0.9712\n",
      "Epoch 12/30\n",
      "599/599 [==============================] - 81s 136ms/step - loss: 0.0937 - accuracy: 0.9709 - val_loss: 0.0931 - val_accuracy: 0.9699\n",
      "Epoch 13/30\n",
      "599/599 [==============================] - 73s 122ms/step - loss: 0.0885 - accuracy: 0.9702 - val_loss: 0.1118 - val_accuracy: 0.9623\n",
      "Epoch 14/30\n",
      "599/599 [==============================] - 73s 121ms/step - loss: 0.0890 - accuracy: 0.9711 - val_loss: 0.1022 - val_accuracy: 0.9666\n",
      "Epoch 15/30\n",
      "599/599 [==============================] - 73s 122ms/step - loss: 0.0851 - accuracy: 0.9735 - val_loss: 0.0849 - val_accuracy: 0.9733\n",
      "Epoch 16/30\n",
      "599/599 [==============================] - 74s 123ms/step - loss: 0.0886 - accuracy: 0.9728 - val_loss: 0.0851 - val_accuracy: 0.9711\n",
      "Epoch 17/30\n",
      "599/599 [==============================] - 72s 120ms/step - loss: 0.0798 - accuracy: 0.9737 - val_loss: 0.0838 - val_accuracy: 0.9742\n",
      "Epoch 18/30\n",
      "599/599 [==============================] - 71s 119ms/step - loss: 0.0820 - accuracy: 0.9729 - val_loss: 0.0765 - val_accuracy: 0.9745\n",
      "Epoch 19/30\n",
      "599/599 [==============================] - 72s 120ms/step - loss: 0.0789 - accuracy: 0.9734 - val_loss: 0.0695 - val_accuracy: 0.9773\n",
      "Epoch 20/30\n",
      "599/599 [==============================] - 72s 120ms/step - loss: 0.0772 - accuracy: 0.9751 - val_loss: 0.0706 - val_accuracy: 0.9793\n",
      "Epoch 21/30\n",
      "599/599 [==============================] - 72s 119ms/step - loss: 0.0809 - accuracy: 0.9731 - val_loss: 0.0904 - val_accuracy: 0.9706\n",
      "Epoch 22/30\n",
      "599/599 [==============================] - 72s 121ms/step - loss: 0.0829 - accuracy: 0.9728 - val_loss: 0.0764 - val_accuracy: 0.9738\n",
      "Epoch 23/30\n",
      "599/599 [==============================] - 72s 120ms/step - loss: 0.0732 - accuracy: 0.9766 - val_loss: 0.0863 - val_accuracy: 0.9714\n",
      "Epoch 24/30\n",
      "599/599 [==============================] - 72s 120ms/step - loss: 0.0792 - accuracy: 0.9749 - val_loss: 0.0909 - val_accuracy: 0.9692\n",
      "Epoch 25/30\n",
      "599/599 [==============================] - 73s 121ms/step - loss: 0.0725 - accuracy: 0.9764 - val_loss: 0.0683 - val_accuracy: 0.9772\n",
      "Epoch 26/30\n",
      "599/599 [==============================] - 72s 120ms/step - loss: 0.0692 - accuracy: 0.9769 - val_loss: 0.0879 - val_accuracy: 0.9689\n",
      "Epoch 27/30\n",
      "599/599 [==============================] - 73s 121ms/step - loss: 0.0769 - accuracy: 0.9751 - val_loss: 0.0865 - val_accuracy: 0.9729\n",
      "Epoch 28/30\n",
      "599/599 [==============================] - 78s 130ms/step - loss: 0.0697 - accuracy: 0.9768 - val_loss: 0.0682 - val_accuracy: 0.9773\n",
      "Epoch 29/30\n",
      "599/599 [==============================] - 74s 123ms/step - loss: 0.0697 - accuracy: 0.9772 - val_loss: 0.0712 - val_accuracy: 0.9755\n",
      "Epoch 30/30\n",
      "599/599 [==============================] - 74s 123ms/step - loss: 0.0704 - accuracy: 0.9774 - val_loss: 0.0835 - val_accuracy: 0.9723\n"
     ]
    },
    {
     "ename": "NameError",
     "evalue": "name 'y_test' is not defined",
     "output_type": "error",
     "traceback": [
      "\u001b[0;31m---------------------------------------------------------------------------\u001b[0m",
      "\u001b[0;31mNameError\u001b[0m                                 Traceback (most recent call last)",
      "\u001b[0;32m<ipython-input-26-90aec119b3f7>\u001b[0m in \u001b[0;36m<module>\u001b[0;34m\u001b[0m\n\u001b[0;32m----> 1\u001b[0;31m \u001b[0mbuild_model\u001b[0m\u001b[0;34m(\u001b[0m\u001b[0mconv_layers\u001b[0m\u001b[0;34m=\u001b[0m\u001b[0;36m3\u001b[0m\u001b[0;34m,\u001b[0m \u001b[0mpool_layers\u001b[0m\u001b[0;34m=\u001b[0m\u001b[0;36m3\u001b[0m\u001b[0;34m,\u001b[0m \u001b[0mepochs\u001b[0m\u001b[0;34m=\u001b[0m\u001b[0;36m30\u001b[0m\u001b[0;34m,\u001b[0m \u001b[0mX_train\u001b[0m\u001b[0;34m=\u001b[0m\u001b[0mX_train\u001b[0m\u001b[0;34m,\u001b[0m \u001b[0my_train\u001b[0m\u001b[0;34m=\u001b[0m\u001b[0my_train\u001b[0m\u001b[0;34m,\u001b[0m \u001b[0mk\u001b[0m\u001b[0;34m=\u001b[0m\u001b[0;36m5\u001b[0m\u001b[0;34m)\u001b[0m\u001b[0;34m\u001b[0m\u001b[0;34m\u001b[0m\u001b[0m\n\u001b[0m",
      "\u001b[0;32m<ipython-input-22-182917fcf777>\u001b[0m in \u001b[0;36mbuild_model\u001b[0;34m(conv_layers, pool_layers, epochs, X_train, y_train, k)\u001b[0m\n\u001b[1;32m     14\u001b[0m     \u001b[0mplot_history\u001b[0m\u001b[0;34m(\u001b[0m\u001b[0mhistory\u001b[0m\u001b[0;34m,\u001b[0m \u001b[0mepochs\u001b[0m\u001b[0;34m)\u001b[0m\u001b[0;34m\u001b[0m\u001b[0;34m\u001b[0m\u001b[0m\n\u001b[1;32m     15\u001b[0m \u001b[0;34m\u001b[0m\u001b[0m\n\u001b[0;32m---> 16\u001b[0;31m     \u001b[0mconfusionmatrix\u001b[0m\u001b[0;34m(\u001b[0m\u001b[0mmodel\u001b[0m\u001b[0;34m=\u001b[0m \u001b[0mcnn_model\u001b[0m\u001b[0;34m)\u001b[0m\u001b[0;34m\u001b[0m\u001b[0;34m\u001b[0m\u001b[0m\n\u001b[0m\u001b[1;32m     17\u001b[0m \u001b[0;34m\u001b[0m\u001b[0m\n\u001b[1;32m     18\u001b[0m     \u001b[0;32mreturn\u001b[0m \u001b[0mhistory\u001b[0m\u001b[0;34m\u001b[0m\u001b[0;34m\u001b[0m\u001b[0m\n",
      "\u001b[0;32m<ipython-input-25-c08a8baf0af2>\u001b[0m in \u001b[0;36mconfusionmatrix\u001b[0;34m(model)\u001b[0m\n\u001b[1;32m      1\u001b[0m \u001b[0;32mdef\u001b[0m \u001b[0mconfusionmatrix\u001b[0m\u001b[0;34m(\u001b[0m\u001b[0mmodel\u001b[0m\u001b[0;34m)\u001b[0m\u001b[0;34m:\u001b[0m\u001b[0;34m\u001b[0m\u001b[0;34m\u001b[0m\u001b[0m\n\u001b[1;32m      2\u001b[0m \u001b[0;34m\u001b[0m\u001b[0m\n\u001b[0;32m----> 3\u001b[0;31m     \u001b[0mconfusion\u001b[0m \u001b[0;34m=\u001b[0m \u001b[0mconfusion_matrix\u001b[0m\u001b[0;34m(\u001b[0m\u001b[0my_test\u001b[0m\u001b[0;34m,\u001b[0m \u001b[0mnp\u001b[0m\u001b[0;34m.\u001b[0m\u001b[0margmax\u001b[0m\u001b[0;34m(\u001b[0m\u001b[0mmodel\u001b[0m\u001b[0;34m.\u001b[0m\u001b[0mpredict\u001b[0m\u001b[0;34m(\u001b[0m\u001b[0mX_test\u001b[0m\u001b[0;34m)\u001b[0m\u001b[0;34m,\u001b[0m \u001b[0maxis\u001b[0m\u001b[0;34m=\u001b[0m\u001b[0;34m-\u001b[0m\u001b[0;36m1\u001b[0m\u001b[0;34m)\u001b[0m\u001b[0;34m)\u001b[0m\u001b[0;34m\u001b[0m\u001b[0;34m\u001b[0m\u001b[0m\n\u001b[0m\u001b[1;32m      4\u001b[0m \u001b[0;34m\u001b[0m\u001b[0m\n\u001b[1;32m      5\u001b[0m     \u001b[0mconfusion_norm\u001b[0m \u001b[0;34m=\u001b[0m \u001b[0mconfusion\u001b[0m\u001b[0;34m.\u001b[0m\u001b[0mastype\u001b[0m\u001b[0;34m(\u001b[0m\u001b[0;34m'float'\u001b[0m\u001b[0;34m)\u001b[0m \u001b[0;34m/\u001b[0m \u001b[0mconfusion\u001b[0m\u001b[0;34m.\u001b[0m\u001b[0msum\u001b[0m\u001b[0;34m(\u001b[0m\u001b[0maxis\u001b[0m\u001b[0;34m=\u001b[0m\u001b[0;36m0\u001b[0m\u001b[0;34m)\u001b[0m\u001b[0;34m[\u001b[0m\u001b[0;34m:\u001b[0m\u001b[0;34m,\u001b[0m \u001b[0mnp\u001b[0m\u001b[0;34m.\u001b[0m\u001b[0mnewaxis\u001b[0m\u001b[0;34m]\u001b[0m\u001b[0;34m\u001b[0m\u001b[0;34m\u001b[0m\u001b[0m\n",
      "\u001b[0;31mNameError\u001b[0m: name 'y_test' is not defined"
     ]
    },
    {
     "data": {
      "image/png": "[encoded data removed]",
      "text/plain": [
       "<Figure size 864x576 with 1 Axes>"
      ]
     },
     "metadata": {
      "needs_background": "light"
     },
     "output_type": "display_data"
    }
   ],
   "source": [
    "build_model(conv_layers=3, pool_layers=3, epochs=30, X_train=X_train, y_train=y_train, k=5)"
   ]
  },
  {
   "cell_type": "code",
   "execution_count": 115,
   "metadata": {},
   "outputs": [
    {
     "name": "stdout",
     "output_type": "stream",
     "text": [
      "Model: \"sequential_10\"\n",
      "_________________________________________________________________\n",
      "Layer (type)                 Output Shape              Param #   \n",
      "=================================================================\n",
      "conv2d_12 (Conv2D)           (None, 50, 50, 45)        1170      \n",
      "_________________________________________________________________\n",
      "max_pooling2d_12 (MaxPooling (None, 25, 25, 45)        0         \n",
      "_________________________________________________________________\n",
      "dropout_12 (Dropout)         (None, 25, 25, 45)        0         \n",
      "_________________________________________________________________\n",
      "conv2d_13 (Conv2D)           (None, 25, 25, 30)        33780     \n",
      "_________________________________________________________________\n",
      "max_pooling2d_13 (MaxPooling (None, 13, 13, 30)        0         \n",
      "_________________________________________________________________\n",
      "dropout_13 (Dropout)         (None, 13, 13, 30)        0         \n",
      "_________________________________________________________________\n",
      "conv2d_14 (Conv2D)           (None, 13, 13, 15)        11265     \n",
      "_________________________________________________________________\n",
      "max_pooling2d_14 (MaxPooling (None, 7, 7, 15)          0         \n",
      "_________________________________________________________________\n",
      "dropout_14 (Dropout)         (None, 7, 7, 15)          0         \n",
      "_________________________________________________________________\n",
      "flatten_4 (Flatten)          (None, 735)               0         \n",
      "_________________________________________________________________\n",
      "dense_12 (Dense)             (None, 256)               188416    \n",
      "_________________________________________________________________\n",
      "dense_13 (Dense)             (None, 112)               28784     \n",
      "_________________________________________________________________\n",
      "dense_14 (Dense)             (None, 27)                3051      \n",
      "=================================================================\n",
      "Total params: 266,466\n",
      "Trainable params: 266,466\n",
      "Non-trainable params: 0\n",
      "_________________________________________________________________\n",
      "None\n",
      "Epoch 1/30\n",
      "599/599 [==============================] - 75s 125ms/step - loss: 0.5441 - accuracy: 0.8434 - val_loss: 0.3242 - val_accuracy: 0.9047\n",
      "Epoch 2/30\n",
      "599/599 [==============================] - 78s 131ms/step - loss: 0.2295 - accuracy: 0.9303 - val_loss: 0.2094 - val_accuracy: 0.9388\n",
      "Epoch 3/30\n",
      "599/599 [==============================] - 76s 127ms/step - loss: 0.1909 - accuracy: 0.9397 - val_loss: 0.2031 - val_accuracy: 0.9372\n",
      "Epoch 4/30\n",
      "599/599 [==============================] - 76s 128ms/step - loss: 0.1589 - accuracy: 0.9471 - val_loss: 0.1662 - val_accuracy: 0.9504\n",
      "Epoch 5/30\n",
      "599/599 [==============================] - 78s 129ms/step - loss: 0.1406 - accuracy: 0.9569 - val_loss: 0.1643 - val_accuracy: 0.9472\n",
      "Epoch 6/30\n",
      "599/599 [==============================] - 77s 129ms/step - loss: 0.1367 - accuracy: 0.9569 - val_loss: 0.1392 - val_accuracy: 0.9561\n",
      "Epoch 7/30\n",
      "599/599 [==============================] - 77s 128ms/step - loss: 0.1322 - accuracy: 0.9591 - val_loss: 0.1366 - val_accuracy: 0.9533\n",
      "Epoch 8/30\n",
      "599/599 [==============================] - 77s 128ms/step - loss: 0.1173 - accuracy: 0.9611 - val_loss: 0.1475 - val_accuracy: 0.9499\n",
      "Epoch 9/30\n",
      "599/599 [==============================] - 78s 131ms/step - loss: 0.1162 - accuracy: 0.9621 - val_loss: 0.1346 - val_accuracy: 0.9560\n",
      "Epoch 10/30\n",
      "599/599 [==============================] - 73s 122ms/step - loss: 0.1087 - accuracy: 0.9642 - val_loss: 0.1334 - val_accuracy: 0.9538\n",
      "Epoch 11/30\n",
      "599/599 [==============================] - 76s 127ms/step - loss: 0.1086 - accuracy: 0.9636 - val_loss: 0.1479 - val_accuracy: 0.9505\n",
      "Epoch 12/30\n",
      "599/599 [==============================] - 75s 125ms/step - loss: 0.1041 - accuracy: 0.9655 - val_loss: 0.1231 - val_accuracy: 0.9604\n",
      "Epoch 13/30\n",
      "599/599 [==============================] - 75s 125ms/step - loss: 0.0992 - accuracy: 0.9679 - val_loss: 0.1403 - val_accuracy: 0.9589\n",
      "Epoch 14/30\n",
      "599/599 [==============================] - 87s 146ms/step - loss: 0.1018 - accuracy: 0.9679 - val_loss: 0.1413 - val_accuracy: 0.9564\n",
      "Epoch 15/30\n",
      "599/599 [==============================] - 82s 137ms/step - loss: 0.0987 - accuracy: 0.9668 - val_loss: 0.1216 - val_accuracy: 0.9612\n",
      "Epoch 16/30\n",
      "599/599 [==============================] - 79s 132ms/step - loss: 0.0927 - accuracy: 0.9696 - val_loss: 0.1143 - val_accuracy: 0.9622\n",
      "Epoch 17/30\n",
      "599/599 [==============================] - 73s 122ms/step - loss: 0.0952 - accuracy: 0.9695 - val_loss: 0.1289 - val_accuracy: 0.9612\n",
      "Epoch 18/30\n",
      "599/599 [==============================] - 73s 121ms/step - loss: 0.0888 - accuracy: 0.9709 - val_loss: 0.1225 - val_accuracy: 0.9610\n",
      "Epoch 19/30\n",
      "599/599 [==============================] - 84s 140ms/step - loss: 0.0886 - accuracy: 0.9697 - val_loss: 0.1150 - val_accuracy: 0.9639\n",
      "Epoch 20/30\n",
      "599/599 [==============================] - 88s 147ms/step - loss: 0.0879 - accuracy: 0.9706 - val_loss: 0.1175 - val_accuracy: 0.9677\n",
      "Epoch 21/30\n",
      "599/599 [==============================] - 88s 147ms/step - loss: 0.0928 - accuracy: 0.9710 - val_loss: 0.1278 - val_accuracy: 0.9595\n",
      "Epoch 22/30\n",
      "599/599 [==============================] - 84s 139ms/step - loss: 0.0923 - accuracy: 0.9698 - val_loss: 0.1348 - val_accuracy: 0.9611\n",
      "Epoch 23/30\n",
      "599/599 [==============================] - 78s 131ms/step - loss: 0.0844 - accuracy: 0.9731 - val_loss: 0.1096 - val_accuracy: 0.9641\n",
      "Epoch 24/30\n",
      "599/599 [==============================] - 87s 145ms/step - loss: 0.0877 - accuracy: 0.9706 - val_loss: 0.1294 - val_accuracy: 0.9592\n",
      "Epoch 25/30\n",
      "599/599 [==============================] - 90s 150ms/step - loss: 0.0816 - accuracy: 0.9730 - val_loss: 0.1195 - val_accuracy: 0.9662\n",
      "Epoch 26/30\n",
      "599/599 [==============================] - 90s 150ms/step - loss: 0.0868 - accuracy: 0.9719 - val_loss: 0.1151 - val_accuracy: 0.9628\n",
      "Epoch 27/30\n",
      "599/599 [==============================] - 74s 124ms/step - loss: 0.0781 - accuracy: 0.9744 - val_loss: 0.1316 - val_accuracy: 0.9600\n",
      "Epoch 28/30\n",
      "599/599 [==============================] - 75s 125ms/step - loss: 0.0823 - accuracy: 0.9736 - val_loss: 0.1202 - val_accuracy: 0.9651\n",
      "Epoch 29/30\n",
      "599/599 [==============================] - 81s 136ms/step - loss: 0.0830 - accuracy: 0.9731 - val_loss: 0.1165 - val_accuracy: 0.9671\n",
      "Epoch 30/30\n",
      "599/599 [==============================] - 79s 131ms/step - loss: 0.0769 - accuracy: 0.9745 - val_loss: 0.1411 - val_accuracy: 0.9626\n"
     ]
    },
    {
     "ename": "NameError",
     "evalue": "name 'y_test' is not defined",
     "output_type": "error",
     "traceback": [
      "\u001b[0;31m---------------------------------------------------------------------------\u001b[0m",
      "\u001b[0;31mNameError\u001b[0m                                 Traceback (most recent call last)",
      "\u001b[0;32m<ipython-input-115-90aec119b3f7>\u001b[0m in \u001b[0;36m<module>\u001b[0;34m\u001b[0m\n\u001b[0;32m----> 1\u001b[0;31m \u001b[0mbuild_model\u001b[0m\u001b[0;34m(\u001b[0m\u001b[0mconv_layers\u001b[0m\u001b[0;34m=\u001b[0m\u001b[0;36m3\u001b[0m\u001b[0;34m,\u001b[0m \u001b[0mpool_layers\u001b[0m\u001b[0;34m=\u001b[0m\u001b[0;36m3\u001b[0m\u001b[0;34m,\u001b[0m \u001b[0mepochs\u001b[0m\u001b[0;34m=\u001b[0m\u001b[0;36m30\u001b[0m\u001b[0;34m,\u001b[0m \u001b[0mX_train\u001b[0m\u001b[0;34m=\u001b[0m\u001b[0mX_train\u001b[0m\u001b[0;34m,\u001b[0m \u001b[0my_train\u001b[0m\u001b[0;34m=\u001b[0m\u001b[0my_train\u001b[0m\u001b[0;34m,\u001b[0m \u001b[0mk\u001b[0m\u001b[0;34m=\u001b[0m\u001b[0;36m5\u001b[0m\u001b[0;34m)\u001b[0m\u001b[0;34m\u001b[0m\u001b[0;34m\u001b[0m\u001b[0m\n\u001b[0m",
      "\u001b[0;32m<ipython-input-108-27bce7cb9a71>\u001b[0m in \u001b[0;36mbuild_model\u001b[0;34m(conv_layers, pool_layers, epochs, X_train, y_train, k)\u001b[0m\n\u001b[1;32m     13\u001b[0m     \u001b[0mplot_history\u001b[0m\u001b[0;34m(\u001b[0m\u001b[0mhistory\u001b[0m\u001b[0;34m,\u001b[0m \u001b[0mepochs\u001b[0m\u001b[0;34m)\u001b[0m\u001b[0;34m\u001b[0m\u001b[0;34m\u001b[0m\u001b[0m\n\u001b[1;32m     14\u001b[0m \u001b[0;34m\u001b[0m\u001b[0m\n\u001b[0;32m---> 15\u001b[0;31m     \u001b[0mconfusionmatrix\u001b[0m\u001b[0;34m(\u001b[0m\u001b[0mmodel\u001b[0m\u001b[0;34m=\u001b[0m \u001b[0mcnn_model\u001b[0m\u001b[0;34m)\u001b[0m\u001b[0;34m\u001b[0m\u001b[0;34m\u001b[0m\u001b[0m\n\u001b[0m\u001b[1;32m     16\u001b[0m \u001b[0;34m\u001b[0m\u001b[0m\n\u001b[1;32m     17\u001b[0m     \u001b[0;32mreturn\u001b[0m \u001b[0mhistory\u001b[0m\u001b[0;34m\u001b[0m\u001b[0;34m\u001b[0m\u001b[0m\n",
      "\u001b[0;32m<ipython-input-111-c08a8baf0af2>\u001b[0m in \u001b[0;36mconfusionmatrix\u001b[0;34m(model)\u001b[0m\n\u001b[1;32m      1\u001b[0m \u001b[0;32mdef\u001b[0m \u001b[0mconfusionmatrix\u001b[0m\u001b[0;34m(\u001b[0m\u001b[0mmodel\u001b[0m\u001b[0;34m)\u001b[0m\u001b[0;34m:\u001b[0m\u001b[0;34m\u001b[0m\u001b[0;34m\u001b[0m\u001b[0m\n\u001b[1;32m      2\u001b[0m \u001b[0;34m\u001b[0m\u001b[0m\n\u001b[0;32m----> 3\u001b[0;31m     \u001b[0mconfusion\u001b[0m \u001b[0;34m=\u001b[0m \u001b[0mconfusion_matrix\u001b[0m\u001b[0;34m(\u001b[0m\u001b[0my_test\u001b[0m\u001b[0;34m,\u001b[0m \u001b[0mnp\u001b[0m\u001b[0;34m.\u001b[0m\u001b[0margmax\u001b[0m\u001b[0;34m(\u001b[0m\u001b[0mmodel\u001b[0m\u001b[0;34m.\u001b[0m\u001b[0mpredict\u001b[0m\u001b[0;34m(\u001b[0m\u001b[0mX_test\u001b[0m\u001b[0;34m)\u001b[0m\u001b[0;34m,\u001b[0m \u001b[0maxis\u001b[0m\u001b[0;34m=\u001b[0m\u001b[0;34m-\u001b[0m\u001b[0;36m1\u001b[0m\u001b[0;34m)\u001b[0m\u001b[0;34m)\u001b[0m\u001b[0;34m\u001b[0m\u001b[0;34m\u001b[0m\u001b[0m\n\u001b[0m\u001b[1;32m      4\u001b[0m \u001b[0;34m\u001b[0m\u001b[0m\n\u001b[1;32m      5\u001b[0m     \u001b[0mconfusion_norm\u001b[0m \u001b[0;34m=\u001b[0m \u001b[0mconfusion\u001b[0m\u001b[0;34m.\u001b[0m\u001b[0mastype\u001b[0m\u001b[0;34m(\u001b[0m\u001b[0;34m'float'\u001b[0m\u001b[0;34m)\u001b[0m \u001b[0;34m/\u001b[0m \u001b[0mconfusion\u001b[0m\u001b[0;34m.\u001b[0m\u001b[0msum\u001b[0m\u001b[0;34m(\u001b[0m\u001b[0maxis\u001b[0m\u001b[0;34m=\u001b[0m\u001b[0;36m0\u001b[0m\u001b[0;34m)\u001b[0m\u001b[0;34m[\u001b[0m\u001b[0;34m:\u001b[0m\u001b[0;34m,\u001b[0m \u001b[0mnp\u001b[0m\u001b[0;34m.\u001b[0m\u001b[0mnewaxis\u001b[0m\u001b[0;34m]\u001b[0m\u001b[0;34m\u001b[0m\u001b[0;34m\u001b[0m\u001b[0m\n",
      "\u001b[0;31mNameError\u001b[0m: name 'y_test' is not defined"
     ]
    },
    {
     "data": {
      "image/png": "[encoded data removed]",
      "text/plain": [
       "<Figure size 864x576 with 1 Axes>"
      ]
     },
     "metadata": {
      "needs_background": "light"
     },
     "output_type": "display_data"
    }
   ],
   "source": [
    "build_model(conv_layers=3, pool_layers=3, epochs=30, X_train=X_train, y_train=y_train, k=5)"
   ]
  },
  {
   "cell_type": "code",
   "execution_count": 116,
   "metadata": {},
   "outputs": [
    {
     "name": "stdout",
     "output_type": "stream",
     "text": [
      "Model: \"sequential_11\"\n",
      "_________________________________________________________________\n",
      "Layer (type)                 Output Shape              Param #   \n",
      "=================================================================\n",
      "conv2d_15 (Conv2D)           (None, 50, 50, 45)        1170      \n",
      "_________________________________________________________________\n",
      "max_pooling2d_15 (MaxPooling (None, 25, 25, 45)        0         \n",
      "_________________________________________________________________\n",
      "dropout_15 (Dropout)         (None, 25, 25, 45)        0         \n",
      "_________________________________________________________________\n",
      "conv2d_16 (Conv2D)           (None, 25, 25, 30)        33780     \n",
      "_________________________________________________________________\n",
      "max_pooling2d_16 (MaxPooling (None, 13, 13, 30)        0         \n",
      "_________________________________________________________________\n",
      "dropout_16 (Dropout)         (None, 13, 13, 30)        0         \n",
      "_________________________________________________________________\n",
      "conv2d_17 (Conv2D)           (None, 13, 13, 15)        11265     \n",
      "_________________________________________________________________\n",
      "max_pooling2d_17 (MaxPooling (None, 7, 7, 15)          0         \n",
      "_________________________________________________________________\n",
      "dropout_17 (Dropout)         (None, 7, 7, 15)          0         \n",
      "_________________________________________________________________\n",
      "conv2d_18 (Conv2D)           (None, 7, 7, 7)           2632      \n",
      "_________________________________________________________________\n",
      "max_pooling2d_18 (MaxPooling (None, 4, 4, 7)           0         \n",
      "_________________________________________________________________\n",
      "dropout_18 (Dropout)         (None, 4, 4, 7)           0         \n",
      "_________________________________________________________________\n",
      "flatten_5 (Flatten)          (None, 112)               0         \n",
      "_________________________________________________________________\n",
      "dense_15 (Dense)             (None, 256)               28928     \n",
      "_________________________________________________________________\n",
      "dense_16 (Dense)             (None, 112)               28784     \n",
      "_________________________________________________________________\n",
      "dense_17 (Dense)             (None, 27)                3051      \n",
      "=================================================================\n",
      "Total params: 109,610\n",
      "Trainable params: 109,610\n",
      "Non-trainable params: 0\n",
      "_________________________________________________________________\n",
      "None\n",
      "Epoch 1/30\n",
      "599/599 [==============================] - 75s 125ms/step - loss: 0.9446 - accuracy: 0.7299 - val_loss: 0.5108 - val_accuracy: 0.8522\n",
      "Epoch 2/30\n",
      "599/599 [==============================] - 76s 126ms/step - loss: 0.4464 - accuracy: 0.8653 - val_loss: 0.3439 - val_accuracy: 0.8969\n",
      "Epoch 3/30\n",
      "599/599 [==============================] - 75s 125ms/step - loss: 0.3594 - accuracy: 0.8895 - val_loss: 0.2689 - val_accuracy: 0.9188\n",
      "Epoch 4/30\n",
      "599/599 [==============================] - 77s 128ms/step - loss: 0.3219 - accuracy: 0.9008 - val_loss: 0.2287 - val_accuracy: 0.9371\n",
      "Epoch 5/30\n",
      "599/599 [==============================] - 75s 126ms/step - loss: 0.2921 - accuracy: 0.9107 - val_loss: 0.2258 - val_accuracy: 0.9359\n",
      "Epoch 6/30\n",
      "599/599 [==============================] - 76s 128ms/step - loss: 0.2768 - accuracy: 0.9170 - val_loss: 0.1827 - val_accuracy: 0.9448\n",
      "Epoch 7/30\n",
      "599/599 [==============================] - 76s 127ms/step - loss: 0.2622 - accuracy: 0.9208 - val_loss: 0.1929 - val_accuracy: 0.9417\n",
      "Epoch 8/30\n",
      "599/599 [==============================] - 78s 130ms/step - loss: 0.2462 - accuracy: 0.9240 - val_loss: 0.1780 - val_accuracy: 0.9463\n",
      "Epoch 9/30\n",
      "599/599 [==============================] - 313s 523ms/step - loss: 0.2342 - accuracy: 0.9270 - val_loss: 0.2097 - val_accuracy: 0.9357\n",
      "Epoch 10/30\n",
      "599/599 [==============================] - 79s 132ms/step - loss: 0.2209 - accuracy: 0.9312 - val_loss: 0.2252 - val_accuracy: 0.9292\n",
      "Epoch 11/30\n",
      "599/599 [==============================] - 80s 133ms/step - loss: 0.2238 - accuracy: 0.9299 - val_loss: 0.1827 - val_accuracy: 0.9428\n",
      "Epoch 12/30\n",
      "599/599 [==============================] - 81s 136ms/step - loss: 0.2091 - accuracy: 0.9361 - val_loss: 0.1738 - val_accuracy: 0.9443\n",
      "Epoch 13/30\n",
      "599/599 [==============================] - 82s 137ms/step - loss: 0.2018 - accuracy: 0.9365 - val_loss: 0.1684 - val_accuracy: 0.9500\n",
      "Epoch 14/30\n",
      "599/599 [==============================] - 84s 139ms/step - loss: 0.2033 - accuracy: 0.9380 - val_loss: 0.1744 - val_accuracy: 0.9482\n",
      "Epoch 15/30\n",
      "599/599 [==============================] - 88s 147ms/step - loss: 0.2020 - accuracy: 0.9361 - val_loss: 0.1572 - val_accuracy: 0.9553\n",
      "Epoch 16/30\n",
      "599/599 [==============================] - 86s 144ms/step - loss: 0.1952 - accuracy: 0.9367 - val_loss: 0.1503 - val_accuracy: 0.9542\n",
      "Epoch 17/30\n",
      "599/599 [==============================] - 94s 157ms/step - loss: 0.1927 - accuracy: 0.9400 - val_loss: 0.1453 - val_accuracy: 0.9564\n",
      "Epoch 18/30\n",
      "599/599 [==============================] - 76s 127ms/step - loss: 0.1896 - accuracy: 0.9411 - val_loss: 0.1560 - val_accuracy: 0.9492\n",
      "Epoch 19/30\n",
      "599/599 [==============================] - 69s 116ms/step - loss: 0.1898 - accuracy: 0.9398 - val_loss: 0.1935 - val_accuracy: 0.9437\n",
      "Epoch 20/30\n",
      "599/599 [==============================] - 84s 140ms/step - loss: 0.1872 - accuracy: 0.9396 - val_loss: 0.1439 - val_accuracy: 0.9580\n",
      "Epoch 21/30\n",
      "599/599 [==============================] - 82s 137ms/step - loss: 0.1917 - accuracy: 0.9397 - val_loss: 0.1474 - val_accuracy: 0.9561\n",
      "Epoch 22/30\n",
      "599/599 [==============================] - 85s 142ms/step - loss: 0.1855 - accuracy: 0.9414 - val_loss: 0.1407 - val_accuracy: 0.9563\n",
      "Epoch 23/30\n",
      "599/599 [==============================] - 90s 150ms/step - loss: 0.1796 - accuracy: 0.9430 - val_loss: 0.1432 - val_accuracy: 0.9577\n",
      "Epoch 24/30\n",
      "599/599 [==============================] - 88s 148ms/step - loss: 0.1808 - accuracy: 0.9436 - val_loss: 0.1580 - val_accuracy: 0.9532\n",
      "Epoch 25/30\n",
      "599/599 [==============================] - 72s 119ms/step - loss: 0.1687 - accuracy: 0.9443 - val_loss: 0.1814 - val_accuracy: 0.9448\n",
      "Epoch 26/30\n",
      "599/599 [==============================] - 79s 131ms/step - loss: 0.1823 - accuracy: 0.9417 - val_loss: 0.1681 - val_accuracy: 0.9488\n",
      "Epoch 27/30\n",
      "599/599 [==============================] - 77s 128ms/step - loss: 0.1704 - accuracy: 0.9442 - val_loss: 0.1541 - val_accuracy: 0.9549\n",
      "Epoch 28/30\n",
      "599/599 [==============================] - 76s 128ms/step - loss: 0.1719 - accuracy: 0.9441 - val_loss: 0.1504 - val_accuracy: 0.9532\n",
      "Epoch 29/30\n",
      "599/599 [==============================] - 75s 125ms/step - loss: 0.1745 - accuracy: 0.9450 - val_loss: 0.1789 - val_accuracy: 0.9454\n",
      "Epoch 30/30\n",
      "599/599 [==============================] - 74s 124ms/step - loss: 0.1780 - accuracy: 0.9433 - val_loss: 0.1691 - val_accuracy: 0.9474\n"
     ]
    },
    {
     "ename": "NameError",
     "evalue": "name 'y_test' is not defined",
     "output_type": "error",
     "traceback": [
      "\u001b[0;31m---------------------------------------------------------------------------\u001b[0m",
      "\u001b[0;31mNameError\u001b[0m                                 Traceback (most recent call last)",
      "\u001b[0;32m<ipython-input-116-3c8ef50b7f3a>\u001b[0m in \u001b[0;36m<module>\u001b[0;34m\u001b[0m\n\u001b[0;32m----> 1\u001b[0;31m \u001b[0mbuild_model\u001b[0m\u001b[0;34m(\u001b[0m\u001b[0mconv_layers\u001b[0m\u001b[0;34m=\u001b[0m\u001b[0;36m4\u001b[0m\u001b[0;34m,\u001b[0m \u001b[0mpool_layers\u001b[0m\u001b[0;34m=\u001b[0m\u001b[0;36m4\u001b[0m\u001b[0;34m,\u001b[0m \u001b[0mepochs\u001b[0m\u001b[0;34m=\u001b[0m\u001b[0;36m30\u001b[0m\u001b[0;34m,\u001b[0m \u001b[0mX_train\u001b[0m\u001b[0;34m=\u001b[0m\u001b[0mX_train\u001b[0m\u001b[0;34m,\u001b[0m \u001b[0my_train\u001b[0m\u001b[0;34m=\u001b[0m\u001b[0my_train\u001b[0m\u001b[0;34m,\u001b[0m \u001b[0mk\u001b[0m\u001b[0;34m=\u001b[0m\u001b[0;36m5\u001b[0m\u001b[0;34m)\u001b[0m\u001b[0;34m\u001b[0m\u001b[0;34m\u001b[0m\u001b[0m\n\u001b[0m",
      "\u001b[0;32m<ipython-input-108-27bce7cb9a71>\u001b[0m in \u001b[0;36mbuild_model\u001b[0;34m(conv_layers, pool_layers, epochs, X_train, y_train, k)\u001b[0m\n\u001b[1;32m     13\u001b[0m     \u001b[0mplot_history\u001b[0m\u001b[0;34m(\u001b[0m\u001b[0mhistory\u001b[0m\u001b[0;34m,\u001b[0m \u001b[0mepochs\u001b[0m\u001b[0;34m)\u001b[0m\u001b[0;34m\u001b[0m\u001b[0;34m\u001b[0m\u001b[0m\n\u001b[1;32m     14\u001b[0m \u001b[0;34m\u001b[0m\u001b[0m\n\u001b[0;32m---> 15\u001b[0;31m     \u001b[0mconfusionmatrix\u001b[0m\u001b[0;34m(\u001b[0m\u001b[0mmodel\u001b[0m\u001b[0;34m=\u001b[0m \u001b[0mcnn_model\u001b[0m\u001b[0;34m)\u001b[0m\u001b[0;34m\u001b[0m\u001b[0;34m\u001b[0m\u001b[0m\n\u001b[0m\u001b[1;32m     16\u001b[0m \u001b[0;34m\u001b[0m\u001b[0m\n\u001b[1;32m     17\u001b[0m     \u001b[0;32mreturn\u001b[0m \u001b[0mhistory\u001b[0m\u001b[0;34m\u001b[0m\u001b[0;34m\u001b[0m\u001b[0m\n",
      "\u001b[0;32m<ipython-input-111-c08a8baf0af2>\u001b[0m in \u001b[0;36mconfusionmatrix\u001b[0;34m(model)\u001b[0m\n\u001b[1;32m      1\u001b[0m \u001b[0;32mdef\u001b[0m \u001b[0mconfusionmatrix\u001b[0m\u001b[0;34m(\u001b[0m\u001b[0mmodel\u001b[0m\u001b[0;34m)\u001b[0m\u001b[0;34m:\u001b[0m\u001b[0;34m\u001b[0m\u001b[0;34m\u001b[0m\u001b[0m\n\u001b[1;32m      2\u001b[0m \u001b[0;34m\u001b[0m\u001b[0m\n\u001b[0;32m----> 3\u001b[0;31m     \u001b[0mconfusion\u001b[0m \u001b[0;34m=\u001b[0m \u001b[0mconfusion_matrix\u001b[0m\u001b[0;34m(\u001b[0m\u001b[0my_test\u001b[0m\u001b[0;34m,\u001b[0m \u001b[0mnp\u001b[0m\u001b[0;34m.\u001b[0m\u001b[0margmax\u001b[0m\u001b[0;34m(\u001b[0m\u001b[0mmodel\u001b[0m\u001b[0;34m.\u001b[0m\u001b[0mpredict\u001b[0m\u001b[0;34m(\u001b[0m\u001b[0mX_test\u001b[0m\u001b[0;34m)\u001b[0m\u001b[0;34m,\u001b[0m \u001b[0maxis\u001b[0m\u001b[0;34m=\u001b[0m\u001b[0;34m-\u001b[0m\u001b[0;36m1\u001b[0m\u001b[0;34m)\u001b[0m\u001b[0;34m)\u001b[0m\u001b[0;34m\u001b[0m\u001b[0;34m\u001b[0m\u001b[0m\n\u001b[0m\u001b[1;32m      4\u001b[0m \u001b[0;34m\u001b[0m\u001b[0m\n\u001b[1;32m      5\u001b[0m     \u001b[0mconfusion_norm\u001b[0m \u001b[0;34m=\u001b[0m \u001b[0mconfusion\u001b[0m\u001b[0;34m.\u001b[0m\u001b[0mastype\u001b[0m\u001b[0;34m(\u001b[0m\u001b[0;34m'float'\u001b[0m\u001b[0;34m)\u001b[0m \u001b[0;34m/\u001b[0m \u001b[0mconfusion\u001b[0m\u001b[0;34m.\u001b[0m\u001b[0msum\u001b[0m\u001b[0;34m(\u001b[0m\u001b[0maxis\u001b[0m\u001b[0;34m=\u001b[0m\u001b[0;36m0\u001b[0m\u001b[0;34m)\u001b[0m\u001b[0;34m[\u001b[0m\u001b[0;34m:\u001b[0m\u001b[0;34m,\u001b[0m \u001b[0mnp\u001b[0m\u001b[0;34m.\u001b[0m\u001b[0mnewaxis\u001b[0m\u001b[0;34m]\u001b[0m\u001b[0;34m\u001b[0m\u001b[0;34m\u001b[0m\u001b[0m\n",
      "\u001b[0;31mNameError\u001b[0m: name 'y_test' is not defined"
     ]
    },
    {
     "data": {
      "image/png": "[encoded data removed]",
      "text/plain": [
       "<Figure size 864x576 with 1 Axes>"
      ]
     },
     "metadata": {
      "needs_background": "light"
     },
     "output_type": "display_data"
    }
   ],
   "source": [
    "build_model(conv_layers=4, pool_layers=4, epochs=30, X_train=X_train, y_train=y_train, k=5)"
   ]
  },
  {
   "cell_type": "markdown",
   "metadata": {},
   "source": [
    "Without Data Aug"
   ]
  },
  {
   "cell_type": "code",
   "execution_count": 18,
   "metadata": {},
   "outputs": [
    {
     "name": "stdout",
     "output_type": "stream",
     "text": [
      "Model: \"sequential\"\n",
      "_________________________________________________________________\n",
      "Layer (type)                 Output Shape              Param #   \n",
      "=================================================================\n",
      "conv2d (Conv2D)              (None, 50, 50, 45)        1170      \n",
      "_________________________________________________________________\n",
      "max_pooling2d (MaxPooling2D) (None, 25, 25, 45)        0         \n",
      "_________________________________________________________________\n",
      "dropout (Dropout)            (None, 25, 25, 45)        0         \n",
      "_________________________________________________________________\n",
      "conv2d_1 (Conv2D)            (None, 25, 25, 30)        33780     \n",
      "_________________________________________________________________\n",
      "max_pooling2d_1 (MaxPooling2 (None, 13, 13, 30)        0         \n",
      "_________________________________________________________________\n",
      "dropout_1 (Dropout)          (None, 13, 13, 30)        0         \n",
      "_________________________________________________________________\n",
      "conv2d_2 (Conv2D)            (None, 13, 13, 15)        11265     \n",
      "_________________________________________________________________\n",
      "max_pooling2d_2 (MaxPooling2 (None, 7, 7, 15)          0         \n",
      "_________________________________________________________________\n",
      "dropout_2 (Dropout)          (None, 7, 7, 15)          0         \n",
      "_________________________________________________________________\n",
      "flatten (Flatten)            (None, 735)               0         \n",
      "_________________________________________________________________\n",
      "dense (Dense)                (None, 256)               188416    \n",
      "_________________________________________________________________\n",
      "dense_1 (Dense)              (None, 112)               28784     \n",
      "_________________________________________________________________\n",
      "dense_2 (Dense)              (None, 27)                3051      \n",
      "=================================================================\n",
      "Total params: 266,466\n",
      "Trainable params: 266,466\n",
      "Non-trainable params: 0\n",
      "_________________________________________________________________\n",
      "None\n",
      "Epoch 1/40\n",
      "599/599 [==============================] - 78s 130ms/step - loss: 0.5284 - accuracy: 0.8490 - val_loss: 0.3325 - val_accuracy: 0.8978\n",
      "Epoch 2/40\n",
      "599/599 [==============================] - 81s 134ms/step - loss: 0.2176 - accuracy: 0.9327 - val_loss: 0.2119 - val_accuracy: 0.9375\n",
      "Epoch 3/40\n",
      "599/599 [==============================] - 78s 130ms/step - loss: 0.1723 - accuracy: 0.9480 - val_loss: 0.1659 - val_accuracy: 0.9494\n",
      "Epoch 4/40\n",
      "599/599 [==============================] - 81s 135ms/step - loss: 0.1468 - accuracy: 0.9541 - val_loss: 0.1283 - val_accuracy: 0.9600\n",
      "Epoch 5/40\n",
      "599/599 [==============================] - 78s 130ms/step - loss: 0.1302 - accuracy: 0.9587 - val_loss: 0.1542 - val_accuracy: 0.9522\n",
      "Epoch 6/40\n",
      "599/599 [==============================] - 80s 133ms/step - loss: 0.1258 - accuracy: 0.9600 - val_loss: 0.1078 - val_accuracy: 0.9670\n",
      "Epoch 7/40\n",
      "599/599 [==============================] - 78s 130ms/step - loss: 0.1148 - accuracy: 0.9637 - val_loss: 0.0909 - val_accuracy: 0.9705\n",
      "Epoch 8/40\n",
      "599/599 [==============================] - 78s 130ms/step - loss: 0.1115 - accuracy: 0.9641 - val_loss: 0.1123 - val_accuracy: 0.9655\n",
      "Epoch 9/40\n",
      "599/599 [==============================] - 76s 126ms/step - loss: 0.1045 - accuracy: 0.9665 - val_loss: 0.1041 - val_accuracy: 0.9653\n",
      "Epoch 10/40\n",
      "599/599 [==============================] - 78s 130ms/step - loss: 0.0982 - accuracy: 0.9683 - val_loss: 0.0919 - val_accuracy: 0.9739\n",
      "Epoch 11/40\n",
      "599/599 [==============================] - 94s 156ms/step - loss: 0.0930 - accuracy: 0.9684 - val_loss: 0.0895 - val_accuracy: 0.9712\n",
      "Epoch 12/40\n",
      "599/599 [==============================] - 95s 159ms/step - loss: 0.0937 - accuracy: 0.9709 - val_loss: 0.0931 - val_accuracy: 0.9699\n",
      "Epoch 13/40\n",
      "599/599 [==============================] - 72s 120ms/step - loss: 0.0885 - accuracy: 0.9702 - val_loss: 0.1118 - val_accuracy: 0.9623\n",
      "Epoch 14/40\n",
      "599/599 [==============================] - 74s 123ms/step - loss: 0.0890 - accuracy: 0.9711 - val_loss: 0.1022 - val_accuracy: 0.9666\n",
      "Epoch 15/40\n",
      "599/599 [==============================] - 75s 126ms/step - loss: 0.0851 - accuracy: 0.9735 - val_loss: 0.0849 - val_accuracy: 0.9733\n",
      "Epoch 16/40\n",
      "599/599 [==============================] - 75s 126ms/step - loss: 0.0886 - accuracy: 0.9728 - val_loss: 0.0851 - val_accuracy: 0.9711\n",
      "Epoch 17/40\n",
      "599/599 [==============================] - 76s 127ms/step - loss: 0.0798 - accuracy: 0.9737 - val_loss: 0.0838 - val_accuracy: 0.9742\n",
      "Epoch 18/40\n",
      "599/599 [==============================] - 76s 127ms/step - loss: 0.0820 - accuracy: 0.9729 - val_loss: 0.0765 - val_accuracy: 0.9745\n",
      "Epoch 19/40\n",
      "599/599 [==============================] - 77s 129ms/step - loss: 0.0789 - accuracy: 0.9734 - val_loss: 0.0695 - val_accuracy: 0.9773\n",
      "Epoch 20/40\n",
      "599/599 [==============================] - 83s 139ms/step - loss: 0.0772 - accuracy: 0.9751 - val_loss: 0.0706 - val_accuracy: 0.9793\n",
      "Epoch 21/40\n",
      "599/599 [==============================] - 78s 130ms/step - loss: 0.0809 - accuracy: 0.9731 - val_loss: 0.0904 - val_accuracy: 0.9706\n",
      "Epoch 22/40\n",
      "599/599 [==============================] - 78s 129ms/step - loss: 0.0829 - accuracy: 0.9728 - val_loss: 0.0764 - val_accuracy: 0.9738\n",
      "Epoch 23/40\n",
      "599/599 [==============================] - 78s 130ms/step - loss: 0.0732 - accuracy: 0.9766 - val_loss: 0.0863 - val_accuracy: 0.9714\n",
      "Epoch 24/40\n",
      "599/599 [==============================] - 78s 131ms/step - loss: 0.0792 - accuracy: 0.9749 - val_loss: 0.0909 - val_accuracy: 0.9692\n",
      "Epoch 25/40\n",
      "599/599 [==============================] - 78s 131ms/step - loss: 0.0725 - accuracy: 0.9764 - val_loss: 0.0683 - val_accuracy: 0.9772\n",
      "Epoch 26/40\n",
      "599/599 [==============================] - 79s 131ms/step - loss: 0.0692 - accuracy: 0.9769 - val_loss: 0.0879 - val_accuracy: 0.9689\n",
      "Epoch 27/40\n",
      "599/599 [==============================] - 79s 132ms/step - loss: 0.0769 - accuracy: 0.9751 - val_loss: 0.0865 - val_accuracy: 0.9729\n",
      "Epoch 28/40\n",
      "599/599 [==============================] - 80s 133ms/step - loss: 0.0697 - accuracy: 0.9768 - val_loss: 0.0682 - val_accuracy: 0.9773\n",
      "Epoch 29/40\n",
      "599/599 [==============================] - 80s 133ms/step - loss: 0.0697 - accuracy: 0.9772 - val_loss: 0.0712 - val_accuracy: 0.9755\n",
      "Epoch 30/40\n",
      "599/599 [==============================] - 80s 134ms/step - loss: 0.0704 - accuracy: 0.9774 - val_loss: 0.0835 - val_accuracy: 0.9723\n",
      "Epoch 31/40\n",
      "599/599 [==============================] - 80s 134ms/step - loss: 0.0684 - accuracy: 0.9779 - val_loss: 0.0816 - val_accuracy: 0.9700\n",
      "Epoch 32/40\n",
      "599/599 [==============================] - 80s 134ms/step - loss: 0.0716 - accuracy: 0.9753 - val_loss: 0.0956 - val_accuracy: 0.9675\n",
      "Epoch 33/40\n",
      "599/599 [==============================] - 80s 133ms/step - loss: 0.0750 - accuracy: 0.9767 - val_loss: 0.0678 - val_accuracy: 0.9782\n",
      "Epoch 34/40\n",
      "599/599 [==============================] - 81s 134ms/step - loss: 0.0697 - accuracy: 0.9782 - val_loss: 0.1016 - val_accuracy: 0.9645\n",
      "Epoch 35/40\n",
      "599/599 [==============================] - 80s 133ms/step - loss: 0.0755 - accuracy: 0.9761 - val_loss: 0.0577 - val_accuracy: 0.9820\n",
      "Epoch 36/40\n",
      "599/599 [==============================] - 79s 131ms/step - loss: 0.0602 - accuracy: 0.9799 - val_loss: 0.0593 - val_accuracy: 0.9810\n",
      "Epoch 37/40\n",
      "599/599 [==============================] - 79s 132ms/step - loss: 0.0682 - accuracy: 0.9788 - val_loss: 0.0657 - val_accuracy: 0.9781\n",
      "Epoch 38/40\n",
      "599/599 [==============================] - 80s 133ms/step - loss: 0.0698 - accuracy: 0.9770 - val_loss: 0.0781 - val_accuracy: 0.9747\n",
      "Epoch 39/40\n",
      "599/599 [==============================] - 1531s 3s/step - loss: 0.0744 - accuracy: 0.9762 - val_loss: 0.0808 - val_accuracy: 0.9747\n",
      "Epoch 40/40\n",
      "599/599 [==============================] - 76s 127ms/step - loss: 0.0658 - accuracy: 0.9793 - val_loss: 0.0745 - val_accuracy: 0.9773\n"
     ]
    },
    {
     "ename": "NameError",
     "evalue": "name 'y_test' is not defined",
     "output_type": "error",
     "traceback": [
      "\u001b[0;31m---------------------------------------------------------------------------\u001b[0m",
      "\u001b[0;31mNameError\u001b[0m                                 Traceback (most recent call last)",
      "\u001b[0;32m<ipython-input-18-7ee96a0c94ef>\u001b[0m in \u001b[0;36m<module>\u001b[0;34m\u001b[0m\n\u001b[0;32m----> 1\u001b[0;31m \u001b[0mbuild_model\u001b[0m\u001b[0;34m(\u001b[0m\u001b[0mconv_layers\u001b[0m\u001b[0;34m=\u001b[0m\u001b[0;36m3\u001b[0m\u001b[0;34m,\u001b[0m \u001b[0mpool_layers\u001b[0m\u001b[0;34m=\u001b[0m\u001b[0;36m3\u001b[0m\u001b[0;34m,\u001b[0m \u001b[0mepochs\u001b[0m\u001b[0;34m=\u001b[0m\u001b[0;36m40\u001b[0m\u001b[0;34m,\u001b[0m \u001b[0mX_train\u001b[0m\u001b[0;34m=\u001b[0m\u001b[0mX_train\u001b[0m\u001b[0;34m,\u001b[0m \u001b[0my_train\u001b[0m\u001b[0;34m=\u001b[0m\u001b[0my_train\u001b[0m\u001b[0;34m,\u001b[0m \u001b[0mk\u001b[0m\u001b[0;34m=\u001b[0m\u001b[0;36m5\u001b[0m\u001b[0;34m)\u001b[0m\u001b[0;34m\u001b[0m\u001b[0;34m\u001b[0m\u001b[0m\n\u001b[0m",
      "\u001b[0;32m<ipython-input-14-27bce7cb9a71>\u001b[0m in \u001b[0;36mbuild_model\u001b[0;34m(conv_layers, pool_layers, epochs, X_train, y_train, k)\u001b[0m\n\u001b[1;32m     13\u001b[0m     \u001b[0mplot_history\u001b[0m\u001b[0;34m(\u001b[0m\u001b[0mhistory\u001b[0m\u001b[0;34m,\u001b[0m \u001b[0mepochs\u001b[0m\u001b[0;34m)\u001b[0m\u001b[0;34m\u001b[0m\u001b[0;34m\u001b[0m\u001b[0m\n\u001b[1;32m     14\u001b[0m \u001b[0;34m\u001b[0m\u001b[0m\n\u001b[0;32m---> 15\u001b[0;31m     \u001b[0mconfusionmatrix\u001b[0m\u001b[0;34m(\u001b[0m\u001b[0mmodel\u001b[0m\u001b[0;34m=\u001b[0m \u001b[0mcnn_model\u001b[0m\u001b[0;34m)\u001b[0m\u001b[0;34m\u001b[0m\u001b[0;34m\u001b[0m\u001b[0m\n\u001b[0m\u001b[1;32m     16\u001b[0m \u001b[0;34m\u001b[0m\u001b[0m\n\u001b[1;32m     17\u001b[0m     \u001b[0;32mreturn\u001b[0m \u001b[0mhistory\u001b[0m\u001b[0;34m\u001b[0m\u001b[0;34m\u001b[0m\u001b[0m\n",
      "\u001b[0;32m<ipython-input-17-c08a8baf0af2>\u001b[0m in \u001b[0;36mconfusionmatrix\u001b[0;34m(model)\u001b[0m\n\u001b[1;32m      1\u001b[0m \u001b[0;32mdef\u001b[0m \u001b[0mconfusionmatrix\u001b[0m\u001b[0;34m(\u001b[0m\u001b[0mmodel\u001b[0m\u001b[0;34m)\u001b[0m\u001b[0;34m:\u001b[0m\u001b[0;34m\u001b[0m\u001b[0;34m\u001b[0m\u001b[0m\n\u001b[1;32m      2\u001b[0m \u001b[0;34m\u001b[0m\u001b[0m\n\u001b[0;32m----> 3\u001b[0;31m     \u001b[0mconfusion\u001b[0m \u001b[0;34m=\u001b[0m \u001b[0mconfusion_matrix\u001b[0m\u001b[0;34m(\u001b[0m\u001b[0my_test\u001b[0m\u001b[0;34m,\u001b[0m \u001b[0mnp\u001b[0m\u001b[0;34m.\u001b[0m\u001b[0margmax\u001b[0m\u001b[0;34m(\u001b[0m\u001b[0mmodel\u001b[0m\u001b[0;34m.\u001b[0m\u001b[0mpredict\u001b[0m\u001b[0;34m(\u001b[0m\u001b[0mX_test\u001b[0m\u001b[0;34m)\u001b[0m\u001b[0;34m,\u001b[0m \u001b[0maxis\u001b[0m\u001b[0;34m=\u001b[0m\u001b[0;34m-\u001b[0m\u001b[0;36m1\u001b[0m\u001b[0;34m)\u001b[0m\u001b[0;34m)\u001b[0m\u001b[0;34m\u001b[0m\u001b[0;34m\u001b[0m\u001b[0m\n\u001b[0m\u001b[1;32m      4\u001b[0m \u001b[0;34m\u001b[0m\u001b[0m\n\u001b[1;32m      5\u001b[0m     \u001b[0mconfusion_norm\u001b[0m \u001b[0;34m=\u001b[0m \u001b[0mconfusion\u001b[0m\u001b[0;34m.\u001b[0m\u001b[0mastype\u001b[0m\u001b[0;34m(\u001b[0m\u001b[0;34m'float'\u001b[0m\u001b[0;34m)\u001b[0m \u001b[0;34m/\u001b[0m \u001b[0mconfusion\u001b[0m\u001b[0;34m.\u001b[0m\u001b[0msum\u001b[0m\u001b[0;34m(\u001b[0m\u001b[0maxis\u001b[0m\u001b[0;34m=\u001b[0m\u001b[0;36m0\u001b[0m\u001b[0;34m)\u001b[0m\u001b[0;34m[\u001b[0m\u001b[0;34m:\u001b[0m\u001b[0;34m,\u001b[0m \u001b[0mnp\u001b[0m\u001b[0;34m.\u001b[0m\u001b[0mnewaxis\u001b[0m\u001b[0;34m]\u001b[0m\u001b[0;34m\u001b[0m\u001b[0;34m\u001b[0m\u001b[0m\n",
      "\u001b[0;31mNameError\u001b[0m: name 'y_test' is not defined"
     ]
    },
    {
     "data": {
      "image/png": "[encoded data removed]",
      "text/plain": [
       "<Figure size 864x576 with 1 Axes>"
      ]
     },
     "metadata": {
      "needs_background": "light"
     },
     "output_type": "display_data"
    }
   ],
   "source": [
    "build_model(conv_layers=3, pool_layers=3, epochs=40, X_train=X_train, y_train=y_train, k=5)"
   ]
  },
  {
   "cell_type": "code",
   "execution_count": null,
   "metadata": {},
   "outputs": [],
   "source": []
  }
 ],
 "metadata": {
  "kernelspec": {
   "display_name": "Python 3",
   "language": "python",
   "name": "python3"
  },
  "language_info": {
   "codemirror_mode": {
    "name": "ipython",
    "version": 3
   },
   "file_extension": ".py",
   "mimetype": "text/x-python",
   "name": "python",
   "nbconvert_exporter": "python",
   "pygments_lexer": "ipython3",
   "version": "3.7.6"
  }
 },
 "nbformat": 4,
 "nbformat_minor": 4
}
