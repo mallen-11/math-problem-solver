{
 "cells": [
  {
   "cell_type": "code",
   "execution_count": 1,
   "metadata": {},
   "outputs": [
    {
     "name": "stdout",
     "output_type": "stream",
     "text": [
      "Requirement already satisfied: tensorflow-addons in /opt/miniconda3/lib/python3.7/site-packages (0.11.2)\r\n",
      "Requirement already satisfied: typeguard>=2.7 in /opt/miniconda3/lib/python3.7/site-packages (from tensorflow-addons) (2.9.1)\r\n"
     ]
    }
   ],
   "source": [
    "import tensorflow as tf\n",
    "import numpy as np\n",
    "import pandas as pd\n",
    "from matplotlib import pyplot as plt\n",
    "\n",
    "from sklearn.linear_model import LogisticRegression\n",
    "from sklearn.metrics import plot_confusion_matrix, confusion_matrix\n",
    "\n",
    "from tensorflow.keras.layers import Dense, Flatten, Conv2D, MaxPooling2D, Dropout, BatchNormalization\n",
    "from tensorflow.keras import Model\n",
    "from tensorflow.keras.models import Sequential\n",
    "from tensorflow.keras import layers\n",
    "\n",
    "!pip install tensorflow-addons\n",
    "import tensorflow_addons as tfa\n",
    "\n",
    "import itertools\n",
    "\n",
    "tf.random.set_seed(1)"
   ]
  },
  {
   "cell_type": "code",
   "execution_count": 25,
   "metadata": {},
   "outputs": [],
   "source": [
    "import pickle\n",
    "\n",
    "images1 = pickle.load( open('../../../../github_repos/CROHME_extractor/outputs1/train1/train.pickle', 'rb') )\n",
    "images2 = pickle.load( open('../../../../github_repos/CROHME_extractor/outputs2/train2/train.pickle', 'rb') )\n",
    "images3 = pickle.load( open('../../../../github_repos/CROHME_extractor/outputs3/train3/train.pickle', 'rb') )"
   ]
  },
  {
   "cell_type": "code",
   "execution_count": 26,
   "metadata": {},
   "outputs": [],
   "source": [
    "images = images1 + images2 + images3"
   ]
  },
  {
   "cell_type": "code",
   "execution_count": 27,
   "metadata": {},
   "outputs": [],
   "source": [
    "classes = pd.read_csv('../../../../github_repos/CROHME_extractor/classes.txt', header =None)"
   ]
  },
  {
   "cell_type": "code",
   "execution_count": 28,
   "metadata": {},
   "outputs": [
    {
     "data": {
      "text/plain": [
       "{0: '(',\n",
       " 1: ')',\n",
       " 2: '+',\n",
       " 3: '-',\n",
       " 4: '0',\n",
       " 5: '1',\n",
       " 6: '2',\n",
       " 7: '3',\n",
       " 8: '4',\n",
       " 9: '5',\n",
       " 10: '6',\n",
       " 11: '7',\n",
       " 12: '8',\n",
       " 13: '9',\n",
       " 14: '=',\n",
       " 15: 'a',\n",
       " 16: 'b',\n",
       " 17: 'c',\n",
       " 18: 'd',\n",
       " 19: 'e',\n",
       " 20: 'i',\n",
       " 21: 'j',\n",
       " 22: 'k',\n",
       " 23: 'n',\n",
       " 24: 'x',\n",
       " 25: 'y',\n",
       " 26: 'z'}"
      ]
     },
     "execution_count": 28,
     "metadata": {},
     "output_type": "execute_result"
    }
   ],
   "source": [
    "classes.to_dict()[0]"
   ]
  },
  {
   "cell_type": "code",
   "execution_count": 29,
   "metadata": {},
   "outputs": [],
   "source": [
    "X_train = []\n",
    "y_train = []\n",
    "for i in images:\n",
    "    X_train.append(np.resize(i['features'], (50,50,1)))\n",
    "    y_train.append(i['label'])"
   ]
  },
  {
   "cell_type": "code",
   "execution_count": 30,
   "metadata": {},
   "outputs": [
    {
     "data": {
      "text/plain": [
       "(50, 50, 1)"
      ]
     },
     "execution_count": 30,
     "metadata": {},
     "output_type": "execute_result"
    }
   ],
   "source": [
    "X_train[0].shape"
   ]
  },
  {
   "cell_type": "code",
   "execution_count": 31,
   "metadata": {},
   "outputs": [],
   "source": [
    "X_train = tf.image.resize_with_pad(X_train, 175, 175)"
   ]
  },
  {
   "cell_type": "code",
   "execution_count": 32,
   "metadata": {},
   "outputs": [
    {
     "data": {
      "text/plain": [
       "<matplotlib.image.AxesImage at 0x7fda6842cf10>"
      ]
     },
     "execution_count": 32,
     "metadata": {},
     "output_type": "execute_result"
    },
    {
     "data": {
      "image/png": "[encoded data removed]",
      "text/plain": [
       "<Figure size 432x288 with 1 Axes>"
      ]
     },
     "metadata": {
      "needs_background": "light"
     },
     "output_type": "display_data"
    }
   ],
   "source": [
    "plt.imshow(X_train[0])"
   ]
  },
  {
   "cell_type": "code",
   "execution_count": 33,
   "metadata": {},
   "outputs": [],
   "source": [
    "X_train = np.array(X_train)\n",
    "y_train = np.array(y_train)"
   ]
  },
  {
   "cell_type": "code",
   "execution_count": 34,
   "metadata": {},
   "outputs": [],
   "source": [
    "X_train=1-X_train"
   ]
  },
  {
   "cell_type": "code",
   "execution_count": 35,
   "metadata": {},
   "outputs": [],
   "source": [
    "y_train = np.argmax(y_train, axis=1)"
   ]
  },
  {
   "cell_type": "code",
   "execution_count": 36,
   "metadata": {},
   "outputs": [
    {
     "data": {
      "text/plain": [
       "(27352, 175, 175, 1)"
      ]
     },
     "execution_count": 36,
     "metadata": {},
     "output_type": "execute_result"
    }
   ],
   "source": [
    "X_train.shape"
   ]
  },
  {
   "cell_type": "code",
   "execution_count": 37,
   "metadata": {},
   "outputs": [
    {
     "data": {
      "text/plain": [
       "(27352,)"
      ]
     },
     "execution_count": 37,
     "metadata": {},
     "output_type": "execute_result"
    }
   ],
   "source": [
    "y_train.shape"
   ]
  },
  {
   "cell_type": "code",
   "execution_count": 14,
   "metadata": {},
   "outputs": [
    {
     "ename": "NameError",
     "evalue": "name 'ranlist' is not defined",
     "output_type": "error",
     "traceback": [
      "\u001b[0;31m---------------------------------------------------------------------------\u001b[0m",
      "\u001b[0;31mNameError\u001b[0m                                 Traceback (most recent call last)",
      "\u001b[0;32m<ipython-input-14-4a3a006c70f4>\u001b[0m in \u001b[0;36m<module>\u001b[0;34m\u001b[0m\n\u001b[0;32m----> 1\u001b[0;31m \u001b[0mranlist\u001b[0m\u001b[0;34m[\u001b[0m\u001b[0;36m0\u001b[0m\u001b[0;34m]\u001b[0m\u001b[0;34m\u001b[0m\u001b[0;34m\u001b[0m\u001b[0m\n\u001b[0m",
      "\u001b[0;31mNameError\u001b[0m: name 'ranlist' is not defined"
     ]
    }
   ],
   "source": [
    "ranlist[0]"
   ]
  },
  {
   "cell_type": "code",
   "execution_count": 85,
   "metadata": {},
   "outputs": [
    {
     "data": {
      "text/plain": [
       "3"
      ]
     },
     "execution_count": 85,
     "metadata": {},
     "output_type": "execute_result"
    }
   ],
   "source": [
    "y_train[ranlist[0]]"
   ]
  },
  {
   "cell_type": "code",
   "execution_count": 98,
   "metadata": {},
   "outputs": [
    {
     "data": {
      "text/plain": [
       "<matplotlib.image.AxesImage at 0x7f925600e650>"
      ]
     },
     "execution_count": 98,
     "metadata": {},
     "output_type": "execute_result"
    },
    {
     "data": {
      "image/png": "[encoded data removed]",
      "text/plain": [
       "<Figure size 432x288 with 1 Axes>"
      ]
     },
     "metadata": {
      "needs_background": "light"
     },
     "output_type": "display_data"
    }
   ],
   "source": [
    "plt.imshow(X_train[ranlist[0]])"
   ]
  },
  {
   "cell_type": "code",
   "execution_count": 99,
   "metadata": {},
   "outputs": [
    {
     "data": {
      "text/plain": [
       "<matplotlib.image.AxesImage at 0x7f925603fa50>"
      ]
     },
     "execution_count": 99,
     "metadata": {},
     "output_type": "execute_result"
    },
    {
     "data": {
      "image/png": "[encoded data removed]",
      "text/plain": [
       "<Figure size 432x288 with 1 Axes>"
      ]
     },
     "metadata": {
      "needs_background": "light"
     },
     "output_type": "display_data"
    }
   ],
   "source": [
    "plt.imshow(X_train[ranlist[0]])"
   ]
  },
  {
   "cell_type": "code",
   "execution_count": 100,
   "metadata": {},
   "outputs": [],
   "source": [
    "#X_train = tfa.image.rotate(X_train, -20*3.14/180, interpolation='BILINEAR')\n",
    "from random import randint\n",
    "ranlist = []\n",
    "for i in range(0,5000):\n",
    "    ranlist.append(randint(0,y_train.shape[0]-1))\n",
    "    \n",
    "for i in range(0,5000):\n",
    "     X_train[ranlist[i]] = tfa.image.rotate(X_train[ranlist[i]], -10*3.14/180, interpolation='BILINEAR')"
   ]
  },
  {
   "cell_type": "code",
   "execution_count": 13,
   "metadata": {},
   "outputs": [
    {
     "data": {
      "text/plain": [
       "27352"
      ]
     },
     "execution_count": 13,
     "metadata": {},
     "output_type": "execute_result"
    }
   ],
   "source": [
    "X_train.shape[0]"
   ]
  },
  {
   "cell_type": "code",
   "execution_count": 17,
   "metadata": {},
   "outputs": [
    {
     "data": {
      "text/plain": [
       "<matplotlib.image.AxesImage at 0x7fdffa529510>"
      ]
     },
     "execution_count": 17,
     "metadata": {},
     "output_type": "execute_result"
    },
    {
     "data": {
      "image/png": "[encoded data removed]",
      "text/plain": [
       "<Figure size 432x288 with 1 Axes>"
      ]
     },
     "metadata": {
      "needs_background": "light"
     },
     "output_type": "display_data"
    }
   ],
   "source": [
    "plt.imshow(X_train[9122])"
   ]
  },
  {
   "cell_type": "code",
   "execution_count": 103,
   "metadata": {},
   "outputs": [
    {
     "data": {
      "text/plain": [
       "<matplotlib.image.AxesImage at 0x7f9269c8d190>"
      ]
     },
     "execution_count": 103,
     "metadata": {},
     "output_type": "execute_result"
    },
    {
     "data": {
      "image/png": "[encoded data removed]",
      "text/plain": [
       "<Figure size 432x288 with 1 Axes>"
      ]
     },
     "metadata": {
      "needs_background": "light"
     },
     "output_type": "display_data"
    }
   ],
   "source": [
    "plt.imshow(X_train[0])"
   ]
  },
  {
   "cell_type": "code",
   "execution_count": 104,
   "metadata": {},
   "outputs": [
    {
     "data": {
      "text/plain": [
       "<matplotlib.image.AxesImage at 0x7f9268107390>"
      ]
     },
     "execution_count": 104,
     "metadata": {},
     "output_type": "execute_result"
    },
    {
     "data": {
      "image/png": "[encoded data removed]",
      "text/plain": [
       "<Figure size 432x288 with 1 Axes>"
      ]
     },
     "metadata": {
      "needs_background": "light"
     },
     "output_type": "display_data"
    }
   ],
   "source": [
    "plt.imshow(X_train[18244])"
   ]
  },
  {
   "cell_type": "code",
   "execution_count": 18,
   "metadata": {},
   "outputs": [
    {
     "data": {
      "text/plain": [
       "(27352, 150, 150, 1)"
      ]
     },
     "execution_count": 18,
     "metadata": {},
     "output_type": "execute_result"
    }
   ],
   "source": [
    "X_train.shape"
   ]
  },
  {
   "cell_type": "code",
   "execution_count": 38,
   "metadata": {},
   "outputs": [],
   "source": [
    "def build_model(conv_layers, pool_layers, epochs, X_train, y_train,k):\n",
    "    cnn_model = build_cnn(conv_layers, pool_layers,k)\n",
    "  \n",
    "\n",
    "    # Define a loss function\n",
    "    loss_fn = tf.keras.losses.SparseCategoricalCrossentropy()\n",
    "\n",
    "    # Compile the model\n",
    "    cnn_model.compile(optimizer='adam', loss=loss_fn, metrics=['accuracy'])\n",
    "\n",
    "    history = cnn_model.fit(X_train, y_train, epochs=epochs, validation_split=0.3)\n",
    "\n",
    "    plot_history(history, epochs)\n",
    "\n",
    "    confusionmatrix(model= cnn_model)\n",
    "\n",
    "    return cnn_model"
   ]
  },
  {
   "cell_type": "code",
   "execution_count": 39,
   "metadata": {},
   "outputs": [],
   "source": [
    "def build_cnn(conv_layers, pool_layers, k):\n",
    "    model_cnn = Sequential()\n",
    "    model_cnn.add(Conv2D(45, kernel_size=k,activation='relu',input_shape=(175,175,1),padding='same'))\n",
    "    model_cnn.add(MaxPooling2D((2, 2), padding='same'))\n",
    "    model_cnn.add(Dropout(0.3))\n",
    "    x=30\n",
    "    for i in range(1, conv_layers):\n",
    "        if i <= conv_layers-1:        \n",
    "            model_cnn.add(Conv2D(x, kernel_size=k,activation='relu',padding='same'))\n",
    "            model_cnn.add(MaxPooling2D((2, 2), padding='same'))\n",
    "            model_cnn.add(Dropout(0.3))\n",
    "            x=x-15\n",
    "    model_cnn.add(Flatten())\n",
    "    model_cnn.add(Dense(256))\n",
    "    model_cnn.add(Dense(112))\n",
    "    model_cnn.add(Dense(27, activation='softmax'))\n",
    "\n",
    "    print(model_cnn.summary())\n",
    "    return model_cnn"
   ]
  },
  {
   "cell_type": "code",
   "execution_count": 40,
   "metadata": {},
   "outputs": [],
   "source": [
    "def plot_history(history, epochs):\n",
    "    epochs = range(epochs)\n",
    "\n",
    "    train_acc = history.history['accuracy']\n",
    "    val_acc = history.history['val_accuracy']\n",
    "\n",
    "    plt.figure(figsize=(12, 8))\n",
    "    plt.plot(epochs, train_acc, color='blue', label='Training accuracy')\n",
    "    plt.plot(epochs, val_acc, color='red', label='Validation accuracy')\n",
    "    plt.legend()\n",
    "    plt.grid()"
   ]
  },
  {
   "cell_type": "code",
   "execution_count": 41,
   "metadata": {},
   "outputs": [],
   "source": [
    "def confusionmatrix(model):\n",
    "\n",
    "    confusion = confusion_matrix(y_test, np.argmax(model.predict(X_test), axis=-1))\n",
    "\n",
    "    confusion_norm = confusion.astype('float') / confusion.sum(axis=0)[:, np.newaxis]\n",
    "\n",
    "    classes=[0,1,2,3,4,5,6,7,8,9]\n",
    "\n",
    "    plt.figure(figsize=(14,14))\n",
    "    plt.imshow(confusion_norm, interpolation='nearest') \n",
    "    plt.title('Confusion Matrix')\n",
    "    plt.colorbar()\n",
    "    tick_marks = np.arange(len(classes)) \n",
    "    plt.xticks(tick_marks, classes, rotation=45) \n",
    "    plt.yticks(tick_marks, classes)\n",
    "    plt.xlabel('True Label')\n",
    "    plt.ylabel('Predicted Label')\n",
    "    fmt = '.3f'\n",
    "    thresh = confusion_norm.max() / 2.\n",
    "    for i, j in itertools.product(range(confusion_norm.shape[0]), range(confusion_norm.shape[1])):\n",
    "        plt.text(j, i, format(confusion_norm[i, j], fmt), horizontalalignment=\"center\",\n",
    "        color=\"black\" if confusion_norm[i, j] > thresh else \"white\")\n",
    "    plt.tight_layout()"
   ]
  },
  {
   "cell_type": "code",
   "execution_count": 20,
   "metadata": {},
   "outputs": [],
   "source": [
    "def data_aug():\n",
    "    data_augmentation = tf.keras.Sequential([\n",
    "    layers.experimental.preprocessing.RandomRotation(0.2),])\n",
    "    return data_augmentation"
   ]
  },
  {
   "cell_type": "markdown",
   "metadata": {},
   "source": [
    "With Data Aug"
   ]
  },
  {
   "cell_type": "code",
   "execution_count": 26,
   "metadata": {},
   "outputs": [
    {
     "name": "stdout",
     "output_type": "stream",
     "text": [
      "Model: \"sequential\"\n",
      "_________________________________________________________________\n",
      "Layer (type)                 Output Shape              Param #   \n",
      "=================================================================\n",
      "conv2d (Conv2D)              (None, 50, 50, 45)        1170      \n",
      "_________________________________________________________________\n",
      "max_pooling2d (MaxPooling2D) (None, 25, 25, 45)        0         \n",
      "_________________________________________________________________\n",
      "dropout (Dropout)            (None, 25, 25, 45)        0         \n",
      "_________________________________________________________________\n",
      "conv2d_1 (Conv2D)            (None, 25, 25, 30)        33780     \n",
      "_________________________________________________________________\n",
      "max_pooling2d_1 (MaxPooling2 (None, 13, 13, 30)        0         \n",
      "_________________________________________________________________\n",
      "dropout_1 (Dropout)          (None, 13, 13, 30)        0         \n",
      "_________________________________________________________________\n",
      "conv2d_2 (Conv2D)            (None, 13, 13, 15)        11265     \n",
      "_________________________________________________________________\n",
      "max_pooling2d_2 (MaxPooling2 (None, 7, 7, 15)          0         \n",
      "_________________________________________________________________\n",
      "dropout_2 (Dropout)          (None, 7, 7, 15)          0         \n",
      "_________________________________________________________________\n",
      "flatten (Flatten)            (None, 735)               0         \n",
      "_________________________________________________________________\n",
      "dense (Dense)                (None, 256)               188416    \n",
      "_________________________________________________________________\n",
      "dense_1 (Dense)              (None, 112)               28784     \n",
      "_________________________________________________________________\n",
      "dense_2 (Dense)              (None, 27)                3051      \n",
      "=================================================================\n",
      "Total params: 266,466\n",
      "Trainable params: 266,466\n",
      "Non-trainable params: 0\n",
      "_________________________________________________________________\n",
      "None\n",
      "Epoch 1/30\n",
      "599/599 [==============================] - 74s 123ms/step - loss: 0.5284 - accuracy: 0.8490 - val_loss: 0.3325 - val_accuracy: 0.8978\n",
      "Epoch 2/30\n",
      "599/599 [==============================] - 73s 123ms/step - loss: 0.2176 - accuracy: 0.9327 - val_loss: 0.2119 - val_accuracy: 0.9375\n",
      "Epoch 3/30\n",
      "599/599 [==============================] - 73s 122ms/step - loss: 0.1723 - accuracy: 0.9480 - val_loss: 0.1659 - val_accuracy: 0.9494\n",
      "Epoch 4/30\n",
      "599/599 [==============================] - 74s 124ms/step - loss: 0.1468 - accuracy: 0.9541 - val_loss: 0.1283 - val_accuracy: 0.9600\n",
      "Epoch 5/30\n",
      "599/599 [==============================] - 75s 126ms/step - loss: 0.1302 - accuracy: 0.9587 - val_loss: 0.1542 - val_accuracy: 0.9522\n",
      "Epoch 6/30\n",
      "599/599 [==============================] - 73s 122ms/step - loss: 0.1258 - accuracy: 0.9600 - val_loss: 0.1078 - val_accuracy: 0.9670\n",
      "Epoch 7/30\n",
      "599/599 [==============================] - 73s 123ms/step - loss: 0.1148 - accuracy: 0.9637 - val_loss: 0.0909 - val_accuracy: 0.9705\n",
      "Epoch 8/30\n",
      "599/599 [==============================] - 75s 125ms/step - loss: 0.1115 - accuracy: 0.9641 - val_loss: 0.1123 - val_accuracy: 0.9655\n",
      "Epoch 9/30\n",
      "599/599 [==============================] - 74s 124ms/step - loss: 0.1045 - accuracy: 0.9665 - val_loss: 0.1041 - val_accuracy: 0.9653\n",
      "Epoch 10/30\n",
      "599/599 [==============================] - 78s 130ms/step - loss: 0.0982 - accuracy: 0.9683 - val_loss: 0.0919 - val_accuracy: 0.9739\n",
      "Epoch 11/30\n",
      "599/599 [==============================] - 76s 126ms/step - loss: 0.0930 - accuracy: 0.9684 - val_loss: 0.0895 - val_accuracy: 0.9712\n",
      "Epoch 12/30\n",
      "599/599 [==============================] - 81s 136ms/step - loss: 0.0937 - accuracy: 0.9709 - val_loss: 0.0931 - val_accuracy: 0.9699\n",
      "Epoch 13/30\n",
      "599/599 [==============================] - 73s 122ms/step - loss: 0.0885 - accuracy: 0.9702 - val_loss: 0.1118 - val_accuracy: 0.9623\n",
      "Epoch 14/30\n",
      "599/599 [==============================] - 73s 121ms/step - loss: 0.0890 - accuracy: 0.9711 - val_loss: 0.1022 - val_accuracy: 0.9666\n",
      "Epoch 15/30\n",
      "599/599 [==============================] - 73s 122ms/step - loss: 0.0851 - accuracy: 0.9735 - val_loss: 0.0849 - val_accuracy: 0.9733\n",
      "Epoch 16/30\n",
      "599/599 [==============================] - 74s 123ms/step - loss: 0.0886 - accuracy: 0.9728 - val_loss: 0.0851 - val_accuracy: 0.9711\n",
      "Epoch 17/30\n",
      "599/599 [==============================] - 72s 120ms/step - loss: 0.0798 - accuracy: 0.9737 - val_loss: 0.0838 - val_accuracy: 0.9742\n",
      "Epoch 18/30\n",
      "599/599 [==============================] - 71s 119ms/step - loss: 0.0820 - accuracy: 0.9729 - val_loss: 0.0765 - val_accuracy: 0.9745\n",
      "Epoch 19/30\n",
      "599/599 [==============================] - 72s 120ms/step - loss: 0.0789 - accuracy: 0.9734 - val_loss: 0.0695 - val_accuracy: 0.9773\n",
      "Epoch 20/30\n",
      "599/599 [==============================] - 72s 120ms/step - loss: 0.0772 - accuracy: 0.9751 - val_loss: 0.0706 - val_accuracy: 0.9793\n",
      "Epoch 21/30\n",
      "599/599 [==============================] - 72s 119ms/step - loss: 0.0809 - accuracy: 0.9731 - val_loss: 0.0904 - val_accuracy: 0.9706\n",
      "Epoch 22/30\n",
      "599/599 [==============================] - 72s 121ms/step - loss: 0.0829 - accuracy: 0.9728 - val_loss: 0.0764 - val_accuracy: 0.9738\n",
      "Epoch 23/30\n",
      "599/599 [==============================] - 72s 120ms/step - loss: 0.0732 - accuracy: 0.9766 - val_loss: 0.0863 - val_accuracy: 0.9714\n",
      "Epoch 24/30\n",
      "599/599 [==============================] - 72s 120ms/step - loss: 0.0792 - accuracy: 0.9749 - val_loss: 0.0909 - val_accuracy: 0.9692\n",
      "Epoch 25/30\n",
      "599/599 [==============================] - 73s 121ms/step - loss: 0.0725 - accuracy: 0.9764 - val_loss: 0.0683 - val_accuracy: 0.9772\n",
      "Epoch 26/30\n",
      "599/599 [==============================] - 72s 120ms/step - loss: 0.0692 - accuracy: 0.9769 - val_loss: 0.0879 - val_accuracy: 0.9689\n",
      "Epoch 27/30\n",
      "599/599 [==============================] - 73s 121ms/step - loss: 0.0769 - accuracy: 0.9751 - val_loss: 0.0865 - val_accuracy: 0.9729\n",
      "Epoch 28/30\n",
      "599/599 [==============================] - 78s 130ms/step - loss: 0.0697 - accuracy: 0.9768 - val_loss: 0.0682 - val_accuracy: 0.9773\n",
      "Epoch 29/30\n",
      "599/599 [==============================] - 74s 123ms/step - loss: 0.0697 - accuracy: 0.9772 - val_loss: 0.0712 - val_accuracy: 0.9755\n",
      "Epoch 30/30\n",
      "599/599 [==============================] - 74s 123ms/step - loss: 0.0704 - accuracy: 0.9774 - val_loss: 0.0835 - val_accuracy: 0.9723\n"
     ]
    },
    {
     "ename": "NameError",
     "evalue": "name 'y_test' is not defined",
     "output_type": "error",
     "traceback": [
      "\u001b[0;31m---------------------------------------------------------------------------\u001b[0m",
      "\u001b[0;31mNameError\u001b[0m                                 Traceback (most recent call last)",
      "\u001b[0;32m<ipython-input-26-90aec119b3f7>\u001b[0m in \u001b[0;36m<module>\u001b[0;34m\u001b[0m\n\u001b[0;32m----> 1\u001b[0;31m \u001b[0mbuild_model\u001b[0m\u001b[0;34m(\u001b[0m\u001b[0mconv_layers\u001b[0m\u001b[0;34m=\u001b[0m\u001b[0;36m3\u001b[0m\u001b[0;34m,\u001b[0m \u001b[0mpool_layers\u001b[0m\u001b[0;34m=\u001b[0m\u001b[0;36m3\u001b[0m\u001b[0;34m,\u001b[0m \u001b[0mepochs\u001b[0m\u001b[0;34m=\u001b[0m\u001b[0;36m30\u001b[0m\u001b[0;34m,\u001b[0m \u001b[0mX_train\u001b[0m\u001b[0;34m=\u001b[0m\u001b[0mX_train\u001b[0m\u001b[0;34m,\u001b[0m \u001b[0my_train\u001b[0m\u001b[0;34m=\u001b[0m\u001b[0my_train\u001b[0m\u001b[0;34m,\u001b[0m \u001b[0mk\u001b[0m\u001b[0;34m=\u001b[0m\u001b[0;36m5\u001b[0m\u001b[0;34m)\u001b[0m\u001b[0;34m\u001b[0m\u001b[0;34m\u001b[0m\u001b[0m\n\u001b[0m",
      "\u001b[0;32m<ipython-input-22-182917fcf777>\u001b[0m in \u001b[0;36mbuild_model\u001b[0;34m(conv_layers, pool_layers, epochs, X_train, y_train, k)\u001b[0m\n\u001b[1;32m     14\u001b[0m     \u001b[0mplot_history\u001b[0m\u001b[0;34m(\u001b[0m\u001b[0mhistory\u001b[0m\u001b[0;34m,\u001b[0m \u001b[0mepochs\u001b[0m\u001b[0;34m)\u001b[0m\u001b[0;34m\u001b[0m\u001b[0;34m\u001b[0m\u001b[0m\n\u001b[1;32m     15\u001b[0m \u001b[0;34m\u001b[0m\u001b[0m\n\u001b[0;32m---> 16\u001b[0;31m     \u001b[0mconfusionmatrix\u001b[0m\u001b[0;34m(\u001b[0m\u001b[0mmodel\u001b[0m\u001b[0;34m=\u001b[0m \u001b[0mcnn_model\u001b[0m\u001b[0;34m)\u001b[0m\u001b[0;34m\u001b[0m\u001b[0;34m\u001b[0m\u001b[0m\n\u001b[0m\u001b[1;32m     17\u001b[0m \u001b[0;34m\u001b[0m\u001b[0m\n\u001b[1;32m     18\u001b[0m     \u001b[0;32mreturn\u001b[0m \u001b[0mhistory\u001b[0m\u001b[0;34m\u001b[0m\u001b[0;34m\u001b[0m\u001b[0m\n",
      "\u001b[0;32m<ipython-input-25-c08a8baf0af2>\u001b[0m in \u001b[0;36mconfusionmatrix\u001b[0;34m(model)\u001b[0m\n\u001b[1;32m      1\u001b[0m \u001b[0;32mdef\u001b[0m \u001b[0mconfusionmatrix\u001b[0m\u001b[0;34m(\u001b[0m\u001b[0mmodel\u001b[0m\u001b[0;34m)\u001b[0m\u001b[0;34m:\u001b[0m\u001b[0;34m\u001b[0m\u001b[0;34m\u001b[0m\u001b[0m\n\u001b[1;32m      2\u001b[0m \u001b[0;34m\u001b[0m\u001b[0m\n\u001b[0;32m----> 3\u001b[0;31m     \u001b[0mconfusion\u001b[0m \u001b[0;34m=\u001b[0m \u001b[0mconfusion_matrix\u001b[0m\u001b[0;34m(\u001b[0m\u001b[0my_test\u001b[0m\u001b[0;34m,\u001b[0m \u001b[0mnp\u001b[0m\u001b[0;34m.\u001b[0m\u001b[0margmax\u001b[0m\u001b[0;34m(\u001b[0m\u001b[0mmodel\u001b[0m\u001b[0;34m.\u001b[0m\u001b[0mpredict\u001b[0m\u001b[0;34m(\u001b[0m\u001b[0mX_test\u001b[0m\u001b[0;34m)\u001b[0m\u001b[0;34m,\u001b[0m \u001b[0maxis\u001b[0m\u001b[0;34m=\u001b[0m\u001b[0;34m-\u001b[0m\u001b[0;36m1\u001b[0m\u001b[0;34m)\u001b[0m\u001b[0;34m)\u001b[0m\u001b[0;34m\u001b[0m\u001b[0;34m\u001b[0m\u001b[0m\n\u001b[0m\u001b[1;32m      4\u001b[0m \u001b[0;34m\u001b[0m\u001b[0m\n\u001b[1;32m      5\u001b[0m     \u001b[0mconfusion_norm\u001b[0m \u001b[0;34m=\u001b[0m \u001b[0mconfusion\u001b[0m\u001b[0;34m.\u001b[0m\u001b[0mastype\u001b[0m\u001b[0;34m(\u001b[0m\u001b[0;34m'float'\u001b[0m\u001b[0;34m)\u001b[0m \u001b[0;34m/\u001b[0m \u001b[0mconfusion\u001b[0m\u001b[0;34m.\u001b[0m\u001b[0msum\u001b[0m\u001b[0;34m(\u001b[0m\u001b[0maxis\u001b[0m\u001b[0;34m=\u001b[0m\u001b[0;36m0\u001b[0m\u001b[0;34m)\u001b[0m\u001b[0;34m[\u001b[0m\u001b[0;34m:\u001b[0m\u001b[0;34m,\u001b[0m \u001b[0mnp\u001b[0m\u001b[0;34m.\u001b[0m\u001b[0mnewaxis\u001b[0m\u001b[0;34m]\u001b[0m\u001b[0;34m\u001b[0m\u001b[0;34m\u001b[0m\u001b[0m\n",
      "\u001b[0;31mNameError\u001b[0m: name 'y_test' is not defined"
     ]
    },
    {
     "data": {
      "image/png": "[encoded data removed]",
      "text/plain": [
       "<Figure size 864x576 with 1 Axes>"
      ]
     },
     "metadata": {
      "needs_background": "light"
     },
     "output_type": "display_data"
    }
   ],
   "source": [
    "build_model(conv_layers=3, pool_layers=3, epochs=30, X_train=X_train, y_train=y_train, k=5)"
   ]
  },
  {
   "cell_type": "code",
   "execution_count": 115,
   "metadata": {},
   "outputs": [
    {
     "name": "stdout",
     "output_type": "stream",
     "text": [
      "Model: \"sequential_10\"\n",
      "_________________________________________________________________\n",
      "Layer (type)                 Output Shape              Param #   \n",
      "=================================================================\n",
      "conv2d_12 (Conv2D)           (None, 50, 50, 45)        1170      \n",
      "_________________________________________________________________\n",
      "max_pooling2d_12 (MaxPooling (None, 25, 25, 45)        0         \n",
      "_________________________________________________________________\n",
      "dropout_12 (Dropout)         (None, 25, 25, 45)        0         \n",
      "_________________________________________________________________\n",
      "conv2d_13 (Conv2D)           (None, 25, 25, 30)        33780     \n",
      "_________________________________________________________________\n",
      "max_pooling2d_13 (MaxPooling (None, 13, 13, 30)        0         \n",
      "_________________________________________________________________\n",
      "dropout_13 (Dropout)         (None, 13, 13, 30)        0         \n",
      "_________________________________________________________________\n",
      "conv2d_14 (Conv2D)           (None, 13, 13, 15)        11265     \n",
      "_________________________________________________________________\n",
      "max_pooling2d_14 (MaxPooling (None, 7, 7, 15)          0         \n",
      "_________________________________________________________________\n",
      "dropout_14 (Dropout)         (None, 7, 7, 15)          0         \n",
      "_________________________________________________________________\n",
      "flatten_4 (Flatten)          (None, 735)               0         \n",
      "_________________________________________________________________\n",
      "dense_12 (Dense)             (None, 256)               188416    \n",
      "_________________________________________________________________\n",
      "dense_13 (Dense)             (None, 112)               28784     \n",
      "_________________________________________________________________\n",
      "dense_14 (Dense)             (None, 27)                3051      \n",
      "=================================================================\n",
      "Total params: 266,466\n",
      "Trainable params: 266,466\n",
      "Non-trainable params: 0\n",
      "_________________________________________________________________\n",
      "None\n",
      "Epoch 1/30\n",
      "599/599 [==============================] - 75s 125ms/step - loss: 0.5441 - accuracy: 0.8434 - val_loss: 0.3242 - val_accuracy: 0.9047\n",
      "Epoch 2/30\n",
      "599/599 [==============================] - 78s 131ms/step - loss: 0.2295 - accuracy: 0.9303 - val_loss: 0.2094 - val_accuracy: 0.9388\n",
      "Epoch 3/30\n",
      "599/599 [==============================] - 76s 127ms/step - loss: 0.1909 - accuracy: 0.9397 - val_loss: 0.2031 - val_accuracy: 0.9372\n",
      "Epoch 4/30\n",
      "599/599 [==============================] - 76s 128ms/step - loss: 0.1589 - accuracy: 0.9471 - val_loss: 0.1662 - val_accuracy: 0.9504\n",
      "Epoch 5/30\n",
      "599/599 [==============================] - 78s 129ms/step - loss: 0.1406 - accuracy: 0.9569 - val_loss: 0.1643 - val_accuracy: 0.9472\n",
      "Epoch 6/30\n",
      "599/599 [==============================] - 77s 129ms/step - loss: 0.1367 - accuracy: 0.9569 - val_loss: 0.1392 - val_accuracy: 0.9561\n",
      "Epoch 7/30\n",
      "599/599 [==============================] - 77s 128ms/step - loss: 0.1322 - accuracy: 0.9591 - val_loss: 0.1366 - val_accuracy: 0.9533\n",
      "Epoch 8/30\n",
      "599/599 [==============================] - 77s 128ms/step - loss: 0.1173 - accuracy: 0.9611 - val_loss: 0.1475 - val_accuracy: 0.9499\n",
      "Epoch 9/30\n",
      "599/599 [==============================] - 78s 131ms/step - loss: 0.1162 - accuracy: 0.9621 - val_loss: 0.1346 - val_accuracy: 0.9560\n",
      "Epoch 10/30\n",
      "599/599 [==============================] - 73s 122ms/step - loss: 0.1087 - accuracy: 0.9642 - val_loss: 0.1334 - val_accuracy: 0.9538\n",
      "Epoch 11/30\n",
      "599/599 [==============================] - 76s 127ms/step - loss: 0.1086 - accuracy: 0.9636 - val_loss: 0.1479 - val_accuracy: 0.9505\n",
      "Epoch 12/30\n",
      "599/599 [==============================] - 75s 125ms/step - loss: 0.1041 - accuracy: 0.9655 - val_loss: 0.1231 - val_accuracy: 0.9604\n",
      "Epoch 13/30\n",
      "599/599 [==============================] - 75s 125ms/step - loss: 0.0992 - accuracy: 0.9679 - val_loss: 0.1403 - val_accuracy: 0.9589\n",
      "Epoch 14/30\n",
      "599/599 [==============================] - 87s 146ms/step - loss: 0.1018 - accuracy: 0.9679 - val_loss: 0.1413 - val_accuracy: 0.9564\n",
      "Epoch 15/30\n",
      "599/599 [==============================] - 82s 137ms/step - loss: 0.0987 - accuracy: 0.9668 - val_loss: 0.1216 - val_accuracy: 0.9612\n",
      "Epoch 16/30\n",
      "599/599 [==============================] - 79s 132ms/step - loss: 0.0927 - accuracy: 0.9696 - val_loss: 0.1143 - val_accuracy: 0.9622\n",
      "Epoch 17/30\n",
      "599/599 [==============================] - 73s 122ms/step - loss: 0.0952 - accuracy: 0.9695 - val_loss: 0.1289 - val_accuracy: 0.9612\n",
      "Epoch 18/30\n",
      "599/599 [==============================] - 73s 121ms/step - loss: 0.0888 - accuracy: 0.9709 - val_loss: 0.1225 - val_accuracy: 0.9610\n",
      "Epoch 19/30\n",
      "599/599 [==============================] - 84s 140ms/step - loss: 0.0886 - accuracy: 0.9697 - val_loss: 0.1150 - val_accuracy: 0.9639\n",
      "Epoch 20/30\n",
      "599/599 [==============================] - 88s 147ms/step - loss: 0.0879 - accuracy: 0.9706 - val_loss: 0.1175 - val_accuracy: 0.9677\n",
      "Epoch 21/30\n",
      "599/599 [==============================] - 88s 147ms/step - loss: 0.0928 - accuracy: 0.9710 - val_loss: 0.1278 - val_accuracy: 0.9595\n",
      "Epoch 22/30\n",
      "599/599 [==============================] - 84s 139ms/step - loss: 0.0923 - accuracy: 0.9698 - val_loss: 0.1348 - val_accuracy: 0.9611\n",
      "Epoch 23/30\n",
      "599/599 [==============================] - 78s 131ms/step - loss: 0.0844 - accuracy: 0.9731 - val_loss: 0.1096 - val_accuracy: 0.9641\n",
      "Epoch 24/30\n",
      "599/599 [==============================] - 87s 145ms/step - loss: 0.0877 - accuracy: 0.9706 - val_loss: 0.1294 - val_accuracy: 0.9592\n",
      "Epoch 25/30\n",
      "599/599 [==============================] - 90s 150ms/step - loss: 0.0816 - accuracy: 0.9730 - val_loss: 0.1195 - val_accuracy: 0.9662\n",
      "Epoch 26/30\n",
      "599/599 [==============================] - 90s 150ms/step - loss: 0.0868 - accuracy: 0.9719 - val_loss: 0.1151 - val_accuracy: 0.9628\n",
      "Epoch 27/30\n",
      "599/599 [==============================] - 74s 124ms/step - loss: 0.0781 - accuracy: 0.9744 - val_loss: 0.1316 - val_accuracy: 0.9600\n",
      "Epoch 28/30\n",
      "599/599 [==============================] - 75s 125ms/step - loss: 0.0823 - accuracy: 0.9736 - val_loss: 0.1202 - val_accuracy: 0.9651\n",
      "Epoch 29/30\n",
      "599/599 [==============================] - 81s 136ms/step - loss: 0.0830 - accuracy: 0.9731 - val_loss: 0.1165 - val_accuracy: 0.9671\n",
      "Epoch 30/30\n",
      "599/599 [==============================] - 79s 131ms/step - loss: 0.0769 - accuracy: 0.9745 - val_loss: 0.1411 - val_accuracy: 0.9626\n"
     ]
    },
    {
     "ename": "NameError",
     "evalue": "name 'y_test' is not defined",
     "output_type": "error",
     "traceback": [
      "\u001b[0;31m---------------------------------------------------------------------------\u001b[0m",
      "\u001b[0;31mNameError\u001b[0m                                 Traceback (most recent call last)",
      "\u001b[0;32m<ipython-input-115-90aec119b3f7>\u001b[0m in \u001b[0;36m<module>\u001b[0;34m\u001b[0m\n\u001b[0;32m----> 1\u001b[0;31m \u001b[0mbuild_model\u001b[0m\u001b[0;34m(\u001b[0m\u001b[0mconv_layers\u001b[0m\u001b[0;34m=\u001b[0m\u001b[0;36m3\u001b[0m\u001b[0;34m,\u001b[0m \u001b[0mpool_layers\u001b[0m\u001b[0;34m=\u001b[0m\u001b[0;36m3\u001b[0m\u001b[0;34m,\u001b[0m \u001b[0mepochs\u001b[0m\u001b[0;34m=\u001b[0m\u001b[0;36m30\u001b[0m\u001b[0;34m,\u001b[0m \u001b[0mX_train\u001b[0m\u001b[0;34m=\u001b[0m\u001b[0mX_train\u001b[0m\u001b[0;34m,\u001b[0m \u001b[0my_train\u001b[0m\u001b[0;34m=\u001b[0m\u001b[0my_train\u001b[0m\u001b[0;34m,\u001b[0m \u001b[0mk\u001b[0m\u001b[0;34m=\u001b[0m\u001b[0;36m5\u001b[0m\u001b[0;34m)\u001b[0m\u001b[0;34m\u001b[0m\u001b[0;34m\u001b[0m\u001b[0m\n\u001b[0m",
      "\u001b[0;32m<ipython-input-108-27bce7cb9a71>\u001b[0m in \u001b[0;36mbuild_model\u001b[0;34m(conv_layers, pool_layers, epochs, X_train, y_train, k)\u001b[0m\n\u001b[1;32m     13\u001b[0m     \u001b[0mplot_history\u001b[0m\u001b[0;34m(\u001b[0m\u001b[0mhistory\u001b[0m\u001b[0;34m,\u001b[0m \u001b[0mepochs\u001b[0m\u001b[0;34m)\u001b[0m\u001b[0;34m\u001b[0m\u001b[0;34m\u001b[0m\u001b[0m\n\u001b[1;32m     14\u001b[0m \u001b[0;34m\u001b[0m\u001b[0m\n\u001b[0;32m---> 15\u001b[0;31m     \u001b[0mconfusionmatrix\u001b[0m\u001b[0;34m(\u001b[0m\u001b[0mmodel\u001b[0m\u001b[0;34m=\u001b[0m \u001b[0mcnn_model\u001b[0m\u001b[0;34m)\u001b[0m\u001b[0;34m\u001b[0m\u001b[0;34m\u001b[0m\u001b[0m\n\u001b[0m\u001b[1;32m     16\u001b[0m \u001b[0;34m\u001b[0m\u001b[0m\n\u001b[1;32m     17\u001b[0m     \u001b[0;32mreturn\u001b[0m \u001b[0mhistory\u001b[0m\u001b[0;34m\u001b[0m\u001b[0;34m\u001b[0m\u001b[0m\n",
      "\u001b[0;32m<ipython-input-111-c08a8baf0af2>\u001b[0m in \u001b[0;36mconfusionmatrix\u001b[0;34m(model)\u001b[0m\n\u001b[1;32m      1\u001b[0m \u001b[0;32mdef\u001b[0m \u001b[0mconfusionmatrix\u001b[0m\u001b[0;34m(\u001b[0m\u001b[0mmodel\u001b[0m\u001b[0;34m)\u001b[0m\u001b[0;34m:\u001b[0m\u001b[0;34m\u001b[0m\u001b[0;34m\u001b[0m\u001b[0m\n\u001b[1;32m      2\u001b[0m \u001b[0;34m\u001b[0m\u001b[0m\n\u001b[0;32m----> 3\u001b[0;31m     \u001b[0mconfusion\u001b[0m \u001b[0;34m=\u001b[0m \u001b[0mconfusion_matrix\u001b[0m\u001b[0;34m(\u001b[0m\u001b[0my_test\u001b[0m\u001b[0;34m,\u001b[0m \u001b[0mnp\u001b[0m\u001b[0;34m.\u001b[0m\u001b[0margmax\u001b[0m\u001b[0;34m(\u001b[0m\u001b[0mmodel\u001b[0m\u001b[0;34m.\u001b[0m\u001b[0mpredict\u001b[0m\u001b[0;34m(\u001b[0m\u001b[0mX_test\u001b[0m\u001b[0;34m)\u001b[0m\u001b[0;34m,\u001b[0m \u001b[0maxis\u001b[0m\u001b[0;34m=\u001b[0m\u001b[0;34m-\u001b[0m\u001b[0;36m1\u001b[0m\u001b[0;34m)\u001b[0m\u001b[0;34m)\u001b[0m\u001b[0;34m\u001b[0m\u001b[0;34m\u001b[0m\u001b[0m\n\u001b[0m\u001b[1;32m      4\u001b[0m \u001b[0;34m\u001b[0m\u001b[0m\n\u001b[1;32m      5\u001b[0m     \u001b[0mconfusion_norm\u001b[0m \u001b[0;34m=\u001b[0m \u001b[0mconfusion\u001b[0m\u001b[0;34m.\u001b[0m\u001b[0mastype\u001b[0m\u001b[0;34m(\u001b[0m\u001b[0;34m'float'\u001b[0m\u001b[0;34m)\u001b[0m \u001b[0;34m/\u001b[0m \u001b[0mconfusion\u001b[0m\u001b[0;34m.\u001b[0m\u001b[0msum\u001b[0m\u001b[0;34m(\u001b[0m\u001b[0maxis\u001b[0m\u001b[0;34m=\u001b[0m\u001b[0;36m0\u001b[0m\u001b[0;34m)\u001b[0m\u001b[0;34m[\u001b[0m\u001b[0;34m:\u001b[0m\u001b[0;34m,\u001b[0m \u001b[0mnp\u001b[0m\u001b[0;34m.\u001b[0m\u001b[0mnewaxis\u001b[0m\u001b[0;34m]\u001b[0m\u001b[0;34m\u001b[0m\u001b[0;34m\u001b[0m\u001b[0m\n",
      "\u001b[0;31mNameError\u001b[0m: name 'y_test' is not defined"
     ]
    },
    {
     "data": {
      "image/png": "[encoded data removed]",
      "text/plain": [
       "<Figure size 864x576 with 1 Axes>"
      ]
     },
     "metadata": {
      "needs_background": "light"
     },
     "output_type": "display_data"
    }
   ],
   "source": [
    "build_model(conv_layers=3, pool_layers=3, epochs=30, X_train=X_train, y_train=y_train, k=5)"
   ]
  },
  {
   "cell_type": "code",
   "execution_count": 116,
   "metadata": {},
   "outputs": [
    {
     "name": "stdout",
     "output_type": "stream",
     "text": [
      "Model: \"sequential_11\"\n",
      "_________________________________________________________________\n",
      "Layer (type)                 Output Shape              Param #   \n",
      "=================================================================\n",
      "conv2d_15 (Conv2D)           (None, 50, 50, 45)        1170      \n",
      "_________________________________________________________________\n",
      "max_pooling2d_15 (MaxPooling (None, 25, 25, 45)        0         \n",
      "_________________________________________________________________\n",
      "dropout_15 (Dropout)         (None, 25, 25, 45)        0         \n",
      "_________________________________________________________________\n",
      "conv2d_16 (Conv2D)           (None, 25, 25, 30)        33780     \n",
      "_________________________________________________________________\n",
      "max_pooling2d_16 (MaxPooling (None, 13, 13, 30)        0         \n",
      "_________________________________________________________________\n",
      "dropout_16 (Dropout)         (None, 13, 13, 30)        0         \n",
      "_________________________________________________________________\n",
      "conv2d_17 (Conv2D)           (None, 13, 13, 15)        11265     \n",
      "_________________________________________________________________\n",
      "max_pooling2d_17 (MaxPooling (None, 7, 7, 15)          0         \n",
      "_________________________________________________________________\n",
      "dropout_17 (Dropout)         (None, 7, 7, 15)          0         \n",
      "_________________________________________________________________\n",
      "conv2d_18 (Conv2D)           (None, 7, 7, 7)           2632      \n",
      "_________________________________________________________________\n",
      "max_pooling2d_18 (MaxPooling (None, 4, 4, 7)           0         \n",
      "_________________________________________________________________\n",
      "dropout_18 (Dropout)         (None, 4, 4, 7)           0         \n",
      "_________________________________________________________________\n",
      "flatten_5 (Flatten)          (None, 112)               0         \n",
      "_________________________________________________________________\n",
      "dense_15 (Dense)             (None, 256)               28928     \n",
      "_________________________________________________________________\n",
      "dense_16 (Dense)             (None, 112)               28784     \n",
      "_________________________________________________________________\n",
      "dense_17 (Dense)             (None, 27)                3051      \n",
      "=================================================================\n",
      "Total params: 109,610\n",
      "Trainable params: 109,610\n",
      "Non-trainable params: 0\n",
      "_________________________________________________________________\n",
      "None\n",
      "Epoch 1/30\n",
      "599/599 [==============================] - 75s 125ms/step - loss: 0.9446 - accuracy: 0.7299 - val_loss: 0.5108 - val_accuracy: 0.8522\n",
      "Epoch 2/30\n",
      "599/599 [==============================] - 76s 126ms/step - loss: 0.4464 - accuracy: 0.8653 - val_loss: 0.3439 - val_accuracy: 0.8969\n",
      "Epoch 3/30\n",
      "599/599 [==============================] - 75s 125ms/step - loss: 0.3594 - accuracy: 0.8895 - val_loss: 0.2689 - val_accuracy: 0.9188\n",
      "Epoch 4/30\n",
      "599/599 [==============================] - 77s 128ms/step - loss: 0.3219 - accuracy: 0.9008 - val_loss: 0.2287 - val_accuracy: 0.9371\n",
      "Epoch 5/30\n",
      "599/599 [==============================] - 75s 126ms/step - loss: 0.2921 - accuracy: 0.9107 - val_loss: 0.2258 - val_accuracy: 0.9359\n",
      "Epoch 6/30\n",
      "599/599 [==============================] - 76s 128ms/step - loss: 0.2768 - accuracy: 0.9170 - val_loss: 0.1827 - val_accuracy: 0.9448\n",
      "Epoch 7/30\n",
      "599/599 [==============================] - 76s 127ms/step - loss: 0.2622 - accuracy: 0.9208 - val_loss: 0.1929 - val_accuracy: 0.9417\n",
      "Epoch 8/30\n",
      "599/599 [==============================] - 78s 130ms/step - loss: 0.2462 - accuracy: 0.9240 - val_loss: 0.1780 - val_accuracy: 0.9463\n",
      "Epoch 9/30\n",
      "599/599 [==============================] - 313s 523ms/step - loss: 0.2342 - accuracy: 0.9270 - val_loss: 0.2097 - val_accuracy: 0.9357\n",
      "Epoch 10/30\n",
      "599/599 [==============================] - 79s 132ms/step - loss: 0.2209 - accuracy: 0.9312 - val_loss: 0.2252 - val_accuracy: 0.9292\n",
      "Epoch 11/30\n",
      "599/599 [==============================] - 80s 133ms/step - loss: 0.2238 - accuracy: 0.9299 - val_loss: 0.1827 - val_accuracy: 0.9428\n",
      "Epoch 12/30\n",
      "599/599 [==============================] - 81s 136ms/step - loss: 0.2091 - accuracy: 0.9361 - val_loss: 0.1738 - val_accuracy: 0.9443\n",
      "Epoch 13/30\n",
      "599/599 [==============================] - 82s 137ms/step - loss: 0.2018 - accuracy: 0.9365 - val_loss: 0.1684 - val_accuracy: 0.9500\n",
      "Epoch 14/30\n",
      "599/599 [==============================] - 84s 139ms/step - loss: 0.2033 - accuracy: 0.9380 - val_loss: 0.1744 - val_accuracy: 0.9482\n",
      "Epoch 15/30\n",
      "599/599 [==============================] - 88s 147ms/step - loss: 0.2020 - accuracy: 0.9361 - val_loss: 0.1572 - val_accuracy: 0.9553\n",
      "Epoch 16/30\n",
      "599/599 [==============================] - 86s 144ms/step - loss: 0.1952 - accuracy: 0.9367 - val_loss: 0.1503 - val_accuracy: 0.9542\n",
      "Epoch 17/30\n",
      "599/599 [==============================] - 94s 157ms/step - loss: 0.1927 - accuracy: 0.9400 - val_loss: 0.1453 - val_accuracy: 0.9564\n",
      "Epoch 18/30\n",
      "599/599 [==============================] - 76s 127ms/step - loss: 0.1896 - accuracy: 0.9411 - val_loss: 0.1560 - val_accuracy: 0.9492\n",
      "Epoch 19/30\n",
      "599/599 [==============================] - 69s 116ms/step - loss: 0.1898 - accuracy: 0.9398 - val_loss: 0.1935 - val_accuracy: 0.9437\n",
      "Epoch 20/30\n",
      "599/599 [==============================] - 84s 140ms/step - loss: 0.1872 - accuracy: 0.9396 - val_loss: 0.1439 - val_accuracy: 0.9580\n",
      "Epoch 21/30\n",
      "599/599 [==============================] - 82s 137ms/step - loss: 0.1917 - accuracy: 0.9397 - val_loss: 0.1474 - val_accuracy: 0.9561\n",
      "Epoch 22/30\n",
      "599/599 [==============================] - 85s 142ms/step - loss: 0.1855 - accuracy: 0.9414 - val_loss: 0.1407 - val_accuracy: 0.9563\n",
      "Epoch 23/30\n",
      "599/599 [==============================] - 90s 150ms/step - loss: 0.1796 - accuracy: 0.9430 - val_loss: 0.1432 - val_accuracy: 0.9577\n",
      "Epoch 24/30\n",
      "599/599 [==============================] - 88s 148ms/step - loss: 0.1808 - accuracy: 0.9436 - val_loss: 0.1580 - val_accuracy: 0.9532\n",
      "Epoch 25/30\n",
      "599/599 [==============================] - 72s 119ms/step - loss: 0.1687 - accuracy: 0.9443 - val_loss: 0.1814 - val_accuracy: 0.9448\n",
      "Epoch 26/30\n",
      "599/599 [==============================] - 79s 131ms/step - loss: 0.1823 - accuracy: 0.9417 - val_loss: 0.1681 - val_accuracy: 0.9488\n",
      "Epoch 27/30\n",
      "599/599 [==============================] - 77s 128ms/step - loss: 0.1704 - accuracy: 0.9442 - val_loss: 0.1541 - val_accuracy: 0.9549\n",
      "Epoch 28/30\n",
      "599/599 [==============================] - 76s 128ms/step - loss: 0.1719 - accuracy: 0.9441 - val_loss: 0.1504 - val_accuracy: 0.9532\n",
      "Epoch 29/30\n",
      "599/599 [==============================] - 75s 125ms/step - loss: 0.1745 - accuracy: 0.9450 - val_loss: 0.1789 - val_accuracy: 0.9454\n",
      "Epoch 30/30\n",
      "599/599 [==============================] - 74s 124ms/step - loss: 0.1780 - accuracy: 0.9433 - val_loss: 0.1691 - val_accuracy: 0.9474\n"
     ]
    },
    {
     "ename": "NameError",
     "evalue": "name 'y_test' is not defined",
     "output_type": "error",
     "traceback": [
      "\u001b[0;31m---------------------------------------------------------------------------\u001b[0m",
      "\u001b[0;31mNameError\u001b[0m                                 Traceback (most recent call last)",
      "\u001b[0;32m<ipython-input-116-3c8ef50b7f3a>\u001b[0m in \u001b[0;36m<module>\u001b[0;34m\u001b[0m\n\u001b[0;32m----> 1\u001b[0;31m \u001b[0mbuild_model\u001b[0m\u001b[0;34m(\u001b[0m\u001b[0mconv_layers\u001b[0m\u001b[0;34m=\u001b[0m\u001b[0;36m4\u001b[0m\u001b[0;34m,\u001b[0m \u001b[0mpool_layers\u001b[0m\u001b[0;34m=\u001b[0m\u001b[0;36m4\u001b[0m\u001b[0;34m,\u001b[0m \u001b[0mepochs\u001b[0m\u001b[0;34m=\u001b[0m\u001b[0;36m30\u001b[0m\u001b[0;34m,\u001b[0m \u001b[0mX_train\u001b[0m\u001b[0;34m=\u001b[0m\u001b[0mX_train\u001b[0m\u001b[0;34m,\u001b[0m \u001b[0my_train\u001b[0m\u001b[0;34m=\u001b[0m\u001b[0my_train\u001b[0m\u001b[0;34m,\u001b[0m \u001b[0mk\u001b[0m\u001b[0;34m=\u001b[0m\u001b[0;36m5\u001b[0m\u001b[0;34m)\u001b[0m\u001b[0;34m\u001b[0m\u001b[0;34m\u001b[0m\u001b[0m\n\u001b[0m",
      "\u001b[0;32m<ipython-input-108-27bce7cb9a71>\u001b[0m in \u001b[0;36mbuild_model\u001b[0;34m(conv_layers, pool_layers, epochs, X_train, y_train, k)\u001b[0m\n\u001b[1;32m     13\u001b[0m     \u001b[0mplot_history\u001b[0m\u001b[0;34m(\u001b[0m\u001b[0mhistory\u001b[0m\u001b[0;34m,\u001b[0m \u001b[0mepochs\u001b[0m\u001b[0;34m)\u001b[0m\u001b[0;34m\u001b[0m\u001b[0;34m\u001b[0m\u001b[0m\n\u001b[1;32m     14\u001b[0m \u001b[0;34m\u001b[0m\u001b[0m\n\u001b[0;32m---> 15\u001b[0;31m     \u001b[0mconfusionmatrix\u001b[0m\u001b[0;34m(\u001b[0m\u001b[0mmodel\u001b[0m\u001b[0;34m=\u001b[0m \u001b[0mcnn_model\u001b[0m\u001b[0;34m)\u001b[0m\u001b[0;34m\u001b[0m\u001b[0;34m\u001b[0m\u001b[0m\n\u001b[0m\u001b[1;32m     16\u001b[0m \u001b[0;34m\u001b[0m\u001b[0m\n\u001b[1;32m     17\u001b[0m     \u001b[0;32mreturn\u001b[0m \u001b[0mhistory\u001b[0m\u001b[0;34m\u001b[0m\u001b[0;34m\u001b[0m\u001b[0m\n",
      "\u001b[0;32m<ipython-input-111-c08a8baf0af2>\u001b[0m in \u001b[0;36mconfusionmatrix\u001b[0;34m(model)\u001b[0m\n\u001b[1;32m      1\u001b[0m \u001b[0;32mdef\u001b[0m \u001b[0mconfusionmatrix\u001b[0m\u001b[0;34m(\u001b[0m\u001b[0mmodel\u001b[0m\u001b[0;34m)\u001b[0m\u001b[0;34m:\u001b[0m\u001b[0;34m\u001b[0m\u001b[0;34m\u001b[0m\u001b[0m\n\u001b[1;32m      2\u001b[0m \u001b[0;34m\u001b[0m\u001b[0m\n\u001b[0;32m----> 3\u001b[0;31m     \u001b[0mconfusion\u001b[0m \u001b[0;34m=\u001b[0m \u001b[0mconfusion_matrix\u001b[0m\u001b[0;34m(\u001b[0m\u001b[0my_test\u001b[0m\u001b[0;34m,\u001b[0m \u001b[0mnp\u001b[0m\u001b[0;34m.\u001b[0m\u001b[0margmax\u001b[0m\u001b[0;34m(\u001b[0m\u001b[0mmodel\u001b[0m\u001b[0;34m.\u001b[0m\u001b[0mpredict\u001b[0m\u001b[0;34m(\u001b[0m\u001b[0mX_test\u001b[0m\u001b[0;34m)\u001b[0m\u001b[0;34m,\u001b[0m \u001b[0maxis\u001b[0m\u001b[0;34m=\u001b[0m\u001b[0;34m-\u001b[0m\u001b[0;36m1\u001b[0m\u001b[0;34m)\u001b[0m\u001b[0;34m)\u001b[0m\u001b[0;34m\u001b[0m\u001b[0;34m\u001b[0m\u001b[0m\n\u001b[0m\u001b[1;32m      4\u001b[0m \u001b[0;34m\u001b[0m\u001b[0m\n\u001b[1;32m      5\u001b[0m     \u001b[0mconfusion_norm\u001b[0m \u001b[0;34m=\u001b[0m \u001b[0mconfusion\u001b[0m\u001b[0;34m.\u001b[0m\u001b[0mastype\u001b[0m\u001b[0;34m(\u001b[0m\u001b[0;34m'float'\u001b[0m\u001b[0;34m)\u001b[0m \u001b[0;34m/\u001b[0m \u001b[0mconfusion\u001b[0m\u001b[0;34m.\u001b[0m\u001b[0msum\u001b[0m\u001b[0;34m(\u001b[0m\u001b[0maxis\u001b[0m\u001b[0;34m=\u001b[0m\u001b[0;36m0\u001b[0m\u001b[0;34m)\u001b[0m\u001b[0;34m[\u001b[0m\u001b[0;34m:\u001b[0m\u001b[0;34m,\u001b[0m \u001b[0mnp\u001b[0m\u001b[0;34m.\u001b[0m\u001b[0mnewaxis\u001b[0m\u001b[0;34m]\u001b[0m\u001b[0;34m\u001b[0m\u001b[0;34m\u001b[0m\u001b[0m\n",
      "\u001b[0;31mNameError\u001b[0m: name 'y_test' is not defined"
     ]
    },
    {
     "data": {
      "image/png": "[encoded data removed]",
      "text/plain": [
       "<Figure size 864x576 with 1 Axes>"
      ]
     },
     "metadata": {
      "needs_background": "light"
     },
     "output_type": "display_data"
    }
   ],
   "source": [
    "build_model(conv_layers=4, pool_layers=4, epochs=30, X_train=X_train, y_train=y_train, k=5)"
   ]
  },
  {
   "cell_type": "markdown",
   "metadata": {},
   "source": [
    "Without Data Aug"
   ]
  },
  {
   "cell_type": "code",
   "execution_count": 25,
   "metadata": {},
   "outputs": [
    {
     "name": "stdout",
     "output_type": "stream",
     "text": [
      "Model: \"sequential_1\"\n",
      "_________________________________________________________________\n",
      "Layer (type)                 Output Shape              Param #   \n",
      "=================================================================\n",
      "conv2d_3 (Conv2D)            (None, 50, 50, 45)        1170      \n",
      "_________________________________________________________________\n",
      "max_pooling2d_3 (MaxPooling2 (None, 25, 25, 45)        0         \n",
      "_________________________________________________________________\n",
      "dropout_3 (Dropout)          (None, 25, 25, 45)        0         \n",
      "_________________________________________________________________\n",
      "conv2d_4 (Conv2D)            (None, 25, 25, 30)        33780     \n",
      "_________________________________________________________________\n",
      "max_pooling2d_4 (MaxPooling2 (None, 13, 13, 30)        0         \n",
      "_________________________________________________________________\n",
      "dropout_4 (Dropout)          (None, 13, 13, 30)        0         \n",
      "_________________________________________________________________\n",
      "conv2d_5 (Conv2D)            (None, 13, 13, 15)        11265     \n",
      "_________________________________________________________________\n",
      "max_pooling2d_5 (MaxPooling2 (None, 7, 7, 15)          0         \n",
      "_________________________________________________________________\n",
      "dropout_5 (Dropout)          (None, 7, 7, 15)          0         \n",
      "_________________________________________________________________\n",
      "flatten_1 (Flatten)          (None, 735)               0         \n",
      "_________________________________________________________________\n",
      "dense_3 (Dense)              (None, 256)               188416    \n",
      "_________________________________________________________________\n",
      "dense_4 (Dense)              (None, 112)               28784     \n",
      "_________________________________________________________________\n",
      "dense_5 (Dense)              (None, 27)                3051      \n",
      "=================================================================\n",
      "Total params: 266,466\n",
      "Trainable params: 266,466\n",
      "Non-trainable params: 0\n",
      "_________________________________________________________________\n",
      "None\n",
      "Epoch 1/20\n",
      "599/599 [==============================] - 77s 128ms/step - loss: 0.5277 - accuracy: 0.8477 - val_loss: 0.3889 - val_accuracy: 0.8869\n",
      "Epoch 2/20\n",
      "599/599 [==============================] - 76s 126ms/step - loss: 0.2226 - accuracy: 0.9315 - val_loss: 0.2424 - val_accuracy: 0.9286\n",
      "Epoch 3/20\n",
      "599/599 [==============================] - 76s 127ms/step - loss: 0.1730 - accuracy: 0.9461 - val_loss: 0.1578 - val_accuracy: 0.9524\n",
      "Epoch 4/20\n",
      "599/599 [==============================] - 83s 139ms/step - loss: 0.1517 - accuracy: 0.9517 - val_loss: 0.1528 - val_accuracy: 0.9520\n",
      "Epoch 5/20\n",
      "599/599 [==============================] - 76s 127ms/step - loss: 0.1403 - accuracy: 0.9560 - val_loss: 0.1370 - val_accuracy: 0.9575\n",
      "Epoch 6/20\n",
      "599/599 [==============================] - 77s 128ms/step - loss: 0.1182 - accuracy: 0.9625 - val_loss: 0.1273 - val_accuracy: 0.9572\n",
      "Epoch 7/20\n",
      "599/599 [==============================] - 77s 128ms/step - loss: 0.1174 - accuracy: 0.9610 - val_loss: 0.1173 - val_accuracy: 0.9612\n",
      "Epoch 8/20\n",
      "599/599 [==============================] - 77s 129ms/step - loss: 0.1112 - accuracy: 0.9635 - val_loss: 0.1255 - val_accuracy: 0.9608\n",
      "Epoch 9/20\n",
      "599/599 [==============================] - 78s 130ms/step - loss: 0.1014 - accuracy: 0.9667 - val_loss: 0.1063 - val_accuracy: 0.9642\n",
      "Epoch 10/20\n",
      "599/599 [==============================] - 79s 132ms/step - loss: 0.0966 - accuracy: 0.9683 - val_loss: 0.1071 - val_accuracy: 0.9656\n",
      "Epoch 11/20\n",
      "599/599 [==============================] - 79s 132ms/step - loss: 0.0986 - accuracy: 0.9677 - val_loss: 0.1013 - val_accuracy: 0.9650\n",
      "Epoch 12/20\n",
      "599/599 [==============================] - 79s 132ms/step - loss: 0.0900 - accuracy: 0.9709 - val_loss: 0.1035 - val_accuracy: 0.9632\n",
      "Epoch 13/20\n",
      "599/599 [==============================] - 81s 135ms/step - loss: 0.0867 - accuracy: 0.9720 - val_loss: 0.1024 - val_accuracy: 0.9667\n",
      "Epoch 14/20\n",
      "599/599 [==============================] - 79s 131ms/step - loss: 0.0875 - accuracy: 0.9721 - val_loss: 0.0894 - val_accuracy: 0.9704\n",
      "Epoch 15/20\n",
      "599/599 [==============================] - 78s 131ms/step - loss: 0.0820 - accuracy: 0.9729 - val_loss: 0.0940 - val_accuracy: 0.9712\n",
      "Epoch 16/20\n",
      "599/599 [==============================] - 78s 131ms/step - loss: 0.0892 - accuracy: 0.9722 - val_loss: 0.0821 - val_accuracy: 0.9727\n",
      "Epoch 17/20\n",
      "599/599 [==============================] - 80s 133ms/step - loss: 0.0828 - accuracy: 0.9739 - val_loss: 0.0915 - val_accuracy: 0.9698\n",
      "Epoch 18/20\n",
      "599/599 [==============================] - 79s 131ms/step - loss: 0.0814 - accuracy: 0.9737 - val_loss: 0.1034 - val_accuracy: 0.9682\n",
      "Epoch 19/20\n",
      "599/599 [==============================] - 78s 130ms/step - loss: 0.0889 - accuracy: 0.9713 - val_loss: 0.0784 - val_accuracy: 0.9751\n",
      "Epoch 20/20\n",
      "599/599 [==============================] - 78s 130ms/step - loss: 0.0788 - accuracy: 0.9743 - val_loss: 0.0868 - val_accuracy: 0.9736\n"
     ]
    },
    {
     "ename": "NameError",
     "evalue": "name 'y_test' is not defined",
     "output_type": "error",
     "traceback": [
      "\u001b[0;31m---------------------------------------------------------------------------\u001b[0m",
      "\u001b[0;31mNameError\u001b[0m                                 Traceback (most recent call last)",
      "\u001b[0;32m<ipython-input-25-51605d442fb5>\u001b[0m in \u001b[0;36m<module>\u001b[0;34m\u001b[0m\n\u001b[0;32m----> 1\u001b[0;31m \u001b[0mmodel\u001b[0m \u001b[0;34m=\u001b[0m \u001b[0mbuild_model\u001b[0m\u001b[0;34m(\u001b[0m\u001b[0mconv_layers\u001b[0m\u001b[0;34m=\u001b[0m\u001b[0;36m3\u001b[0m\u001b[0;34m,\u001b[0m \u001b[0mpool_layers\u001b[0m\u001b[0;34m=\u001b[0m\u001b[0;36m3\u001b[0m\u001b[0;34m,\u001b[0m \u001b[0mepochs\u001b[0m\u001b[0;34m=\u001b[0m\u001b[0;36m20\u001b[0m\u001b[0;34m,\u001b[0m \u001b[0mX_train\u001b[0m\u001b[0;34m=\u001b[0m\u001b[0mX_train\u001b[0m\u001b[0;34m,\u001b[0m \u001b[0my_train\u001b[0m\u001b[0;34m=\u001b[0m\u001b[0my_train\u001b[0m\u001b[0;34m,\u001b[0m \u001b[0mk\u001b[0m\u001b[0;34m=\u001b[0m\u001b[0;36m5\u001b[0m\u001b[0;34m)\u001b[0m\u001b[0;34m\u001b[0m\u001b[0;34m\u001b[0m\u001b[0m\n\u001b[0m",
      "\u001b[0;32m<ipython-input-24-634caa38244e>\u001b[0m in \u001b[0;36mbuild_model\u001b[0;34m(conv_layers, pool_layers, epochs, X_train, y_train, k)\u001b[0m\n\u001b[1;32m     13\u001b[0m     \u001b[0mplot_history\u001b[0m\u001b[0;34m(\u001b[0m\u001b[0mhistory\u001b[0m\u001b[0;34m,\u001b[0m \u001b[0mepochs\u001b[0m\u001b[0;34m)\u001b[0m\u001b[0;34m\u001b[0m\u001b[0;34m\u001b[0m\u001b[0m\n\u001b[1;32m     14\u001b[0m \u001b[0;34m\u001b[0m\u001b[0m\n\u001b[0;32m---> 15\u001b[0;31m     \u001b[0mconfusionmatrix\u001b[0m\u001b[0;34m(\u001b[0m\u001b[0mmodel\u001b[0m\u001b[0;34m=\u001b[0m \u001b[0mcnn_model\u001b[0m\u001b[0;34m)\u001b[0m\u001b[0;34m\u001b[0m\u001b[0;34m\u001b[0m\u001b[0m\n\u001b[0m\u001b[1;32m     16\u001b[0m \u001b[0;34m\u001b[0m\u001b[0m\n\u001b[1;32m     17\u001b[0m     \u001b[0;32mreturn\u001b[0m \u001b[0mcnn_model\u001b[0m\u001b[0;34m\u001b[0m\u001b[0;34m\u001b[0m\u001b[0m\n",
      "\u001b[0;32m<ipython-input-18-c08a8baf0af2>\u001b[0m in \u001b[0;36mconfusionmatrix\u001b[0;34m(model)\u001b[0m\n\u001b[1;32m      1\u001b[0m \u001b[0;32mdef\u001b[0m \u001b[0mconfusionmatrix\u001b[0m\u001b[0;34m(\u001b[0m\u001b[0mmodel\u001b[0m\u001b[0;34m)\u001b[0m\u001b[0;34m:\u001b[0m\u001b[0;34m\u001b[0m\u001b[0;34m\u001b[0m\u001b[0m\n\u001b[1;32m      2\u001b[0m \u001b[0;34m\u001b[0m\u001b[0m\n\u001b[0;32m----> 3\u001b[0;31m     \u001b[0mconfusion\u001b[0m \u001b[0;34m=\u001b[0m \u001b[0mconfusion_matrix\u001b[0m\u001b[0;34m(\u001b[0m\u001b[0my_test\u001b[0m\u001b[0;34m,\u001b[0m \u001b[0mnp\u001b[0m\u001b[0;34m.\u001b[0m\u001b[0margmax\u001b[0m\u001b[0;34m(\u001b[0m\u001b[0mmodel\u001b[0m\u001b[0;34m.\u001b[0m\u001b[0mpredict\u001b[0m\u001b[0;34m(\u001b[0m\u001b[0mX_test\u001b[0m\u001b[0;34m)\u001b[0m\u001b[0;34m,\u001b[0m \u001b[0maxis\u001b[0m\u001b[0;34m=\u001b[0m\u001b[0;34m-\u001b[0m\u001b[0;36m1\u001b[0m\u001b[0;34m)\u001b[0m\u001b[0;34m)\u001b[0m\u001b[0;34m\u001b[0m\u001b[0;34m\u001b[0m\u001b[0m\n\u001b[0m\u001b[1;32m      4\u001b[0m \u001b[0;34m\u001b[0m\u001b[0m\n\u001b[1;32m      5\u001b[0m     \u001b[0mconfusion_norm\u001b[0m \u001b[0;34m=\u001b[0m \u001b[0mconfusion\u001b[0m\u001b[0;34m.\u001b[0m\u001b[0mastype\u001b[0m\u001b[0;34m(\u001b[0m\u001b[0;34m'float'\u001b[0m\u001b[0;34m)\u001b[0m \u001b[0;34m/\u001b[0m \u001b[0mconfusion\u001b[0m\u001b[0;34m.\u001b[0m\u001b[0msum\u001b[0m\u001b[0;34m(\u001b[0m\u001b[0maxis\u001b[0m\u001b[0;34m=\u001b[0m\u001b[0;36m0\u001b[0m\u001b[0;34m)\u001b[0m\u001b[0;34m[\u001b[0m\u001b[0;34m:\u001b[0m\u001b[0;34m,\u001b[0m \u001b[0mnp\u001b[0m\u001b[0;34m.\u001b[0m\u001b[0mnewaxis\u001b[0m\u001b[0;34m]\u001b[0m\u001b[0;34m\u001b[0m\u001b[0;34m\u001b[0m\u001b[0m\n",
      "\u001b[0;31mNameError\u001b[0m: name 'y_test' is not defined"
     ]
    },
    {
     "data": {
      "image/png": "[encoded data removed]",
      "text/plain": [
       "<Figure size 864x576 with 1 Axes>"
      ]
     },
     "metadata": {
      "needs_background": "light"
     },
     "output_type": "display_data"
    }
   ],
   "source": [
    "model = build_model(conv_layers=3, pool_layers=3, epochs=20, X_train=X_train, y_train=y_train, k=5)"
   ]
  },
  {
   "cell_type": "code",
   "execution_count": 44,
   "metadata": {},
   "outputs": [
    {
     "name": "stdout",
     "output_type": "stream",
     "text": [
      "Model: \"sequential_4\"\n",
      "_________________________________________________________________\n",
      "Layer (type)                 Output Shape              Param #   \n",
      "=================================================================\n",
      "conv2d_12 (Conv2D)           (None, 175, 175, 45)      450       \n",
      "_________________________________________________________________\n",
      "max_pooling2d_12 (MaxPooling (None, 88, 88, 45)        0         \n",
      "_________________________________________________________________\n",
      "dropout_12 (Dropout)         (None, 88, 88, 45)        0         \n",
      "_________________________________________________________________\n",
      "conv2d_13 (Conv2D)           (None, 88, 88, 30)        12180     \n",
      "_________________________________________________________________\n",
      "max_pooling2d_13 (MaxPooling (None, 44, 44, 30)        0         \n",
      "_________________________________________________________________\n",
      "dropout_13 (Dropout)         (None, 44, 44, 30)        0         \n",
      "_________________________________________________________________\n",
      "conv2d_14 (Conv2D)           (None, 44, 44, 15)        4065      \n",
      "_________________________________________________________________\n",
      "max_pooling2d_14 (MaxPooling (None, 22, 22, 15)        0         \n",
      "_________________________________________________________________\n",
      "dropout_14 (Dropout)         (None, 22, 22, 15)        0         \n",
      "_________________________________________________________________\n",
      "flatten_4 (Flatten)          (None, 7260)              0         \n",
      "_________________________________________________________________\n",
      "dense_12 (Dense)             (None, 256)               1858816   \n",
      "_________________________________________________________________\n",
      "dense_13 (Dense)             (None, 112)               28784     \n",
      "_________________________________________________________________\n",
      "dense_14 (Dense)             (None, 27)                3051      \n",
      "=================================================================\n",
      "Total params: 1,907,346\n",
      "Trainable params: 1,907,346\n",
      "Non-trainable params: 0\n",
      "_________________________________________________________________\n",
      "None\n",
      "Epoch 1/15\n",
      "599/599 [==============================] - 446s 745ms/step - loss: 0.5767 - accuracy: 0.8378 - val_loss: 0.6558 - val_accuracy: 0.7419\n",
      "Epoch 2/15\n",
      "599/599 [==============================] - 445s 743ms/step - loss: 0.2073 - accuracy: 0.9350 - val_loss: 0.4205 - val_accuracy: 0.8735\n",
      "Epoch 3/15\n",
      "599/599 [==============================] - 439s 733ms/step - loss: 0.1447 - accuracy: 0.9534 - val_loss: 0.3569 - val_accuracy: 0.8914\n",
      "Epoch 4/15\n",
      "599/599 [==============================] - 438s 732ms/step - loss: 0.1151 - accuracy: 0.9619 - val_loss: 0.3905 - val_accuracy: 0.8963\n",
      "Epoch 5/15\n",
      "599/599 [==============================] - 434s 725ms/step - loss: 0.0982 - accuracy: 0.9674 - val_loss: 0.4181 - val_accuracy: 0.8884\n",
      "Epoch 6/15\n",
      "599/599 [==============================] - 433s 722ms/step - loss: 0.0908 - accuracy: 0.9706 - val_loss: 0.3875 - val_accuracy: 0.8913\n",
      "Epoch 7/15\n",
      "599/599 [==============================] - 433s 723ms/step - loss: 0.0876 - accuracy: 0.9723 - val_loss: 0.3603 - val_accuracy: 0.9009\n",
      "Epoch 8/15\n",
      "599/599 [==============================] - 433s 722ms/step - loss: 0.0742 - accuracy: 0.9760 - val_loss: 0.4193 - val_accuracy: 0.8963\n",
      "Epoch 9/15\n",
      "599/599 [==============================] - 431s 720ms/step - loss: 0.0766 - accuracy: 0.9755 - val_loss: 0.3543 - val_accuracy: 0.9069\n",
      "Epoch 10/15\n",
      "599/599 [==============================] - 2342s 4s/step - loss: 0.0667 - accuracy: 0.9774 - val_loss: 0.3536 - val_accuracy: 0.9037\n",
      "Epoch 11/15\n",
      "599/599 [==============================] - 453s 757ms/step - loss: 0.0615 - accuracy: 0.9813 - val_loss: 0.4803 - val_accuracy: 0.8975\n",
      "Epoch 12/15\n",
      " 28/599 [>.............................] - ETA: 6:09 - loss: 0.0541 - accuracy: 0.9821"
     ]
    },
    {
     "ename": "KeyboardInterrupt",
     "evalue": "",
     "output_type": "error",
     "traceback": [
      "\u001b[0;31m---------------------------------------------------------------------------\u001b[0m",
      "\u001b[0;31mKeyboardInterrupt\u001b[0m                         Traceback (most recent call last)",
      "\u001b[0;32m<ipython-input-44-ce57765e574f>\u001b[0m in \u001b[0;36m<module>\u001b[0;34m\u001b[0m\n\u001b[1;32m      8\u001b[0m \u001b[0mcnn_model\u001b[0m\u001b[0;34m.\u001b[0m\u001b[0mcompile\u001b[0m\u001b[0;34m(\u001b[0m\u001b[0moptimizer\u001b[0m\u001b[0;34m=\u001b[0m\u001b[0;34m'adam'\u001b[0m\u001b[0;34m,\u001b[0m \u001b[0mloss\u001b[0m\u001b[0;34m=\u001b[0m\u001b[0mloss_fn\u001b[0m\u001b[0;34m,\u001b[0m \u001b[0mmetrics\u001b[0m\u001b[0;34m=\u001b[0m\u001b[0;34m[\u001b[0m\u001b[0;34m'accuracy'\u001b[0m\u001b[0;34m]\u001b[0m\u001b[0;34m)\u001b[0m\u001b[0;34m\u001b[0m\u001b[0;34m\u001b[0m\u001b[0m\n\u001b[1;32m      9\u001b[0m \u001b[0;34m\u001b[0m\u001b[0m\n\u001b[0;32m---> 10\u001b[0;31m \u001b[0mcnn_model\u001b[0m\u001b[0;34m.\u001b[0m\u001b[0mfit\u001b[0m\u001b[0;34m(\u001b[0m\u001b[0mX_train\u001b[0m\u001b[0;34m,\u001b[0m \u001b[0my_train\u001b[0m\u001b[0;34m,\u001b[0m \u001b[0mepochs\u001b[0m\u001b[0;34m=\u001b[0m\u001b[0;36m15\u001b[0m\u001b[0;34m,\u001b[0m \u001b[0mvalidation_split\u001b[0m\u001b[0;34m=\u001b[0m\u001b[0;36m0.3\u001b[0m\u001b[0;34m)\u001b[0m\u001b[0;34m\u001b[0m\u001b[0;34m\u001b[0m\u001b[0m\n\u001b[0m",
      "\u001b[0;32m/opt/miniconda3/lib/python3.7/site-packages/tensorflow/python/keras/engine/training.py\u001b[0m in \u001b[0;36m_method_wrapper\u001b[0;34m(self, *args, **kwargs)\u001b[0m\n\u001b[1;32m    106\u001b[0m   \u001b[0;32mdef\u001b[0m \u001b[0m_method_wrapper\u001b[0m\u001b[0;34m(\u001b[0m\u001b[0mself\u001b[0m\u001b[0;34m,\u001b[0m \u001b[0;34m*\u001b[0m\u001b[0margs\u001b[0m\u001b[0;34m,\u001b[0m \u001b[0;34m**\u001b[0m\u001b[0mkwargs\u001b[0m\u001b[0;34m)\u001b[0m\u001b[0;34m:\u001b[0m\u001b[0;34m\u001b[0m\u001b[0;34m\u001b[0m\u001b[0m\n\u001b[1;32m    107\u001b[0m     \u001b[0;32mif\u001b[0m \u001b[0;32mnot\u001b[0m \u001b[0mself\u001b[0m\u001b[0;34m.\u001b[0m\u001b[0m_in_multi_worker_mode\u001b[0m\u001b[0;34m(\u001b[0m\u001b[0;34m)\u001b[0m\u001b[0;34m:\u001b[0m  \u001b[0;31m# pylint: disable=protected-access\u001b[0m\u001b[0;34m\u001b[0m\u001b[0;34m\u001b[0m\u001b[0m\n\u001b[0;32m--> 108\u001b[0;31m       \u001b[0;32mreturn\u001b[0m \u001b[0mmethod\u001b[0m\u001b[0;34m(\u001b[0m\u001b[0mself\u001b[0m\u001b[0;34m,\u001b[0m \u001b[0;34m*\u001b[0m\u001b[0margs\u001b[0m\u001b[0;34m,\u001b[0m \u001b[0;34m**\u001b[0m\u001b[0mkwargs\u001b[0m\u001b[0;34m)\u001b[0m\u001b[0;34m\u001b[0m\u001b[0;34m\u001b[0m\u001b[0m\n\u001b[0m\u001b[1;32m    109\u001b[0m \u001b[0;34m\u001b[0m\u001b[0m\n\u001b[1;32m    110\u001b[0m     \u001b[0;31m# Running inside `run_distribute_coordinator` already.\u001b[0m\u001b[0;34m\u001b[0m\u001b[0;34m\u001b[0m\u001b[0;34m\u001b[0m\u001b[0m\n",
      "\u001b[0;32m/opt/miniconda3/lib/python3.7/site-packages/tensorflow/python/keras/engine/training.py\u001b[0m in \u001b[0;36mfit\u001b[0;34m(self, x, y, batch_size, epochs, verbose, callbacks, validation_split, validation_data, shuffle, class_weight, sample_weight, initial_epoch, steps_per_epoch, validation_steps, validation_batch_size, validation_freq, max_queue_size, workers, use_multiprocessing)\u001b[0m\n\u001b[1;32m   1096\u001b[0m                 batch_size=batch_size):\n\u001b[1;32m   1097\u001b[0m               \u001b[0mcallbacks\u001b[0m\u001b[0;34m.\u001b[0m\u001b[0mon_train_batch_begin\u001b[0m\u001b[0;34m(\u001b[0m\u001b[0mstep\u001b[0m\u001b[0;34m)\u001b[0m\u001b[0;34m\u001b[0m\u001b[0;34m\u001b[0m\u001b[0m\n\u001b[0;32m-> 1098\u001b[0;31m               \u001b[0mtmp_logs\u001b[0m \u001b[0;34m=\u001b[0m \u001b[0mtrain_function\u001b[0m\u001b[0;34m(\u001b[0m\u001b[0miterator\u001b[0m\u001b[0;34m)\u001b[0m\u001b[0;34m\u001b[0m\u001b[0;34m\u001b[0m\u001b[0m\n\u001b[0m\u001b[1;32m   1099\u001b[0m               \u001b[0;32mif\u001b[0m \u001b[0mdata_handler\u001b[0m\u001b[0;34m.\u001b[0m\u001b[0mshould_sync\u001b[0m\u001b[0;34m:\u001b[0m\u001b[0;34m\u001b[0m\u001b[0;34m\u001b[0m\u001b[0m\n\u001b[1;32m   1100\u001b[0m                 \u001b[0mcontext\u001b[0m\u001b[0;34m.\u001b[0m\u001b[0masync_wait\u001b[0m\u001b[0;34m(\u001b[0m\u001b[0;34m)\u001b[0m\u001b[0;34m\u001b[0m\u001b[0;34m\u001b[0m\u001b[0m\n",
      "\u001b[0;32m/opt/miniconda3/lib/python3.7/site-packages/tensorflow/python/eager/def_function.py\u001b[0m in \u001b[0;36m__call__\u001b[0;34m(self, *args, **kwds)\u001b[0m\n\u001b[1;32m    778\u001b[0m       \u001b[0;32melse\u001b[0m\u001b[0;34m:\u001b[0m\u001b[0;34m\u001b[0m\u001b[0;34m\u001b[0m\u001b[0m\n\u001b[1;32m    779\u001b[0m         \u001b[0mcompiler\u001b[0m \u001b[0;34m=\u001b[0m \u001b[0;34m\"nonXla\"\u001b[0m\u001b[0;34m\u001b[0m\u001b[0;34m\u001b[0m\u001b[0m\n\u001b[0;32m--> 780\u001b[0;31m         \u001b[0mresult\u001b[0m \u001b[0;34m=\u001b[0m \u001b[0mself\u001b[0m\u001b[0;34m.\u001b[0m\u001b[0m_call\u001b[0m\u001b[0;34m(\u001b[0m\u001b[0;34m*\u001b[0m\u001b[0margs\u001b[0m\u001b[0;34m,\u001b[0m \u001b[0;34m**\u001b[0m\u001b[0mkwds\u001b[0m\u001b[0;34m)\u001b[0m\u001b[0;34m\u001b[0m\u001b[0;34m\u001b[0m\u001b[0m\n\u001b[0m\u001b[1;32m    781\u001b[0m \u001b[0;34m\u001b[0m\u001b[0m\n\u001b[1;32m    782\u001b[0m       \u001b[0mnew_tracing_count\u001b[0m \u001b[0;34m=\u001b[0m \u001b[0mself\u001b[0m\u001b[0;34m.\u001b[0m\u001b[0m_get_tracing_count\u001b[0m\u001b[0;34m(\u001b[0m\u001b[0;34m)\u001b[0m\u001b[0;34m\u001b[0m\u001b[0;34m\u001b[0m\u001b[0m\n",
      "\u001b[0;32m/opt/miniconda3/lib/python3.7/site-packages/tensorflow/python/eager/def_function.py\u001b[0m in \u001b[0;36m_call\u001b[0;34m(self, *args, **kwds)\u001b[0m\n\u001b[1;32m    805\u001b[0m       \u001b[0;31m# In this case we have created variables on the first call, so we run the\u001b[0m\u001b[0;34m\u001b[0m\u001b[0;34m\u001b[0m\u001b[0;34m\u001b[0m\u001b[0m\n\u001b[1;32m    806\u001b[0m       \u001b[0;31m# defunned version which is guaranteed to never create variables.\u001b[0m\u001b[0;34m\u001b[0m\u001b[0;34m\u001b[0m\u001b[0;34m\u001b[0m\u001b[0m\n\u001b[0;32m--> 807\u001b[0;31m       \u001b[0;32mreturn\u001b[0m \u001b[0mself\u001b[0m\u001b[0;34m.\u001b[0m\u001b[0m_stateless_fn\u001b[0m\u001b[0;34m(\u001b[0m\u001b[0;34m*\u001b[0m\u001b[0margs\u001b[0m\u001b[0;34m,\u001b[0m \u001b[0;34m**\u001b[0m\u001b[0mkwds\u001b[0m\u001b[0;34m)\u001b[0m  \u001b[0;31m# pylint: disable=not-callable\u001b[0m\u001b[0;34m\u001b[0m\u001b[0;34m\u001b[0m\u001b[0m\n\u001b[0m\u001b[1;32m    808\u001b[0m     \u001b[0;32melif\u001b[0m \u001b[0mself\u001b[0m\u001b[0;34m.\u001b[0m\u001b[0m_stateful_fn\u001b[0m \u001b[0;32mis\u001b[0m \u001b[0;32mnot\u001b[0m \u001b[0;32mNone\u001b[0m\u001b[0;34m:\u001b[0m\u001b[0;34m\u001b[0m\u001b[0;34m\u001b[0m\u001b[0m\n\u001b[1;32m    809\u001b[0m       \u001b[0;31m# Release the lock early so that multiple threads can perform the call\u001b[0m\u001b[0;34m\u001b[0m\u001b[0;34m\u001b[0m\u001b[0;34m\u001b[0m\u001b[0m\n",
      "\u001b[0;32m/opt/miniconda3/lib/python3.7/site-packages/tensorflow/python/eager/function.py\u001b[0m in \u001b[0;36m__call__\u001b[0;34m(self, *args, **kwargs)\u001b[0m\n\u001b[1;32m   2827\u001b[0m     \u001b[0;32mwith\u001b[0m \u001b[0mself\u001b[0m\u001b[0;34m.\u001b[0m\u001b[0m_lock\u001b[0m\u001b[0;34m:\u001b[0m\u001b[0;34m\u001b[0m\u001b[0;34m\u001b[0m\u001b[0m\n\u001b[1;32m   2828\u001b[0m       \u001b[0mgraph_function\u001b[0m\u001b[0;34m,\u001b[0m \u001b[0margs\u001b[0m\u001b[0;34m,\u001b[0m \u001b[0mkwargs\u001b[0m \u001b[0;34m=\u001b[0m \u001b[0mself\u001b[0m\u001b[0;34m.\u001b[0m\u001b[0m_maybe_define_function\u001b[0m\u001b[0;34m(\u001b[0m\u001b[0margs\u001b[0m\u001b[0;34m,\u001b[0m \u001b[0mkwargs\u001b[0m\u001b[0;34m)\u001b[0m\u001b[0;34m\u001b[0m\u001b[0;34m\u001b[0m\u001b[0m\n\u001b[0;32m-> 2829\u001b[0;31m     \u001b[0;32mreturn\u001b[0m \u001b[0mgraph_function\u001b[0m\u001b[0;34m.\u001b[0m\u001b[0m_filtered_call\u001b[0m\u001b[0;34m(\u001b[0m\u001b[0margs\u001b[0m\u001b[0;34m,\u001b[0m \u001b[0mkwargs\u001b[0m\u001b[0;34m)\u001b[0m  \u001b[0;31m# pylint: disable=protected-access\u001b[0m\u001b[0;34m\u001b[0m\u001b[0;34m\u001b[0m\u001b[0m\n\u001b[0m\u001b[1;32m   2830\u001b[0m \u001b[0;34m\u001b[0m\u001b[0m\n\u001b[1;32m   2831\u001b[0m   \u001b[0;34m@\u001b[0m\u001b[0mproperty\u001b[0m\u001b[0;34m\u001b[0m\u001b[0;34m\u001b[0m\u001b[0m\n",
      "\u001b[0;32m/opt/miniconda3/lib/python3.7/site-packages/tensorflow/python/eager/function.py\u001b[0m in \u001b[0;36m_filtered_call\u001b[0;34m(self, args, kwargs, cancellation_manager)\u001b[0m\n\u001b[1;32m   1846\u001b[0m                            resource_variable_ops.BaseResourceVariable))],\n\u001b[1;32m   1847\u001b[0m         \u001b[0mcaptured_inputs\u001b[0m\u001b[0;34m=\u001b[0m\u001b[0mself\u001b[0m\u001b[0;34m.\u001b[0m\u001b[0mcaptured_inputs\u001b[0m\u001b[0;34m,\u001b[0m\u001b[0;34m\u001b[0m\u001b[0;34m\u001b[0m\u001b[0m\n\u001b[0;32m-> 1848\u001b[0;31m         cancellation_manager=cancellation_manager)\n\u001b[0m\u001b[1;32m   1849\u001b[0m \u001b[0;34m\u001b[0m\u001b[0m\n\u001b[1;32m   1850\u001b[0m   \u001b[0;32mdef\u001b[0m \u001b[0m_call_flat\u001b[0m\u001b[0;34m(\u001b[0m\u001b[0mself\u001b[0m\u001b[0;34m,\u001b[0m \u001b[0margs\u001b[0m\u001b[0;34m,\u001b[0m \u001b[0mcaptured_inputs\u001b[0m\u001b[0;34m,\u001b[0m \u001b[0mcancellation_manager\u001b[0m\u001b[0;34m=\u001b[0m\u001b[0;32mNone\u001b[0m\u001b[0;34m)\u001b[0m\u001b[0;34m:\u001b[0m\u001b[0;34m\u001b[0m\u001b[0;34m\u001b[0m\u001b[0m\n",
      "\u001b[0;32m/opt/miniconda3/lib/python3.7/site-packages/tensorflow/python/eager/function.py\u001b[0m in \u001b[0;36m_call_flat\u001b[0;34m(self, args, captured_inputs, cancellation_manager)\u001b[0m\n\u001b[1;32m   1922\u001b[0m       \u001b[0;31m# No tape is watching; skip to running the function.\u001b[0m\u001b[0;34m\u001b[0m\u001b[0;34m\u001b[0m\u001b[0;34m\u001b[0m\u001b[0m\n\u001b[1;32m   1923\u001b[0m       return self._build_call_outputs(self._inference_function.call(\n\u001b[0;32m-> 1924\u001b[0;31m           ctx, args, cancellation_manager=cancellation_manager))\n\u001b[0m\u001b[1;32m   1925\u001b[0m     forward_backward = self._select_forward_and_backward_functions(\n\u001b[1;32m   1926\u001b[0m         \u001b[0margs\u001b[0m\u001b[0;34m,\u001b[0m\u001b[0;34m\u001b[0m\u001b[0;34m\u001b[0m\u001b[0m\n",
      "\u001b[0;32m/opt/miniconda3/lib/python3.7/site-packages/tensorflow/python/eager/function.py\u001b[0m in \u001b[0;36mcall\u001b[0;34m(self, ctx, args, cancellation_manager)\u001b[0m\n\u001b[1;32m    548\u001b[0m               \u001b[0minputs\u001b[0m\u001b[0;34m=\u001b[0m\u001b[0margs\u001b[0m\u001b[0;34m,\u001b[0m\u001b[0;34m\u001b[0m\u001b[0;34m\u001b[0m\u001b[0m\n\u001b[1;32m    549\u001b[0m               \u001b[0mattrs\u001b[0m\u001b[0;34m=\u001b[0m\u001b[0mattrs\u001b[0m\u001b[0;34m,\u001b[0m\u001b[0;34m\u001b[0m\u001b[0;34m\u001b[0m\u001b[0m\n\u001b[0;32m--> 550\u001b[0;31m               ctx=ctx)\n\u001b[0m\u001b[1;32m    551\u001b[0m         \u001b[0;32melse\u001b[0m\u001b[0;34m:\u001b[0m\u001b[0;34m\u001b[0m\u001b[0;34m\u001b[0m\u001b[0m\n\u001b[1;32m    552\u001b[0m           outputs = execute.execute_with_cancellation(\n",
      "\u001b[0;32m/opt/miniconda3/lib/python3.7/site-packages/tensorflow/python/eager/execute.py\u001b[0m in \u001b[0;36mquick_execute\u001b[0;34m(op_name, num_outputs, inputs, attrs, ctx, name)\u001b[0m\n\u001b[1;32m     58\u001b[0m     \u001b[0mctx\u001b[0m\u001b[0;34m.\u001b[0m\u001b[0mensure_initialized\u001b[0m\u001b[0;34m(\u001b[0m\u001b[0;34m)\u001b[0m\u001b[0;34m\u001b[0m\u001b[0;34m\u001b[0m\u001b[0m\n\u001b[1;32m     59\u001b[0m     tensors = pywrap_tfe.TFE_Py_Execute(ctx._handle, device_name, op_name,\n\u001b[0;32m---> 60\u001b[0;31m                                         inputs, attrs, num_outputs)\n\u001b[0m\u001b[1;32m     61\u001b[0m   \u001b[0;32mexcept\u001b[0m \u001b[0mcore\u001b[0m\u001b[0;34m.\u001b[0m\u001b[0m_NotOkStatusException\u001b[0m \u001b[0;32mas\u001b[0m \u001b[0me\u001b[0m\u001b[0;34m:\u001b[0m\u001b[0;34m\u001b[0m\u001b[0;34m\u001b[0m\u001b[0m\n\u001b[1;32m     62\u001b[0m     \u001b[0;32mif\u001b[0m \u001b[0mname\u001b[0m \u001b[0;32mis\u001b[0m \u001b[0;32mnot\u001b[0m \u001b[0;32mNone\u001b[0m\u001b[0;34m:\u001b[0m\u001b[0;34m\u001b[0m\u001b[0;34m\u001b[0m\u001b[0m\n",
      "\u001b[0;31mKeyboardInterrupt\u001b[0m: "
     ]
    }
   ],
   "source": [
    "cnn_model = build_cnn(3, 3, 3)\n",
    "  \n",
    "\n",
    "    # Define a loss function\n",
    "loss_fn = tf.keras.losses.SparseCategoricalCrossentropy()\n",
    "\n",
    "    # Compile the model\n",
    "cnn_model.compile(optimizer='adam', loss=loss_fn, metrics=['accuracy'])\n",
    "\n",
    "cnn_model.fit(X_train, y_train, epochs=15, validation_split=0.3)"
   ]
  },
  {
   "cell_type": "code",
   "execution_count": 43,
   "metadata": {},
   "outputs": [
    {
     "name": "stdout",
     "output_type": "stream",
     "text": [
      "WARNING:tensorflow:From /opt/miniconda3/lib/python3.7/site-packages/tensorflow/python/training/tracking/tracking.py:111: Model.state_updates (from tensorflow.python.keras.engine.training) is deprecated and will be removed in a future version.\n",
      "Instructions for updating:\n",
      "This property should not be used in TensorFlow 2.0, as updates are applied automatically.\n",
      "WARNING:tensorflow:From /opt/miniconda3/lib/python3.7/site-packages/tensorflow/python/training/tracking/tracking.py:111: Layer.updates (from tensorflow.python.keras.engine.base_layer) is deprecated and will be removed in a future version.\n",
      "Instructions for updating:\n",
      "This property should not be used in TensorFlow 2.0, as updates are applied automatically.\n",
      "INFO:tensorflow:Assets written to: saved_model/my_model2/assets\n"
     ]
    }
   ],
   "source": [
    "cnn_model.save('saved_model/my_model2')"
   ]
  },
  {
   "cell_type": "code",
   "execution_count": 44,
   "metadata": {},
   "outputs": [
    {
     "name": "stdout",
     "output_type": "stream",
     "text": [
      "Model: \"sequential_3\"\n",
      "_________________________________________________________________\n",
      "Layer (type)                 Output Shape              Param #   \n",
      "=================================================================\n",
      "conv2d_9 (Conv2D)            (None, 125, 125, 45)      1170      \n",
      "_________________________________________________________________\n",
      "max_pooling2d_9 (MaxPooling2 (None, 63, 63, 45)        0         \n",
      "_________________________________________________________________\n",
      "dropout_9 (Dropout)          (None, 63, 63, 45)        0         \n",
      "_________________________________________________________________\n",
      "conv2d_10 (Conv2D)           (None, 63, 63, 30)        33780     \n",
      "_________________________________________________________________\n",
      "max_pooling2d_10 (MaxPooling (None, 32, 32, 30)        0         \n",
      "_________________________________________________________________\n",
      "dropout_10 (Dropout)         (None, 32, 32, 30)        0         \n",
      "_________________________________________________________________\n",
      "conv2d_11 (Conv2D)           (None, 32, 32, 15)        11265     \n",
      "_________________________________________________________________\n",
      "max_pooling2d_11 (MaxPooling (None, 16, 16, 15)        0         \n",
      "_________________________________________________________________\n",
      "dropout_11 (Dropout)         (None, 16, 16, 15)        0         \n",
      "_________________________________________________________________\n",
      "flatten_3 (Flatten)          (None, 3840)              0         \n",
      "_________________________________________________________________\n",
      "dense_9 (Dense)              (None, 256)               983296    \n",
      "_________________________________________________________________\n",
      "dense_10 (Dense)             (None, 112)               28784     \n",
      "_________________________________________________________________\n",
      "dense_11 (Dense)             (None, 27)                3051      \n",
      "=================================================================\n",
      "Total params: 1,061,346\n",
      "Trainable params: 1,061,346\n",
      "Non-trainable params: 0\n",
      "_________________________________________________________________\n"
     ]
    }
   ],
   "source": [
    "cnn_model.summary()"
   ]
  },
  {
   "cell_type": "code",
   "execution_count": null,
   "metadata": {},
   "outputs": [],
   "source": []
  }
 ],
 "metadata": {
  "kernelspec": {
   "display_name": "Python 3",
   "language": "python",
   "name": "python3"
  },
  "language_info": {
   "codemirror_mode": {
    "name": "ipython",
    "version": 3
   },
   "file_extension": ".py",
   "mimetype": "text/x-python",
   "name": "python",
   "nbconvert_exporter": "python",
   "pygments_lexer": "ipython3",
   "version": "3.7.6"
  }
 },
 "nbformat": 4,
 "nbformat_minor": 4
}
